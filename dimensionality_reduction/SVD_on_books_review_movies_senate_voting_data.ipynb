{
 "cells": [
  {
   "cell_type": "markdown",
   "metadata": {},
   "source": [
    "#Singular Value Decomposition (SVD) on book reviews data"
   ]
  },
  {
   "cell_type": "code",
   "execution_count": 1,
   "metadata": {
    "collapsed": true
   },
   "outputs": [],
   "source": [
    "import pandas as pd\n",
    "import numpy as np\n",
    "from numpy.linalg import svd\n",
    "import matplotlib.pyplot as plt\n",
    "%matplotlib inline\n",
    "import pdb"
   ]
  },
  {
   "cell_type": "code",
   "execution_count": 2,
   "metadata": {
    "collapsed": false
   },
   "outputs": [],
   "source": [
    "df = pd.read_csv('data/book_reviews.csv')"
   ]
  },
  {
   "cell_type": "code",
   "execution_count": 3,
   "metadata": {
    "collapsed": false
   },
   "outputs": [
    {
     "data": {
      "text/html": [
       "<div style=\"max-height:1000px;max-width:1500px;overflow:auto;\">\n",
       "<table border=\"1\" class=\"dataframe\">\n",
       "  <thead>\n",
       "    <tr style=\"text-align: right;\">\n",
       "      <th></th>\n",
       "      <th>Unnamed: 0</th>\n",
       "      <th>User-ID</th>\n",
       "      <th>ISBN</th>\n",
       "      <th>Book-Rating</th>\n",
       "    </tr>\n",
       "  </thead>\n",
       "  <tbody>\n",
       "    <tr>\n",
       "      <th>0</th>\n",
       "      <td> 1083</td>\n",
       "      <td> 277195</td>\n",
       "      <td> 0060391626</td>\n",
       "      <td> 10</td>\n",
       "    </tr>\n",
       "    <tr>\n",
       "      <th>1</th>\n",
       "      <td> 1084</td>\n",
       "      <td> 277195</td>\n",
       "      <td> 0060502258</td>\n",
       "      <td>  0</td>\n",
       "    </tr>\n",
       "    <tr>\n",
       "      <th>2</th>\n",
       "      <td> 1089</td>\n",
       "      <td> 277195</td>\n",
       "      <td> 0060987561</td>\n",
       "      <td>  0</td>\n",
       "    </tr>\n",
       "    <tr>\n",
       "      <th>3</th>\n",
       "      <td> 1098</td>\n",
       "      <td> 277195</td>\n",
       "      <td> 0316666343</td>\n",
       "      <td>  0</td>\n",
       "    </tr>\n",
       "    <tr>\n",
       "      <th>4</th>\n",
       "      <td> 1099</td>\n",
       "      <td> 277195</td>\n",
       "      <td> 0316734837</td>\n",
       "      <td>  0</td>\n",
       "    </tr>\n",
       "  </tbody>\n",
       "</table>\n",
       "</div>"
      ],
      "text/plain": [
       "   Unnamed: 0  User-ID        ISBN  Book-Rating\n",
       "0        1083   277195  0060391626           10\n",
       "1        1084   277195  0060502258            0\n",
       "2        1089   277195  0060987561            0\n",
       "3        1098   277195  0316666343            0\n",
       "4        1099   277195  0316734837            0"
      ]
     },
     "execution_count": 3,
     "metadata": {},
     "output_type": "execute_result"
    }
   ],
   "source": [
    "df.head()"
   ]
  },
  {
   "cell_type": "code",
   "execution_count": 4,
   "metadata": {
    "collapsed": false
   },
   "outputs": [],
   "source": [
    "dfPivot = df.pivot('User-ID', 'ISBN')['Book-Rating']"
   ]
  },
  {
   "cell_type": "code",
   "execution_count": 5,
   "metadata": {
    "collapsed": true
   },
   "outputs": [],
   "source": [
    "dfData = dfPivot.fillna(-1)"
   ]
  },
  {
   "cell_type": "code",
   "execution_count": 6,
   "metadata": {
    "collapsed": false
   },
   "outputs": [
    {
     "data": {
      "text/html": [
       "<div style=\"max-height:1000px;max-width:1500px;overflow:auto;\">\n",
       "<table border=\"1\" class=\"dataframe\">\n",
       "  <thead>\n",
       "    <tr style=\"text-align: right;\">\n",
       "      <th>ISBN</th>\n",
       "      <th>0006493580</th>\n",
       "      <th>000649840X</th>\n",
       "      <th>0006512135</th>\n",
       "      <th>0006513204</th>\n",
       "      <th>0006514855</th>\n",
       "      <th>0006547834</th>\n",
       "      <th>0006550576</th>\n",
       "      <th>0006550681</th>\n",
       "      <th>0006550789</th>\n",
       "      <th>0007110928</th>\n",
       "      <th>...</th>\n",
       "      <th>8495618605</th>\n",
       "      <th>8497593588</th>\n",
       "      <th>8804342838</th>\n",
       "      <th>8806142100</th>\n",
       "      <th>8806143042</th>\n",
       "      <th>8807813025</th>\n",
       "      <th>8817106100</th>\n",
       "      <th>8845205118</th>\n",
       "      <th>8873122933</th>\n",
       "      <th>8885989403</th>\n",
       "    </tr>\n",
       "    <tr>\n",
       "      <th>User-ID</th>\n",
       "      <th></th>\n",
       "      <th></th>\n",
       "      <th></th>\n",
       "      <th></th>\n",
       "      <th></th>\n",
       "      <th></th>\n",
       "      <th></th>\n",
       "      <th></th>\n",
       "      <th></th>\n",
       "      <th></th>\n",
       "      <th></th>\n",
       "      <th></th>\n",
       "      <th></th>\n",
       "      <th></th>\n",
       "      <th></th>\n",
       "      <th></th>\n",
       "      <th></th>\n",
       "      <th></th>\n",
       "      <th></th>\n",
       "      <th></th>\n",
       "      <th></th>\n",
       "    </tr>\n",
       "  </thead>\n",
       "  <tbody>\n",
       "    <tr>\n",
       "      <th>243</th>\n",
       "      <td>-1</td>\n",
       "      <td>-1</td>\n",
       "      <td>-1</td>\n",
       "      <td>-1</td>\n",
       "      <td>-1</td>\n",
       "      <td>-1</td>\n",
       "      <td>-1</td>\n",
       "      <td>-1</td>\n",
       "      <td>-1</td>\n",
       "      <td>-1</td>\n",
       "      <td>...</td>\n",
       "      <td>-1</td>\n",
       "      <td>-1</td>\n",
       "      <td>-1</td>\n",
       "      <td>-1</td>\n",
       "      <td>-1</td>\n",
       "      <td>-1</td>\n",
       "      <td>-1</td>\n",
       "      <td>-1</td>\n",
       "      <td>-1</td>\n",
       "      <td>-1</td>\n",
       "    </tr>\n",
       "    <tr>\n",
       "      <th>254</th>\n",
       "      <td>-1</td>\n",
       "      <td>-1</td>\n",
       "      <td>-1</td>\n",
       "      <td>-1</td>\n",
       "      <td>-1</td>\n",
       "      <td>-1</td>\n",
       "      <td>-1</td>\n",
       "      <td>-1</td>\n",
       "      <td>-1</td>\n",
       "      <td>-1</td>\n",
       "      <td>...</td>\n",
       "      <td>-1</td>\n",
       "      <td>-1</td>\n",
       "      <td>-1</td>\n",
       "      <td>-1</td>\n",
       "      <td>-1</td>\n",
       "      <td>-1</td>\n",
       "      <td>-1</td>\n",
       "      <td>-1</td>\n",
       "      <td>-1</td>\n",
       "      <td>-1</td>\n",
       "    </tr>\n",
       "    <tr>\n",
       "      <th>507</th>\n",
       "      <td>-1</td>\n",
       "      <td>-1</td>\n",
       "      <td>-1</td>\n",
       "      <td>-1</td>\n",
       "      <td>-1</td>\n",
       "      <td>-1</td>\n",
       "      <td>-1</td>\n",
       "      <td>-1</td>\n",
       "      <td>-1</td>\n",
       "      <td>-1</td>\n",
       "      <td>...</td>\n",
       "      <td>-1</td>\n",
       "      <td>-1</td>\n",
       "      <td>-1</td>\n",
       "      <td>-1</td>\n",
       "      <td>-1</td>\n",
       "      <td>-1</td>\n",
       "      <td>-1</td>\n",
       "      <td>-1</td>\n",
       "      <td>-1</td>\n",
       "      <td>-1</td>\n",
       "    </tr>\n",
       "    <tr>\n",
       "      <th>638</th>\n",
       "      <td>-1</td>\n",
       "      <td>-1</td>\n",
       "      <td>-1</td>\n",
       "      <td>-1</td>\n",
       "      <td>-1</td>\n",
       "      <td>-1</td>\n",
       "      <td>-1</td>\n",
       "      <td>-1</td>\n",
       "      <td>-1</td>\n",
       "      <td>-1</td>\n",
       "      <td>...</td>\n",
       "      <td>-1</td>\n",
       "      <td>-1</td>\n",
       "      <td>-1</td>\n",
       "      <td>-1</td>\n",
       "      <td>-1</td>\n",
       "      <td>-1</td>\n",
       "      <td>-1</td>\n",
       "      <td>-1</td>\n",
       "      <td>-1</td>\n",
       "      <td>-1</td>\n",
       "    </tr>\n",
       "    <tr>\n",
       "      <th>805</th>\n",
       "      <td>-1</td>\n",
       "      <td>-1</td>\n",
       "      <td>-1</td>\n",
       "      <td>-1</td>\n",
       "      <td>-1</td>\n",
       "      <td>-1</td>\n",
       "      <td>-1</td>\n",
       "      <td>-1</td>\n",
       "      <td>-1</td>\n",
       "      <td>-1</td>\n",
       "      <td>...</td>\n",
       "      <td>-1</td>\n",
       "      <td>-1</td>\n",
       "      <td>-1</td>\n",
       "      <td>-1</td>\n",
       "      <td>-1</td>\n",
       "      <td>-1</td>\n",
       "      <td>-1</td>\n",
       "      <td>-1</td>\n",
       "      <td>-1</td>\n",
       "      <td>-1</td>\n",
       "    </tr>\n",
       "  </tbody>\n",
       "</table>\n",
       "<p>5 rows × 6092 columns</p>\n",
       "</div>"
      ],
      "text/plain": [
       "ISBN     0006493580  000649840X  0006512135  0006513204  0006514855  \\\n",
       "User-ID                                                               \n",
       "243              -1          -1          -1          -1          -1   \n",
       "254              -1          -1          -1          -1          -1   \n",
       "507              -1          -1          -1          -1          -1   \n",
       "638              -1          -1          -1          -1          -1   \n",
       "805              -1          -1          -1          -1          -1   \n",
       "\n",
       "ISBN     0006547834  0006550576  0006550681  0006550789  0007110928  \\\n",
       "User-ID                                                               \n",
       "243              -1          -1          -1          -1          -1   \n",
       "254              -1          -1          -1          -1          -1   \n",
       "507              -1          -1          -1          -1          -1   \n",
       "638              -1          -1          -1          -1          -1   \n",
       "805              -1          -1          -1          -1          -1   \n",
       "\n",
       "ISBN        ...      8495618605  8497593588  8804342838  8806142100  \\\n",
       "User-ID     ...                                                       \n",
       "243         ...              -1          -1          -1          -1   \n",
       "254         ...              -1          -1          -1          -1   \n",
       "507         ...              -1          -1          -1          -1   \n",
       "638         ...              -1          -1          -1          -1   \n",
       "805         ...              -1          -1          -1          -1   \n",
       "\n",
       "ISBN     8806143042  8807813025  8817106100  8845205118  8873122933  \\\n",
       "User-ID                                                               \n",
       "243              -1          -1          -1          -1          -1   \n",
       "254              -1          -1          -1          -1          -1   \n",
       "507              -1          -1          -1          -1          -1   \n",
       "638              -1          -1          -1          -1          -1   \n",
       "805              -1          -1          -1          -1          -1   \n",
       "\n",
       "ISBN     8885989403  \n",
       "User-ID              \n",
       "243              -1  \n",
       "254              -1  \n",
       "507              -1  \n",
       "638              -1  \n",
       "805              -1  \n",
       "\n",
       "[5 rows x 6092 columns]"
      ]
     },
     "execution_count": 6,
     "metadata": {},
     "output_type": "execute_result"
    }
   ],
   "source": [
    "dfData.head()"
   ]
  },
  {
   "cell_type": "code",
   "execution_count": 7,
   "metadata": {
    "collapsed": false
   },
   "outputs": [
    {
     "data": {
      "text/plain": [
       "array([[-1., -1., -1., ..., -1., -1., -1.],\n",
       "       [-1., -1., -1., ..., -1., -1., -1.],\n",
       "       [-1., -1., -1., ..., -1., -1., -1.],\n",
       "       ..., \n",
       "       [-1., -1., -1., ..., -1., -1., -1.],\n",
       "       [-1., -1., -1., ..., -1., -1., -1.],\n",
       "       [-1., -1., -1., ..., -1., -1., -1.]])"
      ]
     },
     "execution_count": 7,
     "metadata": {},
     "output_type": "execute_result"
    }
   ],
   "source": [
    "dfData.values"
   ]
  },
  {
   "cell_type": "code",
   "execution_count": 8,
   "metadata": {
    "collapsed": false
   },
   "outputs": [],
   "source": [
    "U, s, V = svd(dfData.values, full_matrices = True)"
   ]
  },
  {
   "cell_type": "code",
   "execution_count": 9,
   "metadata": {
    "collapsed": false
   },
   "outputs": [
    {
     "name": "stdout",
     "output_type": "stream",
     "text": [
      "(2500, 2500) (2500,) (6092, 6092)\n"
     ]
    }
   ],
   "source": [
    "print U.shape, s.shape, V.shape"
   ]
  },
  {
   "cell_type": "code",
   "execution_count": 14,
   "metadata": {
    "collapsed": false
   },
   "outputs": [
    {
     "data": {
      "text/plain": [
       "[<matplotlib.lines.Line2D at 0x1039ac090>]"
      ]
     },
     "execution_count": 14,
     "metadata": {},
     "output_type": "execute_result"
    },
    {
     "data": {
      "image/png": "[encoded data removed]",
      "text/plain": [
       "<matplotlib.figure.Figure at 0x1079faf10>"
      ]
     },
     "metadata": {},
     "output_type": "display_data"
    }
   ],
   "source": [
    "plt.plot(np.square(s))"
   ]
  },
  {
   "cell_type": "code",
   "execution_count": 15,
   "metadata": {
    "collapsed": false
   },
   "outputs": [
    {
     "data": {
      "text/plain": [
       "[<matplotlib.lines.Line2D at 0x107ea8ed0>]"
      ]
     },
     "execution_count": 15,
     "metadata": {},
     "output_type": "execute_result"
    },
    {
     "data": {
      "image/png": "[encoded data removed]",
      "text/plain": [
       "<matplotlib.figure.Figure at 0x1039ba190>"
      ]
     },
     "metadata": {},
     "output_type": "display_data"
    }
   ],
   "source": [
    "plt.plot(np.square(s)[:20])"
   ]
  },
  {
   "cell_type": "code",
   "execution_count": 17,
   "metadata": {
    "collapsed": false
   },
   "outputs": [
    {
     "data": {
      "text/plain": [
       "[<matplotlib.lines.Line2D at 0x10899ae50>]"
      ]
     },
     "execution_count": 17,
     "metadata": {},
     "output_type": "execute_result"
    },
    {
     "data": {
      "image/png": "[encoded data removed]",
      "text/plain": [
       "<matplotlib.figure.Figure at 0x1089a6490>"
      ]
     },
     "metadata": {},
     "output_type": "display_data"
    }
   ],
   "source": [
    "cumulative = np.cumsum(s ** 2)\n",
    "plt.plot(cumulative)"
   ]
  },
  {
   "cell_type": "code",
   "execution_count": 18,
   "metadata": {
    "collapsed": false
   },
   "outputs": [
    {
     "data": {
      "text/plain": [
       "17314294.500000067"
      ]
     },
     "execution_count": 18,
     "metadata": {},
     "output_type": "execute_result"
    }
   ],
   "source": [
    "total_energy = np.sum(s ** 2)\n",
    "total_energy * .9"
   ]
  },
  {
   "cell_type": "code",
   "execution_count": 21,
   "metadata": {
    "collapsed": false
   },
   "outputs": [],
   "source": [
    "total = cumulative"
   ]
  },
  {
   "cell_type": "code",
   "execution_count": 23,
   "metadata": {
    "collapsed": false
   },
   "outputs": [
    {
     "name": "stdout",
     "output_type": "stream",
     "text": [
      "440\n"
     ]
    }
   ],
   "source": [
    "for i in xrange(len(total)):\n",
    "    if total[i] > 17314294.500000067:\n",
    "        print i-1\n",
    "        break"
   ]
  },
  {
   "cell_type": "code",
   "execution_count": 24,
   "metadata": {
    "collapsed": false
   },
   "outputs": [
    {
     "name": "stderr",
     "output_type": "stream",
     "text": [
      "Skipping line 227933: expected 10 fields, saw 11\n",
      "\n",
      "/Users/Warren/anaconda/lib/python2.7/site-packages/pandas/io/parsers.py:1159: DtypeWarning: Columns (3,8,9) have mixed types. Specify dtype option on import or set low_memory=False.\n",
      "  data = self._reader.read(nrows)\n"
     ]
    }
   ],
   "source": [
    "dfMeta = pd.read_csv('data/book_meta.csv', error_bad_lines=False, sep=';')"
   ]
  },
  {
   "cell_type": "code",
   "execution_count": 25,
   "metadata": {
    "collapsed": false
   },
   "outputs": [],
   "source": [
    "concepts = V[0:10] #keeping 10 topics"
   ]
  },
  {
   "cell_type": "code",
   "execution_count": 26,
   "metadata": {
    "collapsed": false
   },
   "outputs": [
    {
     "data": {
      "text/html": [
       "<div style=\"max-height:1000px;max-width:1500px;overflow:auto;\">\n",
       "<table border=\"1\" class=\"dataframe\">\n",
       "  <thead>\n",
       "    <tr style=\"text-align: right;\">\n",
       "      <th></th>\n",
       "      <th>ISBN</th>\n",
       "      <th>Book-Title</th>\n",
       "      <th>Book-Author</th>\n",
       "      <th>Year-Of-Publication</th>\n",
       "      <th>Publisher</th>\n",
       "      <th>Image-URL-S</th>\n",
       "      <th>Image-URL-M</th>\n",
       "      <th>Image-URL-L</th>\n",
       "      <th>two</th>\n",
       "      <th>three</th>\n",
       "    </tr>\n",
       "  </thead>\n",
       "  <tbody>\n",
       "    <tr>\n",
       "      <th>0</th>\n",
       "      <td> 0195153448</td>\n",
       "      <td>                               Classical Mythology</td>\n",
       "      <td>   Mark P. O. Morford</td>\n",
       "      <td> 2002</td>\n",
       "      <td>    Oxford University Press</td>\n",
       "      <td> http://images.amazon.com/images/P/0195153448.0...</td>\n",
       "      <td> http://images.amazon.com/images/P/0195153448.0...</td>\n",
       "      <td> http://images.amazon.com/images/P/0195153448.0...</td>\n",
       "      <td> NaN</td>\n",
       "      <td> NaN</td>\n",
       "    </tr>\n",
       "    <tr>\n",
       "      <th>1</th>\n",
       "      <td> 0002005018</td>\n",
       "      <td>                                      Clara Callan</td>\n",
       "      <td> Richard Bruce Wright</td>\n",
       "      <td> 2001</td>\n",
       "      <td>      HarperFlamingo Canada</td>\n",
       "      <td> http://images.amazon.com/images/P/0002005018.0...</td>\n",
       "      <td> http://images.amazon.com/images/P/0002005018.0...</td>\n",
       "      <td> http://images.amazon.com/images/P/0002005018.0...</td>\n",
       "      <td> NaN</td>\n",
       "      <td> NaN</td>\n",
       "    </tr>\n",
       "    <tr>\n",
       "      <th>2</th>\n",
       "      <td> 0060973129</td>\n",
       "      <td>                              Decision in Normandy</td>\n",
       "      <td>         Carlo D'Este</td>\n",
       "      <td> 1991</td>\n",
       "      <td>            HarperPerennial</td>\n",
       "      <td> http://images.amazon.com/images/P/0060973129.0...</td>\n",
       "      <td> http://images.amazon.com/images/P/0060973129.0...</td>\n",
       "      <td> http://images.amazon.com/images/P/0060973129.0...</td>\n",
       "      <td> NaN</td>\n",
       "      <td> NaN</td>\n",
       "    </tr>\n",
       "    <tr>\n",
       "      <th>3</th>\n",
       "      <td> 0374157065</td>\n",
       "      <td> Flu: The Story of the Great Influenza Pandemic...</td>\n",
       "      <td>     Gina Bari Kolata</td>\n",
       "      <td> 1999</td>\n",
       "      <td>       Farrar Straus Giroux</td>\n",
       "      <td> http://images.amazon.com/images/P/0374157065.0...</td>\n",
       "      <td> http://images.amazon.com/images/P/0374157065.0...</td>\n",
       "      <td> http://images.amazon.com/images/P/0374157065.0...</td>\n",
       "      <td> NaN</td>\n",
       "      <td> NaN</td>\n",
       "    </tr>\n",
       "    <tr>\n",
       "      <th>4</th>\n",
       "      <td> 0393045218</td>\n",
       "      <td>                            The Mummies of Urumchi</td>\n",
       "      <td>      E. J. W. Barber</td>\n",
       "      <td> 1999</td>\n",
       "      <td> W. W. Norton &amp;amp; Company</td>\n",
       "      <td> http://images.amazon.com/images/P/0393045218.0...</td>\n",
       "      <td> http://images.amazon.com/images/P/0393045218.0...</td>\n",
       "      <td> http://images.amazon.com/images/P/0393045218.0...</td>\n",
       "      <td> NaN</td>\n",
       "      <td> NaN</td>\n",
       "    </tr>\n",
       "  </tbody>\n",
       "</table>\n",
       "</div>"
      ],
      "text/plain": [
       "         ISBN                                         Book-Title  \\\n",
       "0  0195153448                                Classical Mythology   \n",
       "1  0002005018                                       Clara Callan   \n",
       "2  0060973129                               Decision in Normandy   \n",
       "3  0374157065  Flu: The Story of the Great Influenza Pandemic...   \n",
       "4  0393045218                             The Mummies of Urumchi   \n",
       "\n",
       "            Book-Author Year-Of-Publication                   Publisher  \\\n",
       "0    Mark P. O. Morford                2002     Oxford University Press   \n",
       "1  Richard Bruce Wright                2001       HarperFlamingo Canada   \n",
       "2          Carlo D'Este                1991             HarperPerennial   \n",
       "3      Gina Bari Kolata                1999        Farrar Straus Giroux   \n",
       "4       E. J. W. Barber                1999  W. W. Norton &amp; Company   \n",
       "\n",
       "                                         Image-URL-S  \\\n",
       "0  http://images.amazon.com/images/P/0195153448.0...   \n",
       "1  http://images.amazon.com/images/P/0002005018.0...   \n",
       "2  http://images.amazon.com/images/P/0060973129.0...   \n",
       "3  http://images.amazon.com/images/P/0374157065.0...   \n",
       "4  http://images.amazon.com/images/P/0393045218.0...   \n",
       "\n",
       "                                         Image-URL-M  \\\n",
       "0  http://images.amazon.com/images/P/0195153448.0...   \n",
       "1  http://images.amazon.com/images/P/0002005018.0...   \n",
       "2  http://images.amazon.com/images/P/0060973129.0...   \n",
       "3  http://images.amazon.com/images/P/0374157065.0...   \n",
       "4  http://images.amazon.com/images/P/0393045218.0...   \n",
       "\n",
       "                                         Image-URL-L  two three  \n",
       "0  http://images.amazon.com/images/P/0195153448.0...  NaN   NaN  \n",
       "1  http://images.amazon.com/images/P/0002005018.0...  NaN   NaN  \n",
       "2  http://images.amazon.com/images/P/0060973129.0...  NaN   NaN  \n",
       "3  http://images.amazon.com/images/P/0374157065.0...  NaN   NaN  \n",
       "4  http://images.amazon.com/images/P/0393045218.0...  NaN   NaN  "
      ]
     },
     "execution_count": 26,
     "metadata": {},
     "output_type": "execute_result"
    }
   ],
   "source": [
    "dfMeta.head()"
   ]
  },
  {
   "cell_type": "code",
   "execution_count": 27,
   "metadata": {
    "collapsed": true
   },
   "outputs": [],
   "source": [
    "books = dfMeta"
   ]
  },
  {
   "cell_type": "code",
   "execution_count": 28,
   "metadata": {
    "collapsed": true
   },
   "outputs": [],
   "source": [
    "books = books.set_index('ISBN')"
   ]
  },
  {
   "cell_type": "code",
   "execution_count": 31,
   "metadata": {
    "collapsed": true
   },
   "outputs": [],
   "source": [
    "pv = dfData"
   ]
  },
  {
   "cell_type": "code",
   "execution_count": 32,
   "metadata": {
    "collapsed": true
   },
   "outputs": [],
   "source": [
    "def print_titles(topic, n):\n",
    "    indx = np.argsort(topic)\n",
    "    rv_indx = indx[::-1]\n",
    "    for idx in pv.columns[rv_indx[:n]]:\n",
    "        try:\n",
    "            print books.loc[idx]['Book-Title'] + \" : \" + books.loc[idx]['Book-Author']\n",
    "        except Exception:\n",
    "            continue"
   ]
  },
  {
   "cell_type": "markdown",
   "metadata": {},
   "source": [
    "####Topic related to each concept"
   ]
  },
  {
   "cell_type": "code",
   "execution_count": 33,
   "metadata": {
    "collapsed": false
   },
   "outputs": [
    {
     "name": "stdout",
     "output_type": "stream",
     "text": [
      "Topic #0 :\n",
      "\n",
      "\n",
      "Name Der Rose : Umberto Eco\n",
      "Monsieur Ibrahim und die Blumen des Koran. Erz�?¤hlung. : Eric-Emmanuel Schmitt\n",
      "Artemis Fowl. : Eoin Colfer\n",
      "Novocento, Un Monologo : Alessandro Baricco\n",
      "Schlafes Bruder : Robert Schneider\n",
      "New Vegetarian: Bold and Beautiful Recipes for Every Occasion : Celia Brooks Brown\n",
      "Der Alchimist. : Paulo Coelho\n",
      "Die Weiss Lowin / Contemporary German Lit : Henning Mankell\n",
      "Crazy : Benjamin Lebert\n",
      "Free : Paul Vincent\n",
      "\n",
      "\n",
      "Topic #1 :\n",
      "\n",
      "\n",
      "The Red Tent (Bestselling Backlist) : Anita Diamant\n",
      "The Lovely Bones: A Novel : Alice Sebold\n",
      "The Da Vinci Code : Dan Brown\n",
      "Where the Heart Is (Oprah's Book Club (Paperback)) : Billie Letts\n",
      "Two for the Dough : Janet Evanovich\n",
      "Snow Falling on Cedars : David Guterson\n",
      "Harry Potter and the Sorcerer's Stone (Harry Potter (Paperback)) : J. K. Rowling\n",
      "1st to Die: A Novel : James Patterson\n",
      "Good in Bed : Jennifer Weiner\n",
      "Tuesdays with Morrie: An Old Man, a Young Man, and Life's Greatest Lesson : MITCH ALBOM\n",
      "\n",
      "\n",
      "Topic #2 :\n",
      "\n",
      "\n",
      "Dance upon the Air (Three Sisters Island Trilogy) : Nora Roberts\n",
      "Face the Fire (Three Sisters Island Trilogy) : Nora Roberts\n",
      "Heart of the Sea (Irish Trilogy) : Nora Roberts\n",
      "Jewels of the Sun (Irish Trilogy) : Nora Roberts\n",
      "Key of Valor (Roberts, Nora. Key Trilogy, 3.) : Nora Roberts\n",
      "Tears of the Moon (Irish Trilogy) : Nora Roberts\n",
      "Key of Light (Key Trilogy (Paperback)) : Nora Roberts\n",
      "Heaven and Earth (Three Sisters Island Trilogy) : Nora Roberts\n",
      "Key of Knowledge (Key Trilogy (Paperback)) : Nora Roberts\n",
      "Purity in Death : J.D. Robb\n",
      "\n",
      "\n",
      "Topic #3 :\n",
      "\n",
      "\n",
      "The Lovely Bones: A Novel : Alice Sebold\n",
      "The Red Tent (Bestselling Backlist) : Anita Diamant\n",
      "A Time to Kill : JOHN GRISHAM\n",
      "The Pilot's Wife : A Novel : Anita Shreve\n",
      "Divine Secrets of the Ya-Ya Sisterhood: A Novel : Rebecca Wells\n",
      "The Pelican Brief : John Grisham\n",
      "Where the Heart Is (Oprah's Book Club (Paperback)) : Billie Letts\n",
      "The Secret Life of Bees : Sue Monk Kidd\n",
      "Harry Potter and the Sorcerer's Stone (Harry Potter (Paperback)) : J. K. Rowling\n",
      "\n",
      "\n",
      "Topic #4 :\n",
      "\n",
      "\n",
      "The Firm : John Grisham\n",
      "The Pelican Brief : John Grisham\n",
      "A Time to Kill : JOHN GRISHAM\n",
      "Silence of the Lambs : Thomas Harris\n",
      "The Chamber : John Grisham\n",
      "The Client : John Grisham\n",
      "The Dark Half : Stephen King\n",
      "The Tommyknockers : Stephen King\n",
      "The Rainmaker : JOHN GRISHAM\n",
      "Cruel &amp; Unusual (Kay Scarpetta Mysteries (Paperback)) : Patricia D. Cornwell\n",
      "\n",
      "\n",
      "Topic #5 :\n",
      "\n",
      "\n",
      "The Lovely Bones: A Novel : Alice Sebold\n",
      "The Da Vinci Code : Dan Brown\n",
      "To the Nines: A Stephanie Plum Novel : Janet Evanovich\n",
      "The Five People You Meet in Heaven : Mitch Albom\n",
      "1st to Die: A Novel : James Patterson\n",
      "The Last Juror : John Grisham\n",
      "2nd Chance : James Patterson\n",
      "Four Blind Mice : James Patterson\n",
      "No Second  Chance : Harlan Coben\n",
      "Full House (Janet Evanovich's Full Series) : Janet Evanovich\n",
      "\n",
      "\n",
      "Topic #6 :\n",
      "\n",
      "\n",
      "Harry Potter and the Order of the Phoenix (Book 5) : J. K. Rowling\n",
      "Harry Potter and the Prisoner of Azkaban (Book 3) : J. K. Rowling\n",
      "Harry Potter and the Chamber of Secrets (Book 2) : J. K. Rowling\n",
      "Harry Potter and the Goblet of Fire (Book 4) : J. K. Rowling\n",
      "Harry Potter and the Sorcerer's Stone (Book 1) : J. K. Rowling\n",
      "The Da Vinci Code : Dan Brown\n",
      "Harry Potter and the Sorcerer's Stone (Harry Potter (Paperback)) : J. K. Rowling\n",
      "Interview with the Vampire : Anne Rice\n",
      "The Vampire Lestat (Vampire Chronicles, Book II) : ANNE RICE\n",
      "The Hobbit : The Enchanting Prelude to The Lord of the Rings : J.R.R. TOLKIEN\n",
      "\n",
      "\n",
      "Topic #7 :\n",
      "\n",
      "\n",
      "The Tommyknockers : Stephen King\n",
      "Insomnia : Stephen King\n",
      "Gerald's Game : Stephen King\n",
      "The Da Vinci Code : Dan Brown\n",
      "Bag of Bones : Stephen King\n",
      "The Lovely Bones: A Novel : Alice Sebold\n",
      "Dolores Claiborne : Stephen King\n",
      "The Green Mile : Stephen King\n",
      "Watchers : Dean R. Koontz\n",
      "Nightmares &amp; Dreamscapes : Stephen King\n",
      "\n",
      "\n",
      "Topic #8 :\n",
      "\n",
      "\n",
      "Harry Potter and the Chamber of Secrets (Book 2) : J. K. Rowling\n",
      "Harry Potter and the Prisoner of Azkaban (Book 3) : J. K. Rowling\n",
      "Harry Potter and the Sorcerer's Stone (Book 1) : J. K. Rowling\n",
      "Harry Potter and the Goblet of Fire (Book 4) : J. K. Rowling\n",
      "Harry Potter and the Order of the Phoenix (Book 5) : J. K. Rowling\n",
      "Where the Heart Is (Oprah's Book Club (Paperback)) : Billie Letts\n",
      "The Bad Beginning (A Series of Unfortunate Events, Book 1) : Lemony Snicket\n",
      "The Notebook : Nicholas Sparks\n",
      "Melody (Logan) : V.C. Andrews\n",
      "Flowers In The Attic (Dollanganger) : V.C. Andrews\n",
      "\n",
      "\n",
      "Topic #9 :\n",
      "\n",
      "\n",
      "Harry Potter and the Sorcerer's Stone (Harry Potter (Paperback)) : J. K. Rowling\n",
      "Left Behind: A Novel of the Earth's Last Days (Left Behind No. 1) : Tim Lahaye\n",
      "Nicolae: The Rise of Antichrist (Left Behind No. 3) : Tim F. Lahaye\n",
      "The Divine Secrets of the Ya-Ya Sisterhood: A Novel : Rebecca Wells\n",
      "Harry Potter and the Chamber of Secrets (Book 2) : J. K. Rowling\n",
      "Seven Up (A Stephanie Plum Novel) : Janet Evanovich\n",
      "The Client : John Grisham\n",
      "Fahrenheit 451 : RAY BRADBURY\n",
      "Two for the Dough : Janet Evanovich\n",
      "The Mark: The Beast Rules the World (Left Behind #8) : Tim LaHaye\n",
      "\n",
      "\n"
     ]
    }
   ],
   "source": [
    "for i in range(len(concepts)):\n",
    "    print \"Topic #%d :\" % i\n",
    "    print \"\\n\"\n",
    "    print_titles(concepts[i], 10)\n",
    "    print \"\\n\""
   ]
  },
  {
   "cell_type": "code",
   "execution_count": 36,
   "metadata": {
    "collapsed": false
   },
   "outputs": [
    {
     "data": {
      "text/plain": [
       "array([-0.02033966,  0.00327259, -0.0055954 ,  0.00288085, -0.0019582 ,\n",
       "        0.00617848, -0.01451267,  0.00338496, -0.00870693,  0.00158482])"
      ]
     },
     "execution_count": 36,
     "metadata": {},
     "output_type": "execute_result"
    }
   ],
   "source": [
    "# how much the user likes each concept\n",
    "U[:,:10][0]"
   ]
  },
  {
   "cell_type": "code",
   "execution_count": 39,
   "metadata": {
    "collapsed": false
   },
   "outputs": [
    {
     "name": "stdout",
     "output_type": "stream",
     "text": [
      "The Lovely Bones: A Novel : Alice Sebold\n",
      "The Da Vinci Code : Dan Brown\n",
      "To the Nines: A Stephanie Plum Novel : Janet Evanovich\n",
      "The Five People You Meet in Heaven : Mitch Albom\n",
      "1st to Die: A Novel : James Patterson\n",
      "The Last Juror : John Grisham\n",
      "2nd Chance : James Patterson\n",
      "Four Blind Mice : James Patterson\n",
      "No Second  Chance : Harlan Coben\n",
      "Full House (Janet Evanovich's Full Series) : Janet Evanovich\n",
      "Seven Up (A Stephanie Plum Novel) : Janet Evanovich\n",
      "The Lake House : James Patterson\n",
      "Blow Fly: A Scarpetta Novel : Patricia Cornwell\n",
      "Hard Eight : A Stephanie Plum Novel (A Stephanie Plum Novel) : Janet Evanovich\n",
      "From a Buick 8 : A Novel : Stephen King\n"
     ]
    }
   ],
   "source": [
    "# user likes topic 5, these are the titles that are under that concept/topic \n",
    "print_titles(V[:10,:][5], 15)"
   ]
  },
  {
   "cell_type": "code",
   "execution_count": null,
   "metadata": {
    "collapsed": true
   },
   "outputs": [],
   "source": []
  },
  {
   "cell_type": "markdown",
   "metadata": {},
   "source": [
    "##Movies data"
   ]
  },
  {
   "cell_type": "code",
   "execution_count": 41,
   "metadata": {
    "collapsed": false
   },
   "outputs": [],
   "source": [
    "reviews = pd.read_table('data/u.data', sep='\\t', names =  ['user', 'movie', 'rating', 'timestamp'])"
   ]
  },
  {
   "cell_type": "code",
   "execution_count": 42,
   "metadata": {
    "collapsed": false
   },
   "outputs": [
    {
     "data": {
      "text/html": [
       "<div style=\"max-height:1000px;max-width:1500px;overflow:auto;\">\n",
       "<table border=\"1\" class=\"dataframe\">\n",
       "  <thead>\n",
       "    <tr style=\"text-align: right;\">\n",
       "      <th></th>\n",
       "      <th>user</th>\n",
       "      <th>movie</th>\n",
       "      <th>rating</th>\n",
       "      <th>timestamp</th>\n",
       "    </tr>\n",
       "  </thead>\n",
       "  <tbody>\n",
       "    <tr>\n",
       "      <th>0</th>\n",
       "      <td> 196</td>\n",
       "      <td> 242</td>\n",
       "      <td> 3</td>\n",
       "      <td> 881250949</td>\n",
       "    </tr>\n",
       "    <tr>\n",
       "      <th>1</th>\n",
       "      <td> 186</td>\n",
       "      <td> 302</td>\n",
       "      <td> 3</td>\n",
       "      <td> 891717742</td>\n",
       "    </tr>\n",
       "    <tr>\n",
       "      <th>2</th>\n",
       "      <td>  22</td>\n",
       "      <td> 377</td>\n",
       "      <td> 1</td>\n",
       "      <td> 878887116</td>\n",
       "    </tr>\n",
       "    <tr>\n",
       "      <th>3</th>\n",
       "      <td> 244</td>\n",
       "      <td>  51</td>\n",
       "      <td> 2</td>\n",
       "      <td> 880606923</td>\n",
       "    </tr>\n",
       "    <tr>\n",
       "      <th>4</th>\n",
       "      <td> 166</td>\n",
       "      <td> 346</td>\n",
       "      <td> 1</td>\n",
       "      <td> 886397596</td>\n",
       "    </tr>\n",
       "  </tbody>\n",
       "</table>\n",
       "</div>"
      ],
      "text/plain": [
       "   user  movie  rating  timestamp\n",
       "0   196    242       3  881250949\n",
       "1   186    302       3  891717742\n",
       "2    22    377       1  878887116\n",
       "3   244     51       2  880606923\n",
       "4   166    346       1  886397596"
      ]
     },
     "execution_count": 42,
     "metadata": {},
     "output_type": "execute_result"
    }
   ],
   "source": [
    "reviews.head()"
   ]
  },
  {
   "cell_type": "code",
   "execution_count": 43,
   "metadata": {
    "collapsed": true
   },
   "outputs": [],
   "source": [
    "features = reviews.pivot(index='user', columns='movie', values='rating').fillna(-1)"
   ]
  },
  {
   "cell_type": "code",
   "execution_count": 44,
   "metadata": {
    "collapsed": true
   },
   "outputs": [],
   "source": [
    "U, Sigma, VT = np.linalg.svd(features.as_matrix())"
   ]
  },
  {
   "cell_type": "code",
   "execution_count": 45,
   "metadata": {
    "collapsed": false
   },
   "outputs": [
    {
     "data": {
      "text/plain": [
       "[<matplotlib.lines.Line2D at 0x107c51a90>]"
      ]
     },
     "execution_count": 45,
     "metadata": {},
     "output_type": "execute_result"
    },
    {
     "data": {
      "image/png": "[encoded data removed]",
      "text/plain": [
       "<matplotlib.figure.Figure at 0x1038e2110>"
      ]
     },
     "metadata": {},
     "output_type": "display_data"
    }
   ],
   "source": [
    "plt.plot(Sigma ** 2)"
   ]
  },
  {
   "cell_type": "code",
   "execution_count": 46,
   "metadata": {
    "collapsed": false
   },
   "outputs": [
    {
     "data": {
      "text/plain": [
       "[<matplotlib.lines.Line2D at 0x10a483350>]"
      ]
     },
     "execution_count": 46,
     "metadata": {},
     "output_type": "execute_result"
    },
    {
     "data": {
      "image/png": "[encoded data removed]",
      "text/plain": [
       "<matplotlib.figure.Figure at 0x107bfac90>"
      ]
     },
     "metadata": {},
     "output_type": "display_data"
    }
   ],
   "source": [
    "plt.plot((Sigma ** 2)[:20])"
   ]
  },
  {
   "cell_type": "code",
   "execution_count": 47,
   "metadata": {
    "collapsed": true
   },
   "outputs": [],
   "source": [
    "# keep 10 topics\n",
    "V_10 = VT[:10,:]"
   ]
  },
  {
   "cell_type": "code",
   "execution_count": 48,
   "metadata": {
    "collapsed": true
   },
   "outputs": [],
   "source": [
    "U_10 = U[:,:10]"
   ]
  },
  {
   "cell_type": "code",
   "execution_count": 49,
   "metadata": {
    "collapsed": true
   },
   "outputs": [],
   "source": [
    "movies = pd.read_table('data/u.item', sep='|', names =['movie_id', 'title', 'release', 'video_release', 'imdb', 'unknown','Action','Adventure','Animation', 'Children', 'Comedy' ,'Crime' ,'Documentary' ,'Drama','Fantasy','Film-Noir','Horror','Musical','Mystery','Romance','Sci-Fi','Thriller','War','Western'])"
   ]
  },
  {
   "cell_type": "code",
   "execution_count": 50,
   "metadata": {
    "collapsed": false
   },
   "outputs": [
    {
     "data": {
      "text/plain": [
       "1682"
      ]
     },
     "execution_count": 50,
     "metadata": {},
     "output_type": "execute_result"
    }
   ],
   "source": [
    "len(movies)"
   ]
  },
  {
   "cell_type": "code",
   "execution_count": 51,
   "metadata": {
    "collapsed": false
   },
   "outputs": [
    {
     "data": {
      "text/plain": [
       "movie_id                                                         6\n",
       "title            Shanghai Triad (Yao a yao yao dao waipo qiao) ...\n",
       "release                                                01-Jan-1995\n",
       "video_release                                                  NaN\n",
       "imdb             http://us.imdb.com/Title?Yao+a+yao+yao+dao+wai...\n",
       "unknown                                                          0\n",
       "Action                                                           0\n",
       "Adventure                                                        0\n",
       "Animation                                                        0\n",
       "Children                                                         0\n",
       "Comedy                                                           0\n",
       "Crime                                                            0\n",
       "Documentary                                                      0\n",
       "Drama                                                            1\n",
       "Fantasy                                                          0\n",
       "Film-Noir                                                        0\n",
       "Horror                                                           0\n",
       "Musical                                                          0\n",
       "Mystery                                                          0\n",
       "Romance                                                          0\n",
       "Sci-Fi                                                           0\n",
       "Thriller                                                         0\n",
       "War                                                              0\n",
       "Western                                                          0\n",
       "Name: 5, dtype: object"
      ]
     },
     "execution_count": 51,
     "metadata": {},
     "output_type": "execute_result"
    }
   ],
   "source": [
    "movies.loc[5]"
   ]
  },
  {
   "cell_type": "code",
   "execution_count": 52,
   "metadata": {
    "collapsed": false
   },
   "outputs": [
    {
     "data": {
      "text/html": [
       "<div style=\"max-height:1000px;max-width:1500px;overflow:auto;\">\n",
       "<table border=\"1\" class=\"dataframe\">\n",
       "  <thead>\n",
       "    <tr style=\"text-align: right;\">\n",
       "      <th></th>\n",
       "      <th>movie_id</th>\n",
       "      <th>title</th>\n",
       "      <th>release</th>\n",
       "      <th>video_release</th>\n",
       "      <th>imdb</th>\n",
       "      <th>unknown</th>\n",
       "      <th>Action</th>\n",
       "      <th>Adventure</th>\n",
       "      <th>Animation</th>\n",
       "      <th>Children</th>\n",
       "      <th>...</th>\n",
       "      <th>Fantasy</th>\n",
       "      <th>Film-Noir</th>\n",
       "      <th>Horror</th>\n",
       "      <th>Musical</th>\n",
       "      <th>Mystery</th>\n",
       "      <th>Romance</th>\n",
       "      <th>Sci-Fi</th>\n",
       "      <th>Thriller</th>\n",
       "      <th>War</th>\n",
       "      <th>Western</th>\n",
       "    </tr>\n",
       "  </thead>\n",
       "  <tbody>\n",
       "    <tr>\n",
       "      <th>689 </th>\n",
       "      <td>  690</td>\n",
       "      <td>                 Seven Years in Tibet (1997)</td>\n",
       "      <td> 01-Jan-1997</td>\n",
       "      <td>NaN</td>\n",
       "      <td> http://us.imdb.com/M/title-exact?Seven+Years+i...</td>\n",
       "      <td> 0</td>\n",
       "      <td> 0</td>\n",
       "      <td> 0</td>\n",
       "      <td> 0</td>\n",
       "      <td> 0</td>\n",
       "      <td>...</td>\n",
       "      <td> 0</td>\n",
       "      <td> 0</td>\n",
       "      <td> 0</td>\n",
       "      <td> 0</td>\n",
       "      <td> 0</td>\n",
       "      <td> 0</td>\n",
       "      <td> 0</td>\n",
       "      <td> 0</td>\n",
       "      <td> 1</td>\n",
       "      <td> 0</td>\n",
       "    </tr>\n",
       "    <tr>\n",
       "      <th>331 </th>\n",
       "      <td>  332</td>\n",
       "      <td>                       Kiss the Girls (1997)</td>\n",
       "      <td> 01-Jan-1997</td>\n",
       "      <td>NaN</td>\n",
       "      <td> http://us.imdb.com/M/title-exact?Kiss+the+Girl...</td>\n",
       "      <td> 0</td>\n",
       "      <td> 0</td>\n",
       "      <td> 0</td>\n",
       "      <td> 0</td>\n",
       "      <td> 0</td>\n",
       "      <td>...</td>\n",
       "      <td> 0</td>\n",
       "      <td> 0</td>\n",
       "      <td> 0</td>\n",
       "      <td> 0</td>\n",
       "      <td> 0</td>\n",
       "      <td> 0</td>\n",
       "      <td> 0</td>\n",
       "      <td> 1</td>\n",
       "      <td> 0</td>\n",
       "      <td> 0</td>\n",
       "    </tr>\n",
       "    <tr>\n",
       "      <th>681 </th>\n",
       "      <td>  682</td>\n",
       "      <td>      I Know What You Did Last Summer (1997)</td>\n",
       "      <td> 17-Oct-1997</td>\n",
       "      <td>NaN</td>\n",
       "      <td> http://us.imdb.com/M/title-exact?I+Know+What+Y...</td>\n",
       "      <td> 0</td>\n",
       "      <td> 0</td>\n",
       "      <td> 0</td>\n",
       "      <td> 0</td>\n",
       "      <td> 0</td>\n",
       "      <td>...</td>\n",
       "      <td> 0</td>\n",
       "      <td> 0</td>\n",
       "      <td> 1</td>\n",
       "      <td> 0</td>\n",
       "      <td> 1</td>\n",
       "      <td> 0</td>\n",
       "      <td> 0</td>\n",
       "      <td> 1</td>\n",
       "      <td> 0</td>\n",
       "      <td> 0</td>\n",
       "    </tr>\n",
       "    <tr>\n",
       "      <th>326 </th>\n",
       "      <td>  327</td>\n",
       "      <td>                             Cop Land (1997)</td>\n",
       "      <td> 01-Jan-1997</td>\n",
       "      <td>NaN</td>\n",
       "      <td>  http://us.imdb.com/M/title-exact?Cop+Land+(1997)</td>\n",
       "      <td> 0</td>\n",
       "      <td> 0</td>\n",
       "      <td> 0</td>\n",
       "      <td> 0</td>\n",
       "      <td> 0</td>\n",
       "      <td>...</td>\n",
       "      <td> 0</td>\n",
       "      <td> 0</td>\n",
       "      <td> 0</td>\n",
       "      <td> 0</td>\n",
       "      <td> 1</td>\n",
       "      <td> 0</td>\n",
       "      <td> 0</td>\n",
       "      <td> 0</td>\n",
       "      <td> 0</td>\n",
       "      <td> 0</td>\n",
       "    </tr>\n",
       "    <tr>\n",
       "      <th>299 </th>\n",
       "      <td>  300</td>\n",
       "      <td>                        Air Force One (1997)</td>\n",
       "      <td> 01-Jan-1997</td>\n",
       "      <td>NaN</td>\n",
       "      <td> http://us.imdb.com/M/title-exact?Air+Force+One...</td>\n",
       "      <td> 0</td>\n",
       "      <td> 1</td>\n",
       "      <td> 0</td>\n",
       "      <td> 0</td>\n",
       "      <td> 0</td>\n",
       "      <td>...</td>\n",
       "      <td> 0</td>\n",
       "      <td> 0</td>\n",
       "      <td> 0</td>\n",
       "      <td> 0</td>\n",
       "      <td> 0</td>\n",
       "      <td> 0</td>\n",
       "      <td> 0</td>\n",
       "      <td> 1</td>\n",
       "      <td> 0</td>\n",
       "      <td> 0</td>\n",
       "    </tr>\n",
       "    <tr>\n",
       "      <th>936 </th>\n",
       "      <td>  937</td>\n",
       "      <td>                    Thousand Acres, A (1997)</td>\n",
       "      <td> 01-Jan-1997</td>\n",
       "      <td>NaN</td>\n",
       "      <td> http://us.imdb.com/M/title-exact?Thousand+Acre...</td>\n",
       "      <td> 0</td>\n",
       "      <td> 0</td>\n",
       "      <td> 0</td>\n",
       "      <td> 0</td>\n",
       "      <td> 0</td>\n",
       "      <td>...</td>\n",
       "      <td> 0</td>\n",
       "      <td> 0</td>\n",
       "      <td> 0</td>\n",
       "      <td> 0</td>\n",
       "      <td> 0</td>\n",
       "      <td> 0</td>\n",
       "      <td> 0</td>\n",
       "      <td> 0</td>\n",
       "      <td> 0</td>\n",
       "      <td> 0</td>\n",
       "    </tr>\n",
       "    <tr>\n",
       "      <th>291 </th>\n",
       "      <td>  292</td>\n",
       "      <td>                             Rosewood (1997)</td>\n",
       "      <td> 21-Feb-1997</td>\n",
       "      <td>NaN</td>\n",
       "      <td> http://us.imdb.com/M/title-exact?Rosewood%20(1...</td>\n",
       "      <td> 0</td>\n",
       "      <td> 0</td>\n",
       "      <td> 0</td>\n",
       "      <td> 0</td>\n",
       "      <td> 0</td>\n",
       "      <td>...</td>\n",
       "      <td> 0</td>\n",
       "      <td> 0</td>\n",
       "      <td> 0</td>\n",
       "      <td> 0</td>\n",
       "      <td> 0</td>\n",
       "      <td> 0</td>\n",
       "      <td> 0</td>\n",
       "      <td> 0</td>\n",
       "      <td> 0</td>\n",
       "      <td> 0</td>\n",
       "    </tr>\n",
       "    <tr>\n",
       "      <th>879 </th>\n",
       "      <td>  880</td>\n",
       "      <td>                            Soul Food (1997)</td>\n",
       "      <td> 01-Jan-1997</td>\n",
       "      <td>NaN</td>\n",
       "      <td> http://us.imdb.com/M/title-exact?Soul+Food+(1997)</td>\n",
       "      <td> 0</td>\n",
       "      <td> 0</td>\n",
       "      <td> 0</td>\n",
       "      <td> 0</td>\n",
       "      <td> 0</td>\n",
       "      <td>...</td>\n",
       "      <td> 0</td>\n",
       "      <td> 0</td>\n",
       "      <td> 0</td>\n",
       "      <td> 0</td>\n",
       "      <td> 0</td>\n",
       "      <td> 0</td>\n",
       "      <td> 0</td>\n",
       "      <td> 0</td>\n",
       "      <td> 0</td>\n",
       "      <td> 0</td>\n",
       "    </tr>\n",
       "    <tr>\n",
       "      <th>343 </th>\n",
       "      <td>  344</td>\n",
       "      <td>                         Apostle, The (1997)</td>\n",
       "      <td> 18-Dec-1997</td>\n",
       "      <td>NaN</td>\n",
       "      <td> http://us.imdb.com/M/title-exact?imdb-title-11...</td>\n",
       "      <td> 0</td>\n",
       "      <td> 0</td>\n",
       "      <td> 0</td>\n",
       "      <td> 0</td>\n",
       "      <td> 0</td>\n",
       "      <td>...</td>\n",
       "      <td> 0</td>\n",
       "      <td> 0</td>\n",
       "      <td> 0</td>\n",
       "      <td> 0</td>\n",
       "      <td> 0</td>\n",
       "      <td> 0</td>\n",
       "      <td> 0</td>\n",
       "      <td> 0</td>\n",
       "      <td> 0</td>\n",
       "      <td> 0</td>\n",
       "    </tr>\n",
       "    <tr>\n",
       "      <th>937 </th>\n",
       "      <td>  938</td>\n",
       "      <td>                  Smile Like Yours, A (1997)</td>\n",
       "      <td> 01-Jan-1997</td>\n",
       "      <td>NaN</td>\n",
       "      <td> http://us.imdb.com/M/title-exact?Smile+Like+Yo...</td>\n",
       "      <td> 0</td>\n",
       "      <td> 0</td>\n",
       "      <td> 0</td>\n",
       "      <td> 0</td>\n",
       "      <td> 0</td>\n",
       "      <td>...</td>\n",
       "      <td> 0</td>\n",
       "      <td> 0</td>\n",
       "      <td> 0</td>\n",
       "      <td> 0</td>\n",
       "      <td> 0</td>\n",
       "      <td> 1</td>\n",
       "      <td> 0</td>\n",
       "      <td> 0</td>\n",
       "      <td> 0</td>\n",
       "      <td> 0</td>\n",
       "    </tr>\n",
       "    <tr>\n",
       "      <th>358 </th>\n",
       "      <td>  359</td>\n",
       "      <td>                      Assignment, The (1997)</td>\n",
       "      <td> 01-Jan-1997</td>\n",
       "      <td>NaN</td>\n",
       "      <td> http://us.imdb.com/M/title-exact?Assignment%2C...</td>\n",
       "      <td> 0</td>\n",
       "      <td> 0</td>\n",
       "      <td> 0</td>\n",
       "      <td> 0</td>\n",
       "      <td> 0</td>\n",
       "      <td>...</td>\n",
       "      <td> 0</td>\n",
       "      <td> 0</td>\n",
       "      <td> 0</td>\n",
       "      <td> 0</td>\n",
       "      <td> 0</td>\n",
       "      <td> 0</td>\n",
       "      <td> 0</td>\n",
       "      <td> 1</td>\n",
       "      <td> 0</td>\n",
       "      <td> 0</td>\n",
       "    </tr>\n",
       "    <tr>\n",
       "      <th>886 </th>\n",
       "      <td>  887</td>\n",
       "      <td>                          Eve's Bayou (1997)</td>\n",
       "      <td> 01-Jan-1997</td>\n",
       "      <td>NaN</td>\n",
       "      <td> http://us.imdb.com/M/title-exact?Eve's+Bayou+(...</td>\n",
       "      <td> 0</td>\n",
       "      <td> 0</td>\n",
       "      <td> 0</td>\n",
       "      <td> 0</td>\n",
       "      <td> 0</td>\n",
       "      <td>...</td>\n",
       "      <td> 0</td>\n",
       "      <td> 0</td>\n",
       "      <td> 0</td>\n",
       "      <td> 0</td>\n",
       "      <td> 0</td>\n",
       "      <td> 0</td>\n",
       "      <td> 0</td>\n",
       "      <td> 0</td>\n",
       "      <td> 0</td>\n",
       "      <td> 0</td>\n",
       "    </tr>\n",
       "    <tr>\n",
       "      <th>330 </th>\n",
       "      <td>  331</td>\n",
       "      <td>                            Edge, The (1997)</td>\n",
       "      <td> 26-Sep-1997</td>\n",
       "      <td>NaN</td>\n",
       "      <td> http://us.imdb.com/M/title-exact?Edge%2C+The+(...</td>\n",
       "      <td> 0</td>\n",
       "      <td> 0</td>\n",
       "      <td> 1</td>\n",
       "      <td> 0</td>\n",
       "      <td> 0</td>\n",
       "      <td>...</td>\n",
       "      <td> 0</td>\n",
       "      <td> 0</td>\n",
       "      <td> 0</td>\n",
       "      <td> 0</td>\n",
       "      <td> 0</td>\n",
       "      <td> 0</td>\n",
       "      <td> 0</td>\n",
       "      <td> 1</td>\n",
       "      <td> 0</td>\n",
       "      <td> 0</td>\n",
       "    </tr>\n",
       "    <tr>\n",
       "      <th>989 </th>\n",
       "      <td>  990</td>\n",
       "      <td>                        Anna Karenina (1997)</td>\n",
       "      <td> 04-Apr-1997</td>\n",
       "      <td>NaN</td>\n",
       "      <td> http://us.imdb.com/M/title-exact?Anna%20Kareni...</td>\n",
       "      <td> 0</td>\n",
       "      <td> 0</td>\n",
       "      <td> 0</td>\n",
       "      <td> 0</td>\n",
       "      <td> 0</td>\n",
       "      <td>...</td>\n",
       "      <td> 0</td>\n",
       "      <td> 0</td>\n",
       "      <td> 0</td>\n",
       "      <td> 0</td>\n",
       "      <td> 0</td>\n",
       "      <td> 1</td>\n",
       "      <td> 0</td>\n",
       "      <td> 0</td>\n",
       "      <td> 0</td>\n",
       "      <td> 0</td>\n",
       "    </tr>\n",
       "    <tr>\n",
       "      <th>325 </th>\n",
       "      <td>  326</td>\n",
       "      <td>                            G.I. Jane (1997)</td>\n",
       "      <td> 01-Jan-1997</td>\n",
       "      <td>NaN</td>\n",
       "      <td> http://us.imdb.com/M/title-exact?G%2EI%2E+Jane...</td>\n",
       "      <td> 0</td>\n",
       "      <td> 1</td>\n",
       "      <td> 0</td>\n",
       "      <td> 0</td>\n",
       "      <td> 0</td>\n",
       "      <td>...</td>\n",
       "      <td> 0</td>\n",
       "      <td> 0</td>\n",
       "      <td> 0</td>\n",
       "      <td> 0</td>\n",
       "      <td> 0</td>\n",
       "      <td> 0</td>\n",
       "      <td> 0</td>\n",
       "      <td> 0</td>\n",
       "      <td> 1</td>\n",
       "      <td> 0</td>\n",
       "    </tr>\n",
       "    <tr>\n",
       "      <th>1126</th>\n",
       "      <td> 1127</td>\n",
       "      <td>                     Truman Show, The (1998)</td>\n",
       "      <td> 01-Jan-1998</td>\n",
       "      <td>NaN</td>\n",
       "      <td>  http://us.imdb.com/Title?Truman+Show,+The+(1998)</td>\n",
       "      <td> 0</td>\n",
       "      <td> 0</td>\n",
       "      <td> 0</td>\n",
       "      <td> 0</td>\n",
       "      <td> 0</td>\n",
       "      <td>...</td>\n",
       "      <td> 0</td>\n",
       "      <td> 0</td>\n",
       "      <td> 0</td>\n",
       "      <td> 0</td>\n",
       "      <td> 0</td>\n",
       "      <td> 0</td>\n",
       "      <td> 0</td>\n",
       "      <td> 0</td>\n",
       "      <td> 0</td>\n",
       "      <td> 0</td>\n",
       "    </tr>\n",
       "    <tr>\n",
       "      <th>305 </th>\n",
       "      <td>  306</td>\n",
       "      <td> Mrs. Brown (Her Majesty, Mrs. Brown) (1997)</td>\n",
       "      <td> 01-Jan-1997</td>\n",
       "      <td>NaN</td>\n",
       "      <td> http://us.imdb.com/M/title-exact?Her+Majesty%2...</td>\n",
       "      <td> 0</td>\n",
       "      <td> 0</td>\n",
       "      <td> 0</td>\n",
       "      <td> 0</td>\n",
       "      <td> 0</td>\n",
       "      <td>...</td>\n",
       "      <td> 0</td>\n",
       "      <td> 0</td>\n",
       "      <td> 0</td>\n",
       "      <td> 0</td>\n",
       "      <td> 0</td>\n",
       "      <td> 1</td>\n",
       "      <td> 0</td>\n",
       "      <td> 0</td>\n",
       "      <td> 0</td>\n",
       "      <td> 0</td>\n",
       "    </tr>\n",
       "    <tr>\n",
       "      <th>307 </th>\n",
       "      <td>  308</td>\n",
       "      <td>              FairyTale: A True Story (1997)</td>\n",
       "      <td> 01-Jan-1997</td>\n",
       "      <td>NaN</td>\n",
       "      <td> http://us.imdb.com/M/title-exact?Fairytale:+A+...</td>\n",
       "      <td> 0</td>\n",
       "      <td> 0</td>\n",
       "      <td> 0</td>\n",
       "      <td> 0</td>\n",
       "      <td> 1</td>\n",
       "      <td>...</td>\n",
       "      <td> 1</td>\n",
       "      <td> 0</td>\n",
       "      <td> 0</td>\n",
       "      <td> 0</td>\n",
       "      <td> 0</td>\n",
       "      <td> 0</td>\n",
       "      <td> 0</td>\n",
       "      <td> 0</td>\n",
       "      <td> 0</td>\n",
       "      <td> 0</td>\n",
       "    </tr>\n",
       "    <tr>\n",
       "      <th>907 </th>\n",
       "      <td>  908</td>\n",
       "      <td>                           Half Baked (1998)</td>\n",
       "      <td> 16-Jan-1998</td>\n",
       "      <td>NaN</td>\n",
       "      <td> http://us.imdb.com/M/title-exact?imdb-title-12...</td>\n",
       "      <td> 0</td>\n",
       "      <td> 0</td>\n",
       "      <td> 0</td>\n",
       "      <td> 0</td>\n",
       "      <td> 0</td>\n",
       "      <td>...</td>\n",
       "      <td> 0</td>\n",
       "      <td> 0</td>\n",
       "      <td> 0</td>\n",
       "      <td> 0</td>\n",
       "      <td> 0</td>\n",
       "      <td> 0</td>\n",
       "      <td> 0</td>\n",
       "      <td> 0</td>\n",
       "      <td> 0</td>\n",
       "      <td> 0</td>\n",
       "    </tr>\n",
       "    <tr>\n",
       "      <th>876 </th>\n",
       "      <td>  877</td>\n",
       "      <td>                       Excess Baggage (1997)</td>\n",
       "      <td> 01-Jan-1997</td>\n",
       "      <td>NaN</td>\n",
       "      <td> http://us.imdb.com/M/title-exact?Excess+Baggag...</td>\n",
       "      <td> 0</td>\n",
       "      <td> 0</td>\n",
       "      <td> 1</td>\n",
       "      <td> 0</td>\n",
       "      <td> 0</td>\n",
       "      <td>...</td>\n",
       "      <td> 0</td>\n",
       "      <td> 0</td>\n",
       "      <td> 0</td>\n",
       "      <td> 0</td>\n",
       "      <td> 0</td>\n",
       "      <td> 1</td>\n",
       "      <td> 0</td>\n",
       "      <td> 0</td>\n",
       "      <td> 0</td>\n",
       "      <td> 0</td>\n",
       "    </tr>\n",
       "  </tbody>\n",
       "</table>\n",
       "<p>20 rows × 24 columns</p>\n",
       "</div>"
      ],
      "text/plain": [
       "      movie_id                                        title      release  \\\n",
       "689        690                  Seven Years in Tibet (1997)  01-Jan-1997   \n",
       "331        332                        Kiss the Girls (1997)  01-Jan-1997   \n",
       "681        682       I Know What You Did Last Summer (1997)  17-Oct-1997   \n",
       "326        327                              Cop Land (1997)  01-Jan-1997   \n",
       "299        300                         Air Force One (1997)  01-Jan-1997   \n",
       "936        937                     Thousand Acres, A (1997)  01-Jan-1997   \n",
       "291        292                              Rosewood (1997)  21-Feb-1997   \n",
       "879        880                             Soul Food (1997)  01-Jan-1997   \n",
       "343        344                          Apostle, The (1997)  18-Dec-1997   \n",
       "937        938                   Smile Like Yours, A (1997)  01-Jan-1997   \n",
       "358        359                       Assignment, The (1997)  01-Jan-1997   \n",
       "886        887                           Eve's Bayou (1997)  01-Jan-1997   \n",
       "330        331                             Edge, The (1997)  26-Sep-1997   \n",
       "989        990                         Anna Karenina (1997)  04-Apr-1997   \n",
       "325        326                             G.I. Jane (1997)  01-Jan-1997   \n",
       "1126      1127                      Truman Show, The (1998)  01-Jan-1998   \n",
       "305        306  Mrs. Brown (Her Majesty, Mrs. Brown) (1997)  01-Jan-1997   \n",
       "307        308               FairyTale: A True Story (1997)  01-Jan-1997   \n",
       "907        908                            Half Baked (1998)  16-Jan-1998   \n",
       "876        877                        Excess Baggage (1997)  01-Jan-1997   \n",
       "\n",
       "      video_release                                               imdb  \\\n",
       "689             NaN  http://us.imdb.com/M/title-exact?Seven+Years+i...   \n",
       "331             NaN  http://us.imdb.com/M/title-exact?Kiss+the+Girl...   \n",
       "681             NaN  http://us.imdb.com/M/title-exact?I+Know+What+Y...   \n",
       "326             NaN   http://us.imdb.com/M/title-exact?Cop+Land+(1997)   \n",
       "299             NaN  http://us.imdb.com/M/title-exact?Air+Force+One...   \n",
       "936             NaN  http://us.imdb.com/M/title-exact?Thousand+Acre...   \n",
       "291             NaN  http://us.imdb.com/M/title-exact?Rosewood%20(1...   \n",
       "879             NaN  http://us.imdb.com/M/title-exact?Soul+Food+(1997)   \n",
       "343             NaN  http://us.imdb.com/M/title-exact?imdb-title-11...   \n",
       "937             NaN  http://us.imdb.com/M/title-exact?Smile+Like+Yo...   \n",
       "358             NaN  http://us.imdb.com/M/title-exact?Assignment%2C...   \n",
       "886             NaN  http://us.imdb.com/M/title-exact?Eve's+Bayou+(...   \n",
       "330             NaN  http://us.imdb.com/M/title-exact?Edge%2C+The+(...   \n",
       "989             NaN  http://us.imdb.com/M/title-exact?Anna%20Kareni...   \n",
       "325             NaN  http://us.imdb.com/M/title-exact?G%2EI%2E+Jane...   \n",
       "1126            NaN   http://us.imdb.com/Title?Truman+Show,+The+(1998)   \n",
       "305             NaN  http://us.imdb.com/M/title-exact?Her+Majesty%2...   \n",
       "307             NaN  http://us.imdb.com/M/title-exact?Fairytale:+A+...   \n",
       "907             NaN  http://us.imdb.com/M/title-exact?imdb-title-12...   \n",
       "876             NaN  http://us.imdb.com/M/title-exact?Excess+Baggag...   \n",
       "\n",
       "      unknown  Action  Adventure  Animation  Children   ...     Fantasy  \\\n",
       "689         0       0          0          0         0   ...           0   \n",
       "331         0       0          0          0         0   ...           0   \n",
       "681         0       0          0          0         0   ...           0   \n",
       "326         0       0          0          0         0   ...           0   \n",
       "299         0       1          0          0         0   ...           0   \n",
       "936         0       0          0          0         0   ...           0   \n",
       "291         0       0          0          0         0   ...           0   \n",
       "879         0       0          0          0         0   ...           0   \n",
       "343         0       0          0          0         0   ...           0   \n",
       "937         0       0          0          0         0   ...           0   \n",
       "358         0       0          0          0         0   ...           0   \n",
       "886         0       0          0          0         0   ...           0   \n",
       "330         0       0          1          0         0   ...           0   \n",
       "989         0       0          0          0         0   ...           0   \n",
       "325         0       1          0          0         0   ...           0   \n",
       "1126        0       0          0          0         0   ...           0   \n",
       "305         0       0          0          0         0   ...           0   \n",
       "307         0       0          0          0         1   ...           1   \n",
       "907         0       0          0          0         0   ...           0   \n",
       "876         0       0          1          0         0   ...           0   \n",
       "\n",
       "      Film-Noir  Horror  Musical  Mystery  Romance  Sci-Fi  Thriller  War  \\\n",
       "689           0       0        0        0        0       0         0    1   \n",
       "331           0       0        0        0        0       0         1    0   \n",
       "681           0       1        0        1        0       0         1    0   \n",
       "326           0       0        0        1        0       0         0    0   \n",
       "299           0       0        0        0        0       0         1    0   \n",
       "936           0       0        0        0        0       0         0    0   \n",
       "291           0       0        0        0        0       0         0    0   \n",
       "879           0       0        0        0        0       0         0    0   \n",
       "343           0       0        0        0        0       0         0    0   \n",
       "937           0       0        0        0        1       0         0    0   \n",
       "358           0       0        0        0        0       0         1    0   \n",
       "886           0       0        0        0        0       0         0    0   \n",
       "330           0       0        0        0        0       0         1    0   \n",
       "989           0       0        0        0        1       0         0    0   \n",
       "325           0       0        0        0        0       0         0    1   \n",
       "1126          0       0        0        0        0       0         0    0   \n",
       "305           0       0        0        0        1       0         0    0   \n",
       "307           0       0        0        0        0       0         0    0   \n",
       "907           0       0        0        0        0       0         0    0   \n",
       "876           0       0        0        0        1       0         0    0   \n",
       "\n",
       "      Western  \n",
       "689         0  \n",
       "331         0  \n",
       "681         0  \n",
       "326         0  \n",
       "299         0  \n",
       "936         0  \n",
       "291         0  \n",
       "879         0  \n",
       "343         0  \n",
       "937         0  \n",
       "358         0  \n",
       "886         0  \n",
       "330         0  \n",
       "989         0  \n",
       "325         0  \n",
       "1126        0  \n",
       "305         0  \n",
       "307         0  \n",
       "907         0  \n",
       "876         0  \n",
       "\n",
       "[20 rows x 24 columns]"
      ]
     },
     "execution_count": 52,
     "metadata": {},
     "output_type": "execute_result"
    }
   ],
   "source": [
    "# indices of most prominent movies for topic 1\n",
    "indx = np.argsort(V_10[1])\n",
    "rv_indx = indx[::-1]\n",
    "\n",
    "# 20 moives from topic 0\n",
    "movies.loc[rv_indx[:20]]"
   ]
  },
  {
   "cell_type": "code",
   "execution_count": 53,
   "metadata": {
    "collapsed": true
   },
   "outputs": [],
   "source": [
    "def print_movies(topic, n):\n",
    "    indx = np.argsort(topic)\n",
    "    rv_indx = indx[::-1]\n",
    "    \n",
    "    print movies.loc[rv_indx[:n]]['title']"
   ]
  },
  {
   "cell_type": "code",
   "execution_count": 54,
   "metadata": {
    "collapsed": false,
    "scrolled": false
   },
   "outputs": [
    {
     "name": "stdout",
     "output_type": "stream",
     "text": [
      "Topic #0 :\n",
      "\n",
      "\n",
      "1650                         Spanish Prisoner, The (1997)\n",
      "1635                           Brothers in Trouble (1995)\n",
      "1644                              Butcher Boy, The (1998)\n",
      "1649                              Butcher Boy, The (1998)\n",
      "1584                                American Dream (1990)\n",
      "912                  Love and Death on Long Island (1997)\n",
      "1629    Silence of the Palace, The (Saimt el Qusur) (1...\n",
      "1631          Land and Freedom (Tierra y libertad) (1995)\n",
      "1632                   � k�ldum klaka (Cold Fever) (1994)\n",
      "1634                                  Two Friends (1986) \n",
      "1636                                    Girls Town (1996)\n",
      "1639                               Eighth Day, The (1996)\n",
      "1640                                      Dadetown (1995)\n",
      "1646                                       Hana-bi (1997)\n",
      "1648                                  Big One, The (1997)\n",
      "Name: title, dtype: object\n",
      "\n",
      "\n",
      "Topic #1 :\n",
      "\n",
      "\n",
      "689               Seven Years in Tibet (1997)\n",
      "331                     Kiss the Girls (1997)\n",
      "681    I Know What You Did Last Summer (1997)\n",
      "326                           Cop Land (1997)\n",
      "299                      Air Force One (1997)\n",
      "936                  Thousand Acres, A (1997)\n",
      "291                           Rosewood (1997)\n",
      "879                          Soul Food (1997)\n",
      "343                       Apostle, The (1997)\n",
      "937                Smile Like Yours, A (1997)\n",
      "358                    Assignment, The (1997)\n",
      "886                        Eve's Bayou (1997)\n",
      "330                          Edge, The (1997)\n",
      "989                      Anna Karenina (1997)\n",
      "325                          G.I. Jane (1997)\n",
      "Name: title, dtype: object\n",
      "\n",
      "\n",
      "Topic #2 :\n",
      "\n",
      "\n",
      "513                                    Annie Hall (1977)\n",
      "196                                 Graduate, The (1967)\n",
      "133                                  Citizen Kane (1941)\n",
      "482                                    Casablanca (1942)\n",
      "602                                   Rear Window (1954)\n",
      "653                                     Chinatown (1974)\n",
      "473    Dr. Strangelove or: How I Learned to Stop Worr...\n",
      "479                            North by Northwest (1959)\n",
      "478                                       Vertigo (1958)\n",
      "497                            African Queen, The (1951)\n",
      "510                            Lawrence of Arabia (1962)\n",
      "481                              Some Like It Hot (1959)\n",
      "169                               Cinema Paradiso (1988)\n",
      "198                 Bridge on the River Kwai, The (1957)\n",
      "483                           Maltese Falcon, The (1941)\n",
      "Name: title, dtype: object\n",
      "\n",
      "\n",
      "Topic #3 :\n",
      "\n",
      "\n",
      "99                           Fargo (1996)\n",
      "275              Leaving Las Vegas (1995)\n",
      "474                  Trainspotting (1996)\n",
      "123                      Lone Star (1996)\n",
      "285           English Patient, The (1996)\n",
      "8                 Dead Man Walking (1995)\n",
      "284                 Secrets & Lies (1996)\n",
      "301              L.A. Confidential (1997)\n",
      "236                  Jerry Maguire (1996)\n",
      "13                     Postino, Il (1994)\n",
      "507    People vs. Larry Flynt, The (1996)\n",
      "136                      Big Night (1996)\n",
      "12                Mighty Aphrodite (1995)\n",
      "292                  Donnie Brasco (1997)\n",
      "267                    Chasing Amy (1997)\n",
      "Name: title, dtype: object\n",
      "\n",
      "\n",
      "Topic #4 :\n",
      "\n",
      "\n",
      "14                        Mr. Holland's Opus (1995)\n",
      "236                            Jerry Maguire (1996)\n",
      "274                    Sense and Sensibility (1995)\n",
      "0                                  Toy Story (1995)\n",
      "110             Truth About Cats & Dogs, The (1996)\n",
      "24                             Birdcage, The (1996)\n",
      "120                   Independence Day (ID4) (1996)\n",
      "273                                  Sabrina (1995)\n",
      "124                               Phenomenon (1996)\n",
      "150    Willy Wonka and the Chocolate Factory (1971)\n",
      "117                                  Twister (1996)\n",
      "282                                     Emma (1996)\n",
      "475                    First Wives Club, The (1996)\n",
      "844                       That Thing You Do! (1996)\n",
      "470                       Courage Under Fire (1996)\n",
      "Name: title, dtype: object\n",
      "\n",
      "\n",
      "Topic #5 :\n",
      "\n",
      "\n",
      "6                  Twelve Monkeys (1995)\n",
      "474                 Trainspotting (1996)\n",
      "99                          Fargo (1996)\n",
      "155                Reservoir Dogs (1992)\n",
      "55                   Pulp Fiction (1994)\n",
      "174                        Brazil (1985)\n",
      "128                         Bound (1996)\n",
      "272                          Heat (1995)\n",
      "49                      Star Wars (1977)\n",
      "23            Rumble in the Bronx (1995)\n",
      "407                Close Shave, A (1995)\n",
      "88                   Blade Runner (1982)\n",
      "126                Godfather, The (1972)\n",
      "918    City of Lost Children, The (1995)\n",
      "149                      Swingers (1996)\n",
      "Name: title, dtype: object\n",
      "\n",
      "\n",
      "Topic #6 :\n",
      "\n",
      "\n",
      "126                   Godfather, The (1972)\n",
      "204                           Patton (1970)\n",
      "198    Bridge on the River Kwai, The (1957)\n",
      "120           Independence Day (ID4) (1996)\n",
      "299                    Air Force One (1997)\n",
      "117                          Twister (1996)\n",
      "116                        Rock, The (1996)\n",
      "483              Maltese Falcon, The (1941)\n",
      "514                        Boot, Das (1981)\n",
      "519                Great Escape, The (1963)\n",
      "525                          Ben-Hur (1959)\n",
      "479               North by Northwest (1959)\n",
      "186          Godfather: Part II, The (1974)\n",
      "510               Lawrence of Arabia (1962)\n",
      "404              Mission: Impossible (1996)\n",
      "Name: title, dtype: object\n",
      "\n",
      "\n",
      "Topic #7 :\n",
      "\n",
      "\n",
      "256                               Men in Black (1997)\n",
      "180                         Return of the Jedi (1983)\n",
      "221                   Star Trek: First Contact (1996)\n",
      "249                         Fifth Element, The (1997)\n",
      "49                                   Star Wars (1977)\n",
      "150      Willy Wonka and the Chocolate Factory (1971)\n",
      "407                             Close Shave, A (1995)\n",
      "168                        Wrong Trousers, The (1993)\n",
      "0                                    Toy Story (1995)\n",
      "257                                    Contact (1997)\n",
      "431                                   Fantasia (1940)\n",
      "167            Monty Python and the Holy Grail (1974)\n",
      "108    Mystery Science Theater 3000: The Movie (1996)\n",
      "207                         Young Frankenstein (1974)\n",
      "172                        Princess Bride, The (1987)\n",
      "Name: title, dtype: object\n",
      "\n",
      "\n",
      "Topic #8 :\n",
      "\n",
      "\n",
      "287                                        Scream (1996)\n",
      "184                                        Psycho (1960)\n",
      "442                                    Birds, The (1963)\n",
      "446                                        Carrie (1976)\n",
      "218                    Nightmare on Elm Street, A (1984)\n",
      "558                    Interview with the Vampire (1994)\n",
      "435               American Werewolf in London, An (1981)\n",
      "217                                     Cape Fear (1991)\n",
      "199                                  Shining, The (1980)\n",
      "927                                    Craft, The (1996)\n",
      "447                                     Omen, The (1976)\n",
      "392                                Mrs. Doubtfire (1993)\n",
      "674    Nosferatu (Nosferatu, eine Symphonie des Graue...\n",
      "403                                     Pinocchio (1940)\n",
      "419                           Alice in Wonderland (1951)\n",
      "Name: title, dtype: object\n",
      "\n",
      "\n",
      "Topic #9 :\n",
      "\n",
      "\n",
      "225                                Die Hard 2 (1990)\n",
      "565                  Clear and Present Danger (1994)\n",
      "514                                 Boot, Das (1981)\n",
      "549                Die Hard: With a Vengeance (1995)\n",
      "274                     Sense and Sensibility (1995)\n",
      "240                 Last of the Mohicans, The (1992)\n",
      "384                                 True Lies (1994)\n",
      "61                                   Stargate (1994)\n",
      "228       Star Trek III: The Search for Spock (1984)\n",
      "13                                Postino, Il (1994)\n",
      "284                            Secrets & Lies (1996)\n",
      "232                               Under Siege (1992)\n",
      "683                       In the Line of Fire (1993)\n",
      "226    Star Trek VI: The Undiscovered Country (1991)\n",
      "229             Star Trek IV: The Voyage Home (1986)\n",
      "Name: title, dtype: object\n",
      "\n",
      "\n"
     ]
    }
   ],
   "source": [
    "for i in range(len(V_10)):\n",
    "    print \"Topic #%d :\" % i\n",
    "    print \"\\n\"\n",
    "    print_movies(V_10[i], 15)\n",
    "    print \"\\n\""
   ]
  },
  {
   "cell_type": "code",
   "execution_count": null,
   "metadata": {
    "collapsed": true
   },
   "outputs": [],
   "source": []
  },
  {
   "cell_type": "markdown",
   "metadata": {},
   "source": [
    "##Senate voting data"
   ]
  },
  {
   "cell_type": "code",
   "execution_count": 55,
   "metadata": {
    "collapsed": true
   },
   "outputs": [],
   "source": [
    "import numpy as np\n",
    "import matplotlib.pyplot as plt\n",
    "from pandas import *\n",
    "from sklearn.manifold import MDS\n",
    "from statsmodels.iolib.foreign import genfromdta\n",
    "import os\n",
    "from scipy.spatial import distance\n",
    "import re\n",
    "import math"
   ]
  },
  {
   "cell_type": "code",
   "execution_count": 56,
   "metadata": {
    "collapsed": true
   },
   "outputs": [],
   "source": [
    "cong = {}\n",
    "\n",
    "for file_n in os.listdir('data/senate'):\n",
    "    senate = file_n.split('.')[0]\n",
    "    cong[senate] = pd.read_csv('data/senate/' + file_n)"
   ]
  },
  {
   "cell_type": "code",
   "execution_count": 58,
   "metadata": {
    "collapsed": false
   },
   "outputs": [
    {
     "data": {
      "text/html": [
       "<div style=\"max-height:1000px;max-width:1500px;overflow:auto;\">\n",
       "<table border=\"1\" class=\"dataframe\">\n",
       "  <thead>\n",
       "    <tr style=\"text-align: right;\">\n",
       "      <th></th>\n",
       "      <th>Unnamed: 0</th>\n",
       "      <th>cong</th>\n",
       "      <th>id</th>\n",
       "      <th>state</th>\n",
       "      <th>dist</th>\n",
       "      <th>lstate</th>\n",
       "      <th>party</th>\n",
       "      <th>eh1</th>\n",
       "      <th>eh2</th>\n",
       "      <th>name</th>\n",
       "      <th>...</th>\n",
       "      <th>V629</th>\n",
       "      <th>V630</th>\n",
       "      <th>V631</th>\n",
       "      <th>V632</th>\n",
       "      <th>V633</th>\n",
       "      <th>V634</th>\n",
       "      <th>V635</th>\n",
       "      <th>V636</th>\n",
       "      <th>V637</th>\n",
       "      <th>V638</th>\n",
       "    </tr>\n",
       "  </thead>\n",
       "  <tbody>\n",
       "    <tr>\n",
       "      <th>0</th>\n",
       "      <td> 1</td>\n",
       "      <td> 101</td>\n",
       "      <td> 99908</td>\n",
       "      <td> 99</td>\n",
       "      <td> 0</td>\n",
       "      <td> USA    </td>\n",
       "      <td> 200</td>\n",
       "      <td> 0</td>\n",
       "      <td> 0</td>\n",
       "      <td> BUSH       </td>\n",
       "      <td>...</td>\n",
       "      <td> 9</td>\n",
       "      <td> 9</td>\n",
       "      <td> 9</td>\n",
       "      <td> 9</td>\n",
       "      <td> 9</td>\n",
       "      <td> 9</td>\n",
       "      <td> 9</td>\n",
       "      <td> 9</td>\n",
       "      <td> 9</td>\n",
       "      <td> 1</td>\n",
       "    </tr>\n",
       "    <tr>\n",
       "      <th>1</th>\n",
       "      <td> 2</td>\n",
       "      <td> 101</td>\n",
       "      <td> 14659</td>\n",
       "      <td> 41</td>\n",
       "      <td> 0</td>\n",
       "      <td> ALABAMA</td>\n",
       "      <td> 100</td>\n",
       "      <td> 0</td>\n",
       "      <td> 1</td>\n",
       "      <td> SHELBY, RIC</td>\n",
       "      <td>...</td>\n",
       "      <td> 1</td>\n",
       "      <td> 1</td>\n",
       "      <td> 1</td>\n",
       "      <td> 1</td>\n",
       "      <td> 1</td>\n",
       "      <td> 1</td>\n",
       "      <td> 1</td>\n",
       "      <td> 1</td>\n",
       "      <td> 1</td>\n",
       "      <td> 6</td>\n",
       "    </tr>\n",
       "    <tr>\n",
       "      <th>2</th>\n",
       "      <td> 3</td>\n",
       "      <td> 101</td>\n",
       "      <td> 14705</td>\n",
       "      <td> 41</td>\n",
       "      <td> 0</td>\n",
       "      <td> ALABAMA</td>\n",
       "      <td> 100</td>\n",
       "      <td> 0</td>\n",
       "      <td> 1</td>\n",
       "      <td> HEFLIN, HOW</td>\n",
       "      <td>...</td>\n",
       "      <td> 1</td>\n",
       "      <td> 1</td>\n",
       "      <td> 1</td>\n",
       "      <td> 1</td>\n",
       "      <td> 1</td>\n",
       "      <td> 1</td>\n",
       "      <td> 1</td>\n",
       "      <td> 1</td>\n",
       "      <td> 1</td>\n",
       "      <td> 6</td>\n",
       "    </tr>\n",
       "    <tr>\n",
       "      <th>3</th>\n",
       "      <td> 4</td>\n",
       "      <td> 101</td>\n",
       "      <td> 12109</td>\n",
       "      <td> 81</td>\n",
       "      <td> 0</td>\n",
       "      <td> ALASKA </td>\n",
       "      <td> 200</td>\n",
       "      <td> 0</td>\n",
       "      <td> 1</td>\n",
       "      <td> STEVENS, TH</td>\n",
       "      <td>...</td>\n",
       "      <td> 1</td>\n",
       "      <td> 1</td>\n",
       "      <td> 1</td>\n",
       "      <td> 1</td>\n",
       "      <td> 6</td>\n",
       "      <td> 6</td>\n",
       "      <td> 1</td>\n",
       "      <td> 1</td>\n",
       "      <td> 1</td>\n",
       "      <td> 1</td>\n",
       "    </tr>\n",
       "    <tr>\n",
       "      <th>4</th>\n",
       "      <td> 5</td>\n",
       "      <td> 101</td>\n",
       "      <td> 14907</td>\n",
       "      <td> 81</td>\n",
       "      <td> 0</td>\n",
       "      <td> ALASKA </td>\n",
       "      <td> 200</td>\n",
       "      <td> 0</td>\n",
       "      <td> 1</td>\n",
       "      <td> MURKOWSKI, </td>\n",
       "      <td>...</td>\n",
       "      <td> 1</td>\n",
       "      <td> 1</td>\n",
       "      <td> 1</td>\n",
       "      <td> 1</td>\n",
       "      <td> 6</td>\n",
       "      <td> 6</td>\n",
       "      <td> 1</td>\n",
       "      <td> 1</td>\n",
       "      <td> 1</td>\n",
       "      <td> 6</td>\n",
       "    </tr>\n",
       "  </tbody>\n",
       "</table>\n",
       "<p>5 rows × 648 columns</p>\n",
       "</div>"
      ],
      "text/plain": [
       "   Unnamed: 0  cong     id  state  dist   lstate  party  eh1  eh2  \\\n",
       "0           1   101  99908     99     0  USA        200    0    0   \n",
       "1           2   101  14659     41     0  ALABAMA    100    0    1   \n",
       "2           3   101  14705     41     0  ALABAMA    100    0    1   \n",
       "3           4   101  12109     81     0  ALASKA     200    0    1   \n",
       "4           5   101  14907     81     0  ALASKA     200    0    1   \n",
       "\n",
       "          name  ...   V629  V630  V631  V632  V633  V634  V635  V636  V637  \\\n",
       "0  BUSH         ...      9     9     9     9     9     9     9     9     9   \n",
       "1  SHELBY, RIC  ...      1     1     1     1     1     1     1     1     1   \n",
       "2  HEFLIN, HOW  ...      1     1     1     1     1     1     1     1     1   \n",
       "3  STEVENS, TH  ...      1     1     1     1     6     6     1     1     1   \n",
       "4  MURKOWSKI,   ...      1     1     1     1     6     6     1     1     1   \n",
       "\n",
       "   V638  \n",
       "0     1  \n",
       "1     6  \n",
       "2     6  \n",
       "3     1  \n",
       "4     6  \n",
       "\n",
       "[5 rows x 648 columns]"
      ]
     },
     "execution_count": 58,
     "metadata": {},
     "output_type": "execute_result"
    }
   ],
   "source": [
    "# check data for 101st senate votes\n",
    "cong['s101'].head()"
   ]
  },
  {
   "cell_type": "code",
   "execution_count": 59,
   "metadata": {
    "collapsed": true
   },
   "outputs": [],
   "source": [
    "# convert the mapping of numeric vote to Yay (1), Nay (-1), abstain (0)\n",
    "mapping = {1:  1,\n",
    "           2:  1,\n",
    "           3:  1,\n",
    "           4: -1,\n",
    "           5: -1,\n",
    "           6: -1,\n",
    "           7:  0,\n",
    "           8:  0,\n",
    "           9:  0,\n",
    "           0:  0}\n",
    "\n",
    "def transformers(df):\n",
    "    cols = [ c for c in df.columns if c[0].lower() == 'v']\n",
    "    \n",
    "    df[cols] = df[cols].applymap(lambda x: mapping[x])\n",
    "    \n",
    "for k in cong:\n",
    "    transformers(cong[k])"
   ]
  },
  {
   "cell_type": "code",
   "execution_count": 60,
   "metadata": {
    "collapsed": true
   },
   "outputs": [],
   "source": [
    "roll = cong['s101']\n",
    "cols = [ c for c in roll.columns if c[0].lower() == 'v'] \n",
    "dist = distance.pdist(roll[cols], metric='euclidean')\n",
    "mds = MDS(dissimilarity='precomputed').fit_transform(distance.squareform(dist))\n",
    "\n",
    "names = roll.name.values\n",
    "dem = np.where(roll.party == 100)[0]\n",
    "rep = np.where(roll.party == 200)[0]\n",
    "\n",
    "def plot_senate(mds):\n",
    "    plt.figure(figsize = (12, 10))\n",
    "\n",
    "    plt.plot(mds[:, 0], mds[:, 1], '.', alpha = 0)\n",
    "\n",
    "    plt.title('Senators of the 101th Congress')\n",
    "\n",
    "    for i in dem:\n",
    "        plt.annotate(names[i], (mds[i, 0], mds[i, 1]),\n",
    "                     color = 'blue',\n",
    "                     alpha = 0.3)\n",
    "\n",
    "    for i in rep:\n",
    "        plt.annotate(names[i], (mds[i, 0], mds[i, 1]),\n",
    "                     color = 'red',\n",
    "                     alpha = 0.5)"
   ]
  },
  {
   "cell_type": "code",
   "execution_count": 61,
   "metadata": {
    "collapsed": false
   },
   "outputs": [
    {
     "data": {
      "image/png": "[encoded data removed]",
      "text/plain": [
       "<matplotlib.figure.Figure at 0x108a11a90>"
      ]
     },
     "metadata": {},
     "output_type": "display_data"
    }
   ],
   "source": [
    "plot_senate(mds) #euclidean distance"
   ]
  },
  {
   "cell_type": "code",
   "execution_count": 62,
   "metadata": {
    "collapsed": false
   },
   "outputs": [
    {
     "data": {
      "image/png": "[encoded data removed]",
      "text/plain": [
       "<matplotlib.figure.Figure at 0x10a4babd0>"
      ]
     },
     "metadata": {},
     "output_type": "display_data"
    }
   ],
   "source": [
    "dist = distance.pdist(roll[cols], metric='jaccard') #jaccardian distance\n",
    "mds = MDS(dissimilarity='precomputed').fit_transform(distance.squareform(dist))\n",
    "plot_senate(mds)"
   ]
  },
  {
   "cell_type": "code",
   "execution_count": 63,
   "metadata": {
    "collapsed": false
   },
   "outputs": [
    {
     "data": {
      "text/plain": [
       "[None]"
      ]
     },
     "execution_count": 63,
     "metadata": {},
     "output_type": "execute_result"
    },
    {
     "data": {
      "image/png": "[encoded data removed]",
      "text/plain": [
       "<matplotlib.figure.Figure at 0x107c1a690>"
      ]
     },
     "metadata": {},
     "output_type": "display_data"
    }
   ],
   "source": [
    "# euclidean distance of all years\n",
    "fig, ax = plt.subplots(nrows = 3, ncols = 4, figsize = (20, 10))\n",
    "for a, cn in zip(ax.ravel(), sorted(cong.items(), key=lambda x: int(x[0][1:]))):\n",
    "    sen = cn[1]\n",
    "    cols = [ c for c in sen.columns if c[0].lower() == 'v'] \n",
    "    dist = distance.pdist(sen[cols], metric='euclidean')\n",
    "    mds = MDS(dissimilarity='precomputed').fit_transform(distance.squareform(dist))\n",
    "\n",
    "    names = sen.name.values\n",
    "    dem = np.where(sen.party == 100)[0]\n",
    "    rep = np.where(sen.party == 200)[0]\n",
    "    \n",
    "    a.plot(mds[dem, 0], mds[dem, 1], '.b', mfc = 'white')\n",
    "    a.plot(mds[rep, 0], mds[rep, 1], 'xr')\n",
    "  \n",
    "    a.text(0.05, .95, cn[0], transform = a.transAxes, verticalalignment = 'top', fontsize = 14)\n",
    "    \n",
    "plt.setp(ax[2, 3], visible = False) "
   ]
  },
  {
   "cell_type": "code",
   "execution_count": 64,
   "metadata": {
    "collapsed": false
   },
   "outputs": [
    {
     "data": {
      "text/html": [
       "<iframe id=\"igraph\" scrolling=\"no\" style=\"border:none;\"seamless=\"seamless\" src=\"https://plot.ly/~wlau88/86.embed\" height=\"525px\" width=\"100%\"></iframe>"
      ],
      "text/plain": [
       "<plotly.tools.PlotlyDisplay object>"
      ]
     },
     "execution_count": 64,
     "metadata": {},
     "output_type": "execute_result"
    }
   ],
   "source": [
    "import plotly\n",
    "import plotly.plotly as py\n",
    "import plotly.tools as tls \n",
    "from plotly.graph_objs import *\n",
    "\n",
    "py.sign_in('wlau88', '7ql4pvy5w4')\n",
    "py.iplot_mpl(fig)"
   ]
  },
  {
   "cell_type": "code",
   "execution_count": 65,
   "metadata": {
    "collapsed": false
   },
   "outputs": [
    {
     "name": "stdout",
     "output_type": "stream",
     "text": [
      "This is the format of your plot grid!\n",
      "[13]\t[14]\t[15]\t[16]\t\n",
      "[9]\t[10]\t[11]\t[12]\t\n",
      "[5]\t[6]\t[7]\t[8]\t\n",
      "[1]\t[2]\t[3]\t[4]\t\n",
      "\n"
     ]
    },
    {
     "name": "stderr",
     "output_type": "stream",
     "text": [
      "/Users/Warren/anaconda/lib/python2.7/site-packages/plotly/tools.py:523: UserWarning:\n",
      "\n",
      "tools.get_subplots is depreciated. Please use tools.make_subplots instead.\n",
      "\n"
     ]
    }
   ],
   "source": [
    "fig = tls.get_subplots(\n",
    "    rows= 4,            # number of rows\n",
    "    columns= 4,         # number of columns\n",
    "    horizontal_spacing= 0.02,  # horiz. spacing (norm. coord)\n",
    "    vertical_spacing= 0.02,    # vert. spacing (norm. coord)\n",
    "    print_grid=True            # print axis grid ids to screen\n",
    ")"
   ]
  },
  {
   "cell_type": "code",
   "execution_count": 66,
   "metadata": {
    "collapsed": false
   },
   "outputs": [
    {
     "name": "stdout",
     "output_type": "stream",
     "text": [
      "[13, 14, 15, 16, 9, 10, 11, 12, 6, 7, 8]\n"
     ]
    }
   ],
   "source": [
    "# Function to make list of subplot indices\n",
    "def get_splts(N_rowcol, N_senate):\n",
    "\n",
    "    N_splt=N_rowcol**2         # number of subplots\n",
    "    N_empty=N_splt-N_senate   # number of empty subplots\n",
    "    \n",
    "    tmp1d=np.arange(1,N_splt+1)                 # => [1,2,..,N_splt]\n",
    "    tmp2d=np.resize(tmp1d, (N_rowcol,N_rowcol)) # => [[1,2,..,N_rowcol],..[..,N_splt]]\n",
    "    tmp2d_flip=tmp2d[::-1,:]                    # => [[..,N_spl],..[1,2,..,N_rowcol]]\n",
    "    \n",
    "    splts_left=tmp2d_flip[:,0]     # indices of the left-hand side subplots\n",
    "    splts_bottom=tmp2d_flip[-1,:]  # indices of the bottom subplots\n",
    "    \n",
    "    tmp1d_in_order=tmp2d_flip.flatten().tolist()  # => [..,N_spl,..,1,2,..N_rowcol]\n",
    "    \n",
    "    splts_empty=range(N_rowcol-N_empty+2,N_rowcol+2)  # indices of empty subplots\n",
    "    \n",
    "    for splt in splts_empty:           \n",
    "        tmp1d_in_order.remove(splt)  # remove indices of empty subplots  \n",
    "    splts = tmp1d_in_order           #   and get the complete list of subplots\n",
    "    \n",
    "    return splts, splts_empty, splts_left, splts_bottom\n",
    "\n",
    "# Get lists of subplot indices\n",
    "splts, splts_empty, splts_left, splts_bottom = get_splts(4, 11)\n",
    "\n",
    "print splts  # print list"
   ]
  },
  {
   "cell_type": "code",
   "execution_count": 67,
   "metadata": {
    "collapsed": false
   },
   "outputs": [
    {
     "data": {
      "text/html": [
       "<iframe id=\"igraph\" scrolling=\"no\" style=\"border:none;\"seamless=\"seamless\" src=\"https://plot.ly/~wlau88/88.embed\" height=\"525px\" width=\"100%\"></iframe>"
      ],
      "text/plain": [
       "<plotly.tools.PlotlyDisplay object>"
      ]
     },
     "execution_count": 67,
     "metadata": {},
     "output_type": "execute_result"
    }
   ],
   "source": [
    "traces = []\n",
    "\n",
    "for i, cn in enumerate(sorted(cong.items(), key=lambda x: int(x[0][1:]))):\n",
    "    sen = cn[1]\n",
    "    cols = [ c for c in sen.columns if c[0].lower() == 'v'] \n",
    "    dist = distance.pdist(sen[cols], metric='euclidean')\n",
    "    mds = MDS(dissimilarity='precomputed').fit_transform(distance.squareform(dist))\n",
    "\n",
    "    names = sen.name.values\n",
    "    dem = np.where(sen.party == 100)[0]\n",
    "    rep = np.where(sen.party == 200)[0]\n",
    "    \n",
    "    names[i], (mds[i, 0], mds[i, 1])\n",
    "    \n",
    "    trace1 = Scatter(\n",
    "        x=mds[rep, 0],\n",
    "        y=mds[rep, 1],\n",
    "        text=names[rep],\n",
    "        mode='markers',\n",
    "        xaxis='x' + str(i),\n",
    "        yaxis='y' + str(i),\n",
    "        marker=Marker(color=\"red\")\n",
    "        )\n",
    "    \n",
    "    trace2 = Scatter(\n",
    "        x=mds[dem, 0],\n",
    "        y=mds[dem, 1],\n",
    "        text=names[dem],\n",
    "        mode='markers',\n",
    "        xaxis='x' + str(i),\n",
    "        yaxis='y' + str(i),\n",
    "        marker=Marker(color=\"blue\")\n",
    "        )\n",
    "    \n",
    "    traces.append(trace1)\n",
    "    traces.append(trace2)\n",
    "\n",
    "layout = Layout(\n",
    "    xaxis=XAxis(\n",
    "        domain=[0, 0.45]\n",
    "    ),\n",
    "    yaxis=YAxis(\n",
    "        domain=[0, 0.45]\n",
    "    ),\n",
    "    xaxis2=XAxis(\n",
    "        domain=[0.55, 1]\n",
    "    ),\n",
    "    xaxis3=XAxis(\n",
    "        domain=[0, 0.45],\n",
    "        anchor='y3'\n",
    "    ),\n",
    "    xaxis4=XAxis(\n",
    "        domain=[0.55, 1],\n",
    "        anchor='y4'\n",
    "    ),\n",
    "    yaxis2=YAxis(\n",
    "        domain=[0, 0.45],\n",
    "        anchor='x2'\n",
    "    ),\n",
    "    yaxis3=YAxis(\n",
    "        domain=[0.55, 1]\n",
    "    ),\n",
    "    yaxis4=YAxis(\n",
    "        domain=[0.55, 1],\n",
    "        anchor='x4'\n",
    "    )\n",
    ")\n",
    "\n",
    "data = Data(traces)\n",
    "fig = Figure(data=data)\n",
    "\n",
    "py.iplot(data, filename='senate partisanship')"
   ]
  },
  {
   "cell_type": "code",
   "execution_count": null,
   "metadata": {
    "collapsed": true
   },
   "outputs": [],
   "source": []
  }
 ],
 "metadata": {
  "kernelspec": {
   "display_name": "Python 2",
   "language": "python",
   "name": "python2"
  },
  "language_info": {
   "codemirror_mode": {
    "name": "ipython",
    "version": 2
   },
   "file_extension": ".py",
   "mimetype": "text/x-python",
   "name": "python",
   "nbconvert_exporter": "python",
   "pygments_lexer": "ipython2",
   "version": "2.7.10"
  }
 },
 "nbformat": 4,
 "nbformat_minor": 0
}
