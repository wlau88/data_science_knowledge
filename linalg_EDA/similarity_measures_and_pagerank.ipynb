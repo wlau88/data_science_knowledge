{
 "cells": [
  {
   "cell_type": "code",
   "execution_count": 1,
   "metadata": {
    "collapsed": true
   },
   "outputs": [],
   "source": [
    "import numpy as np\n",
    "import matplotlib.pyplot as plt\n",
    "%matplotlib inline"
   ]
  },
  {
   "cell_type": "markdown",
   "metadata": {},
   "source": [
    "##Similarity measures (Euclidean distance and cosine similarity)"
   ]
  },
  {
   "cell_type": "code",
   "execution_count": 2,
   "metadata": {
    "collapsed": false
   },
   "outputs": [
    {
     "name": "stdout",
     "output_type": "stream",
     "text": [
      "1.5\n"
     ]
    }
   ],
   "source": [
    "def euclidean_dist(x, y):\n",
    "    if x.shape != y.shape:\n",
    "        return 'Wrong shape'\n",
    "    elif x.shape[0] == 1 or y.shape[0] == 1:\n",
    "        return 'Column vectors needed'\n",
    "    else:\n",
    "        d = x - y\n",
    "        return np.linalg.norm(d)\n",
    "        \n",
    "print euclidean_dist(np.array([[1], [1], [1]]),np.array([[0], [0], [0.5]]))"
   ]
  },
  {
   "cell_type": "code",
   "execution_count": 3,
   "metadata": {
    "collapsed": false
   },
   "outputs": [
    {
     "name": "stdout",
     "output_type": "stream",
     "text": [
      "0.57735026919\n"
     ]
    }
   ],
   "source": [
    "def cosine_sim(x, y):\n",
    "    if x.shape != y.shape:\n",
    "        return 'Wrong shape'\n",
    "    elif x.shape[0] == 1 or y.shape[0] == 1:\n",
    "        return 'Column vectors needed'\n",
    "    else:\n",
    "        x = x.transpose()\n",
    "        y = y.transpose()\n",
    "        return float(np.inner(x,y)/(np.linalg.norm(x)*np.linalg.norm(y)))\n",
    "    \n",
    "print cosine_sim(np.array([[0], [0], [0.5]]),np.array([[1], [1], [1]]))"
   ]
  },
  {
   "cell_type": "code",
   "execution_count": 4,
   "metadata": {
    "collapsed": false
   },
   "outputs": [],
   "source": [
    "def compute_dist(data, function):\n",
    "    '''\n",
    "    loops through a matrix (data) and find the distance metric between points\n",
    "    '''\n",
    "    lst = []\n",
    "    mean = []\n",
    "    n = data.shape[0] #no. of rows\n",
    "    p = data.shape[1] #no. of columns\n",
    "    \n",
    "    for i in range(p): #loop through each column and compute mean vector\n",
    "        mean.append(np.mean(data[:,i]))\n",
    "    mean = np.array(mean).reshape(p,1)\n",
    "    \n",
    "    for i in range(n):\n",
    "        lst.append(function(data[i,:].reshape(p,1), mean))\n",
    "    \n",
    "    return np.array(lst).reshape(n,1)"
   ]
  },
  {
   "cell_type": "code",
   "execution_count": 5,
   "metadata": {
    "collapsed": false
   },
   "outputs": [
    {
     "data": {
      "text/plain": [
       "[<matplotlib.lines.Line2D at 0x107821910>]"
      ]
     },
     "execution_count": 5,
     "metadata": {},
     "output_type": "execute_result"
    },
    {
     "data": {
      "image/png": "[encoded data removed]",
      "text/plain": [
       "<matplotlib.figure.Figure at 0x1061a7590>"
      ]
     },
     "metadata": {},
     "output_type": "display_data"
    }
   ],
   "source": [
    "#Visualizing similarity measures of Iris dataset\n",
    "from sklearn import datasets\n",
    "\n",
    "# The 1st column is sepal length and the 2nd column is sepal width\n",
    "sepalLength_sepalWidth = datasets.load_iris().data[:, :2]\n",
    "length = sepalLength_sepalWidth[:,0]\n",
    "width = sepalLength_sepalWidth[:,1]\n",
    "plt.scatter(width, length)\n",
    "mean_l = np.mean(length) #the mean vector\n",
    "mean_w = np.mean(width)\n",
    "plt.plot(mean_w, mean_l, 'rx', markersize=13)"
   ]
  },
  {
   "cell_type": "code",
   "execution_count": 6,
   "metadata": {
    "collapsed": false
   },
   "outputs": [
    {
     "data": {
      "text/plain": [
       "(array([  2.,   2.,   4.,   3.,   8.,  13.,  14.,  11.,  30.,  63.]),\n",
       " array([ 0.98273978,  0.98446576,  0.98619174,  0.98791772,  0.9896437 ,\n",
       "         0.99136968,  0.99309566,  0.99482164,  0.99654762,  0.9982736 ,\n",
       "         0.99999958]),\n",
       " <a list of 10 Patch objects>)"
      ]
     },
     "execution_count": 6,
     "metadata": {},
     "output_type": "execute_result"
    },
    {
     "data": {
      "image/png": "[encoded data removed]",
      "text/plain": [
       "<matplotlib.figure.Figure at 0x106187750>"
      ]
     },
     "metadata": {},
     "output_type": "display_data"
    }
   ],
   "source": [
    "euclidean_dists = compute_dist(sepalLength_sepalWidth, euclidean_dist)\n",
    "cosine_sims = compute_dist(sepalLength_sepalWidth, cosine_sim)\n",
    "plt.subplot(2,1,1)\n",
    "plt.hist(euclidean_dists)\n",
    "plt.subplot(2,1,2)\n",
    "plt.hist(cosine_sims)"
   ]
  },
  {
   "cell_type": "markdown",
   "metadata": {},
   "source": [
    "##Implementing PageRank \n",
    "\n",
    "The following implements pagerank of the below graph.\n",
    "\n",
    "   <div align=\"center\">\n",
    "    <img src=\"images/pageweb.png\">\n",
    "   </div>"
   ]
  },
  {
   "cell_type": "markdown",
   "metadata": {},
   "source": [
    "####Transition Matrix"
   ]
  },
  {
   "cell_type": "code",
   "execution_count": 7,
   "metadata": {
    "collapsed": false
   },
   "outputs": [],
   "source": [
    "LETTERS = \"ABCDE\"\n",
    "trans = np.array([[0,1,0,0,0],[1/2.,0,1/2.,0,0],[1/3.,1/3.,0,0,1/3.],[1,0,0,0,0],[0,1/3.,1/3.,1/3.,0]])"
   ]
  },
  {
   "cell_type": "markdown",
   "metadata": {},
   "source": [
    "####Initial vector"
   ]
  },
  {
   "cell_type": "code",
   "execution_count": 8,
   "metadata": {
    "collapsed": false
   },
   "outputs": [],
   "source": [
    "x = np.array([[1/5.,1/5.,1/5.,1/5.,1/5.]])"
   ]
  },
  {
   "cell_type": "markdown",
   "metadata": {},
   "source": [
    "####One step"
   ]
  },
  {
   "cell_type": "code",
   "execution_count": 9,
   "metadata": {
    "collapsed": false
   },
   "outputs": [
    {
     "data": {
      "text/plain": [
       "array([[ 0.36666667,  0.33333333,  0.16666667,  0.06666667,  0.06666667]])"
      ]
     },
     "execution_count": 9,
     "metadata": {},
     "output_type": "execute_result"
    }
   ],
   "source": [
    "np.dot(x,trans)"
   ]
  },
  {
   "cell_type": "markdown",
   "metadata": {},
   "source": [
    "####Showing probabilities over time and computing stationary distribution using eigenvectors"
   ]
  },
  {
   "cell_type": "code",
   "execution_count": 10,
   "metadata": {
    "collapsed": false
   },
   "outputs": [
    {
     "data": {
      "text/plain": [
       "<matplotlib.figure.Figure at 0x104419850>"
      ]
     },
     "metadata": {},
     "output_type": "display_data"
    }
   ],
   "source": [
    "fig = plt.figure(1, figsize=(20,20))\n",
    "#initialize the original state, equal probabilities over all states\n",
    "states = np.repeat(1./len(trans), len(trans))"
   ]
  },
  {
   "cell_type": "code",
   "execution_count": 11,
   "metadata": {
    "collapsed": false,
    "scrolled": true
   },
   "outputs": [
    {
     "data": {
      "image/png": "[encoded data removed]",
      "text/plain": [
       "<matplotlib.figure.Figure at 0x107a75f90>"
      ]
     },
     "metadata": {},
     "output_type": "display_data"
    }
   ],
   "source": [
    "#showing the distribution of states over time in the first 10 steps\n",
    "for i in range(1, 11):\n",
    "    plt.subplot(2, 5, i)\n",
    "    plt.bar(range(5), states)\n",
    "    plt.xticks(np.arange(5) + .5, [char for char in LETTERS])\n",
    "    plt.ylim(0, .6)\n",
    "    plt.title(\"Step \" + str(i))\n",
    "    states = states.dot(trans)\n",
    "    \n",
    "plt.show()"
   ]
  },
  {
   "cell_type": "code",
   "execution_count": 12,
   "metadata": {
    "collapsed": false
   },
   "outputs": [],
   "source": [
    "#computing the stationary distribution by calculating eigenvectors\n",
    "#np.linalg.eig compute the eigenvalues and right eigenvectors of a square array\n",
    "eigenvalues, eigenvectors = np.linalg.eig(trans.transpose())"
   ]
  },
  {
   "cell_type": "code",
   "execution_count": 13,
   "metadata": {
    "collapsed": false
   },
   "outputs": [],
   "source": [
    "left_eigvector = np.absolute(eigenvectors)[:,0] \n",
    "#stationary state is represented by the left first eigenvector"
   ]
  },
  {
   "cell_type": "code",
   "execution_count": 14,
   "metadata": {
    "collapsed": false
   },
   "outputs": [
    {
     "data": {
      "text/plain": [
       "array([ 0.29268293,  0.3902439 ,  0.2195122 ,  0.02439024,  0.07317073])"
      ]
     },
     "execution_count": 14,
     "metadata": {},
     "output_type": "execute_result"
    }
   ],
   "source": [
    "left_eigvector/left_eigvector.sum() \n",
    "#normalized to get the probability of the most likely state\n",
    "#i.e. B is the most likely"
   ]
  }
 ],
 "metadata": {
  "kernelspec": {
   "display_name": "Python 2",
   "language": "python",
   "name": "python2"
  },
  "language_info": {
   "codemirror_mode": {
    "name": "ipython",
    "version": 2
   },
   "file_extension": ".py",
   "mimetype": "text/x-python",
   "name": "python",
   "nbconvert_exporter": "python",
   "pygments_lexer": "ipython2",
   "version": "2.7.10"
  }
 },
 "nbformat": 4,
 "nbformat_minor": 0
}
