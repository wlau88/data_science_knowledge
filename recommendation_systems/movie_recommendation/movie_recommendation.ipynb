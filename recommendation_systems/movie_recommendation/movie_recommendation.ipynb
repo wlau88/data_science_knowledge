{
 "cells": [
  {
   "cell_type": "code",
   "execution_count": 1,
   "metadata": {
    "collapsed": false
   },
   "outputs": [],
   "source": [
    "import matplotlib.pyplot as plt\n",
    "%matplotlib inline\n",
    "import numpy as np\n",
    "import scipy.sparse as ss\n",
    "import pandas as pd\n",
    "from matrixfactorization import MatrixFactorizationRec"
   ]
  },
  {
   "cell_type": "code",
   "execution_count": 2,
   "metadata": {
    "collapsed": false
   },
   "outputs": [],
   "source": [
    "def initialize(file_name,cols,num_movies,num_users,header=True):\n",
    "\n",
    "    if header:\n",
    "        skip = 1\n",
    "    else:\n",
    "        skip = 0\n",
    "    movies = np.loadtxt(file_name, delimiter=',',skiprows=skip,usecols=cols)\n",
    "    print type(movies)\n",
    "    \n",
    "    global_mean = np.mean(movies[:,2])\n",
    "    global_var = np.var(movies[:,2])\n",
    "\n",
    "    all_movies = np.unique(movies[:,1])\n",
    "    movie_averages = np.zeros(num_movies)\n",
    "    all_users = np.unique(movies[:,0])\n",
    "    user_bias = np.zeros(num_users)\n",
    "    \n",
    "    \n",
    "    # Movie baseline prediction\n",
    "\n",
    "    for movie in all_movies:\n",
    "        ratings = movies[movies[:,1]==movie,2]\n",
    "        movie_var = np.var(ratings)\n",
    "        k = movie_var/global_var\n",
    "        movie_averages[movie-1] = (global_mean*k + ratings.sum())/(k + ratings.shape[0])\n",
    "    movie_averages[movie_averages==0] = global_mean\n",
    "\n",
    "    # User bias baseline prediction\n",
    "    # (bias = users avg rating - global avg rating)\n",
    "\n",
    "    for user in all_users:\n",
    "        user_ratings = movies[movies[:,0]==user,2]\n",
    "        user_avg = np.mean(user_ratings)\n",
    "        user_bias[user-1] = user_avg - global_mean\n",
    "\n",
    "    return movies,user_bias,movie_averages"
   ]
  },
  {
   "cell_type": "code",
   "execution_count": 3,
   "metadata": {
    "collapsed": false
   },
   "outputs": [
    {
     "name": "stdout",
     "output_type": "stream",
     "text": [
      "<type 'numpy.ndarray'>\n"
     ]
    }
   ],
   "source": [
    "ratings,bias,movie_averages = initialize('data/training_ratings_for_kaggle_comp.csv',(0,1,2),3952,6040)\n",
    "### movies columns (user_id,movie_id,rating)"
   ]
  },
  {
   "cell_type": "code",
   "execution_count": 4,
   "metadata": {
    "collapsed": false
   },
   "outputs": [
    {
     "data": {
      "text/plain": [
       "array([ 2783.,   589.,     5.])"
      ]
     },
     "execution_count": 4,
     "metadata": {},
     "output_type": "execute_result"
    }
   ],
   "source": [
    "ratings[1,:]"
   ]
  },
  {
   "cell_type": "code",
   "execution_count": 5,
   "metadata": {
    "collapsed": false
   },
   "outputs": [
    {
     "data": {
      "text/plain": [
       "array([ 0.        ,  0.        ,  0.        , ...,  0.19777644,\n",
       "        0.27582523, -0.0581984 ])"
      ]
     },
     "execution_count": 5,
     "metadata": {},
     "output_type": "execute_result"
    }
   ],
   "source": [
    "bias"
   ]
  },
  {
   "cell_type": "code",
   "execution_count": 6,
   "metadata": {
    "collapsed": false
   },
   "outputs": [
    {
     "data": {
      "text/plain": [
       "array([ 3.23153168,  2.98056173,  2.77824185,  2.96398931])"
      ]
     },
     "execution_count": 6,
     "metadata": {},
     "output_type": "execute_result"
    }
   ],
   "source": [
    "movie_averages[1:5]"
   ]
  },
  {
   "cell_type": "code",
   "execution_count": 7,
   "metadata": {
    "collapsed": false
   },
   "outputs": [],
   "source": [
    "mfr = MatrixFactorizationRec(30,0.001,0.02)"
   ]
  },
  {
   "cell_type": "code",
   "execution_count": 8,
   "metadata": {
    "collapsed": false
   },
   "outputs": [
    {
     "name": "stdout",
     "output_type": "stream",
     "text": [
      "0 , 428728.003057 , -100.0\n",
      "100000 , 428405.787464 , 0.0752127077796\n",
      "200000 , 428099.590248 , 0.0715247624967\n",
      "300000 , 427809.894242 , 0.0677160605328\n",
      "400000 , 427530.546606 , 0.0653398073593\n",
      "500000 , 427274.027551 , 0.0600361918285\n",
      "600000 , 427021.648621 , 0.059102139431\n",
      "700000 , 426781.586719 , 0.0562493578922\n",
      "800000 , 426550.473365 , 0.0541819475692\n",
      "900000 , 426331.29397 , 0.0514105809558\n",
      "1000000 , 426116.26254 , 0.0504630891691\n",
      "1100000 , 425912.570601 , 0.047824824561\n",
      "1200000 , 425720.026748 , 0.0452278118283\n",
      "1300000 , 425529.402047 , 0.0447970692511\n",
      "1400000 , 425341.547125 , 0.0441656649521\n",
      "1500000 , 425160.78296 , 0.0425166601011\n",
      "1600000 , 424985.573383 , 0.041227182173\n",
      "1700000 , 424820.927846 , 0.0387564563363\n",
      "1800000 , 424657.591959 , 0.0384629615799\n",
      "1900000 , 424500.811119 , 0.0369329894509\n",
      "2000000 , 424349.427965 , 0.0356741743168\n",
      "2100000 , 424199.086874 , 0.0354411632929\n",
      "2200000 , 424052.233242 , 0.0346310242538\n",
      "2300000 , 423906.82007 , 0.0343030980557\n",
      "2400000 , 423769.121643 , 0.0324937377938\n",
      "2500000 , 423632.513135 , 0.0322469366129\n",
      "2600000 , 423498.889968 , 0.0315521882259\n",
      "2700000 , 423369.402138 , 0.0305850704905\n",
      "2800000 , 423240.634736 , 0.0304241585057\n",
      "2900000 , 423110.010436 , 0.0308724201815\n",
      "3000000 , 422990.134129 , 0.0283402134383\n",
      "3100000 , 422869.65139 , 0.0284916968079\n",
      "3200000 , 422748.748556 , 0.0285992174066\n",
      "3300000 , 422638.566345 , 0.0260700798053\n",
      "3400000 , 422520.13469 , 0.0280298250947\n",
      "3500000 , 422406.878734 , 0.0268120529734\n",
      "3600000 , 422292.753282 , 0.0270251979475\n",
      "3700000 , 422182.397069 , 0.0261394633145\n",
      "3800000 , 422075.332697 , 0.0253661761007\n"
     ]
    },
    {
     "ename": "KeyboardInterrupt",
     "evalue": "",
     "output_type": "error",
     "traceback": [
      "\u001b[0;31m---------------------------------------------------------------------------\u001b[0m",
      "\u001b[0;31mKeyboardInterrupt\u001b[0m                         Traceback (most recent call last)",
      "\u001b[0;32m<ipython-input-8-59c4d79a6530>\u001b[0m in \u001b[0;36m<module>\u001b[0;34m()\u001b[0m\n\u001b[0;32m----> 1\u001b[0;31m \u001b[0mmfr\u001b[0m\u001b[0;34m.\u001b[0m\u001b[0mfit\u001b[0m\u001b[0;34m(\u001b[0m\u001b[0mratings\u001b[0m\u001b[0;34m,\u001b[0m \u001b[0mmovie_averages\u001b[0m\u001b[0;34m,\u001b[0m \u001b[0mbias\u001b[0m\u001b[0;34m)\u001b[0m\u001b[0;34m\u001b[0m\u001b[0m\n\u001b[0m",
      "\u001b[0;32m/Users/Warren/GitHub/recommender-case-study/matrixfactorizationrec.py\u001b[0m in \u001b[0;36mfit\u001b[0;34m(self, ratings_mat, avg_movie_ratings, user_bias, n, tol)\u001b[0m\n\u001b[1;32m     49\u001b[0m                 \u001b[0mmv\u001b[0m \u001b[0;34m=\u001b[0m \u001b[0mcol\u001b[0m\u001b[0;34m[\u001b[0m\u001b[0mk\u001b[0m\u001b[0;34m]\u001b[0m\u001b[0;34m\u001b[0m\u001b[0m\n\u001b[1;32m     50\u001b[0m                 \u001b[0mself\u001b[0m\u001b[0;34m.\u001b[0m\u001b[0muser_mat\u001b[0m\u001b[0;34m[\u001b[0m\u001b[0mi\u001b[0m\u001b[0;34m,\u001b[0m\u001b[0mk\u001b[0m\u001b[0;34m]\u001b[0m \u001b[0;34m+=\u001b[0m \u001b[0mself\u001b[0m\u001b[0;34m.\u001b[0m\u001b[0mlearning_rate\u001b[0m \u001b[0;34m*\u001b[0m \u001b[0;34m(\u001b[0m\u001b[0merr\u001b[0m \u001b[0;34m*\u001b[0m \u001b[0mmv\u001b[0m \u001b[0;34m-\u001b[0m \u001b[0mself\u001b[0m\u001b[0;34m.\u001b[0m\u001b[0mgamma\u001b[0m \u001b[0;34m*\u001b[0m \u001b[0muv\u001b[0m\u001b[0;34m)\u001b[0m\u001b[0;34m\u001b[0m\u001b[0m\n\u001b[0;32m---> 51\u001b[0;31m                 \u001b[0mself\u001b[0m\u001b[0;34m.\u001b[0m\u001b[0mmovie_mat\u001b[0m\u001b[0;34m[\u001b[0m\u001b[0mk\u001b[0m\u001b[0;34m,\u001b[0m\u001b[0mj\u001b[0m\u001b[0;34m]\u001b[0m \u001b[0;34m+=\u001b[0m \u001b[0mself\u001b[0m\u001b[0;34m.\u001b[0m\u001b[0mlearning_rate\u001b[0m \u001b[0;34m*\u001b[0m \u001b[0;34m(\u001b[0m\u001b[0merr\u001b[0m \u001b[0;34m*\u001b[0m \u001b[0muv\u001b[0m \u001b[0;34m-\u001b[0m \u001b[0mself\u001b[0m\u001b[0;34m.\u001b[0m\u001b[0mgamma\u001b[0m \u001b[0;34m*\u001b[0m \u001b[0mmv\u001b[0m\u001b[0;34m)\u001b[0m\u001b[0;34m\u001b[0m\u001b[0m\n\u001b[0m\u001b[1;32m     52\u001b[0m             \u001b[0;31m# check error every n loops\u001b[0m\u001b[0;34m\u001b[0m\u001b[0;34m\u001b[0m\u001b[0m\n\u001b[1;32m     53\u001b[0m             \u001b[0;32mif\u001b[0m \u001b[0;34m(\u001b[0m\u001b[0miterations\u001b[0m \u001b[0;34m%\u001b[0m \u001b[0mn\u001b[0m \u001b[0;34m==\u001b[0m \u001b[0;36m0\u001b[0m\u001b[0;34m)\u001b[0m\u001b[0;34m:\u001b[0m\u001b[0;34m\u001b[0m\u001b[0m\n",
      "\u001b[0;31mKeyboardInterrupt\u001b[0m: "
     ]
    }
   ],
   "source": [
    "mfr.fit(ratings, movie_averages, bias)"
   ]
  },
  {
   "cell_type": "code",
   "execution_count": 9,
   "metadata": {
    "collapsed": false
   },
   "outputs": [
    {
     "data": {
      "text/plain": [
       "array([ 4.14776508,  3.3061175 ,  3.06619199, ...,  3.68242466,\n",
       "        3.68296147,  4.04829151])"
      ]
     },
     "execution_count": 9,
     "metadata": {},
     "output_type": "execute_result"
    }
   ],
   "source": [
    "mfr.pred_one_user(15)"
   ]
  },
  {
   "cell_type": "code",
   "execution_count": null,
   "metadata": {
    "collapsed": true
   },
   "outputs": [],
   "source": []
  }
 ],
 "metadata": {
  "kernelspec": {
   "display_name": "Python 2",
   "language": "python",
   "name": "python2"
  },
  "language_info": {
   "codemirror_mode": {
    "name": "ipython",
    "version": 2
   },
   "file_extension": ".py",
   "mimetype": "text/x-python",
   "name": "python",
   "nbconvert_exporter": "python",
   "pygments_lexer": "ipython2",
   "version": "2.7.10"
  }
 },
 "nbformat": 4,
 "nbformat_minor": 0
}
