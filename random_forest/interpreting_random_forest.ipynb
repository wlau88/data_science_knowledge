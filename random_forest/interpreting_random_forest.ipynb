{
 "cells": [
  {
   "cell_type": "markdown",
   "metadata": {},
   "source": [
    "### Accuracy"
   ]
  },
  {
   "cell_type": "markdown",
   "metadata": {},
   "source": [
    "#### Regression Tree"
   ]
  },
  {
   "cell_type": "code",
   "execution_count": 4,
   "metadata": {
    "collapsed": false
   },
   "outputs": [
    {
     "name": "stdout",
     "output_type": "stream",
     "text": [
      "22.3286112218\n"
     ]
    }
   ],
   "source": [
    "from sklearn.tree import DecisionTreeRegressor\n",
    "from sklearn.datasets import load_boston\n",
    "from sklearn.cross_validation import cross_val_score\n",
    "from sklearn.cross_validation import train_test_split\n",
    "from sklearn.grid_search import GridSearchCV\n",
    "\n",
    "# Load Boston data\n",
    "data = load_boston()\n",
    "\n",
    "# Split into test/train\n",
    "X_train, X_test, y_train, y_test = train_test_split(data.data, data.target, \n",
    "                                                    test_size=.33,\n",
    "                                                    random_state=0)\n",
    "\n",
    "# Parameter Search                                                    \n",
    "model = DecisionTreeRegressor()\n",
    "depth_parm = np.linspace(1,12,12)\n",
    "num_samples_parm = np.linspace(5,100,20)\n",
    "parameters = {'max_depth' : depth_parm,\n",
    "             'min_samples_leaf' : num_samples_parm}\n",
    "regressor = GridSearchCV(model, parameters, scoring = 'mean_squared_error', cv=10)\n",
    "regressor.fit(X_train,y_train)\n",
    "\n",
    "                                                    \n",
    "# Test Prediction\n",
    "pred = regressor.predict(X_test)\n",
    "mse = np.mean((y_test - pred)**2)\n",
    "print mse\n"
   ]
  },
  {
   "cell_type": "markdown",
   "metadata": {},
   "source": [
    "#### Random Forest"
   ]
  },
  {
   "cell_type": "code",
   "execution_count": 5,
   "metadata": {
    "collapsed": false
   },
   "outputs": [
    {
     "data": {
      "text/plain": [
       "13.89879735479048"
      ]
     },
     "execution_count": 5,
     "metadata": {},
     "output_type": "execute_result"
    }
   ],
   "source": [
    "from sklearn.ensemble import RandomForestRegressor\n",
    "from sklearn.datasets import load_boston\n",
    "from sklearn.cross_validation import train_test_split\n",
    "\n",
    "# Load Boston data\n",
    "data = load_boston()\n",
    "\n",
    "# Split into test/train\n",
    "X_train, X_test, y_train, y_test = train_test_split(data.data, \n",
    "                                                    data.target, \n",
    "                                                    test_size=.33,\n",
    "                                                    random_state=0)\n",
    "\n",
    "# Train and fit model                                                   \n",
    "rf = RandomForestRegressor(n_estimators=1000,\n",
    "                                  max_features='auto',\n",
    "                                  oob_score=True,\n",
    "                                  random_state=0)\n",
    "rf.fit(X_train,y_train)\n",
    "\n",
    "                                                    \n",
    "# Test Prediction\n",
    "pred = rf.predict(X_test)\n",
    "mse = np.mean((y_test - pred)**2)\n",
    "mse"
   ]
  },
  {
   "cell_type": "markdown",
   "metadata": {},
   "source": [
    "37% reduction in MSE"
   ]
  },
  {
   "cell_type": "markdown",
   "metadata": {},
   "source": [
    "### Random Forest Interpretation"
   ]
  },
  {
   "cell_type": "markdown",
   "metadata": {},
   "source": [
    "#### Mean Decrease Impurity"
   ]
  },
  {
   "cell_type": "code",
   "execution_count": 6,
   "metadata": {
    "collapsed": false
   },
   "outputs": [
    {
     "data": {
      "text/plain": [
       "<matplotlib.axes._subplots.AxesSubplot at 0x10b3e5c90>"
      ]
     },
     "execution_count": 6,
     "metadata": {},
     "output_type": "execute_result"
    },
    {
     "data": {
      "image/png": "[encoded data removed]",
      "text/plain": [
       "<matplotlib.figure.Figure at 0x10b3e58d0>"
      ]
     },
     "metadata": {},
     "output_type": "display_data"
    }
   ],
   "source": [
    "import numpy as np\n",
    "import pandas as pd\n",
    "\n",
    "# Plot the feature importance\n",
    "feat_scores = pd.DataFrame({'Mean Decrease Impurity' : rf.feature_importances_},\n",
    "                           index=data.feature_names)\n",
    "feat_scores = feat_scores.sort('Mean Decrease Impurity')\n",
    "feat_scores.plot(kind='barh')"
   ]
  },
  {
   "cell_type": "markdown",
   "metadata": {},
   "source": [
    "#### Mean Decrease Accuracy"
   ]
  },
  {
   "cell_type": "code",
   "execution_count": 12,
   "metadata": {
    "collapsed": true
   },
   "outputs": [],
   "source": [
    "from sklearn.ensemble import RandomForestRegressor \n",
    "from sklearn.cross_validation import ShuffleSplit\n",
    "from sklearn.metrics import r2_score\n",
    "from collections import defaultdict\n",
    "\n",
    " \n",
    "boston = load_boston()   \n",
    "names = boston.feature_names\n",
    "X = boston[\"data\"]\n",
    "Y = boston[\"target\"]\n",
    " "
   ]
  },
  {
   "cell_type": "code",
   "execution_count": 7,
   "metadata": {
    "collapsed": false
   },
   "outputs": [
    {
     "data": {
      "text/plain": [
       "<matplotlib.axes._subplots.AxesSubplot at 0x1083ee090>"
      ]
     },
     "execution_count": 7,
     "metadata": {},
     "output_type": "execute_result"
    },
    {
     "data": {
      "image/png": "[encoded data removed]",
      "text/plain": [
       "<matplotlib.figure.Figure at 0x1083ee850>"
      ]
     },
     "metadata": {},
     "output_type": "display_data"
    }
   ],
   "source": [
    "rf = RandomForestRegressor()\n",
    "scores = defaultdict(list)\n",
    " \n",
    "# crossvalidate the scores on a number of \n",
    "# different random splits of the data\n",
    "for train_idx, test_idx in ShuffleSplit(len(X), 100, .3):\n",
    "    X_train, X_test = X[train_idx], X[test_idx]\n",
    "    Y_train, Y_test = Y[train_idx], Y[test_idx]\n",
    "    r = rf.fit(X_train, Y_train)\n",
    "    acc = r2_score(Y_test, rf.predict(X_test))\n",
    "    for i in range(X.shape[1]):\n",
    "        X_t = X_test.copy()\n",
    "        np.random.shuffle(X_t[:, i])\n",
    "        shuff_acc = r2_score(Y_test, rf.predict(X_t))\n",
    "        scores[names[i]].append((acc-shuff_acc)/acc)\n",
    "\n",
    "score_series = pd.DataFrame(scores).mean()\n",
    "scores = pd.DataFrame({'Mean Decrease Accuracy' : score_series})\n",
    "scores.sort('Mean Decrease Accuracy').plot(kind='barh')"
   ]
  },
  {
   "cell_type": "markdown",
   "metadata": {},
   "source": [
    "##Visualizing the data"
   ]
  },
  {
   "cell_type": "code",
   "execution_count": 37,
   "metadata": {
    "collapsed": false
   },
   "outputs": [
    {
     "data": {
      "text/plain": [
       "<matplotlib.text.Text at 0x10c6f0410>"
      ]
     },
     "execution_count": 37,
     "metadata": {},
     "output_type": "execute_result"
    },
    {
     "data": {
      "image/png": "[encoded data removed]",
      "text/plain": [
       "<matplotlib.figure.Figure at 0x10c6ce910>"
      ]
     },
     "metadata": {},
     "output_type": "display_data"
    }
   ],
   "source": [
    "import seaborn\n",
    "\n",
    "df = pd.DataFrame(X, columns = names)\n",
    "targ = pd.Series(Y, name='Price')\n",
    "lstat_disc = pd.qcut(df.LSTAT,10,retbins=False)\n",
    "\n",
    "rm_disc = pd.qcut(df.RM, 10)\n",
    "pre_agg = pd.DataFrame({'LSTAT' : lstat_disc,\n",
    "                        'RM' : rm_disc,\n",
    "                        'Price' : Y})\n",
    "\n",
    "# Total Counts\n",
    "agg = pre_agg.groupby(['LSTAT','RM']).apply(len)\n",
    "idx = np.roll(range(10),1)\n",
    "seaborn.heatmap(agg.ix[lstat_disc.cat.categories].unstack().ix[:,idx])\n",
    "plt.title('Total Counts in each bin')"
   ]
  },
  {
   "cell_type": "code",
   "execution_count": 44,
   "metadata": {
    "collapsed": false
   },
   "outputs": [
    {
     "data": {
      "text/plain": [
       "0     (4, 5]\n",
       "1        NaN\n",
       "2     (4, 5]\n",
       "3     (2, 3]\n",
       "4     (5, 6]\n",
       "5     (5, 6]\n",
       "6        NaN\n",
       "7        NaN\n",
       "8        NaN\n",
       "9        NaN\n",
       "10       NaN\n",
       "11       NaN\n",
       "12       NaN\n",
       "13    (8, 9]\n",
       "14       NaN\n",
       "...\n",
       "491       NaN\n",
       "492       NaN\n",
       "493       NaN\n",
       "494       NaN\n",
       "495       NaN\n",
       "496       NaN\n",
       "497       NaN\n",
       "498       NaN\n",
       "499       NaN\n",
       "500       NaN\n",
       "501       NaN\n",
       "502       NaN\n",
       "503    (5, 6]\n",
       "504    (6, 7]\n",
       "505    (7, 8]\n",
       "Name: LSTAT, Length: 506, dtype: category\n",
       "Categories (9, object): [(0, 1] < (1, 2] < (2, 3] < (3, 4] ... (5, 6] < (6, 7] < (7, 8] < (8, 9]]"
      ]
     },
     "execution_count": 44,
     "metadata": {},
     "output_type": "execute_result"
    }
   ],
   "source": [
    "pd.cut(df.LSTAT, np.arange(10))"
   ]
  },
  {
   "cell_type": "code",
   "execution_count": 40,
   "metadata": {
    "collapsed": true
   },
   "outputs": [],
   "source": [
    "lstat_disc = pd.qcut(df.LSTAT,10,retbins=False)"
   ]
  },
  {
   "cell_type": "code",
   "execution_count": 41,
   "metadata": {
    "collapsed": false
   },
   "outputs": [
    {
     "data": {
      "text/html": [
       "<div style=\"max-height:1000px;max-width:1500px;overflow:auto;\">\n",
       "<table border=\"1\" class=\"dataframe\">\n",
       "  <thead>\n",
       "    <tr style=\"text-align: right;\">\n",
       "      <th>RM</th>\n",
       "      <th>(5.594, 5.837]</th>\n",
       "      <th>(5.837, 5.95]</th>\n",
       "      <th>(5.95, 6.086]</th>\n",
       "      <th>(6.086, 6.208]</th>\n",
       "      <th>(6.208, 6.376]</th>\n",
       "      <th>(6.376, 6.503]</th>\n",
       "      <th>(6.503, 6.75]</th>\n",
       "      <th>(6.75, 7.152]</th>\n",
       "      <th>(7.152, 8.78]</th>\n",
       "      <th>[3.561, 5.594]</th>\n",
       "    </tr>\n",
       "    <tr>\n",
       "      <th>LSTAT</th>\n",
       "      <th></th>\n",
       "      <th></th>\n",
       "      <th></th>\n",
       "      <th></th>\n",
       "      <th></th>\n",
       "      <th></th>\n",
       "      <th></th>\n",
       "      <th></th>\n",
       "      <th></th>\n",
       "      <th></th>\n",
       "    </tr>\n",
       "  </thead>\n",
       "  <tbody>\n",
       "    <tr>\n",
       "      <th>[1.73, 4.68]</th>\n",
       "      <td>NaN</td>\n",
       "      <td>NaN</td>\n",
       "      <td>NaN</td>\n",
       "      <td>NaN</td>\n",
       "      <td>  1</td>\n",
       "      <td> 1</td>\n",
       "      <td>  7</td>\n",
       "      <td> 15</td>\n",
       "      <td> 26</td>\n",
       "      <td>  1</td>\n",
       "    </tr>\n",
       "    <tr>\n",
       "      <th>(4.68, 6.29]</th>\n",
       "      <td>NaN</td>\n",
       "      <td>  1</td>\n",
       "      <td>  1</td>\n",
       "      <td>  2</td>\n",
       "      <td>  6</td>\n",
       "      <td> 7</td>\n",
       "      <td> 10</td>\n",
       "      <td> 13</td>\n",
       "      <td> 11</td>\n",
       "      <td>NaN</td>\n",
       "    </tr>\n",
       "    <tr>\n",
       "      <th>(6.29, 7.765]</th>\n",
       "      <td>NaN</td>\n",
       "      <td>  1</td>\n",
       "      <td>  2</td>\n",
       "      <td>  4</td>\n",
       "      <td> 10</td>\n",
       "      <td> 5</td>\n",
       "      <td> 12</td>\n",
       "      <td>  7</td>\n",
       "      <td>  8</td>\n",
       "      <td>  1</td>\n",
       "    </tr>\n",
       "    <tr>\n",
       "      <th>(7.765, 9.53]</th>\n",
       "      <td>  2</td>\n",
       "      <td>  9</td>\n",
       "      <td>  6</td>\n",
       "      <td>  8</td>\n",
       "      <td>  4</td>\n",
       "      <td> 9</td>\n",
       "      <td>  7</td>\n",
       "      <td>  4</td>\n",
       "      <td>  2</td>\n",
       "      <td>NaN</td>\n",
       "    </tr>\n",
       "    <tr>\n",
       "      <th>(9.53, 11.36]</th>\n",
       "      <td>  5</td>\n",
       "      <td>  6</td>\n",
       "      <td> 10</td>\n",
       "      <td>  4</td>\n",
       "      <td> 10</td>\n",
       "      <td> 4</td>\n",
       "      <td>  5</td>\n",
       "      <td>  2</td>\n",
       "      <td>  2</td>\n",
       "      <td>  2</td>\n",
       "    </tr>\n",
       "    <tr>\n",
       "      <th>(11.36, 13.33]</th>\n",
       "      <td>  7</td>\n",
       "      <td>  7</td>\n",
       "      <td>  8</td>\n",
       "      <td>  8</td>\n",
       "      <td>  7</td>\n",
       "      <td> 5</td>\n",
       "      <td>  1</td>\n",
       "      <td>  2</td>\n",
       "      <td>NaN</td>\n",
       "      <td>  6</td>\n",
       "    </tr>\n",
       "    <tr>\n",
       "      <th>(13.33, 15.62]</th>\n",
       "      <td> 10</td>\n",
       "      <td>  8</td>\n",
       "      <td> 10</td>\n",
       "      <td>  9</td>\n",
       "      <td>  4</td>\n",
       "      <td> 4</td>\n",
       "      <td>NaN</td>\n",
       "      <td>  1</td>\n",
       "      <td>  1</td>\n",
       "      <td>  3</td>\n",
       "    </tr>\n",
       "    <tr>\n",
       "      <th>(15.62, 18.06]</th>\n",
       "      <td> 13</td>\n",
       "      <td>  9</td>\n",
       "      <td>  7</td>\n",
       "      <td>  3</td>\n",
       "      <td>  8</td>\n",
       "      <td> 3</td>\n",
       "      <td>  3</td>\n",
       "      <td>  1</td>\n",
       "      <td>  1</td>\n",
       "      <td>  3</td>\n",
       "    </tr>\n",
       "    <tr>\n",
       "      <th>(18.06, 23.035]</th>\n",
       "      <td> 11</td>\n",
       "      <td>  3</td>\n",
       "      <td>  6</td>\n",
       "      <td>  7</td>\n",
       "      <td>  2</td>\n",
       "      <td> 7</td>\n",
       "      <td>  4</td>\n",
       "      <td>  4</td>\n",
       "      <td>NaN</td>\n",
       "      <td>  6</td>\n",
       "    </tr>\n",
       "    <tr>\n",
       "      <th>(23.035, 37.97]</th>\n",
       "      <td>  3</td>\n",
       "      <td>  6</td>\n",
       "      <td>  1</td>\n",
       "      <td>  5</td>\n",
       "      <td>NaN</td>\n",
       "      <td> 4</td>\n",
       "      <td>  2</td>\n",
       "      <td>  1</td>\n",
       "      <td>NaN</td>\n",
       "      <td> 29</td>\n",
       "    </tr>\n",
       "  </tbody>\n",
       "</table>\n",
       "</div>"
      ],
      "text/plain": [
       "RM               (5.594, 5.837]  (5.837, 5.95]  (5.95, 6.086]  (6.086, 6.208]  \\\n",
       "LSTAT                                                                           \n",
       "[1.73, 4.68]                NaN            NaN            NaN             NaN   \n",
       "(4.68, 6.29]                NaN              1              1               2   \n",
       "(6.29, 7.765]               NaN              1              2               4   \n",
       "(7.765, 9.53]                 2              9              6               8   \n",
       "(9.53, 11.36]                 5              6             10               4   \n",
       "(11.36, 13.33]                7              7              8               8   \n",
       "(13.33, 15.62]               10              8             10               9   \n",
       "(15.62, 18.06]               13              9              7               3   \n",
       "(18.06, 23.035]              11              3              6               7   \n",
       "(23.035, 37.97]               3              6              1               5   \n",
       "\n",
       "RM               (6.208, 6.376]  (6.376, 6.503]  (6.503, 6.75]  (6.75, 7.152]  \\\n",
       "LSTAT                                                                           \n",
       "[1.73, 4.68]                  1               1              7             15   \n",
       "(4.68, 6.29]                  6               7             10             13   \n",
       "(6.29, 7.765]                10               5             12              7   \n",
       "(7.765, 9.53]                 4               9              7              4   \n",
       "(9.53, 11.36]                10               4              5              2   \n",
       "(11.36, 13.33]                7               5              1              2   \n",
       "(13.33, 15.62]                4               4            NaN              1   \n",
       "(15.62, 18.06]                8               3              3              1   \n",
       "(18.06, 23.035]               2               7              4              4   \n",
       "(23.035, 37.97]             NaN               4              2              1   \n",
       "\n",
       "RM               (7.152, 8.78]  [3.561, 5.594]  \n",
       "LSTAT                                           \n",
       "[1.73, 4.68]                26               1  \n",
       "(4.68, 6.29]                11             NaN  \n",
       "(6.29, 7.765]                8               1  \n",
       "(7.765, 9.53]                2             NaN  \n",
       "(9.53, 11.36]                2               2  \n",
       "(11.36, 13.33]             NaN               6  \n",
       "(13.33, 15.62]               1               3  \n",
       "(15.62, 18.06]               1               3  \n",
       "(18.06, 23.035]            NaN               6  \n",
       "(23.035, 37.97]            NaN              29  "
      ]
     },
     "execution_count": 41,
     "metadata": {},
     "output_type": "execute_result"
    }
   ],
   "source": [
    "agg.ix[lstat_disc.cat.categories].unstack()"
   ]
  },
  {
   "cell_type": "code",
   "execution_count": 32,
   "metadata": {
    "collapsed": false
   },
   "outputs": [
    {
     "data": {
      "text/plain": [
       "array([9, 0, 1, 2, 3, 4, 5, 6, 7, 8])"
      ]
     },
     "execution_count": 32,
     "metadata": {},
     "output_type": "execute_result"
    }
   ],
   "source": [
    "idx"
   ]
  },
  {
   "cell_type": "code",
   "execution_count": 42,
   "metadata": {
    "collapsed": false
   },
   "outputs": [
    {
     "data": {
      "text/plain": [
       "pandas.core.frame.DataFrame"
      ]
     },
     "execution_count": 42,
     "metadata": {},
     "output_type": "execute_result"
    }
   ],
   "source": [
    "type(agg.ix[lstat_disc.cat.categories].unstack().ix[:,idx])"
   ]
  },
  {
   "cell_type": "code",
   "execution_count": 11,
   "metadata": {
    "collapsed": false
   },
   "outputs": [
    {
     "data": {
      "text/plain": [
       "<matplotlib.text.Text at 0x10c08d050>"
      ]
     },
     "execution_count": 11,
     "metadata": {},
     "output_type": "execute_result"
    },
    {
     "data": {
      "image/png": "[encoded data removed]",
      "text/plain": [
       "<matplotlib.figure.Figure at 0x10b667bd0>"
      ]
     },
     "metadata": {},
     "output_type": "display_data"
    }
   ],
   "source": [
    "# Price\n",
    "agg = pre_agg.groupby(['LSTAT','RM']).mean()\n",
    "idx = np.roll(range(10),1)\n",
    "seaborn.heatmap(agg.ix[lstat_disc.cat.categories].unstack().ix[:,idx])\n",
    "plt.title('Mean price in each bin')"
   ]
  },
  {
   "cell_type": "code",
   "execution_count": null,
   "metadata": {
    "collapsed": true
   },
   "outputs": [],
   "source": []
  },
  {
   "cell_type": "code",
   "execution_count": null,
   "metadata": {
    "collapsed": true
   },
   "outputs": [],
   "source": []
  },
  {
   "cell_type": "code",
   "execution_count": null,
   "metadata": {
    "collapsed": true
   },
   "outputs": [],
   "source": []
  }
 ],
 "metadata": {
  "kernelspec": {
   "display_name": "Python 2",
   "language": "python",
   "name": "python2"
  },
  "language_info": {
   "codemirror_mode": {
    "name": "ipython",
    "version": 2
   },
   "file_extension": ".py",
   "mimetype": "text/x-python",
   "name": "python",
   "nbconvert_exporter": "python",
   "pygments_lexer": "ipython2",
   "version": "2.7.10"
  }
 },
 "nbformat": 4,
 "nbformat_minor": 0
}
