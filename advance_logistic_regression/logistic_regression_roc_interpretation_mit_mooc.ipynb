{
 "cells": [
  {
   "cell_type": "markdown",
   "metadata": {},
   "source": [
    "#Logistic Regression \n",
    "\n",
    "###ROC curve, Odds ratio, Interpretation, Grad School and MIT MOOC data set"
   ]
  },
  {
   "cell_type": "code",
   "execution_count": 1,
   "metadata": {
    "collapsed": true
   },
   "outputs": [],
   "source": [
    "import pdb"
   ]
  },
  {
   "cell_type": "code",
   "execution_count": 2,
   "metadata": {
    "collapsed": true
   },
   "outputs": [],
   "source": [
    "from sklearn.datasets import make_classification\n",
    "from sklearn.linear_model import LogisticRegression\n",
    "import matplotlib.pyplot as plt\n",
    "from sklearn.cross_validation import train_test_split\n",
    "import sklearn.metrics as skm\n",
    "import numpy as np\n",
    "import pandas as pd\n",
    "%matplotlib inline"
   ]
  },
  {
   "cell_type": "markdown",
   "metadata": {},
   "source": [
    "## ROC Curve\n",
    "\n",
    "Below is an implementation of the ROC curve function:\n",
    "\n",
    "```\n",
    "function ROC_curve(probabilities, labels):\n",
    "    Sort instances by their prediction strength (the probabilities)\n",
    "    For every instance in increasing order of probability:\n",
    "        Set the threshold to be the probability\n",
    "        Set everything above the threshold to the positive class\n",
    "        Calculate the True Positive Rate (aka sensitivity or recall)\n",
    "        Calculate the False Positive Rate (1 - specificity)\n",
    "    Return three lists: TPRs, FPRs, thresholds\n",
    "```\n",
    "\n",
    "Recall that the *true positive rate* is\n",
    "\n",
    "```\n",
    " number of true positives     number correctly predicted positive\n",
    "-------------------------- = -------------------------------------\n",
    " number of positive cases           number of positive cases\n",
    "```\n",
    "\n",
    "and the *false positive rate* is\n",
    "\n",
    "```\n",
    " number of false positives     number incorrectly predicted positive\n",
    "--------------------------- = ---------------------------------------\n",
    "  number of negative cases           number of negative cases\n",
    "```\n"
   ]
  },
  {
   "cell_type": "code",
   "execution_count": 5,
   "metadata": {
    "collapsed": false
   },
   "outputs": [
    {
     "data": {
      "image/png": "[encoded data removed]",
      "text/plain": [
       "<matplotlib.figure.Figure at 0x10383f890>"
      ]
     },
     "metadata": {},
     "output_type": "display_data"
    }
   ],
   "source": [
    "def roc_curve(probabilities, y_test):\n",
    "    thresholds = np.sort(probabilities)\n",
    "    TPRs = []\n",
    "    FPRs = []\n",
    "    no_of_positive_cases = y_test.sum()\n",
    "    no_of_negative_cases = len(y_test) - no_of_positive_cases\n",
    "    for t in thresholds:\n",
    "        threshold = t\n",
    "        predicted_y = (probabilities > threshold).astype(int)\n",
    "        no_of_correctly_predicted_positive = ((predicted_y==y_test) & (y_test==1)).sum()\n",
    "        TPR = no_of_correctly_predicted_positive/float(no_of_positive_cases)\n",
    "        no_of_incorrectly_predicted_positive = predicted_y.sum() \\\n",
    "        - no_of_correctly_predicted_positive\n",
    "        FPR = no_of_incorrectly_predicted_positive/float(no_of_negative_cases)\n",
    "        TPRs.append(TPR)\n",
    "        FPRs.append(FPR)\n",
    "#         pdb.set_trace()\n",
    "    return TPRs, FPRs, thresholds #[::-1]\n",
    "\n",
    "X, y = make_classification(n_features=2, n_redundant=0, n_informative=2,\n",
    "                           n_clusters_per_class=2, n_samples=1000)\n",
    "X_train, X_test, y_train, y_test = train_test_split(X, y)\n",
    "\n",
    "model = LogisticRegression()\n",
    "model.fit(X_train, y_train)\n",
    "probabilities = model.predict_proba(X_test)[:, 1]\n",
    "\n",
    "fpr, tpr, thresholds = skm.roc_curve(y_test, probabilities)\n",
    "plt.plot(fpr, tpr, 'r--', label='sklearn')\n",
    "\n",
    "tpr, fpr, thresholds = roc_curve(probabilities, y_test)\n",
    "\n",
    "plt.plot(fpr, tpr, 'b--', label='ours')\n",
    "plt.xlabel(\"False Positive Rate (1 - Specificity)\")\n",
    "plt.ylabel(\"True Positive Rate (Sensitivity, Recall)\")\n",
    "plt.title(\"ROC plot of fake data\")\n",
    "plt.legend()\n",
    "plt.show()"
   ]
  },
  {
   "cell_type": "code",
   "execution_count": 8,
   "metadata": {
    "collapsed": false
   },
   "outputs": [
    {
     "data": {
      "image/png": "[encoded data removed]",
      "text/plain": [
       "<matplotlib.figure.Figure at 0x107c127d0>"
      ]
     },
     "metadata": {},
     "output_type": "display_data"
    }
   ],
   "source": [
    "import pandas as pd\n",
    "from sklearn.cross_validation import train_test_split\n",
    "\n",
    "df = pd.read_csv('data/loanf.csv')\n",
    "y = (df['Interest.Rate'] <= 12).values\n",
    "X = df[['FICO.Score', 'Loan.Length', 'Loan.Amount']].values\n",
    "\n",
    "X_train, X_test, y_train, y_test = train_test_split(X, y, test_size=0.3)\n",
    "\n",
    "model = LogisticRegression()\n",
    "model.fit(X_train, y_train)\n",
    "probabilities = model.predict_proba(X_test)[:, 1]\n",
    "\n",
    "fpr, tpr, thresholds = skm.roc_curve(y_test, probabilities)\n",
    "plt.plot(fpr, tpr, 'r--', label='sklearn')\n",
    "\n",
    "tpr, fpr, thresholds = roc_curve(probabilities, y_test)\n",
    "\n",
    "plt.plot(fpr, tpr, 'b--', label='ours')\n",
    "plt.xlabel(\"False Positive Rate (1 - Specificity)\")\n",
    "plt.ylabel(\"True Positive Rate (Sensitivity, Recall)\")\n",
    "plt.title(\"ROC plot of FICO data\")\n",
    "plt.legend()\n",
    "plt.show()"
   ]
  },
  {
   "cell_type": "markdown",
   "metadata": {
    "collapsed": true
   },
   "source": [
    "##Grad School Admissions Dataset\n",
    "\n",
    "The data we will be using is admission data on Grad school acceptances.\n",
    "\n",
    "* `admit`: whether or not the applicant was admitted to grad. school\n",
    "* `gpa`: undergraduate GPA\n",
    "* `GRE`: score of GRE test\n",
    "* `rank`: prestige of undergraduate school (1 is highest prestige, ala Harvard)\n",
    "\n",
    "We will use the GPA, GRE, and rank of the applicants to try to predict whether or not they will be accepted into graduate school.\n",
    "\n",
    "Before we get to predictions, we should do some data exploration."
   ]
  },
  {
   "cell_type": "code",
   "execution_count": 10,
   "metadata": {
    "collapsed": false
   },
   "outputs": [
    {
     "data": {
      "text/html": [
       "<div style=\"max-height:1000px;max-width:1500px;overflow:auto;\">\n",
       "<table border=\"1\" class=\"dataframe\">\n",
       "  <thead>\n",
       "    <tr style=\"text-align: right;\">\n",
       "      <th></th>\n",
       "      <th>admit</th>\n",
       "      <th>gre</th>\n",
       "      <th>gpa</th>\n",
       "      <th>rank</th>\n",
       "    </tr>\n",
       "  </thead>\n",
       "  <tbody>\n",
       "    <tr>\n",
       "      <th>0</th>\n",
       "      <td> 0</td>\n",
       "      <td> 380</td>\n",
       "      <td> 3.61</td>\n",
       "      <td> 3</td>\n",
       "    </tr>\n",
       "    <tr>\n",
       "      <th>1</th>\n",
       "      <td> 1</td>\n",
       "      <td> 660</td>\n",
       "      <td> 3.67</td>\n",
       "      <td> 3</td>\n",
       "    </tr>\n",
       "    <tr>\n",
       "      <th>2</th>\n",
       "      <td> 1</td>\n",
       "      <td> 800</td>\n",
       "      <td> 4.00</td>\n",
       "      <td> 1</td>\n",
       "    </tr>\n",
       "    <tr>\n",
       "      <th>3</th>\n",
       "      <td> 1</td>\n",
       "      <td> 640</td>\n",
       "      <td> 3.19</td>\n",
       "      <td> 4</td>\n",
       "    </tr>\n",
       "    <tr>\n",
       "      <th>4</th>\n",
       "      <td> 0</td>\n",
       "      <td> 520</td>\n",
       "      <td> 2.93</td>\n",
       "      <td> 4</td>\n",
       "    </tr>\n",
       "  </tbody>\n",
       "</table>\n",
       "</div>"
      ],
      "text/plain": [
       "   admit  gre   gpa  rank\n",
       "0      0  380  3.61     3\n",
       "1      1  660  3.67     3\n",
       "2      1  800  4.00     1\n",
       "3      1  640  3.19     4\n",
       "4      0  520  2.93     4"
      ]
     },
     "execution_count": 10,
     "metadata": {},
     "output_type": "execute_result"
    }
   ],
   "source": [
    "df = pd.read_csv('data/grad.csv')\n",
    "df.head()"
   ]
  },
  {
   "cell_type": "code",
   "execution_count": 11,
   "metadata": {
    "collapsed": false
   },
   "outputs": [
    {
     "data": {
      "text/html": [
       "<div style=\"max-height:1000px;max-width:1500px;overflow:auto;\">\n",
       "<table border=\"1\" class=\"dataframe\">\n",
       "  <thead>\n",
       "    <tr style=\"text-align: right;\">\n",
       "      <th></th>\n",
       "      <th>admit</th>\n",
       "      <th>gre</th>\n",
       "      <th>gpa</th>\n",
       "      <th>rank</th>\n",
       "    </tr>\n",
       "  </thead>\n",
       "  <tbody>\n",
       "    <tr>\n",
       "      <th>count</th>\n",
       "      <td> 400.000000</td>\n",
       "      <td> 400.000000</td>\n",
       "      <td> 400.000000</td>\n",
       "      <td> 400.00000</td>\n",
       "    </tr>\n",
       "    <tr>\n",
       "      <th>mean</th>\n",
       "      <td>   0.317500</td>\n",
       "      <td> 587.700000</td>\n",
       "      <td>   3.389900</td>\n",
       "      <td>   2.48500</td>\n",
       "    </tr>\n",
       "    <tr>\n",
       "      <th>std</th>\n",
       "      <td>   0.466087</td>\n",
       "      <td> 115.516536</td>\n",
       "      <td>   0.380567</td>\n",
       "      <td>   0.94446</td>\n",
       "    </tr>\n",
       "    <tr>\n",
       "      <th>min</th>\n",
       "      <td>   0.000000</td>\n",
       "      <td> 220.000000</td>\n",
       "      <td>   2.260000</td>\n",
       "      <td>   1.00000</td>\n",
       "    </tr>\n",
       "    <tr>\n",
       "      <th>25%</th>\n",
       "      <td>   0.000000</td>\n",
       "      <td> 520.000000</td>\n",
       "      <td>   3.130000</td>\n",
       "      <td>   2.00000</td>\n",
       "    </tr>\n",
       "    <tr>\n",
       "      <th>50%</th>\n",
       "      <td>   0.000000</td>\n",
       "      <td> 580.000000</td>\n",
       "      <td>   3.395000</td>\n",
       "      <td>   2.00000</td>\n",
       "    </tr>\n",
       "    <tr>\n",
       "      <th>75%</th>\n",
       "      <td>   1.000000</td>\n",
       "      <td> 660.000000</td>\n",
       "      <td>   3.670000</td>\n",
       "      <td>   3.00000</td>\n",
       "    </tr>\n",
       "    <tr>\n",
       "      <th>max</th>\n",
       "      <td>   1.000000</td>\n",
       "      <td> 800.000000</td>\n",
       "      <td>   4.000000</td>\n",
       "      <td>   4.00000</td>\n",
       "    </tr>\n",
       "  </tbody>\n",
       "</table>\n",
       "</div>"
      ],
      "text/plain": [
       "            admit         gre         gpa       rank\n",
       "count  400.000000  400.000000  400.000000  400.00000\n",
       "mean     0.317500  587.700000    3.389900    2.48500\n",
       "std      0.466087  115.516536    0.380567    0.94446\n",
       "min      0.000000  220.000000    2.260000    1.00000\n",
       "25%      0.000000  520.000000    3.130000    2.00000\n",
       "50%      0.000000  580.000000    3.395000    2.00000\n",
       "75%      1.000000  660.000000    3.670000    3.00000\n",
       "max      1.000000  800.000000    4.000000    4.00000"
      ]
     },
     "execution_count": 11,
     "metadata": {},
     "output_type": "execute_result"
    }
   ],
   "source": [
    "df.describe()"
   ]
  },
  {
   "cell_type": "code",
   "execution_count": 12,
   "metadata": {
    "collapsed": false
   },
   "outputs": [
    {
     "data": {
      "text/html": [
       "<div style=\"max-height:1000px;max-width:1500px;overflow:auto;\">\n",
       "<table border=\"1\" class=\"dataframe\">\n",
       "  <thead>\n",
       "    <tr style=\"text-align: right;\">\n",
       "      <th>rank</th>\n",
       "      <th>1</th>\n",
       "      <th>2</th>\n",
       "      <th>3</th>\n",
       "      <th>4</th>\n",
       "    </tr>\n",
       "    <tr>\n",
       "      <th>admit</th>\n",
       "      <th></th>\n",
       "      <th></th>\n",
       "      <th></th>\n",
       "      <th></th>\n",
       "    </tr>\n",
       "  </thead>\n",
       "  <tbody>\n",
       "    <tr>\n",
       "      <th>0</th>\n",
       "      <td> 28</td>\n",
       "      <td> 97</td>\n",
       "      <td> 93</td>\n",
       "      <td> 55</td>\n",
       "    </tr>\n",
       "    <tr>\n",
       "      <th>1</th>\n",
       "      <td> 33</td>\n",
       "      <td> 54</td>\n",
       "      <td> 28</td>\n",
       "      <td> 12</td>\n",
       "    </tr>\n",
       "  </tbody>\n",
       "</table>\n",
       "</div>"
      ],
      "text/plain": [
       "rank    1   2   3   4\n",
       "admit                \n",
       "0      28  97  93  55\n",
       "1      33  54  28  12"
      ]
     },
     "execution_count": 12,
     "metadata": {},
     "output_type": "execute_result"
    }
   ],
   "source": [
    "admission_by_rank = pd.crosstab(df['admit'],df['rank'])\n",
    "admission_by_rank"
   ]
  },
  {
   "cell_type": "code",
   "execution_count": 13,
   "metadata": {
    "collapsed": false
   },
   "outputs": [
    {
     "data": {
      "text/plain": [
       "<matplotlib.axes._subplots.AxesSubplot at 0x109ec7f10>"
      ]
     },
     "execution_count": 13,
     "metadata": {},
     "output_type": "execute_result"
    },
    {
     "data": {
      "image/png": "[encoded data removed]",
      "text/plain": [
       "<matplotlib.figure.Figure at 0x109ec7110>"
      ]
     },
     "metadata": {},
     "output_type": "display_data"
    }
   ],
   "source": [
    "admission_by_rank.T.plot(kind='bar')\n",
    "# looks like the rank (or prestige) of \n",
    "# a school that the applicant went to linearly correlates with acceptance numbers."
   ]
  },
  {
   "cell_type": "code",
   "execution_count": 14,
   "metadata": {
    "collapsed": false
   },
   "outputs": [
    {
     "data": {
      "text/plain": [
       "<matplotlib.legend.Legend at 0x10a154a10>"
      ]
     },
     "execution_count": 14,
     "metadata": {},
     "output_type": "execute_result"
    },
    {
     "data": {
      "image/png": "[encoded data removed]",
      "text/plain": [
       "<matplotlib.figure.Figure at 0x10a154a50>"
      ]
     },
     "metadata": {},
     "output_type": "display_data"
    }
   ],
   "source": [
    "admit_by_gre = pd.crosstab(df['admit'], df['gre'])\n",
    "admit_by_gre\n",
    "df[df['admit'] == 1]['gre'].hist(alpha=0.4, label='admitted')\n",
    "df[df['admit'] == 0]['gre'].hist(alpha=0.4, label='not admitted')\n",
    "plt.legend()"
   ]
  },
  {
   "cell_type": "code",
   "execution_count": 15,
   "metadata": {
    "collapsed": false
   },
   "outputs": [
    {
     "data": {
      "text/plain": [
       "<matplotlib.legend.Legend at 0x108937090>"
      ]
     },
     "execution_count": 15,
     "metadata": {},
     "output_type": "execute_result"
    },
    {
     "data": {
      "image/png": "[encoded data removed]",
      "text/plain": [
       "<matplotlib.figure.Figure at 0x10383f410>"
      ]
     },
     "metadata": {},
     "output_type": "display_data"
    }
   ],
   "source": [
    "admit_by_gpa = pd.crosstab(df['admit'], pd.cut(df['gpa'], bins=10))\n",
    "admit_by_gpa\n",
    "df[df['admit'] == 1]['gpa'].hist(alpha=0.4, label='admitted')\n",
    "df[df['admit'] == 0]['gpa'].hist(alpha=0.4, label='not admitted')\n",
    "plt.legend()"
   ]
  },
  {
   "cell_type": "markdown",
   "metadata": {},
   "source": [
    "The distributions of GPA and GRE look quite similar, normally distributed slightly skewed \n",
    "to the left (negative skew) centered around the means of GPA and GRE computed above. \n",
    "And for GPAs there is an anomolous bump near 4.0s"
   ]
  },
  {
   "cell_type": "markdown",
   "metadata": {},
   "source": [
    "###Class Balance\n",
    "Classes aren't too imbalanced so it should be fine. When dealing with data where the label\n",
    "could potentially be something that is biased one way or the other (such as acceptance, fraud, signups, anything where one label is more dominant to the other or deals with some measure of \"success\"), it's important to check class balance."
   ]
  },
  {
   "cell_type": "code",
   "execution_count": 73,
   "metadata": {
    "collapsed": false
   },
   "outputs": [
    {
     "data": {
      "text/plain": [
       "count    400.000000\n",
       "mean       0.317500\n",
       "std        0.466087\n",
       "min        0.000000\n",
       "25%        0.000000\n",
       "50%        0.000000\n",
       "75%        1.000000\n",
       "max        1.000000\n",
       "Name: admit, dtype: float64"
      ]
     },
     "execution_count": 73,
     "metadata": {},
     "output_type": "execute_result"
    }
   ],
   "source": [
    "df['admit'].describe()"
   ]
  },
  {
   "cell_type": "markdown",
   "metadata": {},
   "source": [
    "31.7% admitted. So not too bad"
   ]
  },
  {
   "cell_type": "markdown",
   "metadata": {},
   "source": [
    "# Predicting admissions"
   ]
  },
  {
   "cell_type": "code",
   "execution_count": 56,
   "metadata": {
    "collapsed": false
   },
   "outputs": [
    {
     "name": "stdout",
     "output_type": "stream",
     "text": [
      "Optimization terminated successfully.\n",
      "         Current function value: 0.574302\n",
      "         Iterations 6\n"
     ]
    },
    {
     "data": {
      "text/html": [
       "<table class=\"simpletable\">\n",
       "<caption>Logit Regression Results</caption>\n",
       "<tr>\n",
       "  <th>Dep. Variable:</th>       <td>admit</td>      <th>  No. Observations:  </th>  <td>   400</td>  \n",
       "</tr>\n",
       "<tr>\n",
       "  <th>Model:</th>               <td>Logit</td>      <th>  Df Residuals:      </th>  <td>   396</td>  \n",
       "</tr>\n",
       "<tr>\n",
       "  <th>Method:</th>               <td>MLE</td>       <th>  Df Model:          </th>  <td>     3</td>  \n",
       "</tr>\n",
       "<tr>\n",
       "  <th>Date:</th>          <td>Sun, 30 Aug 2015</td> <th>  Pseudo R-squ.:     </th>  <td>0.08107</td> \n",
       "</tr>\n",
       "<tr>\n",
       "  <th>Time:</th>              <td>16:37:02</td>     <th>  Log-Likelihood:    </th> <td> -229.72</td> \n",
       "</tr>\n",
       "<tr>\n",
       "  <th>converged:</th>           <td>True</td>       <th>  LL-Null:           </th> <td> -249.99</td> \n",
       "</tr>\n",
       "<tr>\n",
       "  <th> </th>                      <td> </td>        <th>  LLR p-value:       </th> <td>8.207e-09</td>\n",
       "</tr>\n",
       "</table>\n",
       "<table class=\"simpletable\">\n",
       "<tr>\n",
       "    <td></td>      <th>coef</th>     <th>std err</th>      <th>z</th>      <th>P>|z|</th> <th>[95.0% Conf. Int.]</th> \n",
       "</tr>\n",
       "<tr>\n",
       "  <th>gre</th>  <td>    0.0023</td> <td>    0.001</td> <td>    2.101</td> <td> 0.036</td> <td>    0.000     0.004</td>\n",
       "</tr>\n",
       "<tr>\n",
       "  <th>gpa</th>  <td>    0.7770</td> <td>    0.327</td> <td>    2.373</td> <td> 0.018</td> <td>    0.135     1.419</td>\n",
       "</tr>\n",
       "<tr>\n",
       "  <th>rank</th> <td>   -0.5600</td> <td>    0.127</td> <td>   -4.405</td> <td> 0.000</td> <td>   -0.809    -0.311</td>\n",
       "</tr>\n",
       "<tr>\n",
       "  <th>ones</th> <td>   -3.4495</td> <td>    1.133</td> <td>   -3.045</td> <td> 0.002</td> <td>   -5.670    -1.229</td>\n",
       "</tr>\n",
       "</table>"
      ],
      "text/plain": [
       "<class 'statsmodels.iolib.summary.Summary'>\n",
       "\"\"\"\n",
       "                           Logit Regression Results                           \n",
       "==============================================================================\n",
       "Dep. Variable:                  admit   No. Observations:                  400\n",
       "Model:                          Logit   Df Residuals:                      396\n",
       "Method:                           MLE   Df Model:                            3\n",
       "Date:                Sun, 30 Aug 2015   Pseudo R-squ.:                 0.08107\n",
       "Time:                        16:37:02   Log-Likelihood:                -229.72\n",
       "converged:                       True   LL-Null:                       -249.99\n",
       "                                        LLR p-value:                 8.207e-09\n",
       "==============================================================================\n",
       "                 coef    std err          z      P>|z|      [95.0% Conf. Int.]\n",
       "------------------------------------------------------------------------------\n",
       "gre            0.0023      0.001      2.101      0.036         0.000     0.004\n",
       "gpa            0.7770      0.327      2.373      0.018         0.135     1.419\n",
       "rank          -0.5600      0.127     -4.405      0.000        -0.809    -0.311\n",
       "ones          -3.4495      1.133     -3.045      0.002        -5.670    -1.229\n",
       "==============================================================================\n",
       "\"\"\""
      ]
     },
     "execution_count": 56,
     "metadata": {},
     "output_type": "execute_result"
    }
   ],
   "source": [
    "from statsmodels.discrete.discrete_model import Logit\n",
    "\n",
    "y, X = df['admit'], df.drop('admit', axis=1)\n",
    "X['ones'] = pd.Series(np.ones(df.shape[0]), index=X.index)\n",
    "\n",
    "X_train, X_test, y_train, y_test = train_test_split(X, y, test_size=0.3)\n",
    "\n",
    "fit = Logit(y, X).fit()\n",
    "\n",
    "fit.summary()\n",
    "# p-values are all smaller than 0.05 so should be good"
   ]
  },
  {
   "cell_type": "code",
   "execution_count": 20,
   "metadata": {
    "collapsed": false
   },
   "outputs": [
    {
     "data": {
      "image/png": "[encoded data removed]",
      "text/plain": [
       "<matplotlib.figure.Figure at 0x107f54e10>"
      ]
     },
     "metadata": {},
     "output_type": "display_data"
    },
    {
     "name": "stdout",
     "output_type": "stream",
     "text": [
      "Accuracy: 0.7025\n",
      "Precision: 0.556666666667\n",
      "Recall: 0.200064241314\n"
     ]
    }
   ],
   "source": [
    "from sklearn.cross_validation import KFold\n",
    "\n",
    "accuracy_scores = []\n",
    "precision_scores = []\n",
    "recall_scores = []\n",
    "\n",
    "kf = KFold(n=X.shape[0], n_folds=10)\n",
    "\n",
    "# pdb.set_trace()\n",
    "\n",
    "for train_index, test_index in kf:\n",
    "#     pdb.set_trace()\n",
    "    X_train, X_test = X.ix[train_index,:], X.ix[test_index,:]\n",
    "    y_train, y_test = y.ix[train_index], y.ix[test_index]\n",
    "    \n",
    "    model = LogisticRegression()\n",
    "    model.fit(X_train, y_train)\n",
    "    y_pred = model.predict(X_test) #predict_proba(X_test)[:, 1]\n",
    "    \n",
    "    accuracy_scores.append(skm.accuracy_score(y_test, y_pred))\n",
    "    precision_scores.append(skm.precision_score(y_test, y_pred))\n",
    "    recall_scores.append(skm.recall_score(y_test, y_pred))\n",
    "    \n",
    "plt.plot(range(10), accuracy_scores, label='accuracy')\n",
    "plt.plot(range(10), precision_scores, label='precision')\n",
    "plt.plot(range(10), recall_scores, label='recall')\n",
    "plt.legend()\n",
    "plt.show()\n",
    "print 'Accuracy: {}'.format(np.mean(accuracy_scores))\n",
    "print 'Precision: {}'.format(np.mean(precision_scores))\n",
    "print 'Recall: {}'.format(np.mean(recall_scores))"
   ]
  },
  {
   "cell_type": "markdown",
   "metadata": {
    "collapsed": false
   },
   "source": [
    "####Accuracy and precision pretty good. Recall is not."
   ]
  },
  {
   "cell_type": "markdown",
   "metadata": {},
   "source": [
    "####Since rank is numerical but with 4 buckets, we should consider it categorical and therefore binarize it"
   ]
  },
  {
   "cell_type": "code",
   "execution_count": 21,
   "metadata": {
    "collapsed": false
   },
   "outputs": [],
   "source": [
    "X_categorical = pd.get_dummies(X, columns=['rank'])"
   ]
  },
  {
   "cell_type": "code",
   "execution_count": 22,
   "metadata": {
    "collapsed": false
   },
   "outputs": [],
   "source": [
    "del X_categorical['rank_4']"
   ]
  },
  {
   "cell_type": "code",
   "execution_count": 24,
   "metadata": {
    "collapsed": false
   },
   "outputs": [
    {
     "data": {
      "text/html": [
       "<div style=\"max-height:1000px;max-width:1500px;overflow:auto;\">\n",
       "<table border=\"1\" class=\"dataframe\">\n",
       "  <thead>\n",
       "    <tr style=\"text-align: right;\">\n",
       "      <th></th>\n",
       "      <th>gre</th>\n",
       "      <th>gpa</th>\n",
       "      <th>ones</th>\n",
       "      <th>rank_1</th>\n",
       "      <th>rank_2</th>\n",
       "      <th>rank_3</th>\n",
       "    </tr>\n",
       "  </thead>\n",
       "  <tbody>\n",
       "    <tr>\n",
       "      <th>0</th>\n",
       "      <td> 380</td>\n",
       "      <td> 3.61</td>\n",
       "      <td> 1</td>\n",
       "      <td> 0</td>\n",
       "      <td> 0</td>\n",
       "      <td> 1</td>\n",
       "    </tr>\n",
       "    <tr>\n",
       "      <th>1</th>\n",
       "      <td> 660</td>\n",
       "      <td> 3.67</td>\n",
       "      <td> 1</td>\n",
       "      <td> 0</td>\n",
       "      <td> 0</td>\n",
       "      <td> 1</td>\n",
       "    </tr>\n",
       "    <tr>\n",
       "      <th>2</th>\n",
       "      <td> 800</td>\n",
       "      <td> 4.00</td>\n",
       "      <td> 1</td>\n",
       "      <td> 1</td>\n",
       "      <td> 0</td>\n",
       "      <td> 0</td>\n",
       "    </tr>\n",
       "    <tr>\n",
       "      <th>3</th>\n",
       "      <td> 640</td>\n",
       "      <td> 3.19</td>\n",
       "      <td> 1</td>\n",
       "      <td> 0</td>\n",
       "      <td> 0</td>\n",
       "      <td> 0</td>\n",
       "    </tr>\n",
       "    <tr>\n",
       "      <th>4</th>\n",
       "      <td> 520</td>\n",
       "      <td> 2.93</td>\n",
       "      <td> 1</td>\n",
       "      <td> 0</td>\n",
       "      <td> 0</td>\n",
       "      <td> 0</td>\n",
       "    </tr>\n",
       "  </tbody>\n",
       "</table>\n",
       "</div>"
      ],
      "text/plain": [
       "   gre   gpa  ones  rank_1  rank_2  rank_3\n",
       "0  380  3.61     1       0       0       1\n",
       "1  660  3.67     1       0       0       1\n",
       "2  800  4.00     1       1       0       0\n",
       "3  640  3.19     1       0       0       0\n",
       "4  520  2.93     1       0       0       0"
      ]
     },
     "execution_count": 24,
     "metadata": {},
     "output_type": "execute_result"
    }
   ],
   "source": [
    "X_categorical.head()"
   ]
  },
  {
   "cell_type": "code",
   "execution_count": 25,
   "metadata": {
    "collapsed": false
   },
   "outputs": [
    {
     "name": "stdout",
     "output_type": "stream",
     "text": [
      "Accuracy: 0.7\n",
      "Precision: 0.515\n",
      "Recall: 0.160076867577\n"
     ]
    },
    {
     "data": {
      "image/png": "[encoded data removed]",
      "text/plain": [
       "<matplotlib.figure.Figure at 0x109ec72d0>"
      ]
     },
     "metadata": {},
     "output_type": "display_data"
    }
   ],
   "source": [
    "accuracy_scores = []\n",
    "precision_scores = []\n",
    "recall_scores = []\n",
    "\n",
    "kf = KFold(n=X.shape[0], n_folds=10)\n",
    "\n",
    "# pdb.set_trace()\n",
    "\n",
    "for train_index, test_index in kf:\n",
    "#     pdb.set_trace()\n",
    "    X_train, X_test = X_categorical.ix[train_index,:], X_categorical.ix[test_index,:]\n",
    "    y_train, y_test = y.ix[train_index], y.ix[test_index]\n",
    "    \n",
    "    model = LogisticRegression()\n",
    "    model.fit(X_train, y_train)\n",
    "    y_pred = model.predict(X_test) #predict_proba(X_test)[:, 1]\n",
    "    \n",
    "    accuracy_scores.append(skm.accuracy_score(y_test, y_pred))\n",
    "    precision_scores.append(skm.precision_score(y_test, y_pred))\n",
    "    recall_scores.append(skm.recall_score(y_test, y_pred))\n",
    "    \n",
    "plt.plot(range(10), accuracy_scores, range(10), precision_scores, range(10), recall_scores)\n",
    "print 'Accuracy: {}'.format(np.mean(accuracy_scores))\n",
    "print 'Precision: {}'.format(np.mean(precision_scores))\n",
    "print 'Recall: {}'.format(np.mean(recall_scores))"
   ]
  },
  {
   "cell_type": "markdown",
   "metadata": {},
   "source": [
    "After binarization, it looks worse!"
   ]
  },
  {
   "cell_type": "markdown",
   "metadata": {},
   "source": [
    "###ROC of logistic regression classifier"
   ]
  },
  {
   "cell_type": "code",
   "execution_count": 27,
   "metadata": {
    "collapsed": false
   },
   "outputs": [
    {
     "data": {
      "image/png": "[encoded data removed]",
      "text/plain": [
       "<matplotlib.figure.Figure at 0x10ae44890>"
      ]
     },
     "metadata": {},
     "output_type": "display_data"
    }
   ],
   "source": [
    "X_train, X_test, y_train, y_test = train_test_split(X, y)\n",
    "\n",
    "model = LogisticRegression()\n",
    "model.fit(X_train, y_train)\n",
    "probabilities = model.predict_proba(X_test)[:, 1]\n",
    "\n",
    "fpr, tpr, thresholds = skm.roc_curve(y_test, probabilities)\n",
    "plt.plot(fpr, tpr, 'r--', label='sklearn')\n",
    "\n",
    "plt.xlabel(\"False Positive Rate (1 - Specificity)\")\n",
    "plt.ylabel(\"True Positive Rate (Sensitivity, Recall)\")\n",
    "plt.title(\"ROC plot of Grad School data\")\n",
    "plt.legend()\n",
    "plt.show()"
   ]
  },
  {
   "cell_type": "markdown",
   "metadata": {},
   "source": [
    "Based on the ROC curve, we want to pick a threshold where TPR > 60% and FPR < 40%."
   ]
  },
  {
   "cell_type": "code",
   "execution_count": 149,
   "metadata": {
    "collapsed": false
   },
   "outputs": [
    {
     "name": "stdout",
     "output_type": "stream",
     "text": [
      "[ 0.33319059  0.3305472   0.31585188  0.31505544  0.30647914  0.30098989]\n",
      "mean: 0.317019023109\n"
     ]
    }
   ],
   "source": [
    "print thresholds[ (fpr<.4) & (tpr>.6) ]\n",
    "print 'mean: {}'.format(thresholds[ (fpr<.4) & (tpr>.6) ].mean())"
   ]
  },
  {
   "cell_type": "markdown",
   "metadata": {},
   "source": [
    "We will suggest a threshold around .31 because this gives us a FPR<.4 and a TPR>.6"
   ]
  },
  {
   "cell_type": "markdown",
   "metadata": {},
   "source": [
    "####If we're using the classifier as a first step in the application process. We want to weed out clearly unqualified candidates, but not reject too many candidates. So we'd want to maximize the TPR and don't care as much about the FPR. With a threshold of 0.222, we can get a TPR of 96.9%. THe FPR will be 73.5%, but we are okay with this sacrifice in order to avoid false negatives."
   ]
  },
  {
   "cell_type": "markdown",
   "metadata": {},
   "source": [
    "##Interpreting the Odds Ratio"
   ]
  },
  {
   "cell_type": "code",
   "execution_count": 57,
   "metadata": {
    "collapsed": false
   },
   "outputs": [],
   "source": [
    "X_5 = X.drop('ones', axis=1)"
   ]
  },
  {
   "cell_type": "code",
   "execution_count": 58,
   "metadata": {
    "collapsed": false
   },
   "outputs": [
    {
     "data": {
      "text/plain": [
       "array([[ 0.00191577,  0.21564289, -0.59842009]])"
      ]
     },
     "execution_count": 58,
     "metadata": {},
     "output_type": "execute_result"
    }
   ],
   "source": [
    "model = LogisticRegression()\n",
    "model.fit(X_5,y)\n",
    "model.coef_"
   ]
  },
  {
   "cell_type": "code",
   "execution_count": 59,
   "metadata": {
    "collapsed": false
   },
   "outputs": [
    {
     "name": "stdout",
     "output_type": "stream",
     "text": [
      "1.00203953703\n",
      "1.54869588149\n",
      "0.556303394498\n"
     ]
    }
   ],
   "source": [
    "import math\n",
    "print math.exp(0.00203746) #gre\n",
    "print math.exp(0.43741321) #gpa\n",
    "print math.exp(-0.58644146) #rank"
   ]
  },
  {
   "cell_type": "markdown",
   "metadata": {},
   "source": [
    "Increasing the GRE by 1 point increases the odds of admission by a factor of 1.000, compared to other people with similar GPA and undergrad university rank.\n",
    "\n",
    "Increasing the GPA by 1 point increases the odds of admission by a factor of 1.549, compared to other people with similar GPA and undergrad university rank.\n",
    "\n",
    "Increasing the university rank by 1 point changes the odds of admission by a factor of 0.55, compared to other people with similar GPA and GRE. (This makes sense because higher rank number indicates a worse school)."
   ]
  },
  {
   "cell_type": "code",
   "execution_count": 191,
   "metadata": {
    "collapsed": false
   },
   "outputs": [
    {
     "name": "stdout",
     "output_type": "stream",
     "text": [
      "340.201614049\n",
      "1.5846507712\n",
      "-1.18195459878\n"
     ]
    }
   ],
   "source": [
    "#To double the probability...\n",
    "\n",
    "print math.log(2)/0.00203746 #gre\n",
    "print math.log(2)/0.43741321 #gpa\n",
    "print math.log(2)/-0.58644146 #rank"
   ]
  },
  {
   "cell_type": "markdown",
   "metadata": {},
   "source": [
    "Increasing GRE by 340 points.\n",
    "Increasing GPA by 1.58 points.\n",
    "Improving the rank by 1.18 points."
   ]
  },
  {
   "cell_type": "markdown",
   "metadata": {},
   "source": [
    "####Now let's verify the odds ratio"
   ]
  },
  {
   "cell_type": "code",
   "execution_count": 60,
   "metadata": {
    "collapsed": false
   },
   "outputs": [],
   "source": [
    "gre = df['gre'].mean()\n",
    "gpa = df['gpa'].mean()\n",
    "feature_matrix = []\n",
    "ranks = [1, 2, 3, 4]\n",
    "for rank in ranks:\n",
    "    feature_matrix.append([gre, gpa, rank])\n",
    "X_rank = np.array(feature_matrix)"
   ]
  },
  {
   "cell_type": "code",
   "execution_count": 61,
   "metadata": {
    "collapsed": false
   },
   "outputs": [
    {
     "name": "stdout",
     "output_type": "stream",
     "text": [
      "rank: 1, probability: 0.517495, odds: 1.072519\n",
      "rank: 2, probability: 0.370888, odds: 0.589541\n",
      "rank: 3, probability: 0.244747, odds: 0.324059\n",
      "rank: 4, probability: 0.151196, odds: 0.178128\n"
     ]
    }
   ],
   "source": [
    "probabilities_rank = model.predict_proba(X_rank)[:, 1]\n",
    "for rank, prob in zip(ranks, probabilities_rank):\n",
    "    print \"rank: %d, probability: %f, odds: %f\" % (rank, prob, prob / (1 - prob))"
   ]
  },
  {
   "cell_type": "code",
   "execution_count": 69,
   "metadata": {
    "collapsed": false
   },
   "outputs": [
    {
     "name": "stdout",
     "output_type": "stream",
     "text": [
      "Increasing rank from 4 to 3, changes the odds of admission by a factor of 0.545869 compared to other people with similar GPA and GRE. (This makes sense because higher rank number indicates a worse school)\n"
     ]
    }
   ],
   "source": [
    "print 'Increasing rank from 4 to 3, changes the odds of admission by a factor of %f compared to \\\n",
    "other people with similar GPA and GRE. (This makes sense because higher rank number indicates \\\n",
    "a worse school)' % float(0.175247 / 0.321042)"
   ]
  },
  {
   "cell_type": "markdown",
   "metadata": {},
   "source": [
    "####The result is exactly the same as above"
   ]
  },
  {
   "cell_type": "markdown",
   "metadata": {},
   "source": [
    "###Rank vs. probability of acceptance"
   ]
  },
  {
   "cell_type": "code",
   "execution_count": 70,
   "metadata": {
    "collapsed": false
   },
   "outputs": [
    {
     "data": {
      "image/png": "[encoded data removed]",
      "text/plain": [
       "<matplotlib.figure.Figure at 0x10a0c6750>"
      ]
     },
     "metadata": {},
     "output_type": "display_data"
    }
   ],
   "source": [
    "plt.plot(ranks, probabilities_rank)\n",
    "plt.xlabel(\"rank\")\n",
    "plt.ylabel(\"probability\")\n",
    "plt.title(\"Affect of modifying the rank on probability of acceptance\")\n",
    "plt.show()"
   ]
  },
  {
   "cell_type": "markdown",
   "metadata": {
    "collapsed": false
   },
   "source": [
    "###Rank vs. odds of acceptance"
   ]
  },
  {
   "cell_type": "code",
   "execution_count": 71,
   "metadata": {
    "collapsed": false
   },
   "outputs": [
    {
     "data": {
      "image/png": "[encoded data removed]",
      "text/plain": [
       "<matplotlib.figure.Figure at 0x10ae4efd0>"
      ]
     },
     "metadata": {},
     "output_type": "display_data"
    }
   ],
   "source": [
    "odds_rank = probabilities_rank / (1 - probabilities_rank)\n",
    "plt.plot(ranks, odds_rank)\n",
    "plt.xlabel(\"rank\")\n",
    "plt.ylabel(\"odds\")\n",
    "plt.title(\"Affect of modifying the rank on odds of acceptance\")\n",
    "plt.show()"
   ]
  },
  {
   "cell_type": "markdown",
   "metadata": {
    "collapsed": false
   },
   "source": [
    "###Rank vs. log odds of acceptance (can then see linear relationship)\n",
    "\n",
    "####The slope is the beta coefficient!"
   ]
  },
  {
   "cell_type": "code",
   "execution_count": 72,
   "metadata": {
    "collapsed": false
   },
   "outputs": [
    {
     "data": {
      "image/png": "[encoded data removed]",
      "text/plain": [
       "<matplotlib.figure.Figure at 0x10b287050>"
      ]
     },
     "metadata": {},
     "output_type": "display_data"
    }
   ],
   "source": [
    "plt.plot(ranks, np.log(odds_rank))\n",
    "plt.xlabel(\"rank\")\n",
    "plt.ylabel(\"log odds\")\n",
    "plt.title(\"Affect of modifying the rank on log of odds of acceptance\")\n",
    "plt.show()"
   ]
  },
  {
   "cell_type": "markdown",
   "metadata": {},
   "source": [
    "##Same odds/probabilities analysis for GRE and GPA scores"
   ]
  },
  {
   "cell_type": "code",
   "execution_count": 74,
   "metadata": {
    "collapsed": false,
    "scrolled": true
   },
   "outputs": [
    {
     "name": "stdout",
     "output_type": "stream",
     "text": [
      "gre: 220, probability: 0.179009, odds: 0.218041\n",
      "gre: 221, probability: 0.179291, odds: 0.218459\n",
      "gre: 222, probability: 0.179573, odds: 0.218878\n",
      "gre: 223, probability: 0.179855, odds: 0.219297\n",
      "gre: 224, probability: 0.180138, odds: 0.219718\n",
      "gre: 225, probability: 0.180421, odds: 0.220139\n",
      "gre: 226, probability: 0.180705, odds: 0.220561\n",
      "gre: 227, probability: 0.180989, odds: 0.220984\n",
      "gre: 228, probability: 0.181273, odds: 0.221408\n",
      "gre: 229, probability: 0.181557, odds: 0.221833\n",
      "gre: 230, probability: 0.181842, odds: 0.222258\n",
      "gre: 231, probability: 0.182127, odds: 0.222684\n",
      "gre: 232, probability: 0.182413, odds: 0.223111\n",
      "gre: 233, probability: 0.182699, odds: 0.223539\n",
      "gre: 234, probability: 0.182985, odds: 0.223968\n",
      "gre: 235, probability: 0.183272, odds: 0.224397\n",
      "gre: 236, probability: 0.183558, odds: 0.224827\n",
      "gre: 237, probability: 0.183846, odds: 0.225259\n",
      "gre: 238, probability: 0.184133, odds: 0.225691\n",
      "gre: 239, probability: 0.184421, odds: 0.226123\n",
      "gre: 240, probability: 0.184710, odds: 0.226557\n",
      "gre: 241, probability: 0.184998, odds: 0.226991\n",
      "gre: 242, probability: 0.185287, odds: 0.227427\n",
      "gre: 243, probability: 0.185577, odds: 0.227863\n",
      "gre: 244, probability: 0.185866, odds: 0.228300\n",
      "gre: 245, probability: 0.186157, odds: 0.228738\n",
      "gre: 246, probability: 0.186447, odds: 0.229176\n",
      "gre: 247, probability: 0.186738, odds: 0.229616\n",
      "gre: 248, probability: 0.187029, odds: 0.230056\n",
      "gre: 249, probability: 0.187320, odds: 0.230497\n",
      "gre: 250, probability: 0.187612, odds: 0.230939\n",
      "gre: 251, probability: 0.187904, odds: 0.231382\n",
      "gre: 252, probability: 0.188197, odds: 0.231826\n",
      "gre: 253, probability: 0.188490, odds: 0.232270\n",
      "gre: 254, probability: 0.188783, odds: 0.232716\n",
      "gre: 255, probability: 0.189076, odds: 0.233162\n",
      "gre: 256, probability: 0.189370, odds: 0.233609\n",
      "gre: 257, probability: 0.189665, odds: 0.234057\n",
      "gre: 258, probability: 0.189959, odds: 0.234506\n",
      "gre: 259, probability: 0.190254, odds: 0.234955\n",
      "gre: 260, probability: 0.190550, odds: 0.235406\n",
      "gre: 261, probability: 0.190845, odds: 0.235857\n",
      "gre: 262, probability: 0.191141, odds: 0.236310\n",
      "gre: 263, probability: 0.191438, odds: 0.236763\n",
      "gre: 264, probability: 0.191734, odds: 0.237217\n",
      "gre: 265, probability: 0.192031, odds: 0.237672\n",
      "gre: 266, probability: 0.192329, odds: 0.238128\n",
      "gre: 267, probability: 0.192627, odds: 0.238584\n",
      "gre: 268, probability: 0.192925, odds: 0.239042\n",
      "gre: 269, probability: 0.193223, odds: 0.239500\n",
      "gre: 270, probability: 0.193522, odds: 0.239959\n",
      "gre: 271, probability: 0.193821, odds: 0.240420\n",
      "gre: 272, probability: 0.194121, odds: 0.240881\n",
      "gre: 273, probability: 0.194421, odds: 0.241342\n",
      "gre: 274, probability: 0.194721, odds: 0.241805\n",
      "gre: 275, probability: 0.195021, odds: 0.242269\n",
      "gre: 276, probability: 0.195322, odds: 0.242734\n",
      "gre: 277, probability: 0.195624, odds: 0.243199\n",
      "gre: 278, probability: 0.195925, odds: 0.243665\n",
      "gre: 279, probability: 0.196227, odds: 0.244133\n",
      "gre: 280, probability: 0.196530, odds: 0.244601\n",
      "gre: 281, probability: 0.196832, odds: 0.245070\n",
      "gre: 282, probability: 0.197135, odds: 0.245540\n",
      "gre: 283, probability: 0.197439, odds: 0.246011\n",
      "gre: 284, probability: 0.197742, odds: 0.246482\n",
      "gre: 285, probability: 0.198046, odds: 0.246955\n",
      "gre: 286, probability: 0.198351, odds: 0.247429\n",
      "gre: 287, probability: 0.198656, odds: 0.247903\n",
      "gre: 288, probability: 0.198961, odds: 0.248378\n",
      "gre: 289, probability: 0.199266, odds: 0.248855\n",
      "gre: 290, probability: 0.199572, odds: 0.249332\n",
      "gre: 291, probability: 0.199878, odds: 0.249810\n",
      "gre: 292, probability: 0.200185, odds: 0.250289\n",
      "gre: 293, probability: 0.200492, odds: 0.250769\n",
      "gre: 294, probability: 0.200799, odds: 0.251250\n",
      "gre: 295, probability: 0.201107, odds: 0.251732\n",
      "gre: 296, probability: 0.201415, odds: 0.252214\n",
      "gre: 297, probability: 0.201723, odds: 0.252698\n",
      "gre: 298, probability: 0.202032, odds: 0.253183\n",
      "gre: 299, probability: 0.202341, odds: 0.253668\n",
      "gre: 300, probability: 0.202650, odds: 0.254155\n",
      "gre: 301, probability: 0.202960, odds: 0.254642\n",
      "gre: 302, probability: 0.203270, odds: 0.255130\n",
      "gre: 303, probability: 0.203580, odds: 0.255620\n",
      "gre: 304, probability: 0.203891, odds: 0.256110\n",
      "gre: 305, probability: 0.204202, odds: 0.256601\n",
      "gre: 306, probability: 0.204514, odds: 0.257093\n",
      "gre: 307, probability: 0.204826, odds: 0.257586\n",
      "gre: 308, probability: 0.205138, odds: 0.258080\n",
      "gre: 309, probability: 0.205450, odds: 0.258575\n",
      "gre: 310, probability: 0.205763, odds: 0.259071\n",
      "gre: 311, probability: 0.206077, odds: 0.259567\n",
      "gre: 312, probability: 0.206390, odds: 0.260065\n",
      "gre: 313, probability: 0.206704, odds: 0.260564\n",
      "gre: 314, probability: 0.207019, odds: 0.261064\n",
      "gre: 315, probability: 0.207333, odds: 0.261564\n",
      "gre: 316, probability: 0.207648, odds: 0.262066\n",
      "gre: 317, probability: 0.207964, odds: 0.262568\n",
      "gre: 318, probability: 0.208279, odds: 0.263072\n",
      "gre: 319, probability: 0.208595, odds: 0.263576\n",
      "gre: 320, probability: 0.208912, odds: 0.264082\n",
      "gre: 321, probability: 0.209229, odds: 0.264588\n",
      "gre: 322, probability: 0.209546, odds: 0.265095\n",
      "gre: 323, probability: 0.209863, odds: 0.265604\n",
      "gre: 324, probability: 0.210181, odds: 0.266113\n",
      "gre: 325, probability: 0.210499, odds: 0.266623\n",
      "gre: 326, probability: 0.210818, odds: 0.267135\n",
      "gre: 327, probability: 0.211137, odds: 0.267647\n",
      "gre: 328, probability: 0.211456, odds: 0.268160\n",
      "gre: 329, probability: 0.211776, odds: 0.268674\n",
      "gre: 330, probability: 0.212096, odds: 0.269190\n",
      "gre: 331, probability: 0.212416, odds: 0.269706\n",
      "gre: 332, probability: 0.212737, odds: 0.270223\n",
      "gre: 333, probability: 0.213058, odds: 0.270741\n",
      "gre: 334, probability: 0.213379, odds: 0.271260\n",
      "gre: 335, probability: 0.213701, odds: 0.271781\n",
      "gre: 336, probability: 0.214023, odds: 0.272302\n",
      "gre: 337, probability: 0.214345, odds: 0.272824\n",
      "gre: 338, probability: 0.214668, odds: 0.273347\n",
      "gre: 339, probability: 0.214991, odds: 0.273871\n",
      "gre: 340, probability: 0.215315, odds: 0.274396\n",
      "gre: 341, probability: 0.215639, odds: 0.274923\n",
      "gre: 342, probability: 0.215963, odds: 0.275450\n",
      "gre: 343, probability: 0.216287, odds: 0.275978\n",
      "gre: 344, probability: 0.216612, odds: 0.276507\n",
      "gre: 345, probability: 0.216938, odds: 0.277037\n",
      "gre: 346, probability: 0.217263, odds: 0.277569\n",
      "gre: 347, probability: 0.217589, odds: 0.278101\n",
      "gre: 348, probability: 0.217916, odds: 0.278634\n",
      "gre: 349, probability: 0.218242, odds: 0.279169\n",
      "gre: 350, probability: 0.218569, odds: 0.279704\n",
      "gre: 351, probability: 0.218897, odds: 0.280240\n",
      "gre: 352, probability: 0.219224, odds: 0.280778\n",
      "gre: 353, probability: 0.219552, odds: 0.281316\n",
      "gre: 354, probability: 0.219881, odds: 0.281856\n",
      "gre: 355, probability: 0.220210, odds: 0.282396\n",
      "gre: 356, probability: 0.220539, odds: 0.282938\n",
      "gre: 357, probability: 0.220868, odds: 0.283480\n",
      "gre: 358, probability: 0.221198, odds: 0.284024\n",
      "gre: 359, probability: 0.221528, odds: 0.284568\n",
      "gre: 360, probability: 0.221859, odds: 0.285114\n",
      "gre: 361, probability: 0.222190, odds: 0.285661\n",
      "gre: 362, probability: 0.222521, odds: 0.286209\n",
      "gre: 363, probability: 0.222853, odds: 0.286757\n",
      "gre: 364, probability: 0.223185, odds: 0.287307\n",
      "gre: 365, probability: 0.223517, odds: 0.287858\n",
      "gre: 366, probability: 0.223850, odds: 0.288410\n",
      "gre: 367, probability: 0.224183, odds: 0.288963\n",
      "gre: 368, probability: 0.224516, odds: 0.289517\n",
      "gre: 369, probability: 0.224850, odds: 0.290073\n",
      "gre: 370, probability: 0.225184, odds: 0.290629\n",
      "gre: 371, probability: 0.225518, odds: 0.291186\n",
      "gre: 372, probability: 0.225853, odds: 0.291745\n",
      "gre: 373, probability: 0.226188, odds: 0.292304\n",
      "gre: 374, probability: 0.226524, odds: 0.292865\n",
      "gre: 375, probability: 0.226860, odds: 0.293426\n",
      "gre: 376, probability: 0.227196, odds: 0.293989\n",
      "gre: 377, probability: 0.227532, odds: 0.294553\n",
      "gre: 378, probability: 0.227869, odds: 0.295117\n",
      "gre: 379, probability: 0.228206, odds: 0.295683\n",
      "gre: 380, probability: 0.228544, odds: 0.296250\n",
      "gre: 381, probability: 0.228882, odds: 0.296818\n",
      "gre: 382, probability: 0.229220, odds: 0.297388\n",
      "gre: 383, probability: 0.229559, odds: 0.297958\n",
      "gre: 384, probability: 0.229898, odds: 0.298529\n",
      "gre: 385, probability: 0.230237, odds: 0.299102\n",
      "gre: 386, probability: 0.230577, odds: 0.299675\n",
      "gre: 387, probability: 0.230917, odds: 0.300250\n",
      "gre: 388, probability: 0.231258, odds: 0.300826\n",
      "gre: 389, probability: 0.231598, odds: 0.301403\n",
      "gre: 390, probability: 0.231939, odds: 0.301981\n",
      "gre: 391, probability: 0.232281, odds: 0.302560\n",
      "gre: 392, probability: 0.232623, odds: 0.303140\n",
      "gre: 393, probability: 0.232965, odds: 0.303721\n",
      "gre: 394, probability: 0.233307, odds: 0.304304\n",
      "gre: 395, probability: 0.233650, odds: 0.304887\n",
      "gre: 396, probability: 0.233993, odds: 0.305472\n",
      "gre: 397, probability: 0.234337, odds: 0.306058\n",
      "gre: 398, probability: 0.234681, odds: 0.306644\n",
      "gre: 399, probability: 0.235025, odds: 0.307232\n",
      "gre: 400, probability: 0.235370, odds: 0.307822\n",
      "gre: 401, probability: 0.235715, odds: 0.308412\n",
      "gre: 402, probability: 0.236060, odds: 0.309003\n",
      "gre: 403, probability: 0.236406, odds: 0.309596\n",
      "gre: 404, probability: 0.236752, odds: 0.310190\n",
      "gre: 405, probability: 0.237098, odds: 0.310784\n",
      "gre: 406, probability: 0.237445, odds: 0.311380\n",
      "gre: 407, probability: 0.237792, odds: 0.311977\n",
      "gre: 408, probability: 0.238139, odds: 0.312576\n",
      "gre: 409, probability: 0.238487, odds: 0.313175\n",
      "gre: 410, probability: 0.238835, odds: 0.313776\n",
      "gre: 411, probability: 0.239183, odds: 0.314377\n",
      "gre: 412, probability: 0.239532, odds: 0.314980\n",
      "gre: 413, probability: 0.239881, odds: 0.315584\n",
      "gre: 414, probability: 0.240231, odds: 0.316189\n",
      "gre: 415, probability: 0.240581, odds: 0.316796\n",
      "gre: 416, probability: 0.240931, odds: 0.317403\n",
      "gre: 417, probability: 0.241281, odds: 0.318012\n",
      "gre: 418, probability: 0.241632, odds: 0.318622\n",
      "gre: 419, probability: 0.241984, odds: 0.319233\n",
      "gre: 420, probability: 0.242335, odds: 0.319845\n",
      "gre: 421, probability: 0.242687, odds: 0.320458\n",
      "gre: 422, probability: 0.243039, odds: 0.321073\n",
      "gre: 423, probability: 0.243392, odds: 0.321688\n",
      "gre: 424, probability: 0.243745, odds: 0.322305\n",
      "gre: 425, probability: 0.244098, odds: 0.322923\n",
      "gre: 426, probability: 0.244452, odds: 0.323543\n",
      "gre: 427, probability: 0.244806, odds: 0.324163\n",
      "gre: 428, probability: 0.245160, odds: 0.324785\n",
      "gre: 429, probability: 0.245515, odds: 0.325407\n",
      "gre: 430, probability: 0.245870, odds: 0.326031\n",
      "gre: 431, probability: 0.246225, odds: 0.326657\n",
      "gre: 432, probability: 0.246581, odds: 0.327283\n",
      "gre: 433, probability: 0.246937, odds: 0.327911\n",
      "gre: 434, probability: 0.247294, odds: 0.328539\n",
      "gre: 435, probability: 0.247650, odds: 0.329169\n",
      "gre: 436, probability: 0.248008, odds: 0.329801\n",
      "gre: 437, probability: 0.248365, odds: 0.330433\n",
      "gre: 438, probability: 0.248723, odds: 0.331067\n",
      "gre: 439, probability: 0.249081, odds: 0.331702\n",
      "gre: 440, probability: 0.249439, odds: 0.332338\n",
      "gre: 441, probability: 0.249798, odds: 0.332975\n",
      "gre: 442, probability: 0.250158, odds: 0.333613\n",
      "gre: 443, probability: 0.250517, odds: 0.334253\n",
      "gre: 444, probability: 0.250877, odds: 0.334894\n",
      "gre: 445, probability: 0.251237, odds: 0.335536\n",
      "gre: 446, probability: 0.251598, odds: 0.336180\n",
      "gre: 447, probability: 0.251959, odds: 0.336824\n",
      "gre: 448, probability: 0.252320, odds: 0.337470\n",
      "gre: 449, probability: 0.252681, odds: 0.338117\n",
      "gre: 450, probability: 0.253043, odds: 0.338766\n",
      "gre: 451, probability: 0.253406, odds: 0.339415\n",
      "gre: 452, probability: 0.253768, odds: 0.340066\n",
      "gre: 453, probability: 0.254131, odds: 0.340718\n",
      "gre: 454, probability: 0.254495, odds: 0.341372\n",
      "gre: 455, probability: 0.254858, odds: 0.342026\n",
      "gre: 456, probability: 0.255222, odds: 0.342682\n",
      "gre: 457, probability: 0.255586, odds: 0.343339\n",
      "gre: 458, probability: 0.255951, odds: 0.343998\n",
      "gre: 459, probability: 0.256316, odds: 0.344657\n",
      "gre: 460, probability: 0.256682, odds: 0.345318\n",
      "gre: 461, probability: 0.257047, odds: 0.345981\n",
      "gre: 462, probability: 0.257413, odds: 0.346644\n",
      "gre: 463, probability: 0.257780, odds: 0.347309\n",
      "gre: 464, probability: 0.258146, odds: 0.347975\n",
      "gre: 465, probability: 0.258513, odds: 0.348642\n",
      "gre: 466, probability: 0.258881, odds: 0.349311\n",
      "gre: 467, probability: 0.259249, odds: 0.349980\n",
      "gre: 468, probability: 0.259617, odds: 0.350652\n",
      "gre: 469, probability: 0.259985, odds: 0.351324\n",
      "gre: 470, probability: 0.260354, odds: 0.351998\n",
      "gre: 471, probability: 0.260723, odds: 0.352673\n",
      "gre: 472, probability: 0.261092, odds: 0.353349\n",
      "gre: 473, probability: 0.261462, odds: 0.354027\n",
      "gre: 474, probability: 0.261832, odds: 0.354705\n",
      "gre: 475, probability: 0.262203, odds: 0.355386\n",
      "gre: 476, probability: 0.262573, odds: 0.356067\n",
      "gre: 477, probability: 0.262944, odds: 0.356750\n",
      "gre: 478, probability: 0.263316, odds: 0.357434\n",
      "gre: 479, probability: 0.263688, odds: 0.358119\n",
      "gre: 480, probability: 0.264060, odds: 0.358806\n",
      "gre: 481, probability: 0.264432, odds: 0.359494\n",
      "gre: 482, probability: 0.264805, odds: 0.360184\n",
      "gre: 483, probability: 0.265178, odds: 0.360874\n",
      "gre: 484, probability: 0.265552, odds: 0.361566\n",
      "gre: 485, probability: 0.265926, odds: 0.362260\n",
      "gre: 486, probability: 0.266300, odds: 0.362954\n",
      "gre: 487, probability: 0.266674, odds: 0.363650\n",
      "gre: 488, probability: 0.267049, odds: 0.364348\n",
      "gre: 489, probability: 0.267424, odds: 0.365046\n",
      "gre: 490, probability: 0.267800, odds: 0.365746\n",
      "gre: 491, probability: 0.268175, odds: 0.366448\n",
      "gre: 492, probability: 0.268552, odds: 0.367150\n",
      "gre: 493, probability: 0.268928, odds: 0.367854\n",
      "gre: 494, probability: 0.269305, odds: 0.368560\n",
      "gre: 495, probability: 0.269682, odds: 0.369267\n",
      "gre: 496, probability: 0.270060, odds: 0.369975\n",
      "gre: 497, probability: 0.270437, odds: 0.370684\n",
      "gre: 498, probability: 0.270815, odds: 0.371395\n",
      "gre: 499, probability: 0.271194, odds: 0.372107\n",
      "gre: 500, probability: 0.271573, odds: 0.372821\n",
      "gre: 501, probability: 0.271952, odds: 0.373536\n",
      "gre: 502, probability: 0.272331, odds: 0.374252\n",
      "gre: 503, probability: 0.272711, odds: 0.374970\n",
      "gre: 504, probability: 0.273091, odds: 0.375689\n",
      "gre: 505, probability: 0.273472, odds: 0.376409\n",
      "gre: 506, probability: 0.273853, odds: 0.377131\n",
      "gre: 507, probability: 0.274234, odds: 0.377854\n",
      "gre: 508, probability: 0.274615, odds: 0.378579\n",
      "gre: 509, probability: 0.274997, odds: 0.379305\n",
      "gre: 510, probability: 0.275379, odds: 0.380032\n",
      "gre: 511, probability: 0.275762, odds: 0.380761\n",
      "gre: 512, probability: 0.276144, odds: 0.381491\n",
      "gre: 513, probability: 0.276527, odds: 0.382222\n",
      "gre: 514, probability: 0.276911, odds: 0.382955\n",
      "gre: 515, probability: 0.277295, odds: 0.383690\n",
      "gre: 516, probability: 0.277679, odds: 0.384426\n",
      "gre: 517, probability: 0.278063, odds: 0.385163\n",
      "gre: 518, probability: 0.278448, odds: 0.385901\n",
      "gre: 519, probability: 0.278833, odds: 0.386641\n",
      "gre: 520, probability: 0.279218, odds: 0.387383\n",
      "gre: 521, probability: 0.279604, odds: 0.388126\n",
      "gre: 522, probability: 0.279990, odds: 0.388870\n",
      "gre: 523, probability: 0.280377, odds: 0.389616\n",
      "gre: 524, probability: 0.280763, odds: 0.390363\n",
      "gre: 525, probability: 0.281150, odds: 0.391111\n",
      "gre: 526, probability: 0.281538, odds: 0.391861\n",
      "gre: 527, probability: 0.281925, odds: 0.392613\n",
      "gre: 528, probability: 0.282313, odds: 0.393366\n",
      "gre: 529, probability: 0.282702, odds: 0.394120\n",
      "gre: 530, probability: 0.283090, odds: 0.394876\n",
      "gre: 531, probability: 0.283479, odds: 0.395633\n",
      "gre: 532, probability: 0.283869, odds: 0.396392\n",
      "gre: 533, probability: 0.284258, odds: 0.397152\n",
      "gre: 534, probability: 0.284648, odds: 0.397913\n",
      "gre: 535, probability: 0.285038, odds: 0.398676\n",
      "gre: 536, probability: 0.285429, odds: 0.399441\n",
      "gre: 537, probability: 0.285820, odds: 0.400207\n",
      "gre: 538, probability: 0.286211, odds: 0.400974\n",
      "gre: 539, probability: 0.286603, odds: 0.401743\n",
      "gre: 540, probability: 0.286994, odds: 0.402514\n",
      "gre: 541, probability: 0.287387, odds: 0.403285\n",
      "gre: 542, probability: 0.287779, odds: 0.404059\n",
      "gre: 543, probability: 0.288172, odds: 0.404834\n",
      "gre: 544, probability: 0.288565, odds: 0.405610\n",
      "gre: 545, probability: 0.288959, odds: 0.406388\n",
      "gre: 546, probability: 0.289352, odds: 0.407167\n",
      "gre: 547, probability: 0.289746, odds: 0.407948\n",
      "gre: 548, probability: 0.290141, odds: 0.408730\n",
      "gre: 549, probability: 0.290536, odds: 0.409514\n",
      "gre: 550, probability: 0.290931, odds: 0.410299\n",
      "gre: 551, probability: 0.291326, odds: 0.411086\n",
      "gre: 552, probability: 0.291722, odds: 0.411874\n",
      "gre: 553, probability: 0.292118, odds: 0.412664\n",
      "gre: 554, probability: 0.292514, odds: 0.413455\n",
      "gre: 555, probability: 0.292911, odds: 0.414248\n",
      "gre: 556, probability: 0.293308, odds: 0.415043\n",
      "gre: 557, probability: 0.293705, odds: 0.415839\n",
      "gre: 558, probability: 0.294102, odds: 0.416636\n",
      "gre: 559, probability: 0.294500, odds: 0.417435\n",
      "gre: 560, probability: 0.294898, odds: 0.418235\n",
      "gre: 561, probability: 0.295297, odds: 0.419037\n",
      "gre: 562, probability: 0.295696, odds: 0.419841\n",
      "gre: 563, probability: 0.296095, odds: 0.420646\n",
      "gre: 564, probability: 0.296494, odds: 0.421453\n",
      "gre: 565, probability: 0.296894, odds: 0.422261\n",
      "gre: 566, probability: 0.297294, odds: 0.423071\n",
      "gre: 567, probability: 0.297695, odds: 0.423882\n",
      "gre: 568, probability: 0.298095, odds: 0.424695\n",
      "gre: 569, probability: 0.298496, odds: 0.425509\n",
      "gre: 570, probability: 0.298898, odds: 0.426325\n",
      "gre: 571, probability: 0.299299, odds: 0.427143\n",
      "gre: 572, probability: 0.299701, odds: 0.427962\n",
      "gre: 573, probability: 0.300103, odds: 0.428782\n",
      "gre: 574, probability: 0.300506, odds: 0.429605\n",
      "gre: 575, probability: 0.300909, odds: 0.430428\n",
      "gre: 576, probability: 0.301312, odds: 0.431254\n",
      "gre: 577, probability: 0.301715, odds: 0.432081\n",
      "gre: 578, probability: 0.302119, odds: 0.432909\n",
      "gre: 579, probability: 0.302523, odds: 0.433739\n",
      "gre: 580, probability: 0.302928, odds: 0.434571\n",
      "gre: 581, probability: 0.303332, odds: 0.435405\n",
      "gre: 582, probability: 0.303737, odds: 0.436239\n",
      "gre: 583, probability: 0.304143, odds: 0.437076\n",
      "gre: 584, probability: 0.304548, odds: 0.437914\n",
      "gre: 585, probability: 0.304954, odds: 0.438754\n",
      "gre: 586, probability: 0.305360, odds: 0.439595\n",
      "gre: 587, probability: 0.305767, odds: 0.440438\n",
      "gre: 588, probability: 0.306174, odds: 0.441283\n",
      "gre: 589, probability: 0.306581, odds: 0.442129\n",
      "gre: 590, probability: 0.306988, odds: 0.442977\n",
      "gre: 591, probability: 0.307396, odds: 0.443826\n",
      "gre: 592, probability: 0.307804, odds: 0.444677\n",
      "gre: 593, probability: 0.308212, odds: 0.445530\n",
      "gre: 594, probability: 0.308621, odds: 0.446384\n",
      "gre: 595, probability: 0.309030, odds: 0.447240\n",
      "gre: 596, probability: 0.309439, odds: 0.448098\n",
      "gre: 597, probability: 0.309849, odds: 0.448957\n",
      "gre: 598, probability: 0.310258, odds: 0.449818\n",
      "gre: 599, probability: 0.310669, odds: 0.450681\n",
      "gre: 600, probability: 0.311079, odds: 0.451545\n",
      "gre: 601, probability: 0.311490, odds: 0.452411\n",
      "gre: 602, probability: 0.311901, odds: 0.453279\n",
      "gre: 603, probability: 0.312312, odds: 0.454148\n",
      "gre: 604, probability: 0.312724, odds: 0.455019\n",
      "gre: 605, probability: 0.313135, odds: 0.455891\n",
      "gre: 606, probability: 0.313548, odds: 0.456765\n",
      "gre: 607, probability: 0.313960, odds: 0.457641\n",
      "gre: 608, probability: 0.314373, odds: 0.458519\n",
      "gre: 609, probability: 0.314786, odds: 0.459398\n",
      "gre: 610, probability: 0.315199, odds: 0.460279\n",
      "gre: 611, probability: 0.315613, odds: 0.461162\n",
      "gre: 612, probability: 0.316027, odds: 0.462046\n",
      "gre: 613, probability: 0.316441, odds: 0.462932\n",
      "gre: 614, probability: 0.316856, odds: 0.463820\n",
      "gre: 615, probability: 0.317271, odds: 0.464709\n",
      "gre: 616, probability: 0.317686, odds: 0.465600\n",
      "gre: 617, probability: 0.318101, odds: 0.466493\n",
      "gre: 618, probability: 0.318517, odds: 0.467388\n",
      "gre: 619, probability: 0.318933, odds: 0.468284\n",
      "gre: 620, probability: 0.319349, odds: 0.469182\n",
      "gre: 621, probability: 0.319766, odds: 0.470082\n",
      "gre: 622, probability: 0.320183, odds: 0.470983\n",
      "gre: 623, probability: 0.320600, odds: 0.471886\n",
      "gre: 624, probability: 0.321017, odds: 0.472791\n",
      "gre: 625, probability: 0.321435, odds: 0.473698\n",
      "gre: 626, probability: 0.321853, odds: 0.474606\n",
      "gre: 627, probability: 0.322271, odds: 0.475516\n",
      "gre: 628, probability: 0.322690, odds: 0.476428\n",
      "gre: 629, probability: 0.323109, odds: 0.477342\n",
      "gre: 630, probability: 0.323528, odds: 0.478257\n",
      "gre: 631, probability: 0.323947, odds: 0.479174\n",
      "gre: 632, probability: 0.324367, odds: 0.480093\n",
      "gre: 633, probability: 0.324787, odds: 0.481014\n",
      "gre: 634, probability: 0.325207, odds: 0.481936\n",
      "gre: 635, probability: 0.325628, odds: 0.482860\n",
      "gre: 636, probability: 0.326048, odds: 0.483786\n",
      "gre: 637, probability: 0.326470, odds: 0.484714\n",
      "gre: 638, probability: 0.326891, odds: 0.485643\n",
      "gre: 639, probability: 0.327313, odds: 0.486575\n",
      "gre: 640, probability: 0.327735, odds: 0.487508\n",
      "gre: 641, probability: 0.328157, odds: 0.488443\n",
      "gre: 642, probability: 0.328579, odds: 0.489379\n",
      "gre: 643, probability: 0.329002, odds: 0.490318\n",
      "gre: 644, probability: 0.329425, odds: 0.491258\n",
      "gre: 645, probability: 0.329849, odds: 0.492200\n",
      "gre: 646, probability: 0.330272, odds: 0.493144\n",
      "gre: 647, probability: 0.330696, odds: 0.494090\n",
      "gre: 648, probability: 0.331120, odds: 0.495037\n",
      "gre: 649, probability: 0.331545, odds: 0.495986\n",
      "gre: 650, probability: 0.331969, odds: 0.496937\n",
      "gre: 651, probability: 0.332394, odds: 0.497890\n",
      "gre: 652, probability: 0.332820, odds: 0.498845\n",
      "gre: 653, probability: 0.333245, odds: 0.499802\n",
      "gre: 654, probability: 0.333671, odds: 0.500760\n",
      "gre: 655, probability: 0.334097, odds: 0.501720\n",
      "gre: 656, probability: 0.334523, odds: 0.502682\n",
      "gre: 657, probability: 0.334950, odds: 0.503646\n",
      "gre: 658, probability: 0.335377, odds: 0.504612\n",
      "gre: 659, probability: 0.335804, odds: 0.505580\n",
      "gre: 660, probability: 0.336232, odds: 0.506549\n",
      "gre: 661, probability: 0.336659, odds: 0.507521\n",
      "gre: 662, probability: 0.337087, odds: 0.508494\n",
      "gre: 663, probability: 0.337515, odds: 0.509469\n",
      "gre: 664, probability: 0.337944, odds: 0.510446\n",
      "gre: 665, probability: 0.338373, odds: 0.511425\n",
      "gre: 666, probability: 0.338802, odds: 0.512406\n",
      "gre: 667, probability: 0.339231, odds: 0.513388\n",
      "gre: 668, probability: 0.339661, odds: 0.514373\n",
      "gre: 669, probability: 0.340090, odds: 0.515359\n",
      "gre: 670, probability: 0.340520, odds: 0.516347\n",
      "gre: 671, probability: 0.340951, odds: 0.517337\n",
      "gre: 672, probability: 0.341381, odds: 0.518329\n",
      "gre: 673, probability: 0.341812, odds: 0.519323\n",
      "gre: 674, probability: 0.342243, odds: 0.520319\n",
      "gre: 675, probability: 0.342675, odds: 0.521317\n",
      "gre: 676, probability: 0.343106, odds: 0.522317\n",
      "gre: 677, probability: 0.343538, odds: 0.523318\n",
      "gre: 678, probability: 0.343971, odds: 0.524322\n",
      "gre: 679, probability: 0.344403, odds: 0.525327\n",
      "gre: 680, probability: 0.344836, odds: 0.526335\n",
      "gre: 681, probability: 0.345269, odds: 0.527344\n",
      "gre: 682, probability: 0.345702, odds: 0.528355\n",
      "gre: 683, probability: 0.346135, odds: 0.529368\n",
      "gre: 684, probability: 0.346569, odds: 0.530384\n",
      "gre: 685, probability: 0.347003, odds: 0.531401\n",
      "gre: 686, probability: 0.347437, odds: 0.532420\n",
      "gre: 687, probability: 0.347872, odds: 0.533441\n",
      "gre: 688, probability: 0.348306, odds: 0.534464\n",
      "gre: 689, probability: 0.348741, odds: 0.535488\n",
      "gre: 690, probability: 0.349177, odds: 0.536515\n",
      "gre: 691, probability: 0.349612, odds: 0.537544\n",
      "gre: 692, probability: 0.350048, odds: 0.538575\n",
      "gre: 693, probability: 0.350484, odds: 0.539608\n",
      "gre: 694, probability: 0.350920, odds: 0.540642\n",
      "gre: 695, probability: 0.351357, odds: 0.541679\n",
      "gre: 696, probability: 0.351793, odds: 0.542718\n",
      "gre: 697, probability: 0.352230, odds: 0.543759\n",
      "gre: 698, probability: 0.352668, odds: 0.544801\n",
      "gre: 699, probability: 0.353105, odds: 0.545846\n",
      "gre: 700, probability: 0.353543, odds: 0.546893\n",
      "gre: 701, probability: 0.353981, odds: 0.547942\n",
      "gre: 702, probability: 0.354419, odds: 0.548992\n",
      "gre: 703, probability: 0.354857, odds: 0.550045\n",
      "gre: 704, probability: 0.355296, odds: 0.551100\n",
      "gre: 705, probability: 0.355735, odds: 0.552157\n",
      "gre: 706, probability: 0.356174, odds: 0.553215\n",
      "gre: 707, probability: 0.356614, odds: 0.554276\n",
      "gre: 708, probability: 0.357053, odds: 0.555339\n",
      "gre: 709, probability: 0.357493, odds: 0.556404\n",
      "gre: 710, probability: 0.357933, odds: 0.557471\n",
      "gre: 711, probability: 0.358374, odds: 0.558540\n",
      "gre: 712, probability: 0.358815, odds: 0.559611\n",
      "gre: 713, probability: 0.359255, odds: 0.560684\n",
      "gre: 714, probability: 0.359696, odds: 0.561759\n",
      "gre: 715, probability: 0.360138, odds: 0.562837\n",
      "gre: 716, probability: 0.360579, odds: 0.563916\n",
      "gre: 717, probability: 0.361021, odds: 0.564997\n",
      "gre: 718, probability: 0.361463, odds: 0.566081\n",
      "gre: 719, probability: 0.361906, odds: 0.567166\n",
      "gre: 720, probability: 0.362348, odds: 0.568254\n",
      "gre: 721, probability: 0.362791, odds: 0.569344\n",
      "gre: 722, probability: 0.363234, odds: 0.570435\n",
      "gre: 723, probability: 0.363677, odds: 0.571529\n",
      "gre: 724, probability: 0.364121, odds: 0.572625\n",
      "gre: 725, probability: 0.364564, odds: 0.573723\n",
      "gre: 726, probability: 0.365008, odds: 0.574823\n",
      "gre: 727, probability: 0.365452, odds: 0.575926\n",
      "gre: 728, probability: 0.365897, odds: 0.577030\n",
      "gre: 729, probability: 0.366341, odds: 0.578137\n",
      "gre: 730, probability: 0.366786, odds: 0.579245\n",
      "gre: 731, probability: 0.367231, odds: 0.580356\n",
      "gre: 732, probability: 0.367676, odds: 0.581469\n",
      "gre: 733, probability: 0.368122, odds: 0.582584\n",
      "gre: 734, probability: 0.368568, odds: 0.583701\n",
      "gre: 735, probability: 0.369014, odds: 0.584820\n",
      "gre: 736, probability: 0.369460, odds: 0.585942\n",
      "gre: 737, probability: 0.369906, odds: 0.587066\n",
      "gre: 738, probability: 0.370353, odds: 0.588191\n",
      "gre: 739, probability: 0.370800, odds: 0.589319\n",
      "gre: 740, probability: 0.371247, odds: 0.590449\n",
      "gre: 741, probability: 0.371694, odds: 0.591582\n",
      "gre: 742, probability: 0.372142, odds: 0.592716\n",
      "gre: 743, probability: 0.372589, odds: 0.593853\n",
      "gre: 744, probability: 0.373037, odds: 0.594991\n",
      "gre: 745, probability: 0.373486, odds: 0.596132\n",
      "gre: 746, probability: 0.373934, odds: 0.597275\n",
      "gre: 747, probability: 0.374383, odds: 0.598421\n",
      "gre: 748, probability: 0.374831, odds: 0.599568\n",
      "gre: 749, probability: 0.375280, odds: 0.600718\n",
      "gre: 750, probability: 0.375730, odds: 0.601870\n",
      "gre: 751, probability: 0.376179, odds: 0.603024\n",
      "gre: 752, probability: 0.376629, odds: 0.604181\n",
      "gre: 753, probability: 0.377079, odds: 0.605339\n",
      "gre: 754, probability: 0.377529, odds: 0.606500\n",
      "gre: 755, probability: 0.377979, odds: 0.607663\n",
      "gre: 756, probability: 0.378430, odds: 0.608828\n",
      "gre: 757, probability: 0.378880, odds: 0.609996\n",
      "gre: 758, probability: 0.379331, odds: 0.611165\n",
      "gre: 759, probability: 0.379782, odds: 0.612337\n",
      "gre: 760, probability: 0.380234, odds: 0.613512\n",
      "gre: 761, probability: 0.380685, odds: 0.614688\n",
      "gre: 762, probability: 0.381137, odds: 0.615867\n",
      "gre: 763, probability: 0.381589, odds: 0.617048\n",
      "gre: 764, probability: 0.382041, odds: 0.618231\n",
      "gre: 765, probability: 0.382494, odds: 0.619417\n",
      "gre: 766, probability: 0.382946, odds: 0.620604\n",
      "gre: 767, probability: 0.383399, odds: 0.621795\n",
      "gre: 768, probability: 0.383852, odds: 0.622987\n",
      "gre: 769, probability: 0.384305, odds: 0.624182\n",
      "gre: 770, probability: 0.384759, odds: 0.625378\n",
      "gre: 771, probability: 0.385212, odds: 0.626578\n",
      "gre: 772, probability: 0.385666, odds: 0.627779\n",
      "gre: 773, probability: 0.386120, odds: 0.628983\n",
      "gre: 774, probability: 0.386574, odds: 0.630189\n",
      "gre: 775, probability: 0.387029, odds: 0.631398\n",
      "gre: 776, probability: 0.387483, odds: 0.632608\n",
      "gre: 777, probability: 0.387938, odds: 0.633822\n",
      "gre: 778, probability: 0.388393, odds: 0.635037\n",
      "gre: 779, probability: 0.388848, odds: 0.636255\n",
      "gre: 780, probability: 0.389304, odds: 0.637475\n",
      "gre: 781, probability: 0.389759, odds: 0.638697\n",
      "gre: 782, probability: 0.390215, odds: 0.639922\n",
      "gre: 783, probability: 0.390671, odds: 0.641149\n",
      "gre: 784, probability: 0.391127, odds: 0.642379\n",
      "gre: 785, probability: 0.391583, odds: 0.643610\n",
      "gre: 786, probability: 0.392040, odds: 0.644845\n",
      "gre: 787, probability: 0.392497, odds: 0.646081\n",
      "gre: 788, probability: 0.392953, odds: 0.647320\n",
      "gre: 789, probability: 0.393411, odds: 0.648561\n",
      "gre: 790, probability: 0.393868, odds: 0.649805\n",
      "gre: 791, probability: 0.394325, odds: 0.651051\n",
      "gre: 792, probability: 0.394783, odds: 0.652300\n",
      "gre: 793, probability: 0.395241, odds: 0.653551\n",
      "gre: 794, probability: 0.395699, odds: 0.654804\n",
      "gre: 795, probability: 0.396157, odds: 0.656059\n",
      "gre: 796, probability: 0.396615, odds: 0.657317\n",
      "gre: 797, probability: 0.397074, odds: 0.658578\n",
      "gre: 798, probability: 0.397533, odds: 0.659841\n",
      "gre: 799, probability: 0.397992, odds: 0.661106\n",
      "gre: 800, probability: 0.398451, odds: 0.662374\n"
     ]
    }
   ],
   "source": [
    "gpa = df['gpa'].mean()\n",
    "rank = df['rank'].mean()\n",
    "feature_matrix = []\n",
    "gres = range(df['gre'].min(), df['gre'].max() + 1)\n",
    "for gre in gres:\n",
    "    feature_matrix.append([gre, gpa, rank])\n",
    "X_gre = np.array(feature_matrix)\n",
    "\n",
    "probabilities_gre = model.predict_proba(X_gre)[:, 1]\n",
    "for gre, prob in zip(gres, probabilities_gre):\n",
    "    print \"gre: %d, probability: %f, odds: %f\" % (gre, prob, prob / (1 - prob))"
   ]
  },
  {
   "cell_type": "code",
   "execution_count": 75,
   "metadata": {
    "collapsed": false
   },
   "outputs": [
    {
     "data": {
      "image/png": "[encoded data removed]",
      "text/plain": [
       "<matplotlib.figure.Figure at 0x10b2874d0>"
      ]
     },
     "metadata": {},
     "output_type": "display_data"
    }
   ],
   "source": [
    "plt.plot(gres, probabilities_gre)\n",
    "plt.xlabel(\"gre\")\n",
    "plt.ylabel(\"probability\")\n",
    "plt.title(\"Affect of modifying the GRE on probability of acceptance\")\n",
    "plt.show()"
   ]
  },
  {
   "cell_type": "code",
   "execution_count": 76,
   "metadata": {
    "collapsed": false
   },
   "outputs": [
    {
     "data": {
      "image/png": "[encoded data removed]",
      "text/plain": [
       "<matplotlib.figure.Figure at 0x10b285e10>"
      ]
     },
     "metadata": {},
     "output_type": "display_data"
    }
   ],
   "source": [
    "odds_gre = probabilities_gre / (1 - probabilities_gre)\n",
    "plt.plot(gres, odds_gre)\n",
    "plt.xlabel(\"gre\")\n",
    "plt.ylabel(\"odds\")\n",
    "plt.title(\"Affect of modifying the GRE on odds of acceptance\")\n",
    "plt.show()"
   ]
  },
  {
   "cell_type": "code",
   "execution_count": 77,
   "metadata": {
    "collapsed": false
   },
   "outputs": [
    {
     "data": {
      "image/png": "[encoded data removed]",
      "text/plain": [
       "<matplotlib.figure.Figure at 0x10a35ffd0>"
      ]
     },
     "metadata": {},
     "output_type": "display_data"
    }
   ],
   "source": [
    "plt.plot(gres, np.log(odds_gre))\n",
    "plt.xlabel(\"gre\")\n",
    "plt.ylabel(\"log odds\")\n",
    "plt.title(\"Affect of modifying the GRE on log of odds of acceptance\")\n",
    "plt.show()"
   ]
  },
  {
   "cell_type": "code",
   "execution_count": 79,
   "metadata": {
    "collapsed": false
   },
   "outputs": [
    {
     "name": "stdout",
     "output_type": "stream",
     "text": [
      "gpa: 2, probability: 0.246314, odds: 0.326813\n",
      "gpa: 3, probability: 0.288491, odds: 0.405464\n",
      "gpa: 4, probability: 0.334683, odds: 0.503043\n"
     ]
    }
   ],
   "source": [
    "gre = df['gre'].mean()\n",
    "rank = df['rank'].mean()\n",
    "feature_matrix = []\n",
    "gpas = range(int(np.floor(df['gpa'].min())), int(np.ceil(df['gpa'].max() + 1)))\n",
    "for gpa in gpas:\n",
    "    feature_matrix.append([gre, gpa, rank])\n",
    "X_gpa = np.array(feature_matrix)\n",
    "\n",
    "probabilities_gpa = model.predict_proba(X_gpa)[:, 1]\n",
    "for gpa, prob in zip(gpas, probabilities_gpa):\n",
    "    print \"gpa: %d, probability: %f, odds: %f\" % (gpa, prob, prob / (1 - prob))"
   ]
  },
  {
   "cell_type": "code",
   "execution_count": 80,
   "metadata": {
    "collapsed": false
   },
   "outputs": [
    {
     "data": {
      "image/png": "[encoded data removed]",
      "text/plain": [
       "<matplotlib.figure.Figure at 0x10ae85790>"
      ]
     },
     "metadata": {},
     "output_type": "display_data"
    }
   ],
   "source": [
    "plt.plot(gpas, probabilities_gpa)\n",
    "plt.xlabel(\"GPA\")\n",
    "plt.ylabel(\"probability\")\n",
    "plt.title(\"Affect of modifying the GPA on probability of acceptance\")\n",
    "plt.show()"
   ]
  },
  {
   "cell_type": "code",
   "execution_count": 81,
   "metadata": {
    "collapsed": false
   },
   "outputs": [
    {
     "data": {
      "image/png": "[encoded data removed]",
      "text/plain": [
       "<matplotlib.figure.Figure at 0x10af6e990>"
      ]
     },
     "metadata": {},
     "output_type": "display_data"
    }
   ],
   "source": [
    "odds_gpa = probabilities_gpa / (1 - probabilities_gpa)\n",
    "plt.plot(gpas, odds_gpa)\n",
    "plt.xlabel(\"gpa\")\n",
    "plt.ylabel(\"odds\")\n",
    "plt.title(\"Affect of modifying the GPA on odds of acceptance\")\n",
    "plt.show()"
   ]
  },
  {
   "cell_type": "code",
   "execution_count": 82,
   "metadata": {
    "collapsed": false
   },
   "outputs": [
    {
     "data": {
      "image/png": "[encoded data removed]",
      "text/plain": [
       "<matplotlib.figure.Figure at 0x10aacf8d0>"
      ]
     },
     "metadata": {},
     "output_type": "display_data"
    }
   ],
   "source": [
    "plt.plot(gpas, np.log(odds_gpa))\n",
    "plt.xlabel(\"gpa\")\n",
    "plt.ylabel(\"log odds\")\n",
    "plt.title(\"Affect of modifying the GPA on log of odds of acceptance\")\n",
    "plt.show()"
   ]
  },
  {
   "cell_type": "markdown",
   "metadata": {},
   "source": [
    "##Harvard and MIT MOOC dataset!"
   ]
  },
  {
   "cell_type": "markdown",
   "metadata": {},
   "source": [
    "Harvard and MIT have [released](http://newsoffice.mit.edu/2014/mit-and-harvard-release-de-identified-learning-data-open-online-courses) a great dataset around engagement statistics for their MOOC courses. The data is in `data/mooc.csv` and a description of the dataset can be found in `data/mooc.pdf`.\n",
    "\n",
    "One of the biggest issues with MOOCs is engagement. We will try to predict the probability of 'engagement' of a student given all the other columns.  We will define engagement here as either: `explored == 1 OR certified == 1`."
   ]
  },
  {
   "cell_type": "markdown",
   "metadata": {},
   "source": [
    "###EDA"
   ]
  },
  {
   "cell_type": "code",
   "execution_count": 151,
   "metadata": {
    "collapsed": true
   },
   "outputs": [],
   "source": [
    "df_mooc = pd.read_csv('data/mooc.csv')"
   ]
  },
  {
   "cell_type": "code",
   "execution_count": 4,
   "metadata": {
    "collapsed": false
   },
   "outputs": [
    {
     "data": {
      "text/html": [
       "<div style=\"max-height:1000px;max-width:1500px;overflow:auto;\">\n",
       "<table border=\"1\" class=\"dataframe\">\n",
       "  <thead>\n",
       "    <tr style=\"text-align: right;\">\n",
       "      <th></th>\n",
       "      <th>course_id</th>\n",
       "      <th>userid_DI</th>\n",
       "      <th>registered</th>\n",
       "      <th>viewed</th>\n",
       "      <th>explored</th>\n",
       "      <th>certified</th>\n",
       "      <th>final_cc_cname_DI</th>\n",
       "      <th>LoE_DI</th>\n",
       "      <th>YoB</th>\n",
       "      <th>gender</th>\n",
       "      <th>grade</th>\n",
       "      <th>start_time_DI</th>\n",
       "      <th>last_event_DI</th>\n",
       "      <th>nevents</th>\n",
       "      <th>ndays_act</th>\n",
       "      <th>nplay_video</th>\n",
       "      <th>nchapters</th>\n",
       "      <th>nforum_posts</th>\n",
       "      <th>roles</th>\n",
       "      <th>incomplete_flag</th>\n",
       "    </tr>\n",
       "  </thead>\n",
       "  <tbody>\n",
       "    <tr>\n",
       "      <th>0</th>\n",
       "      <td> HarvardX/CB22x/2013_Spring</td>\n",
       "      <td> MHxPC130442623</td>\n",
       "      <td> 1</td>\n",
       "      <td> 0</td>\n",
       "      <td> 0</td>\n",
       "      <td> 0</td>\n",
       "      <td> United States</td>\n",
       "      <td> NaN</td>\n",
       "      <td>NaN</td>\n",
       "      <td> NaN</td>\n",
       "      <td> 0</td>\n",
       "      <td> 2012-12-19</td>\n",
       "      <td> 2013-11-17</td>\n",
       "      <td>NaN</td>\n",
       "      <td>  9</td>\n",
       "      <td>NaN</td>\n",
       "      <td>NaN</td>\n",
       "      <td> 0</td>\n",
       "      <td>NaN</td>\n",
       "      <td> 1</td>\n",
       "    </tr>\n",
       "    <tr>\n",
       "      <th>1</th>\n",
       "      <td>        HarvardX/CS50x/2012</td>\n",
       "      <td> MHxPC130442623</td>\n",
       "      <td> 1</td>\n",
       "      <td> 1</td>\n",
       "      <td> 0</td>\n",
       "      <td> 0</td>\n",
       "      <td> United States</td>\n",
       "      <td> NaN</td>\n",
       "      <td>NaN</td>\n",
       "      <td> NaN</td>\n",
       "      <td> 0</td>\n",
       "      <td> 2012-10-15</td>\n",
       "      <td>        NaN</td>\n",
       "      <td>NaN</td>\n",
       "      <td>  9</td>\n",
       "      <td>NaN</td>\n",
       "      <td>  1</td>\n",
       "      <td> 0</td>\n",
       "      <td>NaN</td>\n",
       "      <td> 1</td>\n",
       "    </tr>\n",
       "    <tr>\n",
       "      <th>2</th>\n",
       "      <td> HarvardX/CB22x/2013_Spring</td>\n",
       "      <td> MHxPC130275857</td>\n",
       "      <td> 1</td>\n",
       "      <td> 0</td>\n",
       "      <td> 0</td>\n",
       "      <td> 0</td>\n",
       "      <td> United States</td>\n",
       "      <td> NaN</td>\n",
       "      <td>NaN</td>\n",
       "      <td> NaN</td>\n",
       "      <td> 0</td>\n",
       "      <td> 2013-02-08</td>\n",
       "      <td> 2013-11-17</td>\n",
       "      <td>NaN</td>\n",
       "      <td> 16</td>\n",
       "      <td>NaN</td>\n",
       "      <td>NaN</td>\n",
       "      <td> 0</td>\n",
       "      <td>NaN</td>\n",
       "      <td> 1</td>\n",
       "    </tr>\n",
       "    <tr>\n",
       "      <th>3</th>\n",
       "      <td>        HarvardX/CS50x/2012</td>\n",
       "      <td> MHxPC130275857</td>\n",
       "      <td> 1</td>\n",
       "      <td> 0</td>\n",
       "      <td> 0</td>\n",
       "      <td> 0</td>\n",
       "      <td> United States</td>\n",
       "      <td> NaN</td>\n",
       "      <td>NaN</td>\n",
       "      <td> NaN</td>\n",
       "      <td> 0</td>\n",
       "      <td> 2012-09-17</td>\n",
       "      <td>        NaN</td>\n",
       "      <td>NaN</td>\n",
       "      <td> 16</td>\n",
       "      <td>NaN</td>\n",
       "      <td>NaN</td>\n",
       "      <td> 0</td>\n",
       "      <td>NaN</td>\n",
       "      <td> 1</td>\n",
       "    </tr>\n",
       "    <tr>\n",
       "      <th>4</th>\n",
       "      <td> HarvardX/ER22x/2013_Spring</td>\n",
       "      <td> MHxPC130275857</td>\n",
       "      <td> 1</td>\n",
       "      <td> 0</td>\n",
       "      <td> 0</td>\n",
       "      <td> 0</td>\n",
       "      <td> United States</td>\n",
       "      <td> NaN</td>\n",
       "      <td>NaN</td>\n",
       "      <td> NaN</td>\n",
       "      <td> 0</td>\n",
       "      <td> 2012-12-19</td>\n",
       "      <td>        NaN</td>\n",
       "      <td>NaN</td>\n",
       "      <td> 16</td>\n",
       "      <td>NaN</td>\n",
       "      <td>NaN</td>\n",
       "      <td> 0</td>\n",
       "      <td>NaN</td>\n",
       "      <td> 1</td>\n",
       "    </tr>\n",
       "  </tbody>\n",
       "</table>\n",
       "</div>"
      ],
      "text/plain": [
       "                    course_id       userid_DI  registered  viewed  explored  \\\n",
       "0  HarvardX/CB22x/2013_Spring  MHxPC130442623           1       0         0   \n",
       "1         HarvardX/CS50x/2012  MHxPC130442623           1       1         0   \n",
       "2  HarvardX/CB22x/2013_Spring  MHxPC130275857           1       0         0   \n",
       "3         HarvardX/CS50x/2012  MHxPC130275857           1       0         0   \n",
       "4  HarvardX/ER22x/2013_Spring  MHxPC130275857           1       0         0   \n",
       "\n",
       "   certified final_cc_cname_DI LoE_DI  YoB gender grade start_time_DI  \\\n",
       "0          0     United States    NaN  NaN    NaN     0    2012-12-19   \n",
       "1          0     United States    NaN  NaN    NaN     0    2012-10-15   \n",
       "2          0     United States    NaN  NaN    NaN     0    2013-02-08   \n",
       "3          0     United States    NaN  NaN    NaN     0    2012-09-17   \n",
       "4          0     United States    NaN  NaN    NaN     0    2012-12-19   \n",
       "\n",
       "  last_event_DI  nevents  ndays_act  nplay_video  nchapters  nforum_posts  \\\n",
       "0    2013-11-17      NaN          9          NaN        NaN             0   \n",
       "1           NaN      NaN          9          NaN          1             0   \n",
       "2    2013-11-17      NaN         16          NaN        NaN             0   \n",
       "3           NaN      NaN         16          NaN        NaN             0   \n",
       "4           NaN      NaN         16          NaN        NaN             0   \n",
       "\n",
       "   roles  incomplete_flag  \n",
       "0    NaN                1  \n",
       "1    NaN                1  \n",
       "2    NaN                1  \n",
       "3    NaN                1  \n",
       "4    NaN                1  "
      ]
     },
     "execution_count": 4,
     "metadata": {},
     "output_type": "execute_result"
    }
   ],
   "source": [
    "df_mooc.head()"
   ]
  },
  {
   "cell_type": "code",
   "execution_count": 152,
   "metadata": {
    "collapsed": true
   },
   "outputs": [],
   "source": [
    "df_mooc['engaged'] = (df_mooc.explored == 1) | (df_mooc.certified == 1)"
   ]
  },
  {
   "cell_type": "code",
   "execution_count": 6,
   "metadata": {
    "collapsed": false
   },
   "outputs": [
    {
     "data": {
      "text/plain": [
       "count        641138\n",
       "mean     0.06297552\n",
       "std       0.2429191\n",
       "min           False\n",
       "25%               0\n",
       "50%               0\n",
       "75%               0\n",
       "max            True\n",
       "Name: engaged, dtype: object"
      ]
     },
     "execution_count": 6,
     "metadata": {},
     "output_type": "execute_result"
    }
   ],
   "source": [
    "df_mooc.engaged.describe() "
   ]
  },
  {
   "cell_type": "markdown",
   "metadata": {},
   "source": [
    "####Only 6% is engaged, class imbalance here"
   ]
  },
  {
   "cell_type": "markdown",
   "metadata": {},
   "source": [
    "####Engagement by classes"
   ]
  },
  {
   "cell_type": "code",
   "execution_count": 7,
   "metadata": {
    "collapsed": false
   },
   "outputs": [
    {
     "data": {
      "text/plain": [
       "course_id\n",
       "HarvardX/CB22x/2013_Spring     0.018299\n",
       "HarvardX/CS50x/2012            0.065016\n",
       "HarvardX/ER22x/2013_Spring     0.069435\n",
       "HarvardX/PH207x/2012_Fall      0.104179\n",
       "HarvardX/PH278x/2013_Spring    0.031867\n",
       "MITx/14.73x/2013_Spring        0.105633\n",
       "MITx/2.01x/2013_Spring         0.099029\n",
       "MITx/3.091x/2012_Fall          0.063032\n",
       "MITx/3.091x/2013_Spring        0.028506\n",
       "MITx/6.002x/2012_Fall          0.074343\n",
       "MITx/6.002x/2013_Spring        0.041511\n",
       "MITx/6.00x/2012_Fall           0.063074\n",
       "MITx/6.00x/2013_Spring         0.046695\n",
       "MITx/7.00x/2013_Spring         0.074825\n",
       "MITx/8.02x/2013_Spring         0.058071\n",
       "MITx/8.MReV/2013_Summer        0.042841\n",
       "Name: engaged, dtype: float64"
      ]
     },
     "execution_count": 7,
     "metadata": {},
     "output_type": "execute_result"
    }
   ],
   "source": [
    "df_mooc.groupby('course_id')['engaged'].mean()"
   ]
  },
  {
   "cell_type": "code",
   "execution_count": 8,
   "metadata": {
    "collapsed": false
   },
   "outputs": [
    {
     "data": {
      "text/plain": [
       "course_id             object\n",
       "userid_DI             object\n",
       "registered             int64\n",
       "viewed                 int64\n",
       "explored               int64\n",
       "certified              int64\n",
       "final_cc_cname_DI     object\n",
       "LoE_DI                object\n",
       "YoB                  float64\n",
       "gender                object\n",
       "grade                 object\n",
       "start_time_DI         object\n",
       "last_event_DI         object\n",
       "nevents              float64\n",
       "ndays_act            float64\n",
       "nplay_video          float64\n",
       "nchapters            float64\n",
       "nforum_posts           int64\n",
       "roles                float64\n",
       "incomplete_flag      float64\n",
       "engaged                 bool\n",
       "dtype: object"
      ]
     },
     "execution_count": 8,
     "metadata": {},
     "output_type": "execute_result"
    }
   ],
   "source": [
    "df_mooc.dtypes"
   ]
  },
  {
   "cell_type": "markdown",
   "metadata": {},
   "source": [
    "###Case 1: Dropping all of the n* variables (Better Model)"
   ]
  },
  {
   "cell_type": "code",
   "execution_count": 125,
   "metadata": {
    "collapsed": false
   },
   "outputs": [],
   "source": [
    "# Exclude features that we will not have before a student has completed a course\n",
    "# List: grade, viewed, explored, certified, last_event_DI, (nevents), (ndays_act), \n",
    "# (nplay_video), (nchapters), (nforum_posts)\n",
    "\n",
    "#dropping even more\n",
    "df_mooc_reduced = df_mooc.drop(['grade', 'viewed', 'explored', 'certified', 'last_event_DI',\n",
    "                               'nevents', 'ndays_act', 'nplay_video', 'nchapters', \n",
    "                                'nforum_posts', 'incomplete_flag', 'roles'], axis=1)\n",
    "\n",
    "# df_mooc_reduced = df_mooc.drop(['grade', 'viewed', 'explored', 'certified'], axis=1)"
   ]
  },
  {
   "cell_type": "code",
   "execution_count": 126,
   "metadata": {
    "collapsed": true
   },
   "outputs": [
    {
     "data": {
      "text/plain": [
       "course_id             object\n",
       "userid_DI             object\n",
       "registered             int64\n",
       "final_cc_cname_DI     object\n",
       "LoE_DI                object\n",
       "YoB                  float64\n",
       "gender                object\n",
       "start_time_DI         object\n",
       "engaged                 bool\n",
       "dtype: object"
      ]
     },
     "execution_count": 126,
     "metadata": {},
     "output_type": "execute_result"
    }
   ],
   "source": [
    "df_mooc_reduced.dtypes"
   ]
  },
  {
   "cell_type": "code",
   "execution_count": 127,
   "metadata": {
    "collapsed": false
   },
   "outputs": [],
   "source": [
    "from datetime import datetime\n",
    "df_mooc_reduced['start_time_DI'] = df_mooc_reduced['start_time_DI'].apply(\\\n",
    "    lambda x: (datetime.strptime(x, \"%Y-%m-%d\") - datetime(1970,1,1)).total_seconds())"
   ]
  },
  {
   "cell_type": "code",
   "execution_count": 129,
   "metadata": {
    "collapsed": false
   },
   "outputs": [],
   "source": [
    "#dropping even more\n",
    "df_mooc_reduced[['YoB']] = df_mooc_reduced[['YoB']].fillna(0.0)\n",
    "\n",
    "\n",
    "# df_mooc_reduced[['nevents', 'ndays_act', 'nplay_video', 'nchapters', 'nforum_posts',\n",
    "#                 'incomplete_flag', 'YoB']] = \\\n",
    "# df_mooc_reduced[['nevents', 'ndays_act', 'nplay_video', 'nchapters', 'nforum_posts',\n",
    "#                 'incomplete_flag', 'YoB']].fillna(0.0)\n",
    "\n",
    "# df_mooc_reduced[['nevents', 'ndays_act', 'nplay_video', 'nchapters', 'nforum_posts',\n",
    "#                 'incomplete_flag', 'YoB']] = \\\n",
    "# df_mooc_reduced[['nevents', 'ndays_act', 'nplay_video', 'nchapters', 'nforum_posts',\n",
    "#                 'incomplete_flag', 'YoB']].fillna(0.0)\n",
    "\n",
    "# df_mooc_reduced[['nevents', 'ndays_act', 'nplay_video', 'nchapters', 'nforum_posts',\n",
    "#                 'incomplete_flag']] = \\\n",
    "# df_mooc_reduced[['nevents', 'ndays_act', 'nplay_video', 'nchapters', 'nforum_posts',\n",
    "#                 'incomplete_flag']].fillna(0.0)"
   ]
  },
  {
   "cell_type": "code",
   "execution_count": 130,
   "metadata": {
    "collapsed": false
   },
   "outputs": [
    {
     "data": {
      "text/html": [
       "<div style=\"max-height:1000px;max-width:1500px;overflow:auto;\">\n",
       "<table border=\"1\" class=\"dataframe\">\n",
       "  <thead>\n",
       "    <tr style=\"text-align: right;\">\n",
       "      <th></th>\n",
       "      <th>course_id</th>\n",
       "      <th>userid_DI</th>\n",
       "      <th>registered</th>\n",
       "      <th>final_cc_cname_DI</th>\n",
       "      <th>LoE_DI</th>\n",
       "      <th>YoB</th>\n",
       "      <th>gender</th>\n",
       "      <th>start_time_DI</th>\n",
       "      <th>engaged</th>\n",
       "    </tr>\n",
       "  </thead>\n",
       "  <tbody>\n",
       "    <tr>\n",
       "      <th>0</th>\n",
       "      <td> HarvardX/CB22x/2013_Spring</td>\n",
       "      <td> MHxPC130442623</td>\n",
       "      <td> 1</td>\n",
       "      <td> United States</td>\n",
       "      <td> NaN</td>\n",
       "      <td> 0</td>\n",
       "      <td> NaN</td>\n",
       "      <td> 1355875200</td>\n",
       "      <td> False</td>\n",
       "    </tr>\n",
       "    <tr>\n",
       "      <th>1</th>\n",
       "      <td>        HarvardX/CS50x/2012</td>\n",
       "      <td> MHxPC130442623</td>\n",
       "      <td> 1</td>\n",
       "      <td> United States</td>\n",
       "      <td> NaN</td>\n",
       "      <td> 0</td>\n",
       "      <td> NaN</td>\n",
       "      <td> 1350259200</td>\n",
       "      <td> False</td>\n",
       "    </tr>\n",
       "    <tr>\n",
       "      <th>2</th>\n",
       "      <td> HarvardX/CB22x/2013_Spring</td>\n",
       "      <td> MHxPC130275857</td>\n",
       "      <td> 1</td>\n",
       "      <td> United States</td>\n",
       "      <td> NaN</td>\n",
       "      <td> 0</td>\n",
       "      <td> NaN</td>\n",
       "      <td> 1360281600</td>\n",
       "      <td> False</td>\n",
       "    </tr>\n",
       "    <tr>\n",
       "      <th>3</th>\n",
       "      <td>        HarvardX/CS50x/2012</td>\n",
       "      <td> MHxPC130275857</td>\n",
       "      <td> 1</td>\n",
       "      <td> United States</td>\n",
       "      <td> NaN</td>\n",
       "      <td> 0</td>\n",
       "      <td> NaN</td>\n",
       "      <td> 1347840000</td>\n",
       "      <td> False</td>\n",
       "    </tr>\n",
       "    <tr>\n",
       "      <th>4</th>\n",
       "      <td> HarvardX/ER22x/2013_Spring</td>\n",
       "      <td> MHxPC130275857</td>\n",
       "      <td> 1</td>\n",
       "      <td> United States</td>\n",
       "      <td> NaN</td>\n",
       "      <td> 0</td>\n",
       "      <td> NaN</td>\n",
       "      <td> 1355875200</td>\n",
       "      <td> False</td>\n",
       "    </tr>\n",
       "  </tbody>\n",
       "</table>\n",
       "</div>"
      ],
      "text/plain": [
       "                    course_id       userid_DI  registered final_cc_cname_DI  \\\n",
       "0  HarvardX/CB22x/2013_Spring  MHxPC130442623           1     United States   \n",
       "1         HarvardX/CS50x/2012  MHxPC130442623           1     United States   \n",
       "2  HarvardX/CB22x/2013_Spring  MHxPC130275857           1     United States   \n",
       "3         HarvardX/CS50x/2012  MHxPC130275857           1     United States   \n",
       "4  HarvardX/ER22x/2013_Spring  MHxPC130275857           1     United States   \n",
       "\n",
       "  LoE_DI  YoB gender  start_time_DI engaged  \n",
       "0    NaN    0    NaN     1355875200   False  \n",
       "1    NaN    0    NaN     1350259200   False  \n",
       "2    NaN    0    NaN     1360281600   False  \n",
       "3    NaN    0    NaN     1347840000   False  \n",
       "4    NaN    0    NaN     1355875200   False  "
      ]
     },
     "execution_count": 130,
     "metadata": {},
     "output_type": "execute_result"
    }
   ],
   "source": [
    "df_mooc_reduced.head()"
   ]
  },
  {
   "cell_type": "markdown",
   "metadata": {},
   "source": [
    "####Binarize features"
   ]
  },
  {
   "cell_type": "code",
   "execution_count": 132,
   "metadata": {
    "collapsed": false
   },
   "outputs": [],
   "source": [
    "#dropping more\n",
    "df_mooc_binarized = pd.concat([df_mooc_reduced.drop(['course_id', 'userid_DI', 'final_cc_cname_DI', 'LoE_DI',\n",
    "                                'gender'], axis=1), \n",
    "           pd.get_dummies(df_mooc.course_id), pd.get_dummies(df_mooc.final_cc_cname_DI),\n",
    "           pd.get_dummies(df_mooc.LoE_DI), pd.get_dummies(df_mooc.gender)], axis=1)\n",
    "\n",
    "# df_mooc_binarized = pd.concat([df_mooc_reduced.drop(['course_id', 'userid_DI', 'final_cc_cname_DI', 'LoE_DI',\n",
    "#                                 'gender', 'last_event_DI', 'roles'], axis=1), \n",
    "#            pd.get_dummies(df_mooc.course_id), pd.get_dummies(df_mooc.final_cc_cname_DI),\n",
    "#            pd.get_dummies(df_mooc.LoE_DI), pd.get_dummies(df_mooc.gender)], axis=1)\n",
    "\n",
    "# df_mooc_binarized = pd.concat([df_mooc_reduced.drop(['course_id', 'userid_DI', 'final_cc_cname_DI', 'LoE_DI',\n",
    "#                                 'gender', 'last_event_DI', 'roles', 'YoB'], axis=1), \n",
    "#            pd.get_dummies(df_mooc.course_id), pd.get_dummies(df_mooc.final_cc_cname_DI),\n",
    "#            pd.get_dummies(df_mooc.LoE_DI), pd.get_dummies(df_mooc.gender),\n",
    "#            pd.get_dummies(df_mooc.YoB)], axis=1)"
   ]
  },
  {
   "cell_type": "code",
   "execution_count": 133,
   "metadata": {
    "collapsed": false
   },
   "outputs": [
    {
     "data": {
      "text/html": [
       "<div style=\"max-height:1000px;max-width:1500px;overflow:auto;\">\n",
       "<table border=\"1\" class=\"dataframe\">\n",
       "  <thead>\n",
       "    <tr style=\"text-align: right;\">\n",
       "      <th></th>\n",
       "      <th>registered</th>\n",
       "      <th>YoB</th>\n",
       "      <th>start_time_DI</th>\n",
       "      <th>engaged</th>\n",
       "      <th>HarvardX/CB22x/2013_Spring</th>\n",
       "      <th>HarvardX/CS50x/2012</th>\n",
       "      <th>HarvardX/ER22x/2013_Spring</th>\n",
       "      <th>HarvardX/PH207x/2012_Fall</th>\n",
       "      <th>HarvardX/PH278x/2013_Spring</th>\n",
       "      <th>MITx/14.73x/2013_Spring</th>\n",
       "      <th>...</th>\n",
       "      <th>United States</th>\n",
       "      <th>Unknown/Other</th>\n",
       "      <th>Bachelor's</th>\n",
       "      <th>Doctorate</th>\n",
       "      <th>Less than Secondary</th>\n",
       "      <th>Master's</th>\n",
       "      <th>Secondary</th>\n",
       "      <th>f</th>\n",
       "      <th>m</th>\n",
       "      <th>o</th>\n",
       "    </tr>\n",
       "  </thead>\n",
       "  <tbody>\n",
       "    <tr>\n",
       "      <th>0</th>\n",
       "      <td> 1</td>\n",
       "      <td> 0</td>\n",
       "      <td> 1355875200</td>\n",
       "      <td> False</td>\n",
       "      <td> 1</td>\n",
       "      <td> 0</td>\n",
       "      <td> 0</td>\n",
       "      <td> 0</td>\n",
       "      <td> 0</td>\n",
       "      <td> 0</td>\n",
       "      <td>...</td>\n",
       "      <td> 1</td>\n",
       "      <td> 0</td>\n",
       "      <td> 0</td>\n",
       "      <td> 0</td>\n",
       "      <td> 0</td>\n",
       "      <td> 0</td>\n",
       "      <td> 0</td>\n",
       "      <td> 0</td>\n",
       "      <td> 0</td>\n",
       "      <td> 0</td>\n",
       "    </tr>\n",
       "    <tr>\n",
       "      <th>1</th>\n",
       "      <td> 1</td>\n",
       "      <td> 0</td>\n",
       "      <td> 1350259200</td>\n",
       "      <td> False</td>\n",
       "      <td> 0</td>\n",
       "      <td> 1</td>\n",
       "      <td> 0</td>\n",
       "      <td> 0</td>\n",
       "      <td> 0</td>\n",
       "      <td> 0</td>\n",
       "      <td>...</td>\n",
       "      <td> 1</td>\n",
       "      <td> 0</td>\n",
       "      <td> 0</td>\n",
       "      <td> 0</td>\n",
       "      <td> 0</td>\n",
       "      <td> 0</td>\n",
       "      <td> 0</td>\n",
       "      <td> 0</td>\n",
       "      <td> 0</td>\n",
       "      <td> 0</td>\n",
       "    </tr>\n",
       "    <tr>\n",
       "      <th>2</th>\n",
       "      <td> 1</td>\n",
       "      <td> 0</td>\n",
       "      <td> 1360281600</td>\n",
       "      <td> False</td>\n",
       "      <td> 1</td>\n",
       "      <td> 0</td>\n",
       "      <td> 0</td>\n",
       "      <td> 0</td>\n",
       "      <td> 0</td>\n",
       "      <td> 0</td>\n",
       "      <td>...</td>\n",
       "      <td> 1</td>\n",
       "      <td> 0</td>\n",
       "      <td> 0</td>\n",
       "      <td> 0</td>\n",
       "      <td> 0</td>\n",
       "      <td> 0</td>\n",
       "      <td> 0</td>\n",
       "      <td> 0</td>\n",
       "      <td> 0</td>\n",
       "      <td> 0</td>\n",
       "    </tr>\n",
       "    <tr>\n",
       "      <th>3</th>\n",
       "      <td> 1</td>\n",
       "      <td> 0</td>\n",
       "      <td> 1347840000</td>\n",
       "      <td> False</td>\n",
       "      <td> 0</td>\n",
       "      <td> 1</td>\n",
       "      <td> 0</td>\n",
       "      <td> 0</td>\n",
       "      <td> 0</td>\n",
       "      <td> 0</td>\n",
       "      <td>...</td>\n",
       "      <td> 1</td>\n",
       "      <td> 0</td>\n",
       "      <td> 0</td>\n",
       "      <td> 0</td>\n",
       "      <td> 0</td>\n",
       "      <td> 0</td>\n",
       "      <td> 0</td>\n",
       "      <td> 0</td>\n",
       "      <td> 0</td>\n",
       "      <td> 0</td>\n",
       "    </tr>\n",
       "    <tr>\n",
       "      <th>4</th>\n",
       "      <td> 1</td>\n",
       "      <td> 0</td>\n",
       "      <td> 1355875200</td>\n",
       "      <td> False</td>\n",
       "      <td> 0</td>\n",
       "      <td> 0</td>\n",
       "      <td> 1</td>\n",
       "      <td> 0</td>\n",
       "      <td> 0</td>\n",
       "      <td> 0</td>\n",
       "      <td>...</td>\n",
       "      <td> 1</td>\n",
       "      <td> 0</td>\n",
       "      <td> 0</td>\n",
       "      <td> 0</td>\n",
       "      <td> 0</td>\n",
       "      <td> 0</td>\n",
       "      <td> 0</td>\n",
       "      <td> 0</td>\n",
       "      <td> 0</td>\n",
       "      <td> 0</td>\n",
       "    </tr>\n",
       "  </tbody>\n",
       "</table>\n",
       "<p>5 rows × 62 columns</p>\n",
       "</div>"
      ],
      "text/plain": [
       "   registered  YoB  start_time_DI engaged  HarvardX/CB22x/2013_Spring  \\\n",
       "0           1    0     1355875200   False                           1   \n",
       "1           1    0     1350259200   False                           0   \n",
       "2           1    0     1360281600   False                           1   \n",
       "3           1    0     1347840000   False                           0   \n",
       "4           1    0     1355875200   False                           0   \n",
       "\n",
       "   HarvardX/CS50x/2012  HarvardX/ER22x/2013_Spring  HarvardX/PH207x/2012_Fall  \\\n",
       "0                    0                           0                          0   \n",
       "1                    1                           0                          0   \n",
       "2                    0                           0                          0   \n",
       "3                    1                           0                          0   \n",
       "4                    0                           1                          0   \n",
       "\n",
       "   HarvardX/PH278x/2013_Spring  MITx/14.73x/2013_Spring ...  United States  \\\n",
       "0                            0                        0 ...              1   \n",
       "1                            0                        0 ...              1   \n",
       "2                            0                        0 ...              1   \n",
       "3                            0                        0 ...              1   \n",
       "4                            0                        0 ...              1   \n",
       "\n",
       "   Unknown/Other  Bachelor's  Doctorate  Less than Secondary  Master's  \\\n",
       "0              0           0          0                    0         0   \n",
       "1              0           0          0                    0         0   \n",
       "2              0           0          0                    0         0   \n",
       "3              0           0          0                    0         0   \n",
       "4              0           0          0                    0         0   \n",
       "\n",
       "   Secondary  f  m  o  \n",
       "0          0  0  0  0  \n",
       "1          0  0  0  0  \n",
       "2          0  0  0  0  \n",
       "3          0  0  0  0  \n",
       "4          0  0  0  0  \n",
       "\n",
       "[5 rows x 62 columns]"
      ]
     },
     "execution_count": 133,
     "metadata": {},
     "output_type": "execute_result"
    }
   ],
   "source": [
    "df_mooc_binarized.head()"
   ]
  },
  {
   "cell_type": "code",
   "execution_count": 134,
   "metadata": {
    "collapsed": false,
    "scrolled": true
   },
   "outputs": [
    {
     "data": {
      "text/plain": [
       "registered                       int64\n",
       "YoB                            float64\n",
       "start_time_DI                  float64\n",
       "engaged                           bool\n",
       "HarvardX/CB22x/2013_Spring     float64\n",
       "HarvardX/CS50x/2012            float64\n",
       "HarvardX/ER22x/2013_Spring     float64\n",
       "HarvardX/PH207x/2012_Fall      float64\n",
       "HarvardX/PH278x/2013_Spring    float64\n",
       "MITx/14.73x/2013_Spring        float64\n",
       "MITx/2.01x/2013_Spring         float64\n",
       "MITx/3.091x/2012_Fall          float64\n",
       "MITx/3.091x/2013_Spring        float64\n",
       "MITx/6.002x/2012_Fall          float64\n",
       "MITx/6.002x/2013_Spring        float64\n",
       "...\n",
       "Portugal               float64\n",
       "Russian Federation     float64\n",
       "Spain                  float64\n",
       "Ukraine                float64\n",
       "United Kingdom         float64\n",
       "United States          float64\n",
       "Unknown/Other          float64\n",
       "Bachelor's             float64\n",
       "Doctorate              float64\n",
       "Less than Secondary    float64\n",
       "Master's               float64\n",
       "Secondary              float64\n",
       "f                      float64\n",
       "m                      float64\n",
       "o                      float64\n",
       "Length: 62, dtype: object"
      ]
     },
     "execution_count": 134,
     "metadata": {},
     "output_type": "execute_result"
    }
   ],
   "source": [
    "df_mooc_binarized.dtypes"
   ]
  },
  {
   "cell_type": "code",
   "execution_count": 135,
   "metadata": {
    "collapsed": false
   },
   "outputs": [],
   "source": [
    "target = df_mooc_binarized['engaged']\n",
    "features = df_mooc_binarized.drop(['engaged'], axis=1)"
   ]
  },
  {
   "cell_type": "code",
   "execution_count": 136,
   "metadata": {
    "collapsed": false
   },
   "outputs": [],
   "source": [
    "target = target.apply(lambda x: int(x))"
   ]
  },
  {
   "cell_type": "code",
   "execution_count": 137,
   "metadata": {
    "collapsed": false
   },
   "outputs": [
    {
     "data": {
      "text/plain": [
       "0"
      ]
     },
     "execution_count": 137,
     "metadata": {},
     "output_type": "execute_result"
    }
   ],
   "source": [
    "features.isnull().values.sum()"
   ]
  },
  {
   "cell_type": "code",
   "execution_count": 138,
   "metadata": {
    "collapsed": false
   },
   "outputs": [
    {
     "data": {
      "text/plain": [
       "(641138, 61)"
      ]
     },
     "execution_count": 138,
     "metadata": {},
     "output_type": "execute_result"
    }
   ],
   "source": [
    "features.shape"
   ]
  },
  {
   "cell_type": "code",
   "execution_count": 139,
   "metadata": {
    "collapsed": true
   },
   "outputs": [],
   "source": [
    "from statsmodels.discrete.discrete_model import Logit"
   ]
  },
  {
   "cell_type": "code",
   "execution_count": 111,
   "metadata": {
    "collapsed": false,
    "scrolled": false
   },
   "outputs": [],
   "source": [
    "X_train, X_test, y_train, y_test = train_test_split(features, target, test_size=0.3)"
   ]
  },
  {
   "cell_type": "code",
   "execution_count": 140,
   "metadata": {
    "collapsed": false,
    "scrolled": false
   },
   "outputs": [
    {
     "name": "stdout",
     "output_type": "stream",
     "text": [
      "Optimization terminated successfully.\n",
      "         Current function value: 0.221417\n",
      "         Iterations 9\n"
     ]
    },
    {
     "data": {
      "text/html": [
       "<table class=\"simpletable\">\n",
       "<caption>Logit Regression Results</caption>\n",
       "<tr>\n",
       "  <th>Dep. Variable:</th>      <td>engaged</td>     <th>  No. Observations:  </th>   <td>641138</td>   \n",
       "</tr>\n",
       "<tr>\n",
       "  <th>Model:</th>               <td>Logit</td>      <th>  Df Residuals:      </th>   <td>641120</td>   \n",
       "</tr>\n",
       "<tr>\n",
       "  <th>Method:</th>               <td>MLE</td>       <th>  Df Model:          </th>   <td>    17</td>   \n",
       "</tr>\n",
       "<tr>\n",
       "  <th>Date:</th>          <td>Sun, 30 Aug 2015</td> <th>  Pseudo R-squ.:     </th>   <td>0.05811</td>  \n",
       "</tr>\n",
       "<tr>\n",
       "  <th>Time:</th>              <td>18:53:07</td>     <th>  Log-Likelihood:    </th> <td>-1.4196e+05</td>\n",
       "</tr>\n",
       "<tr>\n",
       "  <th>converged:</th>           <td>True</td>       <th>  LL-Null:           </th> <td>-1.5072e+05</td>\n",
       "</tr>\n",
       "<tr>\n",
       "  <th> </th>                      <td> </td>        <th>  LLR p-value:       </th>   <td> 0.000</td>   \n",
       "</tr>\n",
       "</table>\n",
       "<table class=\"simpletable\">\n",
       "<tr>\n",
       "                     <td></td>                       <th>coef</th>     <th>std err</th>      <th>z</th>      <th>P>|z|</th> <th>[95.0% Conf. Int.]</th> \n",
       "</tr>\n",
       "<tr>\n",
       "  <th>registered</th>                             <td>   28.7770</td> <td> 1.13e+05</td> <td>    0.000</td> <td> 1.000</td> <td>-2.22e+05  2.22e+05</td>\n",
       "</tr>\n",
       "<tr>\n",
       "  <th>YoB</th>                                    <td>   -0.0002</td> <td> 2.37e-05</td> <td>   -7.771</td> <td> 0.000</td> <td>   -0.000    -0.000</td>\n",
       "</tr>\n",
       "<tr>\n",
       "  <th>start_time_DI</th>                          <td>-2.501e-08</td> <td> 8.35e-10</td> <td>  -29.962</td> <td> 0.000</td> <td>-2.67e-08 -2.34e-08</td>\n",
       "</tr>\n",
       "<tr>\n",
       "  <th>HarvardX/CB22x/2013_Spring</th>             <td>    0.8036</td> <td> 2.25e+05</td> <td> 3.57e-06</td> <td> 1.000</td> <td>-4.42e+05  4.42e+05</td>\n",
       "</tr>\n",
       "<tr>\n",
       "  <th>HarvardX/CS50x/2012</th>                    <td>    2.1772</td> <td> 2.25e+05</td> <td> 9.66e-06</td> <td> 1.000</td> <td>-4.42e+05  4.42e+05</td>\n",
       "</tr>\n",
       "<tr>\n",
       "  <th>HarvardX/ER22x/2013_Spring</th>             <td>    2.2691</td> <td> 2.25e+05</td> <td> 1.01e-05</td> <td> 1.000</td> <td>-4.42e+05  4.42e+05</td>\n",
       "</tr>\n",
       "<tr>\n",
       "  <th>HarvardX/PH207x/2012_Fall</th>              <td>    2.3409</td> <td> 2.25e+05</td> <td> 1.04e-05</td> <td> 1.000</td> <td>-4.42e+05  4.42e+05</td>\n",
       "</tr>\n",
       "<tr>\n",
       "  <th>HarvardX/PH278x/2013_Spring</th>            <td>    1.4494</td> <td> 2.25e+05</td> <td> 6.43e-06</td> <td> 1.000</td> <td>-4.42e+05  4.42e+05</td>\n",
       "</tr>\n",
       "<tr>\n",
       "  <th>MITx/14.73x/2013_Spring</th>                <td>    2.6233</td> <td> 2.25e+05</td> <td> 1.16e-05</td> <td> 1.000</td> <td>-4.42e+05  4.42e+05</td>\n",
       "</tr>\n",
       "<tr>\n",
       "  <th>MITx/2.01x/2013_Spring</th>                 <td>    2.4356</td> <td> 2.25e+05</td> <td> 1.08e-05</td> <td> 1.000</td> <td>-4.42e+05  4.42e+05</td>\n",
       "</tr>\n",
       "<tr>\n",
       "  <th>MITx/3.091x/2012_Fall</th>                  <td>    1.6419</td> <td> 2.25e+05</td> <td> 7.29e-06</td> <td> 1.000</td> <td>-4.42e+05  4.42e+05</td>\n",
       "</tr>\n",
       "<tr>\n",
       "  <th>MITx/3.091x/2013_Spring</th>                <td>    1.1315</td> <td> 2.25e+05</td> <td> 5.02e-06</td> <td> 1.000</td> <td>-4.42e+05  4.42e+05</td>\n",
       "</tr>\n",
       "<tr>\n",
       "  <th>MITx/6.002x/2012_Fall</th>                  <td>    1.8334</td> <td> 2.25e+05</td> <td> 8.14e-06</td> <td> 1.000</td> <td>-4.42e+05  4.42e+05</td>\n",
       "</tr>\n",
       "<tr>\n",
       "  <th>MITx/6.002x/2013_Spring</th>                <td>    1.5031</td> <td> 2.25e+05</td> <td> 6.67e-06</td> <td> 1.000</td> <td>-4.42e+05  4.42e+05</td>\n",
       "</tr>\n",
       "<tr>\n",
       "  <th>MITx/6.00x/2012_Fall</th>                   <td>    1.6241</td> <td> 2.25e+05</td> <td> 7.21e-06</td> <td> 1.000</td> <td>-4.42e+05  4.42e+05</td>\n",
       "</tr>\n",
       "<tr>\n",
       "  <th>MITx/6.00x/2013_Spring</th>                 <td>    1.6914</td> <td> 2.25e+05</td> <td> 7.51e-06</td> <td> 1.000</td> <td>-4.42e+05  4.42e+05</td>\n",
       "</tr>\n",
       "<tr>\n",
       "  <th>MITx/7.00x/2013_Spring</th>                 <td>    2.2104</td> <td> 2.25e+05</td> <td> 9.81e-06</td> <td> 1.000</td> <td>-4.42e+05  4.42e+05</td>\n",
       "</tr>\n",
       "<tr>\n",
       "  <th>MITx/8.02x/2013_Spring</th>                 <td>    1.7849</td> <td> 2.25e+05</td> <td> 7.92e-06</td> <td> 1.000</td> <td>-4.42e+05  4.42e+05</td>\n",
       "</tr>\n",
       "<tr>\n",
       "  <th>MITx/8.MReV/2013_Summer</th>                <td>    1.7518</td> <td> 2.25e+05</td> <td> 7.77e-06</td> <td> 1.000</td> <td>-4.42e+05  4.42e+05</td>\n",
       "</tr>\n",
       "<tr>\n",
       "  <th>Australia</th>                              <td>    0.8282</td> <td> 2.12e+05</td> <td> 3.92e-06</td> <td> 1.000</td> <td>-4.15e+05  4.15e+05</td>\n",
       "</tr>\n",
       "<tr>\n",
       "  <th>Bangladesh</th>                             <td>    0.4624</td> <td> 2.12e+05</td> <td> 2.19e-06</td> <td> 1.000</td> <td>-4.15e+05  4.15e+05</td>\n",
       "</tr>\n",
       "<tr>\n",
       "  <th>Brazil</th>                                 <td>    0.7124</td> <td> 2.12e+05</td> <td> 3.37e-06</td> <td> 1.000</td> <td>-4.15e+05  4.15e+05</td>\n",
       "</tr>\n",
       "<tr>\n",
       "  <th>Canada</th>                                 <td>    0.8700</td> <td> 2.12e+05</td> <td> 4.11e-06</td> <td> 1.000</td> <td>-4.15e+05  4.15e+05</td>\n",
       "</tr>\n",
       "<tr>\n",
       "  <th>China</th>                                  <td>    0.3202</td> <td> 2.12e+05</td> <td> 1.51e-06</td> <td> 1.000</td> <td>-4.15e+05  4.15e+05</td>\n",
       "</tr>\n",
       "<tr>\n",
       "  <th>Colombia</th>                               <td>    1.0598</td> <td> 2.12e+05</td> <td> 5.01e-06</td> <td> 1.000</td> <td>-4.15e+05  4.15e+05</td>\n",
       "</tr>\n",
       "<tr>\n",
       "  <th>Egypt</th>                                  <td>    0.4358</td> <td> 2.12e+05</td> <td> 2.06e-06</td> <td> 1.000</td> <td>-4.15e+05  4.15e+05</td>\n",
       "</tr>\n",
       "<tr>\n",
       "  <th>France</th>                                 <td>    1.1556</td> <td> 2.12e+05</td> <td> 5.46e-06</td> <td> 1.000</td> <td>-4.15e+05  4.15e+05</td>\n",
       "</tr>\n",
       "<tr>\n",
       "  <th>Germany</th>                                <td>    1.3124</td> <td> 2.12e+05</td> <td> 6.21e-06</td> <td> 1.000</td> <td>-4.15e+05  4.15e+05</td>\n",
       "</tr>\n",
       "<tr>\n",
       "  <th>Greece</th>                                 <td>    1.5795</td> <td> 2.12e+05</td> <td> 7.47e-06</td> <td> 1.000</td> <td>-4.15e+05  4.15e+05</td>\n",
       "</tr>\n",
       "<tr>\n",
       "  <th>India</th>                                  <td>    1.1296</td> <td> 2.12e+05</td> <td> 5.34e-06</td> <td> 1.000</td> <td>-4.15e+05  4.15e+05</td>\n",
       "</tr>\n",
       "<tr>\n",
       "  <th>Indonesia</th>                              <td>    0.8944</td> <td> 2.12e+05</td> <td> 4.23e-06</td> <td> 1.000</td> <td>-4.15e+05  4.15e+05</td>\n",
       "</tr>\n",
       "<tr>\n",
       "  <th>Japan</th>                                  <td>    0.5215</td> <td> 2.12e+05</td> <td> 2.47e-06</td> <td> 1.000</td> <td>-4.15e+05  4.15e+05</td>\n",
       "</tr>\n",
       "<tr>\n",
       "  <th>Mexico</th>                                 <td>    0.8712</td> <td> 2.12e+05</td> <td> 4.12e-06</td> <td> 1.000</td> <td>-4.15e+05  4.15e+05</td>\n",
       "</tr>\n",
       "<tr>\n",
       "  <th>Morocco</th>                                <td>    0.3400</td> <td> 2.12e+05</td> <td> 1.61e-06</td> <td> 1.000</td> <td>-4.15e+05  4.15e+05</td>\n",
       "</tr>\n",
       "<tr>\n",
       "  <th>Nigeria</th>                                <td>    0.7079</td> <td> 2.12e+05</td> <td> 3.35e-06</td> <td> 1.000</td> <td>-4.15e+05  4.15e+05</td>\n",
       "</tr>\n",
       "<tr>\n",
       "  <th>Other Africa</th>                           <td>    0.8699</td> <td> 2.12e+05</td> <td> 4.11e-06</td> <td> 1.000</td> <td>-4.15e+05  4.15e+05</td>\n",
       "</tr>\n",
       "<tr>\n",
       "  <th>Other East Asia</th>                        <td>    0.5807</td> <td> 2.12e+05</td> <td> 2.75e-06</td> <td> 1.000</td> <td>-4.15e+05  4.15e+05</td>\n",
       "</tr>\n",
       "<tr>\n",
       "  <th>Other Europe</th>                           <td>    1.3169</td> <td> 2.12e+05</td> <td> 6.23e-06</td> <td> 1.000</td> <td>-4.15e+05  4.15e+05</td>\n",
       "</tr>\n",
       "<tr>\n",
       "  <th>Other Middle East/Central Asia</th>         <td>    0.6442</td> <td> 2.12e+05</td> <td> 3.05e-06</td> <td> 1.000</td> <td>-4.15e+05  4.15e+05</td>\n",
       "</tr>\n",
       "<tr>\n",
       "  <th>Other North & Central Amer., Caribbean</th> <td>    0.9548</td> <td> 2.12e+05</td> <td> 4.51e-06</td> <td> 1.000</td> <td>-4.15e+05  4.15e+05</td>\n",
       "</tr>\n",
       "<tr>\n",
       "  <th>Other Oceania</th>                          <td>    0.8151</td> <td> 2.12e+05</td> <td> 3.85e-06</td> <td> 1.000</td> <td>-4.15e+05  4.15e+05</td>\n",
       "</tr>\n",
       "<tr>\n",
       "  <th>Other South America</th>                    <td>    0.8377</td> <td> 2.12e+05</td> <td> 3.96e-06</td> <td> 1.000</td> <td>-4.15e+05  4.15e+05</td>\n",
       "</tr>\n",
       "<tr>\n",
       "  <th>Other South Asia</th>                       <td>    0.9275</td> <td> 2.12e+05</td> <td> 4.39e-06</td> <td> 1.000</td> <td>-4.15e+05  4.15e+05</td>\n",
       "</tr>\n",
       "<tr>\n",
       "  <th>Pakistan</th>                               <td>    0.3059</td> <td> 2.12e+05</td> <td> 1.45e-06</td> <td> 1.000</td> <td>-4.15e+05  4.15e+05</td>\n",
       "</tr>\n",
       "<tr>\n",
       "  <th>Philippines</th>                            <td>    0.4504</td> <td> 2.12e+05</td> <td> 2.13e-06</td> <td> 1.000</td> <td>-4.15e+05  4.15e+05</td>\n",
       "</tr>\n",
       "<tr>\n",
       "  <th>Poland</th>                                 <td>    1.7168</td> <td> 2.12e+05</td> <td> 8.12e-06</td> <td> 1.000</td> <td>-4.15e+05  4.15e+05</td>\n",
       "</tr>\n",
       "<tr>\n",
       "  <th>Portugal</th>                               <td>    1.2324</td> <td> 2.12e+05</td> <td> 5.83e-06</td> <td> 1.000</td> <td>-4.15e+05  4.15e+05</td>\n",
       "</tr>\n",
       "<tr>\n",
       "  <th>Russian Federation</th>                     <td>    1.3654</td> <td> 2.12e+05</td> <td> 6.46e-06</td> <td> 1.000</td> <td>-4.15e+05  4.15e+05</td>\n",
       "</tr>\n",
       "<tr>\n",
       "  <th>Spain</th>                                  <td>    1.6375</td> <td> 2.12e+05</td> <td> 7.74e-06</td> <td> 1.000</td> <td>-4.15e+05  4.15e+05</td>\n",
       "</tr>\n",
       "<tr>\n",
       "  <th>Ukraine</th>                                <td>    1.4229</td> <td> 2.12e+05</td> <td> 6.73e-06</td> <td> 1.000</td> <td>-4.15e+05  4.15e+05</td>\n",
       "</tr>\n",
       "<tr>\n",
       "  <th>United Kingdom</th>                         <td>    1.0199</td> <td> 2.12e+05</td> <td> 4.82e-06</td> <td> 1.000</td> <td>-4.15e+05  4.15e+05</td>\n",
       "</tr>\n",
       "<tr>\n",
       "  <th>United States</th>                          <td>    0.6496</td> <td> 2.12e+05</td> <td> 3.07e-06</td> <td> 1.000</td> <td>-4.15e+05  4.15e+05</td>\n",
       "</tr>\n",
       "<tr>\n",
       "  <th>Unknown/Other</th>                          <td>   -1.1423</td> <td> 2.12e+05</td> <td> -5.4e-06</td> <td> 1.000</td> <td>-4.15e+05  4.15e+05</td>\n",
       "</tr>\n",
       "<tr>\n",
       "  <th>Bachelor's</th>                             <td>    0.1513</td> <td>    0.037</td> <td>    4.094</td> <td> 0.000</td> <td>    0.079     0.224</td>\n",
       "</tr>\n",
       "<tr>\n",
       "  <th>Doctorate</th>                              <td>    0.4367</td> <td>    0.049</td> <td>    8.887</td> <td> 0.000</td> <td>    0.340     0.533</td>\n",
       "</tr>\n",
       "<tr>\n",
       "  <th>Less than Secondary</th>                    <td>    0.5239</td> <td>    0.050</td> <td>   10.555</td> <td> 0.000</td> <td>    0.427     0.621</td>\n",
       "</tr>\n",
       "<tr>\n",
       "  <th>Master's</th>                               <td>    0.3013</td> <td>    0.038</td> <td>    8.020</td> <td> 0.000</td> <td>    0.228     0.375</td>\n",
       "</tr>\n",
       "<tr>\n",
       "  <th>Secondary</th>                              <td>    0.2162</td> <td>    0.037</td> <td>    5.784</td> <td> 0.000</td> <td>    0.143     0.289</td>\n",
       "</tr>\n",
       "<tr>\n",
       "  <th>f</th>                                      <td>   -0.3168</td> <td>    0.047</td> <td>   -6.690</td> <td> 0.000</td> <td>   -0.410    -0.224</td>\n",
       "</tr>\n",
       "<tr>\n",
       "  <th>m</th>                                      <td>   -0.1888</td> <td>    0.046</td> <td>   -4.067</td> <td> 0.000</td> <td>   -0.280    -0.098</td>\n",
       "</tr>\n",
       "<tr>\n",
       "  <th>o</th>                                      <td>   -0.0341</td> <td>    1.041</td> <td>   -0.033</td> <td> 0.974</td> <td>   -2.075     2.007</td>\n",
       "</tr>\n",
       "</table>"
      ],
      "text/plain": [
       "<class 'statsmodels.iolib.summary.Summary'>\n",
       "\"\"\"\n",
       "                           Logit Regression Results                           \n",
       "==============================================================================\n",
       "Dep. Variable:                engaged   No. Observations:               641138\n",
       "Model:                          Logit   Df Residuals:                   641120\n",
       "Method:                           MLE   Df Model:                           17\n",
       "Date:                Sun, 30 Aug 2015   Pseudo R-squ.:                 0.05811\n",
       "Time:                        18:53:07   Log-Likelihood:            -1.4196e+05\n",
       "converged:                       True   LL-Null:                   -1.5072e+05\n",
       "                                        LLR p-value:                     0.000\n",
       "==========================================================================================================\n",
       "                                             coef    std err          z      P>|z|      [95.0% Conf. Int.]\n",
       "----------------------------------------------------------------------------------------------------------\n",
       "registered                                28.7770   1.13e+05      0.000      1.000     -2.22e+05  2.22e+05\n",
       "YoB                                       -0.0002   2.37e-05     -7.771      0.000        -0.000    -0.000\n",
       "start_time_DI                          -2.501e-08   8.35e-10    -29.962      0.000     -2.67e-08 -2.34e-08\n",
       "HarvardX/CB22x/2013_Spring                 0.8036   2.25e+05   3.57e-06      1.000     -4.42e+05  4.42e+05\n",
       "HarvardX/CS50x/2012                        2.1772   2.25e+05   9.66e-06      1.000     -4.42e+05  4.42e+05\n",
       "HarvardX/ER22x/2013_Spring                 2.2691   2.25e+05   1.01e-05      1.000     -4.42e+05  4.42e+05\n",
       "HarvardX/PH207x/2012_Fall                  2.3409   2.25e+05   1.04e-05      1.000     -4.42e+05  4.42e+05\n",
       "HarvardX/PH278x/2013_Spring                1.4494   2.25e+05   6.43e-06      1.000     -4.42e+05  4.42e+05\n",
       "MITx/14.73x/2013_Spring                    2.6233   2.25e+05   1.16e-05      1.000     -4.42e+05  4.42e+05\n",
       "MITx/2.01x/2013_Spring                     2.4356   2.25e+05   1.08e-05      1.000     -4.42e+05  4.42e+05\n",
       "MITx/3.091x/2012_Fall                      1.6419   2.25e+05   7.29e-06      1.000     -4.42e+05  4.42e+05\n",
       "MITx/3.091x/2013_Spring                    1.1315   2.25e+05   5.02e-06      1.000     -4.42e+05  4.42e+05\n",
       "MITx/6.002x/2012_Fall                      1.8334   2.25e+05   8.14e-06      1.000     -4.42e+05  4.42e+05\n",
       "MITx/6.002x/2013_Spring                    1.5031   2.25e+05   6.67e-06      1.000     -4.42e+05  4.42e+05\n",
       "MITx/6.00x/2012_Fall                       1.6241   2.25e+05   7.21e-06      1.000     -4.42e+05  4.42e+05\n",
       "MITx/6.00x/2013_Spring                     1.6914   2.25e+05   7.51e-06      1.000     -4.42e+05  4.42e+05\n",
       "MITx/7.00x/2013_Spring                     2.2104   2.25e+05   9.81e-06      1.000     -4.42e+05  4.42e+05\n",
       "MITx/8.02x/2013_Spring                     1.7849   2.25e+05   7.92e-06      1.000     -4.42e+05  4.42e+05\n",
       "MITx/8.MReV/2013_Summer                    1.7518   2.25e+05   7.77e-06      1.000     -4.42e+05  4.42e+05\n",
       "Australia                                  0.8282   2.12e+05   3.92e-06      1.000     -4.15e+05  4.15e+05\n",
       "Bangladesh                                 0.4624   2.12e+05   2.19e-06      1.000     -4.15e+05  4.15e+05\n",
       "Brazil                                     0.7124   2.12e+05   3.37e-06      1.000     -4.15e+05  4.15e+05\n",
       "Canada                                     0.8700   2.12e+05   4.11e-06      1.000     -4.15e+05  4.15e+05\n",
       "China                                      0.3202   2.12e+05   1.51e-06      1.000     -4.15e+05  4.15e+05\n",
       "Colombia                                   1.0598   2.12e+05   5.01e-06      1.000     -4.15e+05  4.15e+05\n",
       "Egypt                                      0.4358   2.12e+05   2.06e-06      1.000     -4.15e+05  4.15e+05\n",
       "France                                     1.1556   2.12e+05   5.46e-06      1.000     -4.15e+05  4.15e+05\n",
       "Germany                                    1.3124   2.12e+05   6.21e-06      1.000     -4.15e+05  4.15e+05\n",
       "Greece                                     1.5795   2.12e+05   7.47e-06      1.000     -4.15e+05  4.15e+05\n",
       "India                                      1.1296   2.12e+05   5.34e-06      1.000     -4.15e+05  4.15e+05\n",
       "Indonesia                                  0.8944   2.12e+05   4.23e-06      1.000     -4.15e+05  4.15e+05\n",
       "Japan                                      0.5215   2.12e+05   2.47e-06      1.000     -4.15e+05  4.15e+05\n",
       "Mexico                                     0.8712   2.12e+05   4.12e-06      1.000     -4.15e+05  4.15e+05\n",
       "Morocco                                    0.3400   2.12e+05   1.61e-06      1.000     -4.15e+05  4.15e+05\n",
       "Nigeria                                    0.7079   2.12e+05   3.35e-06      1.000     -4.15e+05  4.15e+05\n",
       "Other Africa                               0.8699   2.12e+05   4.11e-06      1.000     -4.15e+05  4.15e+05\n",
       "Other East Asia                            0.5807   2.12e+05   2.75e-06      1.000     -4.15e+05  4.15e+05\n",
       "Other Europe                               1.3169   2.12e+05   6.23e-06      1.000     -4.15e+05  4.15e+05\n",
       "Other Middle East/Central Asia             0.6442   2.12e+05   3.05e-06      1.000     -4.15e+05  4.15e+05\n",
       "Other North & Central Amer., Caribbean     0.9548   2.12e+05   4.51e-06      1.000     -4.15e+05  4.15e+05\n",
       "Other Oceania                              0.8151   2.12e+05   3.85e-06      1.000     -4.15e+05  4.15e+05\n",
       "Other South America                        0.8377   2.12e+05   3.96e-06      1.000     -4.15e+05  4.15e+05\n",
       "Other South Asia                           0.9275   2.12e+05   4.39e-06      1.000     -4.15e+05  4.15e+05\n",
       "Pakistan                                   0.3059   2.12e+05   1.45e-06      1.000     -4.15e+05  4.15e+05\n",
       "Philippines                                0.4504   2.12e+05   2.13e-06      1.000     -4.15e+05  4.15e+05\n",
       "Poland                                     1.7168   2.12e+05   8.12e-06      1.000     -4.15e+05  4.15e+05\n",
       "Portugal                                   1.2324   2.12e+05   5.83e-06      1.000     -4.15e+05  4.15e+05\n",
       "Russian Federation                         1.3654   2.12e+05   6.46e-06      1.000     -4.15e+05  4.15e+05\n",
       "Spain                                      1.6375   2.12e+05   7.74e-06      1.000     -4.15e+05  4.15e+05\n",
       "Ukraine                                    1.4229   2.12e+05   6.73e-06      1.000     -4.15e+05  4.15e+05\n",
       "United Kingdom                             1.0199   2.12e+05   4.82e-06      1.000     -4.15e+05  4.15e+05\n",
       "United States                              0.6496   2.12e+05   3.07e-06      1.000     -4.15e+05  4.15e+05\n",
       "Unknown/Other                             -1.1423   2.12e+05   -5.4e-06      1.000     -4.15e+05  4.15e+05\n",
       "Bachelor's                                 0.1513      0.037      4.094      0.000         0.079     0.224\n",
       "Doctorate                                  0.4367      0.049      8.887      0.000         0.340     0.533\n",
       "Less than Secondary                        0.5239      0.050     10.555      0.000         0.427     0.621\n",
       "Master's                                   0.3013      0.038      8.020      0.000         0.228     0.375\n",
       "Secondary                                  0.2162      0.037      5.784      0.000         0.143     0.289\n",
       "f                                         -0.3168      0.047     -6.690      0.000        -0.410    -0.224\n",
       "m                                         -0.1888      0.046     -4.067      0.000        -0.280    -0.098\n",
       "o                                         -0.0341      1.041     -0.033      0.974        -2.075     2.007\n",
       "==========================================================================================================\n",
       "\"\"\""
      ]
     },
     "execution_count": 140,
     "metadata": {},
     "output_type": "execute_result"
    }
   ],
   "source": [
    "fit = Logit(target, features).fit()\n",
    "fit.summary()"
   ]
  },
  {
   "cell_type": "markdown",
   "metadata": {},
   "source": [
    "###Feature importance\n",
    "\n",
    "The important features (p-val < 0.05) are having YoB, start_time, degree type and gender."
   ]
  },
  {
   "cell_type": "markdown",
   "metadata": {},
   "source": [
    "####Need to oversample because class is too imbalance"
   ]
  },
  {
   "cell_type": "code",
   "execution_count": 144,
   "metadata": {
    "collapsed": false
   },
   "outputs": [],
   "source": [
    "model = LogisticRegression(class_weight='auto')\n",
    "model.fit(X_train, y_train)\n",
    "probabilities = model.predict_proba(X_test)[:, 1]"
   ]
  },
  {
   "cell_type": "code",
   "execution_count": 145,
   "metadata": {
    "collapsed": false
   },
   "outputs": [
    {
     "data": {
      "image/png": "[encoded data removed]",
      "text/plain": [
       "<matplotlib.figure.Figure at 0x110cc59d0>"
      ]
     },
     "metadata": {},
     "output_type": "display_data"
    }
   ],
   "source": [
    "fpr, tpr, thresholds = skm.roc_curve(y_test, probabilities)\n",
    "plt.plot(fpr, tpr, 'r--')\n",
    "plt.xlabel(\"False Positive Rate (1 - Specificity)\")\n",
    "plt.ylabel(\"True Positive Rate (Sensitivity, Recall)\")\n",
    "plt.title(\"ROC plot of MOOC data\")\n",
    "plt.show()"
   ]
  },
  {
   "cell_type": "code",
   "execution_count": 146,
   "metadata": {
    "collapsed": false
   },
   "outputs": [
    {
     "data": {
      "text/plain": [
       "array([[171400,   8873],\n",
       "       [  3742,   8327]])"
      ]
     },
     "execution_count": 146,
     "metadata": {},
     "output_type": "execute_result"
    }
   ],
   "source": [
    "from sklearn.metrics import confusion_matrix\n",
    "confusion_matrix(y_test, model.predict(X_test))"
   ]
  },
  {
   "cell_type": "code",
   "execution_count": 147,
   "metadata": {
    "collapsed": true
   },
   "outputs": [],
   "source": [
    "from sklearn.metrics import classification_report"
   ]
  },
  {
   "cell_type": "code",
   "execution_count": 148,
   "metadata": {
    "collapsed": false
   },
   "outputs": [
    {
     "name": "stdout",
     "output_type": "stream",
     "text": [
      "             precision    recall  f1-score   support\n",
      "\n",
      "          0       0.98      0.95      0.96    180273\n",
      "          1       0.48      0.69      0.57     12069\n",
      "\n",
      "avg / total       0.95      0.93      0.94    192342\n",
      "\n"
     ]
    }
   ],
   "source": [
    "print classification_report(y_test, model.predict(X_test))"
   ]
  },
  {
   "cell_type": "markdown",
   "metadata": {},
   "source": [
    "###Case 2: Dropping some of n* variables"
   ]
  },
  {
   "cell_type": "code",
   "execution_count": 153,
   "metadata": {
    "collapsed": true
   },
   "outputs": [],
   "source": [
    "df_mooc_reduced = df_mooc.drop(['grade', 'viewed', 'explored', 'certified'], axis=1)\n",
    "df_mooc_reduced['start_time_DI'] = df_mooc_reduced['start_time_DI'].apply(\\\n",
    "    lambda x: (datetime.strptime(x, \"%Y-%m-%d\") - datetime(1970,1,1)).total_seconds())\n",
    "df_mooc_reduced[['nevents', 'ndays_act', 'nplay_video', 'nchapters', 'nforum_posts',\n",
    "                'incomplete_flag', 'YoB']] = \\\n",
    "df_mooc_reduced[['nevents', 'ndays_act', 'nplay_video', 'nchapters', 'nforum_posts',\n",
    "                'incomplete_flag', 'YoB']].fillna(0.0)\n",
    "df_mooc_binarized = pd.concat([df_mooc_reduced.drop(['course_id', 'userid_DI', 'final_cc_cname_DI', 'LoE_DI',\n",
    "                                'gender', 'last_event_DI', 'roles'], axis=1), \n",
    "           pd.get_dummies(df_mooc.course_id), pd.get_dummies(df_mooc.final_cc_cname_DI),\n",
    "           pd.get_dummies(df_mooc.LoE_DI), pd.get_dummies(df_mooc.gender)], axis=1)\n",
    "target = df_mooc_binarized['engaged']\n",
    "features = df_mooc_binarized.drop(['engaged'], axis=1)\n",
    "X_train, X_test, y_train, y_test = train_test_split(features, target, test_size=0.3)"
   ]
  },
  {
   "cell_type": "code",
   "execution_count": 154,
   "metadata": {
    "collapsed": false,
    "scrolled": false
   },
   "outputs": [
    {
     "name": "stdout",
     "output_type": "stream",
     "text": [
      "Optimization terminated successfully.\n",
      "         Current function value: 0.021618\n",
      "         Iterations 12\n"
     ]
    },
    {
     "data": {
      "text/html": [
       "<table class=\"simpletable\">\n",
       "<caption>Logit Regression Results</caption>\n",
       "<tr>\n",
       "  <th>Dep. Variable:</th>      <td>engaged</td>     <th>  No. Observations:  </th>   <td>641138</td>   \n",
       "</tr>\n",
       "<tr>\n",
       "  <th>Model:</th>               <td>Logit</td>      <th>  Df Residuals:      </th>   <td>641114</td>   \n",
       "</tr>\n",
       "<tr>\n",
       "  <th>Method:</th>               <td>MLE</td>       <th>  Df Model:          </th>   <td>    23</td>   \n",
       "</tr>\n",
       "<tr>\n",
       "  <th>Date:</th>          <td>Sun, 30 Aug 2015</td> <th>  Pseudo R-squ.:     </th>   <td>0.9080</td>   \n",
       "</tr>\n",
       "<tr>\n",
       "  <th>Time:</th>              <td>19:05:09</td>     <th>  Log-Likelihood:    </th>  <td> -13860.</td>  \n",
       "</tr>\n",
       "<tr>\n",
       "  <th>converged:</th>           <td>True</td>       <th>  LL-Null:           </th> <td>-1.5072e+05</td>\n",
       "</tr>\n",
       "<tr>\n",
       "  <th> </th>                      <td> </td>        <th>  LLR p-value:       </th>   <td> 0.000</td>   \n",
       "</tr>\n",
       "</table>\n",
       "<table class=\"simpletable\">\n",
       "<tr>\n",
       "                     <td></td>                       <th>coef</th>     <th>std err</th>      <th>z</th>      <th>P>|z|</th> <th>[95.0% Conf. Int.]</th> \n",
       "</tr>\n",
       "<tr>\n",
       "  <th>registered</th>                             <td>   14.7564</td> <td>      nan</td> <td>      nan</td> <td>   nan</td> <td>      nan       nan</td>\n",
       "</tr>\n",
       "<tr>\n",
       "  <th>YoB</th>                                    <td> 1.646e-05</td> <td> 7.53e-05</td> <td>    0.218</td> <td> 0.827</td> <td>   -0.000     0.000</td>\n",
       "</tr>\n",
       "<tr>\n",
       "  <th>start_time_DI</th>                          <td>-2.266e-08</td> <td> 2.67e-09</td> <td>   -8.495</td> <td> 0.000</td> <td>-2.79e-08 -1.74e-08</td>\n",
       "</tr>\n",
       "<tr>\n",
       "  <th>nevents</th>                                <td>    0.0003</td> <td> 2.13e-05</td> <td>   13.192</td> <td> 0.000</td> <td>    0.000     0.000</td>\n",
       "</tr>\n",
       "<tr>\n",
       "  <th>ndays_act</th>                              <td>    0.0171</td> <td>    0.002</td> <td>    8.214</td> <td> 0.000</td> <td>    0.013     0.021</td>\n",
       "</tr>\n",
       "<tr>\n",
       "  <th>nplay_video</th>                            <td>   -0.0006</td> <td> 7.55e-05</td> <td>   -8.057</td> <td> 0.000</td> <td>   -0.001    -0.000</td>\n",
       "</tr>\n",
       "<tr>\n",
       "  <th>nchapters</th>                              <td>    1.3604</td> <td>    0.010</td> <td>  132.467</td> <td> 0.000</td> <td>    1.340     1.381</td>\n",
       "</tr>\n",
       "<tr>\n",
       "  <th>nforum_posts</th>                           <td>   -0.1940</td> <td>    0.048</td> <td>   -4.035</td> <td> 0.000</td> <td>   -0.288    -0.100</td>\n",
       "</tr>\n",
       "<tr>\n",
       "  <th>incomplete_flag</th>                        <td>   -0.5869</td> <td>    0.063</td> <td>   -9.377</td> <td> 0.000</td> <td>   -0.710    -0.464</td>\n",
       "</tr>\n",
       "<tr>\n",
       "  <th>HarvardX/CB22x/2013_Spring</th>             <td>   -3.7177</td> <td> 3.75e+05</td> <td> -9.9e-06</td> <td> 1.000</td> <td>-7.36e+05  7.36e+05</td>\n",
       "</tr>\n",
       "<tr>\n",
       "  <th>HarvardX/CS50x/2012</th>                    <td>    7.3228</td> <td> 3.75e+05</td> <td> 1.95e-05</td> <td> 1.000</td> <td>-7.36e+05  7.36e+05</td>\n",
       "</tr>\n",
       "<tr>\n",
       "  <th>HarvardX/ER22x/2013_Spring</th>             <td>   -5.0427</td> <td> 3.76e+05</td> <td>-1.34e-05</td> <td> 1.000</td> <td>-7.37e+05  7.37e+05</td>\n",
       "</tr>\n",
       "<tr>\n",
       "  <th>HarvardX/PH207x/2012_Fall</th>              <td>    4.2815</td> <td> 3.75e+05</td> <td> 1.14e-05</td> <td> 1.000</td> <td>-7.36e+05  7.36e+05</td>\n",
       "</tr>\n",
       "<tr>\n",
       "  <th>HarvardX/PH278x/2013_Spring</th>            <td>    7.6360</td> <td> 3.75e+05</td> <td> 2.03e-05</td> <td> 1.000</td> <td>-7.36e+05  7.36e+05</td>\n",
       "</tr>\n",
       "<tr>\n",
       "  <th>MITx/14.73x/2013_Spring</th>                <td>    7.1654</td> <td> 3.76e+05</td> <td> 1.91e-05</td> <td> 1.000</td> <td>-7.37e+05  7.37e+05</td>\n",
       "</tr>\n",
       "<tr>\n",
       "  <th>MITx/2.01x/2013_Spring</th>                 <td>    6.0192</td> <td> 3.76e+05</td> <td>  1.6e-05</td> <td> 1.000</td> <td>-7.36e+05  7.36e+05</td>\n",
       "</tr>\n",
       "<tr>\n",
       "  <th>MITx/3.091x/2012_Fall</th>                  <td>    4.1367</td> <td> 3.76e+05</td> <td>  1.1e-05</td> <td> 1.000</td> <td>-7.36e+05  7.36e+05</td>\n",
       "</tr>\n",
       "<tr>\n",
       "  <th>MITx/3.091x/2013_Spring</th>                <td>   -4.3397</td> <td> 3.76e+05</td> <td>-1.15e-05</td> <td> 1.000</td> <td>-7.37e+05  7.37e+05</td>\n",
       "</tr>\n",
       "<tr>\n",
       "  <th>MITx/6.002x/2012_Fall</th>                  <td>    2.8623</td> <td> 3.76e+05</td> <td> 7.62e-06</td> <td> 1.000</td> <td>-7.37e+05  7.37e+05</td>\n",
       "</tr>\n",
       "<tr>\n",
       "  <th>MITx/6.002x/2013_Spring</th>                <td>    0.1907</td> <td> 3.76e+05</td> <td> 5.08e-07</td> <td> 1.000</td> <td>-7.36e+05  7.36e+05</td>\n",
       "</tr>\n",
       "<tr>\n",
       "  <th>MITx/6.00x/2012_Fall</th>                   <td>    2.5127</td> <td> 3.75e+05</td> <td>  6.7e-06</td> <td> 1.000</td> <td>-7.35e+05  7.35e+05</td>\n",
       "</tr>\n",
       "<tr>\n",
       "  <th>MITx/6.00x/2013_Spring</th>                 <td>    1.2287</td> <td> 3.76e+05</td> <td> 3.27e-06</td> <td> 1.000</td> <td>-7.36e+05  7.36e+05</td>\n",
       "</tr>\n",
       "<tr>\n",
       "  <th>MITx/7.00x/2013_Spring</th>                 <td>    0.8063</td> <td> 3.76e+05</td> <td> 2.15e-06</td> <td> 1.000</td> <td>-7.37e+05  7.37e+05</td>\n",
       "</tr>\n",
       "<tr>\n",
       "  <th>MITx/8.02x/2013_Spring</th>                 <td>    1.5133</td> <td> 3.76e+05</td> <td> 4.03e-06</td> <td> 1.000</td> <td>-7.36e+05  7.36e+05</td>\n",
       "</tr>\n",
       "<tr>\n",
       "  <th>MITx/8.MReV/2013_Summer</th>                <td>  -17.3044</td> <td> 3.76e+05</td> <td> -4.6e-05</td> <td> 1.000</td> <td>-7.37e+05  7.37e+05</td>\n",
       "</tr>\n",
       "<tr>\n",
       "  <th>Australia</th>                              <td>    0.4094</td> <td> 4.93e+05</td> <td> 8.31e-07</td> <td> 1.000</td> <td>-9.66e+05  9.66e+05</td>\n",
       "</tr>\n",
       "<tr>\n",
       "  <th>Bangladesh</th>                             <td>    0.2571</td> <td> 4.93e+05</td> <td> 5.22e-07</td> <td> 1.000</td> <td>-9.66e+05  9.66e+05</td>\n",
       "</tr>\n",
       "<tr>\n",
       "  <th>Brazil</th>                                 <td>    0.3317</td> <td> 4.93e+05</td> <td> 6.73e-07</td> <td> 1.000</td> <td>-9.66e+05  9.66e+05</td>\n",
       "</tr>\n",
       "<tr>\n",
       "  <th>Canada</th>                                 <td>    0.4624</td> <td> 4.93e+05</td> <td> 9.38e-07</td> <td> 1.000</td> <td>-9.66e+05  9.66e+05</td>\n",
       "</tr>\n",
       "<tr>\n",
       "  <th>China</th>                                  <td>    0.7009</td> <td> 4.93e+05</td> <td> 1.42e-06</td> <td> 1.000</td> <td>-9.66e+05  9.66e+05</td>\n",
       "</tr>\n",
       "<tr>\n",
       "  <th>Colombia</th>                               <td>    0.3239</td> <td> 4.93e+05</td> <td> 6.57e-07</td> <td> 1.000</td> <td>-9.66e+05  9.66e+05</td>\n",
       "</tr>\n",
       "<tr>\n",
       "  <th>Egypt</th>                                  <td>    0.3851</td> <td> 4.93e+05</td> <td> 7.82e-07</td> <td> 1.000</td> <td>-9.66e+05  9.66e+05</td>\n",
       "</tr>\n",
       "<tr>\n",
       "  <th>France</th>                                 <td>    0.4514</td> <td> 4.93e+05</td> <td> 9.16e-07</td> <td> 1.000</td> <td>-9.66e+05  9.66e+05</td>\n",
       "</tr>\n",
       "<tr>\n",
       "  <th>Germany</th>                                <td>    0.3952</td> <td> 4.93e+05</td> <td> 8.02e-07</td> <td> 1.000</td> <td>-9.66e+05  9.66e+05</td>\n",
       "</tr>\n",
       "<tr>\n",
       "  <th>Greece</th>                                 <td>    0.4543</td> <td> 4.93e+05</td> <td> 9.22e-07</td> <td> 1.000</td> <td>-9.66e+05  9.66e+05</td>\n",
       "</tr>\n",
       "<tr>\n",
       "  <th>India</th>                                  <td>    0.6142</td> <td> 4.93e+05</td> <td> 1.25e-06</td> <td> 1.000</td> <td>-9.66e+05  9.66e+05</td>\n",
       "</tr>\n",
       "<tr>\n",
       "  <th>Indonesia</th>                              <td>    0.3257</td> <td> 4.93e+05</td> <td> 6.61e-07</td> <td> 1.000</td> <td>-9.66e+05  9.66e+05</td>\n",
       "</tr>\n",
       "<tr>\n",
       "  <th>Japan</th>                                  <td>   -0.0066</td> <td> 4.93e+05</td> <td>-1.35e-08</td> <td> 1.000</td> <td>-9.66e+05  9.66e+05</td>\n",
       "</tr>\n",
       "<tr>\n",
       "  <th>Mexico</th>                                 <td>    0.3580</td> <td> 4.93e+05</td> <td> 7.27e-07</td> <td> 1.000</td> <td>-9.66e+05  9.66e+05</td>\n",
       "</tr>\n",
       "<tr>\n",
       "  <th>Morocco</th>                                <td>    0.5242</td> <td> 4.93e+05</td> <td> 1.06e-06</td> <td> 1.000</td> <td>-9.66e+05  9.66e+05</td>\n",
       "</tr>\n",
       "<tr>\n",
       "  <th>Nigeria</th>                                <td>    0.4095</td> <td> 4.93e+05</td> <td> 8.31e-07</td> <td> 1.000</td> <td>-9.66e+05  9.66e+05</td>\n",
       "</tr>\n",
       "<tr>\n",
       "  <th>Other Africa</th>                           <td>    0.6397</td> <td> 4.93e+05</td> <td>  1.3e-06</td> <td> 1.000</td> <td>-9.66e+05  9.66e+05</td>\n",
       "</tr>\n",
       "<tr>\n",
       "  <th>Other East Asia</th>                        <td>    0.2499</td> <td> 4.93e+05</td> <td> 5.07e-07</td> <td> 1.000</td> <td>-9.66e+05  9.66e+05</td>\n",
       "</tr>\n",
       "<tr>\n",
       "  <th>Other Europe</th>                           <td>    0.2978</td> <td> 4.93e+05</td> <td> 6.04e-07</td> <td> 1.000</td> <td>-9.66e+05  9.66e+05</td>\n",
       "</tr>\n",
       "<tr>\n",
       "  <th>Other Middle East/Central Asia</th>         <td>    0.4969</td> <td> 4.93e+05</td> <td> 1.01e-06</td> <td> 1.000</td> <td>-9.66e+05  9.66e+05</td>\n",
       "</tr>\n",
       "<tr>\n",
       "  <th>Other North & Central Amer., Caribbean</th> <td>    0.7038</td> <td> 4.93e+05</td> <td> 1.43e-06</td> <td> 1.000</td> <td>-9.66e+05  9.66e+05</td>\n",
       "</tr>\n",
       "<tr>\n",
       "  <th>Other Oceania</th>                          <td>    0.7950</td> <td> 4.93e+05</td> <td> 1.61e-06</td> <td> 1.000</td> <td>-9.66e+05  9.66e+05</td>\n",
       "</tr>\n",
       "<tr>\n",
       "  <th>Other South America</th>                    <td>    0.4786</td> <td> 4.93e+05</td> <td> 9.71e-07</td> <td> 1.000</td> <td>-9.66e+05  9.66e+05</td>\n",
       "</tr>\n",
       "<tr>\n",
       "  <th>Other South Asia</th>                       <td>    0.5523</td> <td> 4.93e+05</td> <td> 1.12e-06</td> <td> 1.000</td> <td>-9.66e+05  9.66e+05</td>\n",
       "</tr>\n",
       "<tr>\n",
       "  <th>Pakistan</th>                               <td>    0.5989</td> <td> 4.93e+05</td> <td> 1.22e-06</td> <td> 1.000</td> <td>-9.66e+05  9.66e+05</td>\n",
       "</tr>\n",
       "<tr>\n",
       "  <th>Philippines</th>                            <td>    0.3428</td> <td> 4.93e+05</td> <td> 6.96e-07</td> <td> 1.000</td> <td>-9.66e+05  9.66e+05</td>\n",
       "</tr>\n",
       "<tr>\n",
       "  <th>Poland</th>                                 <td>    0.4427</td> <td> 4.93e+05</td> <td> 8.99e-07</td> <td> 1.000</td> <td>-9.66e+05  9.66e+05</td>\n",
       "</tr>\n",
       "<tr>\n",
       "  <th>Portugal</th>                               <td>    0.4074</td> <td> 4.93e+05</td> <td> 8.27e-07</td> <td> 1.000</td> <td>-9.66e+05  9.66e+05</td>\n",
       "</tr>\n",
       "<tr>\n",
       "  <th>Russian Federation</th>                     <td>    0.2847</td> <td> 4.93e+05</td> <td> 5.78e-07</td> <td> 1.000</td> <td>-9.66e+05  9.66e+05</td>\n",
       "</tr>\n",
       "<tr>\n",
       "  <th>Spain</th>                                  <td>    0.6152</td> <td> 4.93e+05</td> <td> 1.25e-06</td> <td> 1.000</td> <td>-9.66e+05  9.66e+05</td>\n",
       "</tr>\n",
       "<tr>\n",
       "  <th>Ukraine</th>                                <td>    0.4431</td> <td> 4.93e+05</td> <td> 8.99e-07</td> <td> 1.000</td> <td>-9.66e+05  9.66e+05</td>\n",
       "</tr>\n",
       "<tr>\n",
       "  <th>United Kingdom</th>                         <td>    0.3270</td> <td> 4.93e+05</td> <td> 6.64e-07</td> <td> 1.000</td> <td>-9.66e+05  9.66e+05</td>\n",
       "</tr>\n",
       "<tr>\n",
       "  <th>United States</th>                          <td>    0.1575</td> <td> 4.93e+05</td> <td>  3.2e-07</td> <td> 1.000</td> <td>-9.66e+05  9.66e+05</td>\n",
       "</tr>\n",
       "<tr>\n",
       "  <th>Unknown/Other</th>                          <td>    0.5572</td> <td> 4.93e+05</td> <td> 1.13e-06</td> <td> 1.000</td> <td>-9.66e+05  9.66e+05</td>\n",
       "</tr>\n",
       "<tr>\n",
       "  <th>Bachelor's</th>                             <td>    0.0092</td> <td>    0.110</td> <td>    0.084</td> <td> 0.933</td> <td>   -0.205     0.224</td>\n",
       "</tr>\n",
       "<tr>\n",
       "  <th>Doctorate</th>                              <td>   -0.4076</td> <td>    0.158</td> <td>   -2.585</td> <td> 0.010</td> <td>   -0.717    -0.098</td>\n",
       "</tr>\n",
       "<tr>\n",
       "  <th>Less than Secondary</th>                    <td>    0.0858</td> <td>    0.145</td> <td>    0.590</td> <td> 0.555</td> <td>   -0.199     0.371</td>\n",
       "</tr>\n",
       "<tr>\n",
       "  <th>Master's</th>                               <td>   -0.1391</td> <td>    0.113</td> <td>   -1.232</td> <td> 0.218</td> <td>   -0.360     0.082</td>\n",
       "</tr>\n",
       "<tr>\n",
       "  <th>Secondary</th>                              <td>    0.0717</td> <td>    0.111</td> <td>    0.647</td> <td> 0.518</td> <td>   -0.146     0.289</td>\n",
       "</tr>\n",
       "<tr>\n",
       "  <th>f</th>                                      <td>   -0.0425</td> <td>    0.149</td> <td>   -0.286</td> <td> 0.775</td> <td>   -0.334     0.249</td>\n",
       "</tr>\n",
       "<tr>\n",
       "  <th>m</th>                                      <td>   -0.0619</td> <td>    0.145</td> <td>   -0.426</td> <td> 0.670</td> <td>   -0.347     0.223</td>\n",
       "</tr>\n",
       "<tr>\n",
       "  <th>o</th>                                      <td>    0.1734</td> <td>    1.427</td> <td>    0.121</td> <td> 0.903</td> <td>   -2.624     2.971</td>\n",
       "</tr>\n",
       "</table>"
      ],
      "text/plain": [
       "<class 'statsmodels.iolib.summary.Summary'>\n",
       "\"\"\"\n",
       "                           Logit Regression Results                           \n",
       "==============================================================================\n",
       "Dep. Variable:                engaged   No. Observations:               641138\n",
       "Model:                          Logit   Df Residuals:                   641114\n",
       "Method:                           MLE   Df Model:                           23\n",
       "Date:                Sun, 30 Aug 2015   Pseudo R-squ.:                  0.9080\n",
       "Time:                        19:05:09   Log-Likelihood:                -13860.\n",
       "converged:                       True   LL-Null:                   -1.5072e+05\n",
       "                                        LLR p-value:                     0.000\n",
       "==========================================================================================================\n",
       "                                             coef    std err          z      P>|z|      [95.0% Conf. Int.]\n",
       "----------------------------------------------------------------------------------------------------------\n",
       "registered                                14.7564        nan        nan        nan           nan       nan\n",
       "YoB                                     1.646e-05   7.53e-05      0.218      0.827        -0.000     0.000\n",
       "start_time_DI                          -2.266e-08   2.67e-09     -8.495      0.000     -2.79e-08 -1.74e-08\n",
       "nevents                                    0.0003   2.13e-05     13.192      0.000         0.000     0.000\n",
       "ndays_act                                  0.0171      0.002      8.214      0.000         0.013     0.021\n",
       "nplay_video                               -0.0006   7.55e-05     -8.057      0.000        -0.001    -0.000\n",
       "nchapters                                  1.3604      0.010    132.467      0.000         1.340     1.381\n",
       "nforum_posts                              -0.1940      0.048     -4.035      0.000        -0.288    -0.100\n",
       "incomplete_flag                           -0.5869      0.063     -9.377      0.000        -0.710    -0.464\n",
       "HarvardX/CB22x/2013_Spring                -3.7177   3.75e+05   -9.9e-06      1.000     -7.36e+05  7.36e+05\n",
       "HarvardX/CS50x/2012                        7.3228   3.75e+05   1.95e-05      1.000     -7.36e+05  7.36e+05\n",
       "HarvardX/ER22x/2013_Spring                -5.0427   3.76e+05  -1.34e-05      1.000     -7.37e+05  7.37e+05\n",
       "HarvardX/PH207x/2012_Fall                  4.2815   3.75e+05   1.14e-05      1.000     -7.36e+05  7.36e+05\n",
       "HarvardX/PH278x/2013_Spring                7.6360   3.75e+05   2.03e-05      1.000     -7.36e+05  7.36e+05\n",
       "MITx/14.73x/2013_Spring                    7.1654   3.76e+05   1.91e-05      1.000     -7.37e+05  7.37e+05\n",
       "MITx/2.01x/2013_Spring                     6.0192   3.76e+05    1.6e-05      1.000     -7.36e+05  7.36e+05\n",
       "MITx/3.091x/2012_Fall                      4.1367   3.76e+05    1.1e-05      1.000     -7.36e+05  7.36e+05\n",
       "MITx/3.091x/2013_Spring                   -4.3397   3.76e+05  -1.15e-05      1.000     -7.37e+05  7.37e+05\n",
       "MITx/6.002x/2012_Fall                      2.8623   3.76e+05   7.62e-06      1.000     -7.37e+05  7.37e+05\n",
       "MITx/6.002x/2013_Spring                    0.1907   3.76e+05   5.08e-07      1.000     -7.36e+05  7.36e+05\n",
       "MITx/6.00x/2012_Fall                       2.5127   3.75e+05    6.7e-06      1.000     -7.35e+05  7.35e+05\n",
       "MITx/6.00x/2013_Spring                     1.2287   3.76e+05   3.27e-06      1.000     -7.36e+05  7.36e+05\n",
       "MITx/7.00x/2013_Spring                     0.8063   3.76e+05   2.15e-06      1.000     -7.37e+05  7.37e+05\n",
       "MITx/8.02x/2013_Spring                     1.5133   3.76e+05   4.03e-06      1.000     -7.36e+05  7.36e+05\n",
       "MITx/8.MReV/2013_Summer                  -17.3044   3.76e+05   -4.6e-05      1.000     -7.37e+05  7.37e+05\n",
       "Australia                                  0.4094   4.93e+05   8.31e-07      1.000     -9.66e+05  9.66e+05\n",
       "Bangladesh                                 0.2571   4.93e+05   5.22e-07      1.000     -9.66e+05  9.66e+05\n",
       "Brazil                                     0.3317   4.93e+05   6.73e-07      1.000     -9.66e+05  9.66e+05\n",
       "Canada                                     0.4624   4.93e+05   9.38e-07      1.000     -9.66e+05  9.66e+05\n",
       "China                                      0.7009   4.93e+05   1.42e-06      1.000     -9.66e+05  9.66e+05\n",
       "Colombia                                   0.3239   4.93e+05   6.57e-07      1.000     -9.66e+05  9.66e+05\n",
       "Egypt                                      0.3851   4.93e+05   7.82e-07      1.000     -9.66e+05  9.66e+05\n",
       "France                                     0.4514   4.93e+05   9.16e-07      1.000     -9.66e+05  9.66e+05\n",
       "Germany                                    0.3952   4.93e+05   8.02e-07      1.000     -9.66e+05  9.66e+05\n",
       "Greece                                     0.4543   4.93e+05   9.22e-07      1.000     -9.66e+05  9.66e+05\n",
       "India                                      0.6142   4.93e+05   1.25e-06      1.000     -9.66e+05  9.66e+05\n",
       "Indonesia                                  0.3257   4.93e+05   6.61e-07      1.000     -9.66e+05  9.66e+05\n",
       "Japan                                     -0.0066   4.93e+05  -1.35e-08      1.000     -9.66e+05  9.66e+05\n",
       "Mexico                                     0.3580   4.93e+05   7.27e-07      1.000     -9.66e+05  9.66e+05\n",
       "Morocco                                    0.5242   4.93e+05   1.06e-06      1.000     -9.66e+05  9.66e+05\n",
       "Nigeria                                    0.4095   4.93e+05   8.31e-07      1.000     -9.66e+05  9.66e+05\n",
       "Other Africa                               0.6397   4.93e+05    1.3e-06      1.000     -9.66e+05  9.66e+05\n",
       "Other East Asia                            0.2499   4.93e+05   5.07e-07      1.000     -9.66e+05  9.66e+05\n",
       "Other Europe                               0.2978   4.93e+05   6.04e-07      1.000     -9.66e+05  9.66e+05\n",
       "Other Middle East/Central Asia             0.4969   4.93e+05   1.01e-06      1.000     -9.66e+05  9.66e+05\n",
       "Other North & Central Amer., Caribbean     0.7038   4.93e+05   1.43e-06      1.000     -9.66e+05  9.66e+05\n",
       "Other Oceania                              0.7950   4.93e+05   1.61e-06      1.000     -9.66e+05  9.66e+05\n",
       "Other South America                        0.4786   4.93e+05   9.71e-07      1.000     -9.66e+05  9.66e+05\n",
       "Other South Asia                           0.5523   4.93e+05   1.12e-06      1.000     -9.66e+05  9.66e+05\n",
       "Pakistan                                   0.5989   4.93e+05   1.22e-06      1.000     -9.66e+05  9.66e+05\n",
       "Philippines                                0.3428   4.93e+05   6.96e-07      1.000     -9.66e+05  9.66e+05\n",
       "Poland                                     0.4427   4.93e+05   8.99e-07      1.000     -9.66e+05  9.66e+05\n",
       "Portugal                                   0.4074   4.93e+05   8.27e-07      1.000     -9.66e+05  9.66e+05\n",
       "Russian Federation                         0.2847   4.93e+05   5.78e-07      1.000     -9.66e+05  9.66e+05\n",
       "Spain                                      0.6152   4.93e+05   1.25e-06      1.000     -9.66e+05  9.66e+05\n",
       "Ukraine                                    0.4431   4.93e+05   8.99e-07      1.000     -9.66e+05  9.66e+05\n",
       "United Kingdom                             0.3270   4.93e+05   6.64e-07      1.000     -9.66e+05  9.66e+05\n",
       "United States                              0.1575   4.93e+05    3.2e-07      1.000     -9.66e+05  9.66e+05\n",
       "Unknown/Other                              0.5572   4.93e+05   1.13e-06      1.000     -9.66e+05  9.66e+05\n",
       "Bachelor's                                 0.0092      0.110      0.084      0.933        -0.205     0.224\n",
       "Doctorate                                 -0.4076      0.158     -2.585      0.010        -0.717    -0.098\n",
       "Less than Secondary                        0.0858      0.145      0.590      0.555        -0.199     0.371\n",
       "Master's                                  -0.1391      0.113     -1.232      0.218        -0.360     0.082\n",
       "Secondary                                  0.0717      0.111      0.647      0.518        -0.146     0.289\n",
       "f                                         -0.0425      0.149     -0.286      0.775        -0.334     0.249\n",
       "m                                         -0.0619      0.145     -0.426      0.670        -0.347     0.223\n",
       "o                                          0.1734      1.427      0.121      0.903        -2.624     2.971\n",
       "==========================================================================================================\n",
       "\"\"\""
      ]
     },
     "execution_count": 154,
     "metadata": {},
     "output_type": "execute_result"
    }
   ],
   "source": [
    "fit = Logit(target, features).fit()\n",
    "fit.summary()"
   ]
  },
  {
   "cell_type": "markdown",
   "metadata": {},
   "source": [
    "###Feature importance\n",
    "\n",
    "The important features (p-val < 0.05) are having a Doctorate degree, start_time_DI, nevents, ndays_act, nplay_video, nchapters, nforum_posts, incomplete_flag."
   ]
  },
  {
   "cell_type": "code",
   "execution_count": 155,
   "metadata": {
    "collapsed": true
   },
   "outputs": [],
   "source": [
    "model = LogisticRegression(class_weight='auto')\n",
    "model.fit(X_train, y_train)\n",
    "probabilities = model.predict_proba(X_test)[:, 1]"
   ]
  },
  {
   "cell_type": "code",
   "execution_count": 156,
   "metadata": {
    "collapsed": false
   },
   "outputs": [
    {
     "data": {
      "image/png": "[encoded data removed]",
      "text/plain": [
       "<matplotlib.figure.Figure at 0x1108e2e10>"
      ]
     },
     "metadata": {},
     "output_type": "display_data"
    }
   ],
   "source": [
    "fpr, tpr, thresholds = skm.roc_curve(y_test, probabilities)\n",
    "plt.plot(fpr, tpr, 'r--')\n",
    "plt.xlabel(\"False Positive Rate (1 - Specificity)\")\n",
    "plt.ylabel(\"True Positive Rate (Sensitivity, Recall)\")\n",
    "plt.title(\"ROC plot of MOOC data\")\n",
    "plt.show()"
   ]
  },
  {
   "cell_type": "code",
   "execution_count": 157,
   "metadata": {
    "collapsed": false
   },
   "outputs": [
    {
     "data": {
      "text/plain": [
       "array([[171489,   8721],\n",
       "       [  3951,   8181]])"
      ]
     },
     "execution_count": 157,
     "metadata": {},
     "output_type": "execute_result"
    }
   ],
   "source": [
    "from sklearn.metrics import confusion_matrix\n",
    "confusion_matrix(y_test, model.predict(X_test))"
   ]
  },
  {
   "cell_type": "code",
   "execution_count": 158,
   "metadata": {
    "collapsed": false
   },
   "outputs": [
    {
     "name": "stdout",
     "output_type": "stream",
     "text": [
      "             precision    recall  f1-score   support\n",
      "\n",
      "      False       0.98      0.95      0.96    180210\n",
      "       True       0.48      0.67      0.56     12132\n",
      "\n",
      "avg / total       0.95      0.93      0.94    192342\n",
      "\n"
     ]
    }
   ],
   "source": [
    "print classification_report(y_test, model.predict(X_test))"
   ]
  },
  {
   "cell_type": "code",
   "execution_count": null,
   "metadata": {
    "collapsed": true
   },
   "outputs": [],
   "source": []
  }
 ],
 "metadata": {
  "kernelspec": {
   "display_name": "Python 2",
   "language": "python",
   "name": "python2"
  },
  "language_info": {
   "codemirror_mode": {
    "name": "ipython",
    "version": 2
   },
   "file_extension": ".py",
   "mimetype": "text/x-python",
   "name": "python",
   "nbconvert_exporter": "python",
   "pygments_lexer": "ipython2",
   "version": "2.7.10"
  }
 },
 "nbformat": 4,
 "nbformat_minor": 0
}
