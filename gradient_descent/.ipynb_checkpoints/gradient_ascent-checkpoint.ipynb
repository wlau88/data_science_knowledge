{
 "cells": [
  {
   "cell_type": "markdown",
   "metadata": {},
   "source": [
    "##Implementing Gradient Descent and exploring its effects on regularized and non-regularized functions"
   ]
  },
  {
   "cell_type": "code",
   "execution_count": 1,
   "metadata": {
    "collapsed": false
   },
   "outputs": [],
   "source": [
    "import numpy as np\n",
    "import pandas as pd\n",
    "import matplotlib.pyplot as plt\n",
    "from gradient_ascent import GradientAscent\n",
    "from regression_functions import log_likelihood, log_likelihood_gradient, \\\n",
    "                                 predict, accuracy, precision, recall\n",
    "from sklearn.linear_model import LogisticRegression\n",
    "%matplotlib inline\n",
    "import pdb"
   ]
  },
  {
   "cell_type": "code",
   "execution_count": 11,
   "metadata": {
    "collapsed": false
   },
   "outputs": [],
   "source": [
    "data = np.genfromtxt('data/testdata.csv', delimiter=',')\n",
    "X = data[:,0:2]\n",
    "y = data[:,2]"
   ]
  },
  {
   "cell_type": "code",
   "execution_count": 3,
   "metadata": {
    "collapsed": false
   },
   "outputs": [],
   "source": [
    "x1_pos = X[:,0][y>0]\n",
    "x2_pos = X[:,1][y>0]\n",
    "x1_neg = X[:,0][y == 0]\n",
    "x2_neg = X[:,1][y == 0]"
   ]
  },
  {
   "cell_type": "code",
   "execution_count": 4,
   "metadata": {
    "collapsed": false
   },
   "outputs": [
    {
     "data": {
      "text/plain": [
       "<matplotlib.legend.Legend at 0x109e05890>"
      ]
     },
     "execution_count": 4,
     "metadata": {},
     "output_type": "execute_result"
    },
    {
     "data": {
      "image/png": "[encoded data removed]",
      "text/plain": [
       "<matplotlib.figure.Figure at 0x109bac7d0>"
      ]
     },
     "metadata": {},
     "output_type": "display_data"
    }
   ],
   "source": [
    "plt.scatter(x1_pos,x2_pos, color = 'r', label = 'Positive')\n",
    "plt.scatter(x1_neg,x2_neg, color = 'b', label = 'Negative')\n",
    "plt.xlabel('First Feature')\n",
    "plt.ylabel('Second Feature')\n",
    "plt.legend()"
   ]
  },
  {
   "cell_type": "markdown",
   "metadata": {},
   "source": [
    "####Implemting cost function and gradient ascent. Testing with a simple example. "
   ]
  },
  {
   "cell_type": "markdown",
   "metadata": {},
   "source": [
    "The cost function is the *log likelihood*. Our goal will be to *maximize* this value, so we will actually be implementing gradient *ascent*.\n",
    "\n",
    "![Cost Function](images/logit_cost_function.gif)\n",
    "\n",
    "Recall that the hypothesis function *h* is defined as follows:\n",
    "\n",
    "![hypothesis](images/logit_sigmoid.gif)\n",
    "\n",
    "You will also need to have a function which calculates the gradient of the cost function, which is as follows.\n",
    "\n",
    "![gradient](images/logit_gradient.gif)"
   ]
  },
  {
   "cell_type": "code",
   "execution_count": 5,
   "metadata": {
    "collapsed": false
   },
   "outputs": [
    {
     "data": {
      "text/plain": [
       "-4.3314116154360329"
      ]
     },
     "execution_count": 5,
     "metadata": {},
     "output_type": "execute_result"
    }
   ],
   "source": [
    "X = np.array([[0, 1], [2, 2]])\n",
    "y = np.array([1, 0])\n",
    "coeffs = np.array([1, 1])\n",
    "log_likelihood(X, y, coeffs)"
   ]
  },
  {
   "cell_type": "code",
   "execution_count": 6,
   "metadata": {
    "collapsed": false
   },
   "outputs": [
    {
     "name": "stdout",
     "output_type": "stream",
     "text": [
      "Results from Gradient Ascent implementation:\n",
      "  coeffs: [ 2.8876749  -4.38078995  0.69727993]\n",
      "  accuracy: 1.0\n",
      "  precision: 1.0\n",
      "  recall: 1.0\n"
     ]
    }
   ],
   "source": [
    "# Gradient Ascent\n",
    "ga = GradientAscent(log_likelihood, log_likelihood_gradient, predict)\n",
    "ga.run(X, y, step_size=.0001)\n",
    "print \"Results from Gradient Ascent implementation:\"\n",
    "print \"  coeffs:\", ga.coeffs\n",
    "y_pred = ga.predict(X)\n",
    "print \"  accuracy:\", accuracy(y, y_pred)\n",
    "print \"  precision:\", precision(y, y_pred)\n",
    "print \"  recall:\", recall(y, y_pred)"
   ]
  },
  {
   "cell_type": "code",
   "execution_count": 8,
   "metadata": {
    "collapsed": false
   },
   "outputs": [
    {
     "name": "stdout",
     "output_type": "stream",
     "text": [
      "Results from Stochastic Gradient Ascent implementation:\n",
      "  coeffs: [ 2.88771268 -4.38088637  0.69726949]\n",
      "  accuracy: 1.0\n",
      "  precision: 1.0\n",
      "  recall: 1.0\n"
     ]
    }
   ],
   "source": [
    "# Stochastic Gradient Ascent\n",
    "sga = GradientAscent(log_likelihood, log_likelihood_gradient, predict)\n",
    "sga.sgd_run(X, y)\n",
    "print \"Results from Stochastic Gradient Ascent implementation:\"\n",
    "print \"  coeffs:\", sga.coeffs\n",
    "y_pred = sga.predict(X)\n",
    "print \"  accuracy:\", accuracy(y, y_pred)\n",
    "print \"  precision:\", precision(y, y_pred)\n",
    "print \"  recall:\", recall(y, y_pred)"
   ]
  },
  {
   "cell_type": "code",
   "execution_count": 9,
   "metadata": {
    "collapsed": false
   },
   "outputs": [
    {
     "name": "stdout",
     "output_type": "stream",
     "text": [
      "Results from sklearn Logistic Regression:\n",
      "  coeffs: 0.199560772895 -0.535180361599 -0.0680294079043\n"
     ]
    }
   ],
   "source": [
    "# sklearn's Logistic Regression\n",
    "lr = LogisticRegression()\n",
    "lr.fit(X, y)\n",
    "print \"Results from sklearn Logistic Regression:\"\n",
    "print \"  coeffs:\", lr.intercept_[0], lr.coef_[0][0], lr.coef_[0][1]"
   ]
  },
  {
   "cell_type": "code",
   "execution_count": 10,
   "metadata": {
    "collapsed": false
   },
   "outputs": [
    {
     "name": "stdout",
     "output_type": "stream",
     "text": [
      "Results from Gradient Ascent with regularization\n",
      "  coeffs: [ 0.08565445 -0.32670159 -0.07769635]\n",
      "  accuracy: 1.0\n",
      "  precision: 1.0\n",
      "  recall: 1.0\n"
     ]
    }
   ],
   "source": [
    "# Gradient Ascent with regularization\n",
    "likelihood_regularized = lambda X, y, coeffs: \\\n",
    "                         log_likelihood(X, y, coeffs, l=10)\n",
    "gradient_regularized = lambda X, y, coeffs: \\\n",
    "                       log_likelihood_gradient(X, y, coeffs, l=1)\n",
    "gar = GradientAscent(likelihood_regularized, gradient_regularized, predict)\n",
    "gar.run(X, y)\n",
    "print \"Results from Gradient Ascent with regularization\"\n",
    "print \"  coeffs:\", gar.coeffs\n",
    "y_pred = gar.predict(X)\n",
    "print \"  accuracy:\", accuracy(y, y_pred)\n",
    "print \"  precision:\", precision(y, y_pred)\n",
    "print \"  recall:\", recall(y, y_pred)"
   ]
  },
  {
   "cell_type": "markdown",
   "metadata": {},
   "source": [
    "####Since there are many different dividing plane. The results are quite different from sklearn's implementation. Regularized is the closest"
   ]
  },
  {
   "cell_type": "markdown",
   "metadata": {},
   "source": [
    "###Testing with original testdata"
   ]
  },
  {
   "cell_type": "code",
   "execution_count": 12,
   "metadata": {
    "collapsed": true
   },
   "outputs": [],
   "source": [
    "data = np.genfromtxt('data/testdata.csv', delimiter=',')\n",
    "X = data[:,0:2]\n",
    "y = data[:,2]"
   ]
  },
  {
   "cell_type": "code",
   "execution_count": 13,
   "metadata": {
    "collapsed": false
   },
   "outputs": [
    {
     "data": {
      "text/plain": [
       "-1.3417114164204169"
      ]
     },
     "execution_count": 13,
     "metadata": {},
     "output_type": "execute_result"
    }
   ],
   "source": [
    "log_likelihood(X, y, coeffs)"
   ]
  },
  {
   "cell_type": "code",
   "execution_count": 14,
   "metadata": {
    "collapsed": false
   },
   "outputs": [
    {
     "name": "stdout",
     "output_type": "stream",
     "text": [
      "Results from Gradient Ascent implementation:\n",
      "  coeffs: [ 0.03835756  1.59713955  0.01972872]\n",
      "  accuracy: 1.0\n",
      "  precision: 1.0\n",
      "  recall: 1.0\n"
     ]
    }
   ],
   "source": [
    "# Gradient Ascent\n",
    "ga = GradientAscent(log_likelihood, log_likelihood_gradient, predict)\n",
    "ga.run(X, y, step_size=.0001)\n",
    "print \"Results from Gradient Ascent implementation:\"\n",
    "print \"  coeffs:\", ga.coeffs\n",
    "y_pred = ga.predict(X)\n",
    "print \"  accuracy:\", accuracy(y, y_pred)\n",
    "print \"  precision:\", precision(y, y_pred)\n",
    "print \"  recall:\", recall(y, y_pred)"
   ]
  },
  {
   "cell_type": "code",
   "execution_count": 15,
   "metadata": {
    "collapsed": false
   },
   "outputs": [
    {
     "name": "stdout",
     "output_type": "stream",
     "text": [
      "Results from Stochastic Gradient Ascent implementation:\n",
      "  coeffs: [ 0.03836344  1.5971283   0.01975378]\n",
      "  accuracy: 1.0\n",
      "  precision: 1.0\n",
      "  recall: 1.0\n"
     ]
    }
   ],
   "source": [
    "# Stochastic Gradient Ascent\n",
    "sga = GradientAscent(log_likelihood, log_likelihood_gradient, predict)\n",
    "sga.sgd_run(X, y)\n",
    "print \"Results from Stochastic Gradient Ascent implementation:\"\n",
    "print \"  coeffs:\", sga.coeffs\n",
    "y_pred = sga.predict(X)\n",
    "print \"  accuracy:\", accuracy(y, y_pred)\n",
    "print \"  precision:\", precision(y, y_pred)\n",
    "print \"  recall:\", recall(y, y_pred)"
   ]
  },
  {
   "cell_type": "code",
   "execution_count": 16,
   "metadata": {
    "collapsed": false
   },
   "outputs": [
    {
     "name": "stdout",
     "output_type": "stream",
     "text": [
      "Results from sklearn Logistic Regression:\n",
      "  coeffs: 0.0465275107936 1.23185610298 0.0225170865919\n"
     ]
    }
   ],
   "source": [
    "# sklearn's Logistic Regression\n",
    "lr = LogisticRegression()\n",
    "lr.fit(X, y)\n",
    "print \"Results from sklearn Logistic Regression:\"\n",
    "print \"  coeffs:\", lr.intercept_[0], lr.coef_[0][0], lr.coef_[0][1]"
   ]
  },
  {
   "cell_type": "code",
   "execution_count": 17,
   "metadata": {
    "collapsed": false
   },
   "outputs": [
    {
     "name": "stdout",
     "output_type": "stream",
     "text": [
      "Results from Gradient Ascent with regularization\n",
      "  coeffs: [ 0.03035581  1.10588056  0.01536472]\n",
      "  accuracy: 1.0\n",
      "  precision: 1.0\n",
      "  recall: 1.0\n"
     ]
    }
   ],
   "source": [
    "# Gradient Ascent with regularization\n",
    "likelihood_regularized = lambda X, y, coeffs: \\\n",
    "                         log_likelihood(X, y, coeffs, l=10)\n",
    "gradient_regularized = lambda X, y, coeffs: \\\n",
    "                       log_likelihood_gradient(X, y, coeffs, l=1)\n",
    "gar = GradientAscent(likelihood_regularized, gradient_regularized, predict)\n",
    "gar.run(X, y)\n",
    "print \"Results from Gradient Ascent with regularization\"\n",
    "print \"  coeffs:\", gar.coeffs\n",
    "y_pred = gar.predict(X)\n",
    "print \"  accuracy:\", accuracy(y, y_pred)\n",
    "print \"  precision:\", precision(y, y_pred)\n",
    "print \"  recall:\", recall(y, y_pred)"
   ]
  },
  {
   "cell_type": "markdown",
   "metadata": {},
   "source": [
    "####Since there are again many different dividing plane. The results are quite different from sklearn's implementation. "
   ]
  },
  {
   "cell_type": "markdown",
   "metadata": {},
   "source": [
    "###Testing On Grad School Data"
   ]
  },
  {
   "cell_type": "code",
   "execution_count": 2,
   "metadata": {
    "collapsed": true
   },
   "outputs": [],
   "source": [
    "grad_df = pd.read_csv('data/grad.csv')"
   ]
  },
  {
   "cell_type": "code",
   "execution_count": 3,
   "metadata": {
    "collapsed": false
   },
   "outputs": [
    {
     "data": {
      "text/plain": [
       "(400, 3)"
      ]
     },
     "execution_count": 3,
     "metadata": {},
     "output_type": "execute_result"
    }
   ],
   "source": [
    "y = grad_df.admit.values\n",
    "X = grad_df.drop('admit', axis=1).values\n",
    "X.shape"
   ]
  },
  {
   "cell_type": "code",
   "execution_count": 4,
   "metadata": {
    "collapsed": false
   },
   "outputs": [
    {
     "name": "stdout",
     "output_type": "stream",
     "text": [
      "Results from Gradient Ascent implementation:\n",
      "  coeffs: [-2.68792228  1.40987806  1.78138334 -1.40600439]\n",
      "  accuracy: 0.705\n",
      "  precision: 0.6\n",
      "  recall: 0.212598425197\n"
     ]
    }
   ],
   "source": [
    "# Gradient Ascent\n",
    "ga = GradientAscent(log_likelihood, log_likelihood_gradient, predict, scale=True)\n",
    "ga.run(X, y, num_iterations=100000)\n",
    "print \"Results from Gradient Ascent implementation:\"\n",
    "print \"  coeffs:\", ga.coeffs\n",
    "y_pred = ga.predict(X)\n",
    "print \"  accuracy:\", accuracy(y, y_pred)\n",
    "print \"  precision:\", precision(y, y_pred)\n",
    "print \"  recall:\", recall(y, y_pred)"
   ]
  },
  {
   "cell_type": "code",
   "execution_count": 4,
   "metadata": {
    "collapsed": false
   },
   "outputs": [
    {
     "name": "stdout",
     "output_type": "stream",
     "text": [
      "> /Users/Warren/GitHub/data_science_knowledge/gradient_descent/gradient_ascent.py(76)sgd_run()\n",
      "-> self.coeffs = np.zeros(X.shape[1])\n",
      "(Pdb) c\n",
      "Results from Stochastic Gradient Ascent implementation:\n",
      "  coeffs: [-0.04522513  0.00772274 -0.06986325 -0.38252642]\n",
      "  accuracy: 0.3175\n",
      "  precision: 0.3175\n",
      "  recall: 1.0\n"
     ]
    }
   ],
   "source": [
    "# Stochastic Gradient Ascent\n",
    "sga = GradientAscent(log_likelihood, log_likelihood_gradient, predict)\n",
    "sga.sgd_run(X, y, step_size=.001)\n",
    "print \"Results from Stochastic Gradient Ascent implementation:\"\n",
    "print \"  coeffs:\", sga.coeffs\n",
    "y_pred = sga.predict(X)\n",
    "print \"  accuracy:\", accuracy(y, y_pred)\n",
    "print \"  precision:\", precision(y, y_pred)\n",
    "print \"  recall:\", recall(y, y_pred)"
   ]
  },
  {
   "cell_type": "code",
   "execution_count": 8,
   "metadata": {
    "collapsed": false
   },
   "outputs": [
    {
     "name": "stdout",
     "output_type": "stream",
     "text": [
      "Results from sklearn Logistic Regression:\n",
      "  coeffs: -1.18847875568 [ 0.00191577  0.21564289 -0.59842009]\n",
      "  accuracy: 0.715\n",
      "  precision: 0.651162790698\n",
      "  recall: 0.220472440945\n"
     ]
    }
   ],
   "source": [
    "# sklearn's Logistic Regression\n",
    "lr = LogisticRegression()\n",
    "lr.fit(X, y)\n",
    "print \"Results from sklearn Logistic Regression:\"\n",
    "print \"  coeffs:\", lr.intercept_[0], lr.coef_[0]\n",
    "y_pred = lr.predict(X)\n",
    "print \"  accuracy:\", accuracy(y, y_pred)\n",
    "print \"  precision:\", precision(y, y_pred)\n",
    "print \"  recall:\", recall(y, y_pred)"
   ]
  },
  {
   "cell_type": "code",
   "execution_count": 9,
   "metadata": {
    "collapsed": false
   },
   "outputs": [
    {
     "name": "stdout",
     "output_type": "stream",
     "text": [
      "Results from Gradient Ascent with regularization\n",
      "  coeffs: [-0.97053865  0.76129108  0.40038977 -1.27163495]\n",
      "  accuracy: 0.705\n",
      "  precision: 0.645161290323\n",
      "  recall: 0.157480314961\n"
     ]
    }
   ],
   "source": [
    "# Gradient Ascent with regularization\n",
    "likelihood_regularized = lambda X, y, coeffs: \\\n",
    "                         log_likelihood(X, y, coeffs, l=10)\n",
    "gradient_regularized = lambda X, y, coeffs: \\\n",
    "                       log_likelihood_gradient(X, y, coeffs, l=1)\n",
    "gar = GradientAscent(likelihood_regularized, gradient_regularized, predict, scale=True)\n",
    "gar.run(X, y, num_iterations=100000)\n",
    "print \"Results from Gradient Ascent with regularization\"\n",
    "print \"  coeffs:\", gar.coeffs\n",
    "y_pred = gar.predict(X)\n",
    "print \"  accuracy:\", accuracy(y, y_pred)\n",
    "print \"  precision:\", precision(y, y_pred)\n",
    "print \"  recall:\", recall(y, y_pred)"
   ]
  },
  {
   "cell_type": "markdown",
   "metadata": {},
   "source": [
    "####SGD was not able to converge. Gradient Ascent and Gradient Ascent with regularization did best."
   ]
  },
  {
   "cell_type": "markdown",
   "metadata": {},
   "source": [
    "###Newton's Method"
   ]
  },
  {
   "cell_type": "code",
   "execution_count": 198,
   "metadata": {
    "collapsed": true
   },
   "outputs": [],
   "source": [
    "def newton(f,f_p,f_pp,tol):\n",
    "    error = tol+1\n",
    "    x_0 =1\n",
    "    while error > tol:\n",
    "        print x_0\n",
    "        x_0 -= f_p(x_0)/float(f_pp(x_0))\n",
    "        error = f_p(x_0)\n",
    "    return x_0"
   ]
  },
  {
   "cell_type": "code",
   "execution_count": 199,
   "metadata": {
    "collapsed": true
   },
   "outputs": [],
   "source": [
    "def f(x):\n",
    "    return 6*x**2+3*x-10\n",
    "def f_p(x):\n",
    "    return 12*x + 3\n",
    "def f_pp(x):\n",
    "    return 12"
   ]
  },
  {
   "cell_type": "code",
   "execution_count": 201,
   "metadata": {
    "collapsed": false,
    "scrolled": false
   },
   "outputs": [
    {
     "name": "stdout",
     "output_type": "stream",
     "text": [
      "1\n"
     ]
    },
    {
     "data": {
      "text/plain": [
       "-0.25"
      ]
     },
     "execution_count": 201,
     "metadata": {},
     "output_type": "execute_result"
    }
   ],
   "source": [
    "newton(f,f_p,f_pp, tol=0.001)"
   ]
  },
  {
   "cell_type": "code",
   "execution_count": null,
   "metadata": {
    "collapsed": true
   },
   "outputs": [],
   "source": []
  }
 ],
 "metadata": {
  "kernelspec": {
   "display_name": "Python 2",
   "language": "python",
   "name": "python2"
  },
  "language_info": {
   "codemirror_mode": {
    "name": "ipython",
    "version": 2
   },
   "file_extension": ".py",
   "mimetype": "text/x-python",
   "name": "python",
   "nbconvert_exporter": "python",
   "pygments_lexer": "ipython2",
   "version": "2.7.10"
  }
 },
 "nbformat": 4,
 "nbformat_minor": 0
}
