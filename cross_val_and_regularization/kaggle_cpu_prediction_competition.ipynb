{
 "cells": [
  {
   "cell_type": "markdown",
   "metadata": {},
   "source": [
    "###Kaggle competition\n",
    "https://inclass.kaggle.com/c/model-t4/data\n",
    "\n",
    "Predict CPU load based on applications running on a server cluster.\n",
    "\n",
    "This competition is part of a machine learning workshop given at InTraffic.\n",
    "\n",
    "The goal is to predict the load on the CPUs in a cluster of servers based on the behavior of a series of applications running on these servers.\n",
    "\n",
    "There are two CPUs in each server. There are seven servers in the cluster. The prediction is for the second CPU.\n",
    "\n",
    "The dataset consists of a set of variables that were measured over about a one month period. Measurements were taken in one minute intervals and on each server. Measurements are usually the average or sum over that one minute interval. For instance the number of packets received, the average number of IO operations, etc\n",
    "\n",
    "The set is data from a real cluster that is used to control train traffic in a geographical area spanning several cities.\n",
    "\n",
    "Data was collected with a tool called T4 (Total Timeline Tracking Tool).\n",
    "\n",
    "###Data fields\n",
    "\n",
    "* sample time - the date and time the data was sampled.\n",
    "* m_id - the ID of the server the data was sampled at.\n",
    "* appxxxx - data about specific application.\n",
    "* pagexxx - data on memory usage of the server.\n",
    "* syst_xxx - data on page fault rate, number of processes, etc.\n",
    "* state_xxx - data on the state the system is in.\n",
    "* io_xxx - data about general IO usage, (file IO, direct IO).\n",
    "* tcp_xxx - data on incoming and outgoing TCP traffic.\n",
    "* llxxx, ewxxx - data on incoming and outgoing network traffic.\n",
    "* cpu_01_busy - the variable we are trying to predict."
   ]
  },
  {
   "cell_type": "markdown",
   "metadata": {},
   "source": [
    "###EDA"
   ]
  },
  {
   "cell_type": "code",
   "execution_count": 19,
   "metadata": {
    "collapsed": true
   },
   "outputs": [],
   "source": [
    "import pandas as pd\n",
    "import numpy as np\n",
    "import pdb"
   ]
  },
  {
   "cell_type": "code",
   "execution_count": 2,
   "metadata": {
    "collapsed": true
   },
   "outputs": [],
   "source": [
    "df_train = pd.read_csv('train.csv')\n",
    "df_test = pd.read_csv('test.csv')\n",
    "df_sample_soln = pd.read_csv('sampleSolution.csv')"
   ]
  },
  {
   "cell_type": "code",
   "execution_count": 5,
   "metadata": {
    "collapsed": false
   },
   "outputs": [
    {
     "data": {
      "text/plain": [
       "Index([u'sample_time', u'm_id', u'syst_direct_ipo_rate',\n",
       "       u'syst_buffered_ipo_rate', u'syst_page_fault_rate',\n",
       "       u'syst_page_read_ipo_rate', u'syst_process_count', u'syst_other_states',\n",
       "       u'page_page_write_ipo_rate', u'page_global_valid_fault_rate',\n",
       "       u'page_free_list_size', u'page_modified_list_size',\n",
       "       u'io_mailbox_write_rate', u'io_split_transfer_rate',\n",
       "       u'io_file_open_rate', u'io_logical_name_trans', u'io_page_reads',\n",
       "       u'io_page_writes', u'page_free_list_faults',\n",
       "       u'page_modified_list_faults', u'page_demand_zero_faults',\n",
       "       u'state_compute', u'state_mwait', u'state_lef', u'state_hib',\n",
       "       u'state_cur', u'app06_dirio', u'app06_bufio', u'app06_pgflts',\n",
       "       u'app06_proccount', u'app06_pagesgbl', u'app06_pagesproc',\n",
       "       u'app07_dirio', u'app07_bufio', u'app07_pgflts', u'app07_proccount',\n",
       "       u'app07_pagesgbl', u'app07_pagesproc', u'app04_dirio', u'app04_bufio',\n",
       "       u'app04_pgflts', u'app04_proccount', u'app04_pagesgbl',\n",
       "       u'app04_pagesproc', u'app08_dirio', u'app08_bufio', u'app08_pgflts',\n",
       "       u'app08_proccount', u'app08_pagesgbl', u'app08_pagesproc',\n",
       "       u'app01_dirio', u'app01_bufio', u'app01_pgflts', u'app01_proccount',\n",
       "       u'app01_pagesgbl', u'app01_pagesproc', u'app05_dirio', u'app05_bufio',\n",
       "       u'app05_pgflts', u'app05_proccount', u'app05_pagesgbl',\n",
       "       u'app05_pagesproc', u'app03_dirio', u'app03_bufio', u'app03_pgflts',\n",
       "       u'app03_proccount', u'app03_pagesgbl', u'app03_pagesproc',\n",
       "       u'app02_dirio', u'app02_bufio', u'app02_pgflts', u'app02_proccount',\n",
       "       u'app02_pagesgbl', u'app02_pagesproc', u'cpu_01_busy', u'tcp_in',\n",
       "       u'tcp_out', u'tcp_rxdup', u'tcp_retxpk', u'tcp_retxto', u'tcp_kpalv',\n",
       "       u'lla0_pkts_recvpsec', u'lla0_pkts_sentpsec', u'llb0_pkts_recvpsec',\n",
       "       u'llb0_pkts_sentpsec', u'ewc0_pkts_recvpsec', u'ewc0_pkts_sentpsec',\n",
       "       u'ewd0_pkts_recvpsec', u'ewd0_pkts_sentpsec'],\n",
       "      dtype='object')"
      ]
     },
     "execution_count": 5,
     "metadata": {},
     "output_type": "execute_result"
    }
   ],
   "source": [
    "df_train.columns"
   ]
  },
  {
   "cell_type": "code",
   "execution_count": 8,
   "metadata": {
    "collapsed": false
   },
   "outputs": [
    {
     "name": "stdout",
     "output_type": "stream",
     "text": [
      "sample_time has no missing rows\n",
      "m_id has no missing rows\n",
      "syst_direct_ipo_rate has no missing rows\n",
      "syst_buffered_ipo_rate has no missing rows\n",
      "syst_page_fault_rate has no missing rows\n",
      "syst_page_read_ipo_rate has no missing rows\n",
      "syst_process_count has no missing rows\n",
      "syst_other_states has no missing rows\n",
      "page_page_write_ipo_rate has no missing rows\n",
      "page_global_valid_fault_rate has no missing rows\n",
      "page_free_list_size has no missing rows\n",
      "page_modified_list_size has no missing rows\n",
      "io_mailbox_write_rate has no missing rows\n",
      "io_split_transfer_rate has no missing rows\n",
      "io_file_open_rate has no missing rows\n",
      "io_logical_name_trans has no missing rows\n",
      "io_page_reads has no missing rows\n",
      "io_page_writes has no missing rows\n",
      "page_free_list_faults has no missing rows\n",
      "page_modified_list_faults has no missing rows\n",
      "page_demand_zero_faults has no missing rows\n",
      "state_compute has no missing rows\n",
      "state_mwait has no missing rows\n",
      "state_lef has no missing rows\n",
      "state_hib has no missing rows\n",
      "state_cur has no missing rows\n",
      "app06_dirio has no missing rows\n",
      "app06_bufio has no missing rows\n",
      "app06_pgflts has no missing rows\n",
      "app06_proccount has no missing rows\n",
      "app06_pagesgbl has no missing rows\n",
      "app06_pagesproc has no missing rows\n",
      "app07_dirio has no missing rows\n",
      "app07_bufio has no missing rows\n",
      "app07_pgflts has no missing rows\n",
      "app07_proccount has no missing rows\n",
      "app07_pagesgbl has no missing rows\n",
      "app07_pagesproc has no missing rows\n",
      "app04_dirio has no missing rows\n",
      "app04_bufio has no missing rows\n",
      "app04_pgflts has no missing rows\n",
      "app04_proccount has no missing rows\n",
      "app04_pagesgbl has no missing rows\n",
      "app04_pagesproc has no missing rows\n",
      "app08_dirio has no missing rows\n",
      "app08_bufio has no missing rows\n",
      "app08_pgflts has no missing rows\n",
      "app08_proccount has no missing rows\n",
      "app08_pagesgbl has no missing rows\n",
      "app08_pagesproc has no missing rows\n",
      "app01_dirio has no missing rows\n",
      "app01_bufio has no missing rows\n",
      "app01_pgflts has no missing rows\n",
      "app01_proccount has no missing rows\n",
      "app01_pagesgbl has no missing rows\n",
      "app01_pagesproc has no missing rows\n",
      "app05_dirio has no missing rows\n",
      "app05_bufio has no missing rows\n",
      "app05_pgflts has no missing rows\n",
      "app05_proccount has no missing rows\n",
      "app05_pagesgbl has no missing rows\n",
      "app05_pagesproc has no missing rows\n",
      "app03_dirio has no missing rows\n",
      "app03_bufio has no missing rows\n",
      "app03_pgflts has no missing rows\n",
      "app03_proccount has no missing rows\n",
      "app03_pagesgbl has no missing rows\n",
      "app03_pagesproc has no missing rows\n",
      "app02_dirio has no missing rows\n",
      "app02_bufio has no missing rows\n",
      "app02_pgflts has no missing rows\n",
      "app02_proccount has no missing rows\n",
      "app02_pagesgbl has no missing rows\n",
      "app02_pagesproc has no missing rows\n",
      "cpu_01_busy has no missing rows\n",
      "tcp_in has no missing rows\n",
      "tcp_out has no missing rows\n",
      "tcp_rxdup has no missing rows\n",
      "tcp_retxpk has no missing rows\n",
      "tcp_retxto has no missing rows\n",
      "tcp_kpalv has no missing rows\n",
      "lla0_pkts_recvpsec has no missing rows\n",
      "lla0_pkts_sentpsec has no missing rows\n",
      "llb0_pkts_recvpsec has no missing rows\n",
      "llb0_pkts_sentpsec has no missing rows\n",
      "ewc0_pkts_recvpsec has no missing rows\n",
      "ewc0_pkts_sentpsec has no missing rows\n",
      "ewd0_pkts_recvpsec has no missing rows\n",
      "ewd0_pkts_sentpsec has no missing rows\n"
     ]
    }
   ],
   "source": [
    "# check for missing data\n",
    "for column in df_train.columns:\n",
    "    if sum(df_train[column].notnull()) == df_train.shape[0]:\n",
    "        print '%s has no missing rows' % column\n",
    "    else:\n",
    "        print '%s has %d rows' % (column, df_train.shape[0] - sum(df[column].notnull()))\n",
    "        \n",
    "# no missing data"
   ]
  },
  {
   "cell_type": "code",
   "execution_count": 64,
   "metadata": {
    "collapsed": false
   },
   "outputs": [
    {
     "name": "stdout",
     "output_type": "stream",
     "text": [
      "sample_time object\n",
      "m_id object\n",
      "syst_direct_ipo_rate float64\n",
      "syst_buffered_ipo_rate float64\n",
      "syst_page_fault_rate float64\n",
      "syst_page_read_ipo_rate float64\n",
      "syst_process_count int64\n",
      "syst_other_states int64\n",
      "page_page_write_ipo_rate float64\n",
      "page_global_valid_fault_rate float64\n",
      "page_free_list_size int64\n",
      "page_modified_list_size int64\n",
      "io_mailbox_write_rate float64\n",
      "io_split_transfer_rate float64\n",
      "io_file_open_rate float64\n",
      "io_logical_name_trans float64\n",
      "io_page_reads float64\n",
      "io_page_writes float64\n",
      "page_free_list_faults float64\n",
      "page_modified_list_faults float64\n",
      "page_demand_zero_faults float64\n",
      "state_compute int64\n",
      "state_mwait int64\n",
      "state_lef int64\n",
      "state_hib int64\n",
      "state_cur int64\n",
      "app06_dirio int64\n",
      "app06_bufio int64\n",
      "app06_pgflts int64\n",
      "app06_proccount int64\n",
      "app06_pagesgbl int64\n",
      "app06_pagesproc int64\n",
      "app07_dirio float64\n",
      "app07_bufio float64\n",
      "app07_pgflts float64\n",
      "app07_proccount int64\n",
      "app07_pagesgbl int64\n",
      "app07_pagesproc int64\n",
      "app04_dirio float64\n",
      "app04_bufio float64\n",
      "app04_pgflts float64\n",
      "app04_proccount int64\n",
      "app04_pagesgbl int64\n",
      "app04_pagesproc int64\n",
      "app08_dirio float64\n",
      "app08_bufio float64\n",
      "app08_pgflts float64\n",
      "app08_proccount int64\n",
      "app08_pagesgbl int64\n",
      "app08_pagesproc int64\n",
      "app01_dirio float64\n",
      "app01_bufio float64\n",
      "app01_pgflts float64\n",
      "app01_proccount int64\n",
      "app01_pagesgbl int64\n",
      "app01_pagesproc int64\n",
      "app05_dirio float64\n",
      "app05_bufio float64\n",
      "app05_pgflts float64\n",
      "app05_proccount int64\n",
      "app05_pagesgbl int64\n",
      "app05_pagesproc int64\n",
      "app03_dirio float64\n",
      "app03_bufio float64\n",
      "app03_pgflts float64\n",
      "app03_proccount int64\n",
      "app03_pagesgbl int64\n",
      "app03_pagesproc int64\n",
      "app02_dirio float64\n",
      "app02_bufio float64\n",
      "app02_pgflts float64\n",
      "app02_proccount int64\n",
      "app02_pagesgbl int64\n",
      "app02_pagesproc int64\n",
      "cpu_01_busy float64\n",
      "tcp_in int64\n",
      "tcp_out int64\n",
      "tcp_rxdup int64\n",
      "tcp_retxpk int64\n",
      "tcp_retxto int64\n",
      "tcp_kpalv int64\n",
      "lla0_pkts_recvpsec float64\n",
      "lla0_pkts_sentpsec float64\n",
      "llb0_pkts_recvpsec float64\n",
      "llb0_pkts_sentpsec float64\n",
      "ewc0_pkts_recvpsec float64\n",
      "ewc0_pkts_sentpsec float64\n",
      "ewd0_pkts_recvpsec float64\n",
      "ewd0_pkts_sentpsec float64\n",
      "sample_time_dt_obj datetime64[ns]\n",
      "sample_time_unix float64\n"
     ]
    }
   ],
   "source": [
    "# check categorical vs. continuous features\n",
    "for n, t in zip(df_train.columns, df_train.dtypes): \n",
    "    print n, t "
   ]
  },
  {
   "cell_type": "code",
   "execution_count": 47,
   "metadata": {
    "collapsed": false
   },
   "outputs": [],
   "source": [
    "# create datetime obj and unix timestamp from string timestamp\n",
    "from datetime import datetime\n",
    "\n",
    "df_train['sample_time_dt_obj'] = df_train['sample_time'].apply(\\\n",
    "                                 lambda x: datetime.strptime(x, \"%Y-%m-%d %H:%M:%S\"))\n",
    "df_train['sample_time_unix'] = df_train['sample_time_dt_obj'].apply(\\\n",
    "                               lambda x: (x - datetime(1970,1,1)).total_seconds())"
   ]
  },
  {
   "cell_type": "code",
   "execution_count": 48,
   "metadata": {
    "collapsed": false
   },
   "outputs": [
    {
     "data": {
      "text/plain": [
       "Index([u'sample_time', u'm_id', u'syst_direct_ipo_rate',\n",
       "       u'syst_buffered_ipo_rate', u'syst_page_fault_rate',\n",
       "       u'syst_page_read_ipo_rate', u'syst_process_count', u'syst_other_states',\n",
       "       u'page_page_write_ipo_rate', u'page_global_valid_fault_rate',\n",
       "       u'page_free_list_size', u'page_modified_list_size',\n",
       "       u'io_mailbox_write_rate', u'io_split_transfer_rate',\n",
       "       u'io_file_open_rate', u'io_logical_name_trans', u'io_page_reads',\n",
       "       u'io_page_writes', u'page_free_list_faults',\n",
       "       u'page_modified_list_faults', u'page_demand_zero_faults',\n",
       "       u'state_compute', u'state_mwait', u'state_lef', u'state_hib',\n",
       "       u'state_cur', u'app06_dirio', u'app06_bufio', u'app06_pgflts',\n",
       "       u'app06_proccount', u'app06_pagesgbl', u'app06_pagesproc',\n",
       "       u'app07_dirio', u'app07_bufio', u'app07_pgflts', u'app07_proccount',\n",
       "       u'app07_pagesgbl', u'app07_pagesproc', u'app04_dirio', u'app04_bufio',\n",
       "       u'app04_pgflts', u'app04_proccount', u'app04_pagesgbl',\n",
       "       u'app04_pagesproc', u'app08_dirio', u'app08_bufio', u'app08_pgflts',\n",
       "       u'app08_proccount', u'app08_pagesgbl', u'app08_pagesproc',\n",
       "       u'app01_dirio', u'app01_bufio', u'app01_pgflts', u'app01_proccount',\n",
       "       u'app01_pagesgbl', u'app01_pagesproc', u'app05_dirio', u'app05_bufio',\n",
       "       u'app05_pgflts', u'app05_proccount', u'app05_pagesgbl',\n",
       "       u'app05_pagesproc', u'app03_dirio', u'app03_bufio', u'app03_pgflts',\n",
       "       u'app03_proccount', u'app03_pagesgbl', u'app03_pagesproc',\n",
       "       u'app02_dirio', u'app02_bufio', u'app02_pgflts', u'app02_proccount',\n",
       "       u'app02_pagesgbl', u'app02_pagesproc', u'cpu_01_busy', u'tcp_in',\n",
       "       u'tcp_out', u'tcp_rxdup', u'tcp_retxpk', u'tcp_retxto', u'tcp_kpalv',\n",
       "       u'lla0_pkts_recvpsec', u'lla0_pkts_sentpsec', u'llb0_pkts_recvpsec',\n",
       "       u'llb0_pkts_sentpsec', u'ewc0_pkts_recvpsec', u'ewc0_pkts_sentpsec',\n",
       "       u'ewd0_pkts_recvpsec', u'ewd0_pkts_sentpsec', u'sample_time_dt_obj',\n",
       "       u'sample_time_unix'],\n",
       "      dtype='object')"
      ]
     },
     "execution_count": 48,
     "metadata": {},
     "output_type": "execute_result"
    }
   ],
   "source": [
    "df_train.columns"
   ]
  },
  {
   "cell_type": "code",
   "execution_count": 63,
   "metadata": {
    "collapsed": false
   },
   "outputs": [],
   "source": [
    "# convert categorical variable m_id to numeric\n",
    "df_train_clean = pd.concat([df_train, pd.get_dummies(df_train['m_id']).drop('g', axis=1)], \n",
    "                           axis=1)"
   ]
  },
  {
   "cell_type": "code",
   "execution_count": 65,
   "metadata": {
    "collapsed": false
   },
   "outputs": [
    {
     "name": "stdout",
     "output_type": "stream",
     "text": [
      "sample_time object\n",
      "m_id object\n",
      "syst_direct_ipo_rate float64\n",
      "syst_buffered_ipo_rate float64\n",
      "syst_page_fault_rate float64\n",
      "syst_page_read_ipo_rate float64\n",
      "syst_process_count int64\n",
      "syst_other_states int64\n",
      "page_page_write_ipo_rate float64\n",
      "page_global_valid_fault_rate float64\n",
      "page_free_list_size int64\n",
      "page_modified_list_size int64\n",
      "io_mailbox_write_rate float64\n",
      "io_split_transfer_rate float64\n",
      "io_file_open_rate float64\n",
      "io_logical_name_trans float64\n",
      "io_page_reads float64\n",
      "io_page_writes float64\n",
      "page_free_list_faults float64\n",
      "page_modified_list_faults float64\n",
      "page_demand_zero_faults float64\n",
      "state_compute int64\n",
      "state_mwait int64\n",
      "state_lef int64\n",
      "state_hib int64\n",
      "state_cur int64\n",
      "app06_dirio int64\n",
      "app06_bufio int64\n",
      "app06_pgflts int64\n",
      "app06_proccount int64\n",
      "app06_pagesgbl int64\n",
      "app06_pagesproc int64\n",
      "app07_dirio float64\n",
      "app07_bufio float64\n",
      "app07_pgflts float64\n",
      "app07_proccount int64\n",
      "app07_pagesgbl int64\n",
      "app07_pagesproc int64\n",
      "app04_dirio float64\n",
      "app04_bufio float64\n",
      "app04_pgflts float64\n",
      "app04_proccount int64\n",
      "app04_pagesgbl int64\n",
      "app04_pagesproc int64\n",
      "app08_dirio float64\n",
      "app08_bufio float64\n",
      "app08_pgflts float64\n",
      "app08_proccount int64\n",
      "app08_pagesgbl int64\n",
      "app08_pagesproc int64\n",
      "app01_dirio float64\n",
      "app01_bufio float64\n",
      "app01_pgflts float64\n",
      "app01_proccount int64\n",
      "app01_pagesgbl int64\n",
      "app01_pagesproc int64\n",
      "app05_dirio float64\n",
      "app05_bufio float64\n",
      "app05_pgflts float64\n",
      "app05_proccount int64\n",
      "app05_pagesgbl int64\n",
      "app05_pagesproc int64\n",
      "app03_dirio float64\n",
      "app03_bufio float64\n",
      "app03_pgflts float64\n",
      "app03_proccount int64\n",
      "app03_pagesgbl int64\n",
      "app03_pagesproc int64\n",
      "app02_dirio float64\n",
      "app02_bufio float64\n",
      "app02_pgflts float64\n",
      "app02_proccount int64\n",
      "app02_pagesgbl int64\n",
      "app02_pagesproc int64\n",
      "cpu_01_busy float64\n",
      "tcp_in int64\n",
      "tcp_out int64\n",
      "tcp_rxdup int64\n",
      "tcp_retxpk int64\n",
      "tcp_retxto int64\n",
      "tcp_kpalv int64\n",
      "lla0_pkts_recvpsec float64\n",
      "lla0_pkts_sentpsec float64\n",
      "llb0_pkts_recvpsec float64\n",
      "llb0_pkts_sentpsec float64\n",
      "ewc0_pkts_recvpsec float64\n",
      "ewc0_pkts_sentpsec float64\n",
      "ewd0_pkts_recvpsec float64\n",
      "ewd0_pkts_sentpsec float64\n",
      "sample_time_dt_obj datetime64[ns]\n",
      "sample_time_unix float64\n",
      "a float64\n",
      "b float64\n",
      "c float64\n",
      "d float64\n",
      "e float64\n",
      "f float64\n"
     ]
    }
   ],
   "source": [
    "# check categorical vs. continuous features\n",
    "for n, t in zip(df_train_clean.columns, df_train_clean.dtypes): \n",
    "    print n, t "
   ]
  },
  {
   "cell_type": "code",
   "execution_count": 67,
   "metadata": {
    "collapsed": false
   },
   "outputs": [],
   "source": [
    "df_train_numeric = df_train_clean.drop(['sample_time_dt_obj', 'm_id', 'sample_time'], axis=1)"
   ]
  },
  {
   "cell_type": "code",
   "execution_count": 68,
   "metadata": {
    "collapsed": false
   },
   "outputs": [
    {
     "name": "stdout",
     "output_type": "stream",
     "text": [
      "syst_direct_ipo_rate float64\n",
      "syst_buffered_ipo_rate float64\n",
      "syst_page_fault_rate float64\n",
      "syst_page_read_ipo_rate float64\n",
      "syst_process_count int64\n",
      "syst_other_states int64\n",
      "page_page_write_ipo_rate float64\n",
      "page_global_valid_fault_rate float64\n",
      "page_free_list_size int64\n",
      "page_modified_list_size int64\n",
      "io_mailbox_write_rate float64\n",
      "io_split_transfer_rate float64\n",
      "io_file_open_rate float64\n",
      "io_logical_name_trans float64\n",
      "io_page_reads float64\n",
      "io_page_writes float64\n",
      "page_free_list_faults float64\n",
      "page_modified_list_faults float64\n",
      "page_demand_zero_faults float64\n",
      "state_compute int64\n",
      "state_mwait int64\n",
      "state_lef int64\n",
      "state_hib int64\n",
      "state_cur int64\n",
      "app06_dirio int64\n",
      "app06_bufio int64\n",
      "app06_pgflts int64\n",
      "app06_proccount int64\n",
      "app06_pagesgbl int64\n",
      "app06_pagesproc int64\n",
      "app07_dirio float64\n",
      "app07_bufio float64\n",
      "app07_pgflts float64\n",
      "app07_proccount int64\n",
      "app07_pagesgbl int64\n",
      "app07_pagesproc int64\n",
      "app04_dirio float64\n",
      "app04_bufio float64\n",
      "app04_pgflts float64\n",
      "app04_proccount int64\n",
      "app04_pagesgbl int64\n",
      "app04_pagesproc int64\n",
      "app08_dirio float64\n",
      "app08_bufio float64\n",
      "app08_pgflts float64\n",
      "app08_proccount int64\n",
      "app08_pagesgbl int64\n",
      "app08_pagesproc int64\n",
      "app01_dirio float64\n",
      "app01_bufio float64\n",
      "app01_pgflts float64\n",
      "app01_proccount int64\n",
      "app01_pagesgbl int64\n",
      "app01_pagesproc int64\n",
      "app05_dirio float64\n",
      "app05_bufio float64\n",
      "app05_pgflts float64\n",
      "app05_proccount int64\n",
      "app05_pagesgbl int64\n",
      "app05_pagesproc int64\n",
      "app03_dirio float64\n",
      "app03_bufio float64\n",
      "app03_pgflts float64\n",
      "app03_proccount int64\n",
      "app03_pagesgbl int64\n",
      "app03_pagesproc int64\n",
      "app02_dirio float64\n",
      "app02_bufio float64\n",
      "app02_pgflts float64\n",
      "app02_proccount int64\n",
      "app02_pagesgbl int64\n",
      "app02_pagesproc int64\n",
      "cpu_01_busy float64\n",
      "tcp_in int64\n",
      "tcp_out int64\n",
      "tcp_rxdup int64\n",
      "tcp_retxpk int64\n",
      "tcp_retxto int64\n",
      "tcp_kpalv int64\n",
      "lla0_pkts_recvpsec float64\n",
      "lla0_pkts_sentpsec float64\n",
      "llb0_pkts_recvpsec float64\n",
      "llb0_pkts_sentpsec float64\n",
      "ewc0_pkts_recvpsec float64\n",
      "ewc0_pkts_sentpsec float64\n",
      "ewd0_pkts_recvpsec float64\n",
      "ewd0_pkts_sentpsec float64\n",
      "sample_time_unix float64\n",
      "a float64\n",
      "b float64\n",
      "c float64\n",
      "d float64\n",
      "e float64\n",
      "f float64\n"
     ]
    }
   ],
   "source": [
    "# check categorical vs. continuous features\n",
    "for n, t in zip(df_train_numeric.columns, df_train_numeric.dtypes): \n",
    "    print n, t "
   ]
  },
  {
   "cell_type": "code",
   "execution_count": 17,
   "metadata": {
    "collapsed": false
   },
   "outputs": [],
   "source": [
    "# compute VIF to test for multicollinearity\n",
    "from statsmodels.stats.outliers_influence import variance_inflation_factor"
   ]
  },
  {
   "cell_type": "code",
   "execution_count": 84,
   "metadata": {
    "collapsed": false
   },
   "outputs": [
    {
     "data": {
      "text/plain": [
       "True"
      ]
     },
     "execution_count": 84,
     "metadata": {},
     "output_type": "execute_result"
    }
   ],
   "source": [
    "# some columns are all 0, hence VIF is not possible\n",
    "import math\n",
    "math.isnan(variance_inflation_factor(df_train_numeric.as_matrix(), 24))"
   ]
  },
  {
   "cell_type": "code",
   "execution_count": 81,
   "metadata": {
    "collapsed": false
   },
   "outputs": [
    {
     "data": {
      "text/plain": [
       "count    178780\n",
       "mean          0\n",
       "std           0\n",
       "min           0\n",
       "25%           0\n",
       "50%           0\n",
       "75%           0\n",
       "max           0\n",
       "Name: app06_bufio, dtype: float64"
      ]
     },
     "execution_count": 81,
     "metadata": {},
     "output_type": "execute_result"
    }
   ],
   "source": [
    "df_train_numeric['app06_bufio'].describe()"
   ]
  },
  {
   "cell_type": "code",
   "execution_count": 87,
   "metadata": {
    "collapsed": true
   },
   "outputs": [],
   "source": [
    "vif_score = dict()"
   ]
  },
  {
   "cell_type": "code",
   "execution_count": 88,
   "metadata": {
    "collapsed": false
   },
   "outputs": [
    {
     "name": "stdout",
     "output_type": "stream",
     "text": [
      "column: syst_direct_ipo_rate is good. VIF = 3\n",
      "column: syst_buffered_ipo_rate is good. VIF = 2\n",
      "column: syst_page_fault_rate may have a multicollinearity problem. VIF = 33449\n",
      "column: syst_page_read_ipo_rate may have a multicollinearity problem. VIF = 4047\n",
      "column: syst_process_count may have a multicollinearity problem. VIF = 8630\n",
      "column: syst_other_states may have a multicollinearity problem. VIF = 1589\n",
      "column: page_page_write_ipo_rate may have a multicollinearity problem. VIF = 41\n",
      "column: page_global_valid_fault_rate may have a multicollinearity problem. VIF = 3219\n",
      "column: page_free_list_size may have a multicollinearity problem. VIF = 23370\n",
      "column: page_modified_list_size may have a multicollinearity problem. VIF = 7680\n",
      "column: io_mailbox_write_rate is good. VIF = 4\n",
      "column: io_split_transfer_rate is good. VIF = 1\n",
      "column: io_file_open_rate is good. VIF = 1\n",
      "column: io_logical_name_trans is good. VIF = 2\n",
      "column: io_page_reads may have a multicollinearity problem. VIF = 1068\n",
      "column: io_page_writes may have a multicollinearity problem. VIF = 31\n",
      "column: page_free_list_faults may have a multicollinearity problem. VIF = 30\n",
      "column: page_modified_list_faults may have a multicollinearity problem. VIF = 271\n",
      "column: page_demand_zero_faults may have a multicollinearity problem. VIF = 1169\n",
      "column: state_compute is good. VIF = 7\n",
      "column: state_mwait is good. VIF = 1\n",
      "column: state_lef may have a multicollinearity problem. VIF = 3785\n",
      "column: state_hib is good. VIF = 18\n",
      "column: state_cur is good. VIF = 1\n",
      "column: VIF of app06_dirio cannot be calculated\n",
      "column: VIF of app06_bufio cannot be calculated\n",
      "column: VIF of app06_pgflts cannot be calculated\n",
      "column: app06_proccount is good. VIF = 0\n",
      "column: app06_pagesgbl may have a multicollinearity problem. VIF = 12947\n",
      "column: app06_pagesproc may have a multicollinearity problem. VIF = 2636\n",
      "column: app07_dirio may have a multicollinearity problem. VIF = 33\n",
      "column: app07_bufio is good. VIF = 6\n",
      "column: app07_pgflts is good. VIF = 1\n",
      "column: app07_proccount may have a multicollinearity problem. VIF = 22443\n",
      "column: app07_pagesgbl may have a multicollinearity problem. VIF = 8778\n",
      "column: app07_pagesproc may have a multicollinearity problem. VIF = 9353\n",
      "column: app04_dirio is good. VIF = 3\n",
      "column: app04_bufio is good. VIF = 1\n",
      "column: app04_pgflts is good. VIF = 1\n",
      "column: app04_proccount may have a multicollinearity problem. VIF = 3809\n",
      "column: app04_pagesgbl may have a multicollinearity problem. VIF = 302\n",
      "column: app04_pagesproc may have a multicollinearity problem. VIF = 4103\n",
      "column: app08_dirio is good. VIF = 1\n",
      "column: app08_bufio is good. VIF = 1\n",
      "column: app08_pgflts is good. VIF = 1\n",
      "column: app08_proccount may have a multicollinearity problem. VIF = 23394\n",
      "column: app08_pagesgbl may have a multicollinearity problem. VIF = 165240\n",
      "column: app08_pagesproc may have a multicollinearity problem. VIF = 152417\n",
      "column: app01_dirio may have a multicollinearity problem. VIF = 77\n",
      "column: app01_bufio may have a multicollinearity problem. VIF = 1607\n",
      "column: app01_pgflts is good. VIF = 1\n",
      "column: app01_proccount may have a multicollinearity problem. VIF = 26278\n",
      "column: app01_pagesgbl may have a multicollinearity problem. VIF = 78336\n",
      "column: app01_pagesproc may have a multicollinearity problem. VIF = 72002\n",
      "column: app05_dirio is good. VIF = 1\n",
      "column: app05_bufio is good. VIF = 7\n",
      "column: app05_pgflts is good. VIF = 2\n",
      "column: app05_proccount may have a multicollinearity problem. VIF = 1650\n",
      "column: app05_pagesgbl may have a multicollinearity problem. VIF = 1418\n",
      "column: app05_pagesproc may have a multicollinearity problem. VIF = 8676\n",
      "column: app03_dirio may have a multicollinearity problem. VIF = 44\n",
      "column: app03_bufio may have a multicollinearity problem. VIF = 242\n",
      "column: app03_pgflts may have a multicollinearity problem. VIF = 90\n",
      "column: app03_proccount is good. VIF = 0\n",
      "column: app03_pagesgbl may have a multicollinearity problem. VIF = 13232\n",
      "column: app03_pagesproc may have a multicollinearity problem. VIF = 11133\n",
      "column: app02_dirio may have a multicollinearity problem. VIF = 780\n",
      "column: app02_bufio may have a multicollinearity problem. VIF = 288\n",
      "column: app02_pgflts is good. VIF = 1\n",
      "column: app02_proccount may have a multicollinearity problem. VIF = 19610\n",
      "column: app02_pagesgbl may have a multicollinearity problem. VIF = 23011\n",
      "column: app02_pagesproc may have a multicollinearity problem. VIF = 41879\n",
      "column: cpu_01_busy is good. VIF = 6\n",
      "column: tcp_in is good. VIF = 16\n",
      "column: tcp_out is good. VIF = 18\n",
      "column: tcp_rxdup may have a multicollinearity problem. VIF = 31\n",
      "column: tcp_retxpk is good. VIF = 1\n",
      "column: tcp_retxto is good. VIF = 1\n",
      "column: tcp_kpalv is good. VIF = 1\n",
      "column: lla0_pkts_recvpsec is good. VIF = 1\n",
      "column: lla0_pkts_sentpsec is good. VIF = 1\n"
     ]
    },
    {
     "ename": "KeyboardInterrupt",
     "evalue": "",
     "output_type": "error",
     "traceback": [
      "\u001b[0;31m---------------------------------------------------------------------------\u001b[0m",
      "\u001b[0;31mKeyboardInterrupt\u001b[0m                         Traceback (most recent call last)",
      "\u001b[0;32m<ipython-input-88-ce13e43cd188>\u001b[0m in \u001b[0;36m<module>\u001b[0;34m()\u001b[0m\n\u001b[1;32m      1\u001b[0m \u001b[0;32mfor\u001b[0m \u001b[0mcol_index\u001b[0m\u001b[0;34m,\u001b[0m \u001b[0mcolumn\u001b[0m \u001b[0;32min\u001b[0m \u001b[0menumerate\u001b[0m\u001b[0;34m(\u001b[0m\u001b[0mdf_train_numeric\u001b[0m\u001b[0;34m.\u001b[0m\u001b[0mcolumns\u001b[0m\u001b[0;34m)\u001b[0m\u001b[0;34m:\u001b[0m\u001b[0;34m\u001b[0m\u001b[0m\n\u001b[0;32m----> 2\u001b[0;31m     \u001b[0mvif\u001b[0m \u001b[0;34m=\u001b[0m \u001b[0mvariance_inflation_factor\u001b[0m\u001b[0;34m(\u001b[0m\u001b[0mdf_train_numeric\u001b[0m\u001b[0;34m.\u001b[0m\u001b[0mas_matrix\u001b[0m\u001b[0;34m(\u001b[0m\u001b[0;34m)\u001b[0m\u001b[0;34m,\u001b[0m \u001b[0mcol_index\u001b[0m\u001b[0;34m)\u001b[0m\u001b[0;34m\u001b[0m\u001b[0m\n\u001b[0m\u001b[1;32m      3\u001b[0m     \u001b[0mvif_score\u001b[0m\u001b[0;34m[\u001b[0m\u001b[0mcolumn\u001b[0m\u001b[0;34m]\u001b[0m \u001b[0;34m=\u001b[0m \u001b[0mvif\u001b[0m\u001b[0;34m\u001b[0m\u001b[0m\n\u001b[1;32m      4\u001b[0m     \u001b[0;32mif\u001b[0m \u001b[0mvif\u001b[0m \u001b[0;34m>=\u001b[0m \u001b[0;36m30\u001b[0m\u001b[0;34m:\u001b[0m\u001b[0;34m\u001b[0m\u001b[0m\n\u001b[1;32m      5\u001b[0m         \u001b[0;32mprint\u001b[0m \u001b[0;34m'column: %s may have a multicollinearity problem. VIF = %d'\u001b[0m \u001b[0;34m%\u001b[0m \u001b[0;34m(\u001b[0m\u001b[0mcolumn\u001b[0m\u001b[0;34m,\u001b[0m \u001b[0mvif\u001b[0m\u001b[0;34m)\u001b[0m\u001b[0;34m\u001b[0m\u001b[0m\n",
      "\u001b[0;32m/Users/datascientist/anaconda/lib/python2.7/site-packages/statsmodels-0.7.0-py2.7-macosx-10.5-x86_64.egg/statsmodels/stats/outliers_influence.pyc\u001b[0m in \u001b[0;36mvariance_inflation_factor\u001b[0;34m(exog, exog_idx)\u001b[0m\n\u001b[1;32m    164\u001b[0m     \u001b[0mmask\u001b[0m \u001b[0;34m=\u001b[0m \u001b[0mnp\u001b[0m\u001b[0;34m.\u001b[0m\u001b[0marange\u001b[0m\u001b[0;34m(\u001b[0m\u001b[0mk_vars\u001b[0m\u001b[0;34m)\u001b[0m \u001b[0;34m!=\u001b[0m \u001b[0mexog_idx\u001b[0m\u001b[0;34m\u001b[0m\u001b[0m\n\u001b[1;32m    165\u001b[0m     \u001b[0mx_noti\u001b[0m \u001b[0;34m=\u001b[0m \u001b[0mexog\u001b[0m\u001b[0;34m[\u001b[0m\u001b[0;34m:\u001b[0m\u001b[0;34m,\u001b[0m \u001b[0mmask\u001b[0m\u001b[0;34m]\u001b[0m\u001b[0;34m\u001b[0m\u001b[0m\n\u001b[0;32m--> 166\u001b[0;31m     \u001b[0mr_squared_i\u001b[0m \u001b[0;34m=\u001b[0m \u001b[0mOLS\u001b[0m\u001b[0;34m(\u001b[0m\u001b[0mx_i\u001b[0m\u001b[0;34m,\u001b[0m \u001b[0mx_noti\u001b[0m\u001b[0;34m)\u001b[0m\u001b[0;34m.\u001b[0m\u001b[0mfit\u001b[0m\u001b[0;34m(\u001b[0m\u001b[0;34m)\u001b[0m\u001b[0;34m.\u001b[0m\u001b[0mrsquared\u001b[0m\u001b[0;34m\u001b[0m\u001b[0m\n\u001b[0m\u001b[1;32m    167\u001b[0m     \u001b[0mvif\u001b[0m \u001b[0;34m=\u001b[0m \u001b[0;36m1.\u001b[0m \u001b[0;34m/\u001b[0m \u001b[0;34m(\u001b[0m\u001b[0;36m1.\u001b[0m \u001b[0;34m-\u001b[0m \u001b[0mr_squared_i\u001b[0m\u001b[0;34m)\u001b[0m\u001b[0;34m\u001b[0m\u001b[0m\n\u001b[1;32m    168\u001b[0m     \u001b[0;32mreturn\u001b[0m \u001b[0mvif\u001b[0m\u001b[0;34m\u001b[0m\u001b[0m\n",
      "\u001b[0;32m/Users/datascientist/anaconda/lib/python2.7/site-packages/statsmodels-0.7.0-py2.7-macosx-10.5-x86_64.egg/statsmodels/regression/linear_model.pyc\u001b[0m in \u001b[0;36mfit\u001b[0;34m(self, method, cov_type, cov_kwds, use_t, **kwargs)\u001b[0m\n\u001b[1;32m    187\u001b[0m                 (not hasattr(self, 'rank'))):\n\u001b[1;32m    188\u001b[0m \u001b[0;34m\u001b[0m\u001b[0m\n\u001b[0;32m--> 189\u001b[0;31m                 \u001b[0mself\u001b[0m\u001b[0;34m.\u001b[0m\u001b[0mpinv_wexog\u001b[0m\u001b[0;34m,\u001b[0m \u001b[0msingular_values\u001b[0m \u001b[0;34m=\u001b[0m \u001b[0mpinv_extended\u001b[0m\u001b[0;34m(\u001b[0m\u001b[0mself\u001b[0m\u001b[0;34m.\u001b[0m\u001b[0mwexog\u001b[0m\u001b[0;34m)\u001b[0m\u001b[0;34m\u001b[0m\u001b[0m\n\u001b[0m\u001b[1;32m    190\u001b[0m                 self.normalized_cov_params = np.dot(self.pinv_wexog,\n\u001b[1;32m    191\u001b[0m                                         np.transpose(self.pinv_wexog))\n",
      "\u001b[0;32m/Users/datascientist/anaconda/lib/python2.7/site-packages/statsmodels-0.7.0-py2.7-macosx-10.5-x86_64.egg/statsmodels/tools/tools.pyc\u001b[0m in \u001b[0;36mpinv_extended\u001b[0;34m(X, rcond)\u001b[0m\n\u001b[1;32m    388\u001b[0m     \u001b[0mX\u001b[0m \u001b[0;34m=\u001b[0m \u001b[0mnp\u001b[0m\u001b[0;34m.\u001b[0m\u001b[0masarray\u001b[0m\u001b[0;34m(\u001b[0m\u001b[0mX\u001b[0m\u001b[0;34m)\u001b[0m\u001b[0;34m\u001b[0m\u001b[0m\n\u001b[1;32m    389\u001b[0m     \u001b[0mX\u001b[0m \u001b[0;34m=\u001b[0m \u001b[0mX\u001b[0m\u001b[0;34m.\u001b[0m\u001b[0mconjugate\u001b[0m\u001b[0;34m(\u001b[0m\u001b[0;34m)\u001b[0m\u001b[0;34m\u001b[0m\u001b[0m\n\u001b[0;32m--> 390\u001b[0;31m     \u001b[0mu\u001b[0m\u001b[0;34m,\u001b[0m \u001b[0ms\u001b[0m\u001b[0;34m,\u001b[0m \u001b[0mvt\u001b[0m \u001b[0;34m=\u001b[0m \u001b[0mnp\u001b[0m\u001b[0;34m.\u001b[0m\u001b[0mlinalg\u001b[0m\u001b[0;34m.\u001b[0m\u001b[0msvd\u001b[0m\u001b[0;34m(\u001b[0m\u001b[0mX\u001b[0m\u001b[0;34m,\u001b[0m \u001b[0;36m0\u001b[0m\u001b[0;34m)\u001b[0m\u001b[0;34m\u001b[0m\u001b[0m\n\u001b[0m\u001b[1;32m    391\u001b[0m     \u001b[0ms_orig\u001b[0m \u001b[0;34m=\u001b[0m \u001b[0mnp\u001b[0m\u001b[0;34m.\u001b[0m\u001b[0mcopy\u001b[0m\u001b[0;34m(\u001b[0m\u001b[0ms\u001b[0m\u001b[0;34m)\u001b[0m\u001b[0;34m\u001b[0m\u001b[0m\n\u001b[1;32m    392\u001b[0m     \u001b[0mm\u001b[0m \u001b[0;34m=\u001b[0m \u001b[0mu\u001b[0m\u001b[0;34m.\u001b[0m\u001b[0mshape\u001b[0m\u001b[0;34m[\u001b[0m\u001b[0;36m0\u001b[0m\u001b[0;34m]\u001b[0m\u001b[0;34m\u001b[0m\u001b[0m\n",
      "\u001b[0;32m/Users/datascientist/anaconda/lib/python2.7/site-packages/numpy/linalg/linalg.pyc\u001b[0m in \u001b[0;36msvd\u001b[0;34m(a, full_matrices, compute_uv)\u001b[0m\n\u001b[1;32m   1325\u001b[0m \u001b[0;34m\u001b[0m\u001b[0m\n\u001b[1;32m   1326\u001b[0m         \u001b[0msignature\u001b[0m \u001b[0;34m=\u001b[0m \u001b[0;34m'D->DdD'\u001b[0m \u001b[0;32mif\u001b[0m \u001b[0misComplexType\u001b[0m\u001b[0;34m(\u001b[0m\u001b[0mt\u001b[0m\u001b[0;34m)\u001b[0m \u001b[0;32melse\u001b[0m \u001b[0;34m'd->ddd'\u001b[0m\u001b[0;34m\u001b[0m\u001b[0m\n\u001b[0;32m-> 1327\u001b[0;31m         \u001b[0mu\u001b[0m\u001b[0;34m,\u001b[0m \u001b[0ms\u001b[0m\u001b[0;34m,\u001b[0m \u001b[0mvt\u001b[0m \u001b[0;34m=\u001b[0m \u001b[0mgufunc\u001b[0m\u001b[0;34m(\u001b[0m\u001b[0ma\u001b[0m\u001b[0;34m,\u001b[0m \u001b[0msignature\u001b[0m\u001b[0;34m=\u001b[0m\u001b[0msignature\u001b[0m\u001b[0;34m,\u001b[0m \u001b[0mextobj\u001b[0m\u001b[0;34m=\u001b[0m\u001b[0mextobj\u001b[0m\u001b[0;34m)\u001b[0m\u001b[0;34m\u001b[0m\u001b[0m\n\u001b[0m\u001b[1;32m   1328\u001b[0m         \u001b[0mu\u001b[0m \u001b[0;34m=\u001b[0m \u001b[0mu\u001b[0m\u001b[0;34m.\u001b[0m\u001b[0mastype\u001b[0m\u001b[0;34m(\u001b[0m\u001b[0mresult_t\u001b[0m\u001b[0;34m)\u001b[0m\u001b[0;34m\u001b[0m\u001b[0m\n\u001b[1;32m   1329\u001b[0m         \u001b[0ms\u001b[0m \u001b[0;34m=\u001b[0m \u001b[0ms\u001b[0m\u001b[0;34m.\u001b[0m\u001b[0mastype\u001b[0m\u001b[0;34m(\u001b[0m\u001b[0m_realType\u001b[0m\u001b[0;34m(\u001b[0m\u001b[0mresult_t\u001b[0m\u001b[0;34m)\u001b[0m\u001b[0;34m)\u001b[0m\u001b[0;34m\u001b[0m\u001b[0m\n",
      "\u001b[0;31mKeyboardInterrupt\u001b[0m: "
     ]
    }
   ],
   "source": [
    "for col_index, column in enumerate(df_train_numeric.columns):\n",
    "    vif = variance_inflation_factor(df_train_numeric.as_matrix(), col_index)\n",
    "    vif_score[column] = vif\n",
    "    if vif >= 30:\n",
    "        print 'column: %s may have a multicollinearity problem. VIF = %d' % (column, vif)\n",
    "    elif math.isnan(vif):\n",
    "        print 'column: VIF of %s cannot be calculated' % column\n",
    "    else:\n",
    "        print 'column: %s is good. VIF = %d' % (column, vif)"
   ]
  },
  {
   "cell_type": "code",
   "execution_count": null,
   "metadata": {
    "collapsed": true
   },
   "outputs": [],
   "source": [
    "# split features into categories\n",
    "import re\n",
    "m = re.match('app', 'ex01_2321')\n",
    "m.group()"
   ]
  },
  {
   "cell_type": "code",
   "execution_count": null,
   "metadata": {
    "collapsed": true
   },
   "outputs": [],
   "source": [
    "appxxxx - data about specific application.\n",
    "pagexxx - data on memory usage of the server.\n",
    "syst_xxx - data on page fault rate, number of processes, etc.\n",
    "state_xxx - data on the state the system is in.\n",
    "io_xxx - data about general IO usage, (file IO, direct IO).\n",
    "tcp_xxx - data on incoming and outgoing TCP traffic.\n",
    "llxxx, ewxxx - data on incoming and outgoing network traffic"
   ]
  }
 ],
 "metadata": {
  "kernelspec": {
   "display_name": "Python 2",
   "language": "python",
   "name": "python2"
  },
  "language_info": {
   "codemirror_mode": {
    "name": "ipython",
    "version": 2
   },
   "file_extension": ".py",
   "mimetype": "text/x-python",
   "name": "python",
   "nbconvert_exporter": "python",
   "pygments_lexer": "ipython2",
   "version": "2.7.10"
  }
 },
 "nbformat": 4,
 "nbformat_minor": 0
}
