{
 "cells": [
  {
   "cell_type": "markdown",
   "metadata": {},
   "source": [
    "##Boston Data \n",
    "### 1-fold Cross-Validation"
   ]
  },
  {
   "cell_type": "code",
   "execution_count": 1,
   "metadata": {
    "collapsed": true
   },
   "outputs": [],
   "source": [
    "from sklearn.linear_model import LinearRegression\n",
    "from sklearn.cross_validation import KFold\n",
    "from sklearn.cross_validation import train_test_split\n",
    "from sklearn.cross_validation import cross_val_score\n",
    "import numpy as np\n",
    "from sklearn.datasets import load_boston\n",
    "import sklearn as sk\n",
    "import math\n",
    "import pdb\n",
    "import matplotlib.pyplot as plt\n",
    "%matplotlib inline"
   ]
  },
  {
   "cell_type": "markdown",
   "metadata": {},
   "source": [
    "Attribute Information of the Boston Data (in order):\n",
    "- CRIM     per capita crime rate by town\n",
    "- ZN       proportion of residential land zoned for lots over 25,000 sq.ft.\n",
    "- INDUS    proportion of non-retail business acres per town\n",
    "- CHAS     Charles River dummy variable (= 1 if tract bounds river; 0 otherwise)\n",
    "- NOX      nitric oxides concentration (parts per 10 million)\n",
    "- RM       average number of rooms per dwelling\n",
    "- AGE      proportion of owner-occupied units built prior to 1940\n",
    "- DIS      weighted distances to five Boston employment centres\n",
    "- RAD      index of accessibility to radial highways\n",
    "- TAX      full-value property-tax rate per 10,000 dollars\n",
    "- PTRATIO  pupil-teacher ratio by town\n",
    "- B        1000 x (Bk - 0.63) ^ 2 where Bk is the proportion of blacks by town\n",
    "- LSTAT    percentage lower status of the population\n",
    "- MEDV     Median value of owner-occupied homes in $1000's"
   ]
  },
  {
   "cell_type": "code",
   "execution_count": 2,
   "metadata": {
    "collapsed": true
   },
   "outputs": [],
   "source": [
    "boston = load_boston()\n",
    "features = boston.data\n",
    "target = boston.target # housing price"
   ]
  },
  {
   "cell_type": "code",
   "execution_count": 3,
   "metadata": {
    "collapsed": false
   },
   "outputs": [],
   "source": [
    "# split the data into train and test\n",
    "train_feature, test_feature, train_target, test_target = \\\n",
    "train_test_split(features, target, test_size=0.3)\n",
    "linear = LinearRegression()\n",
    "linear.fit(train_feature, train_target)\n",
    "# You can call predict to get the predicted values for training and test\n",
    "train_predicted = linear.predict(train_feature)\n",
    "test_predicted = linear.predict(test_feature)"
   ]
  },
  {
   "cell_type": "code",
   "execution_count": 4,
   "metadata": {
    "collapsed": false
   },
   "outputs": [
    {
     "name": "stdout",
     "output_type": "stream",
     "text": [
      "('own calcuation: ', 19.749866728209614)\n"
     ]
    }
   ],
   "source": [
    "def mse(target, predicted):\n",
    "    return 'own calcuation: ', np.mean(((predicted - target)**2))\n",
    "\n",
    "print mse(train_target, train_predicted)"
   ]
  },
  {
   "cell_type": "code",
   "execution_count": 5,
   "metadata": {
    "collapsed": false
   },
   "outputs": [
    {
     "data": {
      "text/plain": [
       "19.749866728209614"
      ]
     },
     "execution_count": 5,
     "metadata": {},
     "output_type": "execute_result"
    }
   ],
   "source": [
    "sk.metrics.mean_squared_error(train_target, train_predicted)"
   ]
  },
  {
   "cell_type": "code",
   "execution_count": 6,
   "metadata": {
    "collapsed": false
   },
   "outputs": [
    {
     "data": {
      "text/plain": [
       "27.825172220793537"
      ]
     },
     "execution_count": 6,
     "metadata": {},
     "output_type": "execute_result"
    }
   ],
   "source": [
    "sk.metrics.mean_squared_error(test_target, test_predicted)\n",
    "# mean squared error for test data is higher because the model was not trained on the test set"
   ]
  },
  {
   "cell_type": "code",
   "execution_count": 7,
   "metadata": {
    "collapsed": false
   },
   "outputs": [],
   "source": [
    "# Evaluating MSE on the entire data set would underestimate the MSE because\n",
    "# the data is trained by the entire data set. Therefore, we need to evaluate MSE on a seperate\n",
    "# test set to evaluate the fit of the model"
   ]
  },
  {
   "cell_type": "markdown",
   "metadata": {},
   "source": [
    "###K-fold cross-validation\n",
    "\n",
    "In K-fold cross validation, the data is split into **k** groups. One group\n",
    "out of the k groups will be the test set, the rest (**k-1**) groups will\n",
    "be the training set. In the next iteration, another group will be the test set,\n",
    "and the rest will be the training set. The process repeats for k iterations (k-fold).\n",
    "In each fold, a metric for accuracy (MSE in this case) will be calculated and\n",
    "an overall average of that metric will be calculated over k-folds.\n",
    "\n",
    "<div align=\"center\">\n",
    "    <img height=\"300\" src=\"images/kfold.png\">\n",
    "</div>\n",
    "\n",
    "<br>\n",
    "\n",
    "A few notes:\n",
    "\n",
    "* stratified K-fold preserves the percentage of each class, so it's good for binary or multiclass responses data"
   ]
  },
  {
   "cell_type": "code",
   "execution_count": 8,
   "metadata": {
    "collapsed": false
   },
   "outputs": [
    {
     "name": "stdout",
     "output_type": "stream",
     "text": [
      "(354, 13) (354,)\n"
     ]
    }
   ],
   "source": [
    "print train_feature.shape, train_target.shape"
   ]
  },
  {
   "cell_type": "code",
   "execution_count": 9,
   "metadata": {
    "collapsed": false
   },
   "outputs": [],
   "source": [
    "train_target = train_target[:,np.newaxis]"
   ]
  },
  {
   "cell_type": "code",
   "execution_count": 10,
   "metadata": {
    "collapsed": true
   },
   "outputs": [],
   "source": [
    "def k_fold (feature, target, k):\n",
    "    nrows = feature.shape[0] # get number of rows\n",
    "    indexes = [i%k for i in range(nrows)] # get an index array of [1,2,3,..,k,1,2,3,..,k]\n",
    "    np.random.RandomState(42) # set seed\n",
    "    np.random.shuffle(indexes, ) # shuffle indexes\n",
    "    mse = []\n",
    "#     pdb.set_trace()\n",
    "    for i in range(k):\n",
    "        validation_mask = np.array(map(lambda x: x == i, indexes))\n",
    "        print np.arange(nrows)[validation_mask]\n",
    "        # select the set i that is equal to k\n",
    "        validation_feature = feature[validation_mask]\n",
    "        validation_target = target[validation_mask]\n",
    "        train_feature = feature[~validation_mask]\n",
    "        train_target = target[~validation_mask]\n",
    "        linear.fit(train_feature, train_target)\n",
    "        validation_predicted = linear.predict(validation_feature)\n",
    "        mse.append(sk.metrics.mean_squared_error(validation_target, \\\n",
    "                                      validation_predicted))\n",
    "        \n",
    "    return mse"
   ]
  },
  {
   "cell_type": "code",
   "execution_count": 11,
   "metadata": {
    "collapsed": false
   },
   "outputs": [
    {
     "name": "stdout",
     "output_type": "stream",
     "text": [
      "[ 15  23  30  31  45  51  54  64  76  85  87  89  92  93 108 119 133 165\n",
      " 166 177 183 200 235 237 253 254 256 265 270 273 283 318 325 339 345 346]\n",
      "[  4  16  29  38  52  75 101 128 129 134 139 162 167 171 193 205 213 238\n",
      " 246 249 252 258 263 267 274 282 289 302 306 316 322 323 330 342 348 351]\n",
      "[ 10  49  57  68  70  81  83  86  98 102 107 112 116 118 130 141 144 161\n",
      " 163 168 179 195 211 214 219 231 234 245 257 286 288 292 295 315 334 338]\n",
      "[  0   6  20  33  44  47  48  62  74  97 111 121 126 142 143 149 151 160\n",
      " 172 196 199 220 226 229 236 247 251 272 275 287 297 310 331 336 349 353]\n",
      "[  2   7  19  24  39  56  59  60  65  71  88  96  99 100 104 106 124 146\n",
      " 152 153 155 170 181 185 227 239 240 290 298 304 305 317 328 340 347]\n",
      "[ 17  21  32  36  37  53  66  69  77  79  82 103 132 136 138 158 184 191\n",
      " 194 197 206 210 212 221 230 242 264 269 271 278 285 296 313 326 329]\n",
      "[ 13  18  25  34  35  40  46  50  55  61  72  84 105 113 131 169 174 176\n",
      " 180 186 188 192 203 208 228 233 243 244 268 276 308 312 319 337 344]\n",
      "[  3   8   9  26  41  58  90 109 110 114 115 135 137 147 148 150 164 175\n",
      " 182 201 215 218 248 250 259 260 261 266 303 307 332 335 341 343 352]\n",
      "[ 14  27  78  94 120 123 125 127 156 157 173 178 187 189 198 202 204 207\n",
      " 209 217 222 223 224 241 262 279 284 294 299 301 309 311 320 324 327]\n",
      "[  1   5  11  12  22  28  42  43  63  67  73  80  91  95 117 122 140 145\n",
      " 154 159 190 216 225 232 255 277 280 281 291 293 300 314 321 333 350]\n"
     ]
    },
    {
     "data": {
      "text/plain": [
       "[9.6682015690795762,\n",
       " 31.257726026643255,\n",
       " 30.910485468588426,\n",
       " 21.52897472114153,\n",
       " 15.678507137221592,\n",
       " 19.777370827415346,\n",
       " 25.970625852349514,\n",
       " 14.935024889792096,\n",
       " 33.33140096287098,\n",
       " 17.316925780339041]"
      ]
     },
     "execution_count": 11,
     "metadata": {},
     "output_type": "execute_result"
    }
   ],
   "source": [
    "k_fold(train_feature, train_target, 10)\n",
    "# though the validation set does not exactly line up with the sklearn implementation\n",
    "# the mse is close enough"
   ]
  },
  {
   "cell_type": "code",
   "execution_count": 15,
   "metadata": {
    "collapsed": false
   },
   "outputs": [],
   "source": [
    "nrows = train_feature.shape[0] # get number of rows\n",
    "cv_gen = sk.cross_validation.KFold(n=nrows, n_folds=10, shuffle=True, random_state=42)"
   ]
  },
  {
   "cell_type": "code",
   "execution_count": 16,
   "metadata": {
    "collapsed": false
   },
   "outputs": [
    {
     "name": "stdout",
     "output_type": "stream",
     "text": [
      "[  9  15  25  33  39  42  56  57  73  82 119 126 139 140 145 147 158 168\n",
      " 181 199 209 220 237 253 272 277 281 286 298 305 319 332 335 338 341 350]\n",
      "[  3   5  22  30  45  46  55  63  72  76  77  78  84  90  93  94 172 177\n",
      " 183 185 193 195 222 225 231 238 242 244 247 275 285 301 327 342 345 352]\n",
      "[  7  16  17  24  60  66  75 101 108 109 110 113 114 116 137 155 157 163\n",
      " 180 182 194 203 223 227 233 250 265 289 292 296 310 311 314 329 343 349]\n",
      "[  6  10  18  19  31  36  59  79  81 104 111 118 124 132 148 152 153 167\n",
      " 175 176 179 224 245 248 255 261 262 267 268 274 284 318 328 331 334 336]\n",
      "[ 11  23  37  38  67  68  69  86  92  96  97 112 122 125 129 143 144 146\n",
      " 165 173 197 210 229 232 234 246 249 254 280 282 283 290 291 299 300]\n",
      "[  2  29  44  74  83 107 115 117 120 127 133 154 164 184 196 198 202 208\n",
      " 211 219 228 239 240 256 258 287 294 297 309 312 316 320 325 326 340]\n",
      "[  0   4  12  26  28  35  41  51  65  70  85  89  95 123 131 136 141 142\n",
      " 150 159 170 178 186 204 206 221 266 271 295 303 317 321 333 337 346]\n",
      "[  8  14  27  32  40  47  61  62  64  98 100 103 128 135 138 156 162 171\n",
      " 192 200 213 215 216 218 226 230 260 278 279 288 302 304 307 315 324]\n",
      "[  1  13  34  43  49  52  53  80  88  91 105 134 161 166 190 201 205 207\n",
      " 212 217 236 241 243 251 259 263 264 269 273 306 322 323 339 344 347]\n",
      "[ 20  21  48  50  54  58  71  87  99 102 106 121 130 149 151 160 169 174\n",
      " 187 188 189 191 214 235 252 257 270 276 293 308 313 330 348 351 353]\n"
     ]
    }
   ],
   "source": [
    "for fold in cv_gen:\n",
    "    print fold[1]"
   ]
  },
  {
   "cell_type": "code",
   "execution_count": 17,
   "metadata": {
    "collapsed": false
   },
   "outputs": [
    {
     "data": {
      "text/plain": [
       "array([-12.91900623,  -9.05682113, -21.78241174, -16.47391365,\n",
       "       -34.75531698, -51.25951476, -19.19565792, -20.27782471,\n",
       "       -24.42436647, -25.3838019 ])"
      ]
     },
     "execution_count": 17,
     "metadata": {},
     "output_type": "execute_result"
    }
   ],
   "source": [
    "# sklearn's implementation of k-fold cross validation\n",
    "# there is no option to set seed in cross_val_score, hence i passed in a cv_generator\n",
    "sk.cross_validation.cross_val_score(LinearRegression(), train_feature,\n",
    "                                    train_target, cv=cv_gen, \n",
    "                                    scoring='mean_squared_error')"
   ]
  },
  {
   "cell_type": "code",
   "execution_count": 18,
   "metadata": {
    "collapsed": false
   },
   "outputs": [],
   "source": [
    "mse_test = []\n",
    "mse_training = []\n",
    "N_range = range(10, train_feature.shape[0], 10) \n",
    "\n",
    "for i in N_range:\n",
    "    train_feature_lim = train_feature[0:i]\n",
    "    train_target_lim = train_target[0:i]\n",
    "    linear = LinearRegression()\n",
    "    linear.fit(train_feature_lim, train_target_lim)\n",
    "    # You can call predict to get the predicted values for training and test\n",
    "    train_predicted_lim = linear.predict(train_feature_lim)\n",
    "    test_predicted = linear.predict(test_feature)\n",
    "    \n",
    "    mse_test.append(sk.metrics.mean_squared_error(test_target, test_predicted))\n",
    "    mse_training.append(sk.metrics.mean_squared_error(train_target_lim, train_predicted_lim))"
   ]
  },
  {
   "cell_type": "code",
   "execution_count": 19,
   "metadata": {
    "collapsed": false
   },
   "outputs": [
    {
     "data": {
      "image/png": "[encoded data removed]",
      "text/plain": [
       "<matplotlib.figure.Figure at 0x109a96750>"
      ]
     },
     "metadata": {},
     "output_type": "display_data"
    }
   ],
   "source": [
    "plt.plot(N_range, mse_training, label='training')\n",
    "plt.plot(N_range, mse_test, label='test')\n",
    "plt.ylabel('MSE')\n",
    "plt.xlabel('No. of training sample')\n",
    "plt.title('Learning Curve')\n",
    "plt.legend()\n",
    "plt.show()\n",
    "\n",
    "# Learning curve is a plot of the training and cross-validation error as a function of \n",
    "# the number of training points. Note that when we train on a small subset of the \n",
    "# training data, the training error is computed using this subset, not the full \n",
    "# training set. These plots can give a quantitative view into how beneficial it \n",
    "# will be to add training samples. \n",
    "\n",
    "# The conclusion we can draw here is that linear regression is a high-bias (low-variance) \n",
    "# estimator which underfits the data. This is indicated by the fact that both the training \n",
    "# and cross-validation errors converge quickly. In this case, adding more training data \n",
    "# will not help."
   ]
  },
  {
   "cell_type": "markdown",
   "metadata": {},
   "source": [
    "##Stepwise Regression (Feature Selection)\n",
    "\n",
    "- use sklearn reverse feature elimination (a greedy feature elimination algorithm) for sequential backward feature selection. "
   ]
  },
  {
   "cell_type": "code",
   "execution_count": 20,
   "metadata": {
    "collapsed": true
   },
   "outputs": [],
   "source": [
    "from sklearn.datasets import make_friedman1\n",
    "X, y = make_friedman1(n_samples=5000, n_features=100, random_state=0)"
   ]
  },
  {
   "cell_type": "code",
   "execution_count": 25,
   "metadata": {
    "collapsed": false
   },
   "outputs": [
    {
     "data": {
      "text/plain": [
       "((5000, 100), (5000,))"
      ]
     },
     "execution_count": 25,
     "metadata": {},
     "output_type": "execute_result"
    }
   ],
   "source": [
    "X.shape, y.shape"
   ]
  },
  {
   "cell_type": "code",
   "execution_count": 38,
   "metadata": {
    "collapsed": true
   },
   "outputs": [],
   "source": [
    "r_squared_lst = []\n",
    "adj_r_squared_lst = []"
   ]
  },
  {
   "cell_type": "code",
   "execution_count": 39,
   "metadata": {
    "collapsed": false
   },
   "outputs": [
    {
     "name": "stdout",
     "output_type": "stream",
     "text": [
      "0.325179544275 0.325044526177\n",
      "0.497063384771 0.496862089347\n",
      "0.649620465801 0.649410069763\n",
      "0.742717477559 0.742511445509\n",
      "0.743083957548 0.742826732836\n",
      "0.743360389354 0.743051990062\n",
      "0.743634670843 0.743275184203\n",
      "0.743880237945 0.743469707371\n",
      "0.744111764096 0.743650242228\n",
      "0.744334950438 0.743822492933\n",
      "0.744545619725 0.743982268044\n",
      "0.744732446043 0.744118206892\n",
      "0.744917436021 0.744252359139\n",
      "0.74510699255 0.744391144585\n",
      "0.74528480985 0.744518211164\n",
      "0.745445551619 0.744628198383\n",
      "0.745595957136 0.744727858234\n",
      "0.745720683981 0.744801786633\n",
      "0.745838969034 0.744869278354\n",
      "0.745946009647 0.744925507577\n",
      "0.746045897056 0.744974576011\n",
      "0.746139376149 0.74501722752\n",
      "0.746237339843 0.745064401503\n",
      "0.746333641071 0.745109923963\n",
      "0.746423648703 0.745149139498\n",
      "0.746513303409 0.745188016035\n",
      "0.746594825242 0.745218731172\n",
      "0.746673247533 0.745246341665\n",
      "0.746744768533 0.745267021709\n",
      "0.746812209412 0.745283605323\n",
      "0.74687664568 0.745297172254\n",
      "0.746938247541 0.745307891978\n",
      "0.746999643877 0.74531840913\n",
      "0.747060214726 0.745328099379\n",
      "0.747120357424 0.745337362362\n",
      "0.747180862381 0.745346993964\n",
      "0.747238663951 0.745353905903\n",
      "0.747294828293 0.74535917086\n",
      "0.747342559152 0.745355938146\n",
      "0.747389159621 0.745351564619\n",
      "0.747432513231 0.74534391562\n",
      "0.747473030244 0.745333402903\n",
      "0.747509384222 0.745318686788\n",
      "0.747547683612 0.745305927422\n",
      "0.747584974062 0.7452921448\n",
      "0.747619677801 0.745275745877\n",
      "0.74765487779 0.745259841291\n",
      "0.747687523724 0.745241351463\n",
      "0.747717813317 0.7452204745\n",
      "0.747750112889 0.745201619384\n",
      "0.747780800334 0.745181127904\n",
      "0.747812504593 0.745161655641\n",
      "0.747843459471 0.745141418094\n",
      "0.747873022166 0.745119764977\n",
      "0.747900965471 0.745096465694\n",
      "0.747929313492 0.745073566285\n",
      "0.74795555599 0.745048527801\n",
      "0.747980143589 0.745021804858\n",
      "0.748002493019 0.744992806195\n",
      "0.748024257593 0.744963203828\n",
      "0.748045225958 0.744932783427\n",
      "0.748062848228 0.744898962587\n",
      "0.748080463454 0.744865120909\n",
      "0.74809716595 0.744830340949\n",
      "0.748113599138 0.744795274036\n",
      "0.748129512069 0.744759665687\n",
      "0.748144802532 0.744723411974\n",
      "0.748154269184 0.744681239434\n",
      "0.748162485209 0.744637781655\n",
      "0.748169463872 0.744593051308\n",
      "0.748175724362 0.744547574287\n",
      "0.748181519913 0.744501607072\n",
      "0.748187056401 0.744455358293\n",
      "0.748192698454 0.744409197883\n",
      "0.748197771306 0.744362440852\n",
      "0.748201980822 0.744314788164\n",
      "0.748206085552 0.744267009686\n",
      "0.748210165761 0.744219186881\n",
      "0.748212887692 0.744169964548\n",
      "0.748214610273 0.744119706597\n",
      "0.748216038632 0.744069129142\n",
      "0.748217312431 0.744018373977\n",
      "0.748218534668 0.74396754573\n",
      "0.748219577013 0.743916513833\n",
      "0.748220399904 0.743865237916\n",
      "0.748221154161 0.74381387129\n",
      "0.748221719793 0.743762291785\n",
      "0.748222210968 0.743710615481\n",
      "0.748222577158 0.743658790879\n",
      "0.748222876376 0.743606876962\n",
      "0.74822313062 0.743554896082\n",
      "0.748223392691 0.743502901989\n",
      "0.748223634996 0.74345086656\n",
      "0.748223845717 0.743398777725\n",
      "0.748223975917 0.743346585564\n",
      "0.748224097956 0.743294363794\n",
      "0.748224216111 0.743242116756\n",
      "0.748224313551 0.743189827269\n",
      "0.748224339321 0.743137443319\n",
      "0.748224342605 0.74308501504\n"
     ]
    }
   ],
   "source": [
    "for n in xrange(1,101):\n",
    "    selector = sk.feature_selection.RFE(LinearRegression(), n_features_to_select=n, step=1)\n",
    "    selector.fit(X,y)\n",
    "    r_squared = selector.score(X,y)\n",
    "    n_sample_size = X.shape[0]\n",
    "    r_squared_lst.append(r_squared)\n",
    "    # adjusted r_squared to take into account model complexity\n",
    "    adj_r_squared = 1 - ((1 - r_squared)*(n_sample_size - 1))/(n_sample_size - n - 1)\n",
    "    adj_r_squared_lst.append(adj_r_squared)\n",
    "    print r_squared, adj_r_squared"
   ]
  },
  {
   "cell_type": "code",
   "execution_count": 40,
   "metadata": {
    "collapsed": false
   },
   "outputs": [
    {
     "data": {
      "image/png": "[encoded data removed]",
      "text/plain": [
       "<matplotlib.figure.Figure at 0x10b649f90>"
      ]
     },
     "metadata": {},
     "output_type": "display_data"
    }
   ],
   "source": [
    "plt.plot(np.arange(1,101), r_squared_lst, label='r_squared')\n",
    "plt.plot(np.arange(1,101), adj_r_squared_lst, label='adj_r_squared')\n",
    "plt.ylabel('metric')\n",
    "plt.xlabel('no. of features')\n",
    "plt.title('Feature importance')\n",
    "plt.legend()\n",
    "plt.show()"
   ]
  },
  {
   "cell_type": "code",
   "execution_count": 41,
   "metadata": {
    "collapsed": true
   },
   "outputs": [],
   "source": [
    "# by the shape of the plot, 4 features are enough to predict the target"
   ]
  },
  {
   "cell_type": "code",
   "execution_count": null,
   "metadata": {
    "collapsed": true
   },
   "outputs": [],
   "source": []
  }
 ],
 "metadata": {
  "kernelspec": {
   "display_name": "Python 2",
   "language": "python",
   "name": "python2"
  }
 },
 "nbformat": 4,
 "nbformat_minor": 0
}
