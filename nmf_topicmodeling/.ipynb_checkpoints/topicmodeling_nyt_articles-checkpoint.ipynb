{
 "cells": [
  {
   "cell_type": "markdown",
   "metadata": {},
   "source": [
    "#Non-negative Matrix Factorization (NMF)\n",
    "\n",
    "- NYT corpus\n",
    "- NMF vs. SVD \n",
    "    - NMF more parallelizable, can handle missing values, can define own loss function, and is restricted to only positive values"
   ]
  },
  {
   "cell_type": "code",
   "execution_count": 1,
   "metadata": {
    "collapsed": true
   },
   "outputs": [],
   "source": [
    "import pandas as pd\n",
    "import numpy as np\n",
    "from sklearn.feature_extraction.text import CountVectorizer"
   ]
  },
  {
   "cell_type": "code",
   "execution_count": 3,
   "metadata": {
    "collapsed": false
   },
   "outputs": [],
   "source": [
    "df = pd.read_pickle('data/articles.pkl')"
   ]
  },
  {
   "cell_type": "code",
   "execution_count": 4,
   "metadata": {
    "collapsed": false
   },
   "outputs": [],
   "source": [
    "cvectorizer = CountVectorizer(stop_words='english', max_features=5000)\n",
    "X = cvectorizer.fit_transform(df['content'].values)"
   ]
  },
  {
   "cell_type": "code",
   "execution_count": 5,
   "metadata": {
    "collapsed": true
   },
   "outputs": [],
   "source": [
    "feature_words = cvectorizer.get_feature_names()"
   ]
  },
  {
   "cell_type": "markdown",
   "metadata": {},
   "source": [
    "##My NMF implementation"
   ]
  },
  {
   "cell_type": "code",
   "execution_count": 14,
   "metadata": {
    "collapsed": true
   },
   "outputs": [],
   "source": [
    "from numpy.random import rand, RandomState\n",
    "from numpy import array, matrix, linalg"
   ]
  },
  {
   "cell_type": "code",
   "execution_count": 15,
   "metadata": {
    "collapsed": true
   },
   "outputs": [],
   "source": [
    "def reconst_mse(target, left, right):\n",
    "    return (array(target - left.dot(right))**2).mean()"
   ]
  },
  {
   "cell_type": "code",
   "execution_count": 16,
   "metadata": {
    "collapsed": false
   },
   "outputs": [],
   "source": [
    "def my_nmf(document_term_mat, n_components=15, n_iterations=50, eps=1e-6):\n",
    "    n_rows, n_cols = document_term_mat.shape\n",
    "    W = rand(n_rows*n_components).reshape([n_rows, n_components])\n",
    "    H = rand(n_components*n_cols).reshape([n_components, n_cols])\n",
    "    # linalg.lstsq doesn't work on sparse mats\n",
    "    dense_document_term_mat = document_term_mat.todense()\n",
    "    for i in range(n_iterations):\n",
    "        H = linalg.lstsq(W, dense_document_term_mat)[0].clip(eps)\n",
    "        W = linalg.lstsq(H.T, dense_document_term_mat.T)[0].clip(eps).T\n",
    "    return array(W), array(H)"
   ]
  },
  {
   "cell_type": "code",
   "execution_count": 17,
   "metadata": {
    "collapsed": true
   },
   "outputs": [],
   "source": [
    "def describe_nmf_results(document_term_mat, W, H, n_top_words = 15):\n",
    "    print(\"Reconstruction error: %f\") %(reconst_mse(document_term_mat, W, H))\n",
    "    for topic_num, topic in enumerate(H):\n",
    "        print(\"Topic %d:\" % topic_num)\n",
    "        print(\" \".join([feature_words[i] \\\n",
    "                for i in topic.argsort()[:-n_top_words - 1:-1]]))"
   ]
  },
  {
   "cell_type": "code",
   "execution_count": 18,
   "metadata": {
    "collapsed": true
   },
   "outputs": [],
   "source": [
    "n_topics = 7"
   ]
  },
  {
   "cell_type": "code",
   "execution_count": 19,
   "metadata": {
    "collapsed": false
   },
   "outputs": [],
   "source": [
    "my_W, my_H = my_nmf(X, n_components=n_topics, n_iterations=50, eps=1e-6)"
   ]
  },
  {
   "cell_type": "code",
   "execution_count": 20,
   "metadata": {
    "collapsed": false
   },
   "outputs": [
    {
     "name": "stdout",
     "output_type": "stream",
     "text": [
      "Reconstruction error: 0.582826\n",
      "Topic 0:\n",
      "gun child firearm year death law state said accidental time shooting accident old safe adult\n",
      "Topic 1:\n",
      "game season team said year player time yankee league play run win point yard hit\n",
      "Topic 2:\n",
      "republican house government health law care party shutdown senate obama president congress democrat federal insurance\n",
      "Topic 3:\n",
      "said year government official percent people company group country united state attack american day 000\n",
      "Topic 4:\n",
      "new work like year davis company york city people ms woman state time story world\n",
      "Topic 5:\n",
      "mr said party like year music case reid court night netanyahu leader rouhani political time\n",
      "Topic 6:\n",
      "iran united nuclear rouhani state obama president syria weapon nation iranian israel netanyahu american chemical\n"
     ]
    }
   ],
   "source": [
    "describe_nmf_results(X, my_W, my_H)"
   ]
  },
  {
   "cell_type": "markdown",
   "metadata": {},
   "source": [
    "##Sklearn's NMF implementation"
   ]
  },
  {
   "cell_type": "code",
   "execution_count": 121,
   "metadata": {
    "collapsed": true
   },
   "outputs": [],
   "source": [
    "from sklearn.decomposition import NMF"
   ]
  },
  {
   "cell_type": "code",
   "execution_count": 22,
   "metadata": {
    "collapsed": false
   },
   "outputs": [],
   "source": [
    "nmf = NMF(n_components=n_topics, random_state=1)\n",
    "W = nmf.fit_transform(X)\n",
    "H = nmf.components_"
   ]
  },
  {
   "cell_type": "code",
   "execution_count": 23,
   "metadata": {
    "collapsed": false
   },
   "outputs": [
    {
     "name": "stdout",
     "output_type": "stream",
     "text": [
      "Reconstruction error: 0.581763\n",
      "Topic 0:\n",
      "mr said like party year case political time leader new music night work court member\n",
      "Topic 1:\n",
      "game season team year player said time yankee league play run win point like yard\n",
      "Topic 2:\n",
      "republican government house health law care party shutdown president senate obama congress democrat federal vote\n",
      "Topic 3:\n",
      "gun child year firearm death said law state accidental time shooting accident old safe adult\n",
      "Topic 4:\n",
      "new work year like company york people city ms davis state woman time job world\n",
      "Topic 5:\n",
      "said year government official people percent group country day state united 000 company attack month\n",
      "Topic 6:\n",
      "iran united nuclear rouhani state obama president nation iranian syria weapon israel netanyahu american country\n"
     ]
    }
   ],
   "source": [
    "describe_nmf_results(X, W, H)"
   ]
  },
  {
   "cell_type": "markdown",
   "metadata": {},
   "source": [
    "####The results are similar"
   ]
  },
  {
   "cell_type": "code",
   "execution_count": null,
   "metadata": {
    "collapsed": true
   },
   "outputs": [],
   "source": []
  }
 ],
 "metadata": {
  "kernelspec": {
   "display_name": "Python 2",
   "language": "python",
   "name": "python2"
  },
  "language_info": {
   "codemirror_mode": {
    "name": "ipython",
    "version": 2
   },
   "file_extension": ".py",
   "mimetype": "text/x-python",
   "name": "python",
   "nbconvert_exporter": "python",
   "pygments_lexer": "ipython2",
   "version": "2.7.10"
  }
 },
 "nbformat": 4,
 "nbformat_minor": 0
}
