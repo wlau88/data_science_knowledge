{
 "cells": [
  {
   "cell_type": "markdown",
   "metadata": {},
   "source": [
    "#Decision Trees\n",
    "\n",
    "A few implementation: [1](http://stackoverflow.com/questions/9979461/different-decision-tree-algorithms-with-comparison-of-complexity-or-performance) and [2](http://scikit-learn.org/stable/modules/tree.html#tree-algorithms-id3-c4-5-c5-0-and-cart)."
   ]
  },
  {
   "cell_type": "code",
   "execution_count": 1,
   "metadata": {
    "collapsed": true
   },
   "outputs": [],
   "source": [
    "import pandas as pd\n",
    "import numpy as np\n",
    "import pdb"
   ]
  },
  {
   "cell_type": "code",
   "execution_count": 3,
   "metadata": {
    "collapsed": false
   },
   "outputs": [],
   "source": [
    "golfdf = pd.read_csv('data/playgolf.csv')"
   ]
  },
  {
   "cell_type": "code",
   "execution_count": 4,
   "metadata": {
    "collapsed": false
   },
   "outputs": [
    {
     "data": {
      "text/html": [
       "<div style=\"max-height:1000px;max-width:1500px;overflow:auto;\">\n",
       "<table border=\"1\" class=\"dataframe\">\n",
       "  <thead>\n",
       "    <tr style=\"text-align: right;\">\n",
       "      <th></th>\n",
       "      <th>Outlook</th>\n",
       "      <th>Temperature</th>\n",
       "      <th>Humidity</th>\n",
       "      <th>Windy</th>\n",
       "      <th>Result</th>\n",
       "    </tr>\n",
       "  </thead>\n",
       "  <tbody>\n",
       "    <tr>\n",
       "      <th>0</th>\n",
       "      <td>    sunny</td>\n",
       "      <td> 85</td>\n",
       "      <td> 85</td>\n",
       "      <td> False</td>\n",
       "      <td> Don't Play</td>\n",
       "    </tr>\n",
       "    <tr>\n",
       "      <th>1</th>\n",
       "      <td>    sunny</td>\n",
       "      <td> 80</td>\n",
       "      <td> 90</td>\n",
       "      <td>  True</td>\n",
       "      <td> Don't Play</td>\n",
       "    </tr>\n",
       "    <tr>\n",
       "      <th>2</th>\n",
       "      <td> overcast</td>\n",
       "      <td> 83</td>\n",
       "      <td> 78</td>\n",
       "      <td> False</td>\n",
       "      <td>       Play</td>\n",
       "    </tr>\n",
       "    <tr>\n",
       "      <th>3</th>\n",
       "      <td>     rain</td>\n",
       "      <td> 70</td>\n",
       "      <td> 96</td>\n",
       "      <td> False</td>\n",
       "      <td>       Play</td>\n",
       "    </tr>\n",
       "    <tr>\n",
       "      <th>4</th>\n",
       "      <td>     rain</td>\n",
       "      <td> 68</td>\n",
       "      <td> 80</td>\n",
       "      <td> False</td>\n",
       "      <td>       Play</td>\n",
       "    </tr>\n",
       "  </tbody>\n",
       "</table>\n",
       "</div>"
      ],
      "text/plain": [
       "    Outlook  Temperature  Humidity  Windy      Result\n",
       "0     sunny           85        85  False  Don't Play\n",
       "1     sunny           80        90   True  Don't Play\n",
       "2  overcast           83        78  False        Play\n",
       "3      rain           70        96  False        Play\n",
       "4      rain           68        80  False        Play"
      ]
     },
     "execution_count": 4,
     "metadata": {},
     "output_type": "execute_result"
    }
   ],
   "source": [
    "golfdf.head()"
   ]
  },
  {
   "cell_type": "markdown",
   "metadata": {},
   "source": [
    "###Testing functions"
   ]
  },
  {
   "cell_type": "code",
   "execution_count": 5,
   "metadata": {
    "collapsed": false
   },
   "outputs": [],
   "source": [
    "def entropy(y):\n",
    "    '''\n",
    "    INPUT:\n",
    "        - y: 1d numpy array\n",
    "    OUTPUT:\n",
    "        - float\n",
    "\n",
    "    Return the entropy of the array y.\n",
    "    '''\n",
    "    entropyctr = 0\n",
    "    for i in np.unique(y):\n",
    "        p = list(y).count(i)/float(len(y))\n",
    "        entropyctr += -p*np.log2(p)\n",
    "    return entropyctr"
   ]
  },
  {
   "cell_type": "code",
   "execution_count": 6,
   "metadata": {
    "collapsed": false
   },
   "outputs": [
    {
     "data": {
      "text/plain": [
       "0.94028595867063114"
      ]
     },
     "execution_count": 6,
     "metadata": {},
     "output_type": "execute_result"
    }
   ],
   "source": [
    "entropy(np.array(golfdf.Result))"
   ]
  },
  {
   "cell_type": "code",
   "execution_count": 7,
   "metadata": {
    "collapsed": false
   },
   "outputs": [],
   "source": [
    "def gini(y):\n",
    "    '''\n",
    "    INPUT:\n",
    "        - y: 1d numpy array\n",
    "    OUTPUT:\n",
    "        - float\n",
    "\n",
    "    Return the gini impurity of the array y.\n",
    "    '''\n",
    "\n",
    "    ginictr = 0\n",
    "    for i in np.unique(y):\n",
    "        p = list(y).count(i)/float(len(y))\n",
    "        ginictr += p**2\n",
    "    return 1 - ginictr"
   ]
  },
  {
   "cell_type": "code",
   "execution_count": 8,
   "metadata": {
    "collapsed": false
   },
   "outputs": [
    {
     "data": {
      "text/plain": [
       "0.4591836734693877"
      ]
     },
     "execution_count": 8,
     "metadata": {},
     "output_type": "execute_result"
    }
   ],
   "source": [
    "gini(np.array(golfdf.Result))"
   ]
  },
  {
   "cell_type": "code",
   "execution_count": 9,
   "metadata": {
    "collapsed": false
   },
   "outputs": [],
   "source": [
    "def _make_split(X, y, split_index, split_value):\n",
    "\n",
    "    if isinstance(split_value, (long, float, complex)): #continuous\n",
    "        b = (X[:,split_index] >= split_value)\n",
    "        x1 = X[b]\n",
    "        x2 = X[~b]\n",
    "        y1 = y[b]\n",
    "        y2 = y[~b]\n",
    "    else: #categorical\n",
    "        b = (X[:,split_index] == split_value)\n",
    "        x1 = X[b]\n",
    "        x2 = X[~b]\n",
    "        y1 = y[b]\n",
    "        y2 = y[~b]\n",
    "\n",
    "    return x1, y1, x2, y2"
   ]
  },
  {
   "cell_type": "code",
   "execution_count": 10,
   "metadata": {
    "collapsed": false
   },
   "outputs": [],
   "source": [
    "x1, y1, x2, y2 = _make_split(np.array(golfdf), np.array(golfdf['Result']), 3, True)"
   ]
  },
  {
   "cell_type": "code",
   "execution_count": 11,
   "metadata": {
    "collapsed": true
   },
   "outputs": [],
   "source": [
    "y = np.array(golfdf['Result'])"
   ]
  },
  {
   "cell_type": "code",
   "execution_count": 12,
   "metadata": {
    "collapsed": false
   },
   "outputs": [
    {
     "name": "stdout",
     "output_type": "stream",
     "text": [
      "0.0481270304083\n"
     ]
    }
   ],
   "source": [
    "originfo = entropy(y)\n",
    "y1info = entropy(y1)\n",
    "y2info = entropy(y2)\n",
    "y1change = float(len(y1))/len(y)\n",
    "y2change = float(len(y2))/len(y)\n",
    "print originfo - (y1change*y1info + y2change*y2info)"
   ]
  },
  {
   "cell_type": "code",
   "execution_count": 13,
   "metadata": {
    "collapsed": false
   },
   "outputs": [],
   "source": [
    "split = x1, y1, x2, y2"
   ]
  },
  {
   "cell_type": "code",
   "execution_count": 14,
   "metadata": {
    "collapsed": false
   },
   "outputs": [
    {
     "data": {
      "text/plain": [
       "(array([['sunny', 80, 90, True, \"Don't Play\"],\n",
       "        ['rain', 65, 70, True, \"Don't Play\"],\n",
       "        ['overcast', 64, 65, True, 'Play'],\n",
       "        ['sunny', 75, 70, True, 'Play'],\n",
       "        ['overcast', 72, 90, True, 'Play'],\n",
       "        ['rain', 71, 80, True, \"Don't Play\"]], dtype=object),\n",
       " array([\"Don't Play\", \"Don't Play\", 'Play', 'Play', 'Play', \"Don't Play\"], dtype=object),\n",
       " array([['sunny', 85, 85, False, \"Don't Play\"],\n",
       "        ['overcast', 83, 78, False, 'Play'],\n",
       "        ['rain', 70, 96, False, 'Play'],\n",
       "        ['rain', 68, 80, False, 'Play'],\n",
       "        ['sunny', 72, 95, False, \"Don't Play\"],\n",
       "        ['sunny', 69, 70, False, 'Play'],\n",
       "        ['rain', 75, 80, False, 'Play'],\n",
       "        ['overcast', 81, 75, False, 'Play']], dtype=object),\n",
       " array([\"Don't Play\", 'Play', 'Play', 'Play', \"Don't Play\", 'Play', 'Play',\n",
       "        'Play'], dtype=object))"
      ]
     },
     "execution_count": 14,
     "metadata": {},
     "output_type": "execute_result"
    }
   ],
   "source": [
    "split"
   ]
  },
  {
   "cell_type": "code",
   "execution_count": 15,
   "metadata": {
    "collapsed": false
   },
   "outputs": [
    {
     "data": {
      "text/plain": [
       "0.97095059445466858"
      ]
     },
     "execution_count": 15,
     "metadata": {},
     "output_type": "execute_result"
    }
   ],
   "source": [
    "entropy([1,1,2,1,2])"
   ]
  },
  {
   "cell_type": "code",
   "execution_count": 16,
   "metadata": {
    "collapsed": false
   },
   "outputs": [
    {
     "data": {
      "text/plain": [
       "-0.67301166700925652"
      ]
     },
     "execution_count": 16,
     "metadata": {},
     "output_type": "execute_result"
    }
   ],
   "source": [
    ".6*np.log(.6) + .4*np.log(.4)"
   ]
  },
  {
   "cell_type": "markdown",
   "metadata": {
    "collapsed": true
   },
   "source": [
    "##Testing implementation"
   ]
  },
  {
   "cell_type": "code",
   "execution_count": 2,
   "metadata": {
    "collapsed": false
   },
   "outputs": [],
   "source": [
    "from DecisionTree import DecisionTree\n",
    "from itertools import izip "
   ]
  },
  {
   "cell_type": "code",
   "execution_count": 3,
   "metadata": {
    "collapsed": false
   },
   "outputs": [],
   "source": [
    "df = pd.read_csv('data/playgolf.csv')\n",
    "y = df.pop('Result').values\n",
    "X = df.values"
   ]
  },
  {
   "cell_type": "code",
   "execution_count": 8,
   "metadata": {
    "collapsed": false
   },
   "outputs": [
    {
     "name": "stdout",
     "output_type": "stream",
     "text": [
      "Outlook\n",
      "  |-> overcast:\n",
      "  |     Play\n",
      "  |-> no overcast:\n",
      "  |     Temperature\n",
      "  |     |-> < 80:\n",
      "  |     |     Temperature\n",
      "  |     |     |-> < 75:\n",
      "  |     |     |     Temperature\n",
      "  |     |     |     |-> < 71:\n",
      "  |     |     |     |     Temperature\n",
      "  |     |     |     |     |-> < 68:\n",
      "  |     |     |     |     |     Don't Play\n",
      "  |     |     |     |     |-> >= 68:\n",
      "  |     |     |     |     |     Play\n",
      "  |     |     |     |-> >= 71:\n",
      "  |     |     |     |     Don't Play\n",
      "  |     |     |-> >= 75:\n",
      "  |     |     |     Play\n",
      "  |     |-> >= 80:\n",
      "  |     |     Don't Play\n",
      "\n",
      "                  FEATURES       ACTUAL    PREDICTED\n",
      "                ----------   ----------   ----------\n",
      "     ['sunny' 85 85 False]   Don't Play   Don't Play\n",
      "      ['sunny' 80 90 True]   Don't Play   Don't Play\n",
      "  ['overcast' 83 78 False]         Play         Play\n",
      "      ['rain' 70 96 False]         Play         Play\n",
      "      ['rain' 68 80 False]         Play         Play\n",
      "       ['rain' 65 70 True]   Don't Play   Don't Play\n",
      "   ['overcast' 64 65 True]         Play         Play\n",
      "     ['sunny' 72 95 False]   Don't Play   Don't Play\n",
      "     ['sunny' 69 70 False]         Play         Play\n",
      "      ['rain' 75 80 False]         Play         Play\n",
      "      ['sunny' 75 70 True]         Play         Play\n",
      "   ['overcast' 72 90 True]         Play         Play\n",
      "  ['overcast' 81 75 False]         Play         Play\n",
      "       ['rain' 71 80 True]   Don't Play   Don't Play\n"
     ]
    }
   ],
   "source": [
    "tree = DecisionTree()\n",
    "tree.fit(X, y, df.columns)\n",
    "print tree\n",
    "print\n",
    "\n",
    "y_predict = tree.predict(X)\n",
    "print '%26s   %10s   %10s' % (\"FEATURES\", \"ACTUAL\", \"PREDICTED\")\n",
    "print '%26s   %10s   %10s' % (\"----------\", \"----------\", \"----------\")\n",
    "for features, true, predicted in izip(X, y, y_predict):\n",
    "    print '%26s   %10s   %10s' % (str(features), str(true), str(predicted))"
   ]
  },
  {
   "cell_type": "markdown",
   "metadata": {},
   "source": [
    "###Testing Pre- and post-pruning"
   ]
  },
  {
   "cell_type": "code",
   "execution_count": 4,
   "metadata": {
    "collapsed": true
   },
   "outputs": [],
   "source": [
    "from sklearn.cross_validation import KFold"
   ]
  },
  {
   "cell_type": "code",
   "execution_count": 5,
   "metadata": {
    "collapsed": false
   },
   "outputs": [],
   "source": [
    "from sklearn.metrics import classification_report"
   ]
  },
  {
   "cell_type": "code",
   "execution_count": 7,
   "metadata": {
    "collapsed": false
   },
   "outputs": [
    {
     "name": "stdout",
     "output_type": "stream",
     "text": [
      "---------------------------------------------------------------\n",
      "No pruning results\n",
      "             precision    recall  f1-score   support\n",
      "\n",
      "       Don'       0.00      0.00      0.00         0\n",
      " Don't Play       0.00      0.00      0.00         2\n",
      "       Play       0.33      0.33      0.33         3\n",
      "\n",
      "avg / total       0.20      0.20      0.20         5\n",
      "\n",
      "---------------------------------------------------------------\n",
      "Pre-pruning results\n",
      "             precision    recall  f1-score   support\n",
      "\n",
      "       Don'       0.00      0.00      0.00         0\n",
      " Don't Play       0.00      0.00      0.00         2\n",
      "       Play       0.33      0.33      0.33         3\n",
      "\n",
      "avg / total       0.20      0.20      0.20         5\n",
      "\n",
      "---------------------------------------------------------------\n",
      "No pruning results\n",
      "             precision    recall  f1-score   support\n",
      "\n",
      "       Don'       0.00      0.00      0.00         0\n",
      " Don't Play       0.00      0.00      0.00         2\n",
      "       Play       0.67      0.67      0.67         3\n",
      "\n",
      "avg / total       0.40      0.40      0.40         5\n",
      "\n",
      "---------------------------------------------------------------\n",
      "Pre-pruning results\n",
      "             precision    recall  f1-score   support\n",
      "\n",
      "       Don'       0.00      0.00      0.00         0\n",
      " Don't Play       0.00      0.00      0.00         2\n",
      "       Play       0.67      0.67      0.67         3\n",
      "\n",
      "avg / total       0.40      0.40      0.40         5\n",
      "\n",
      "---------------------------------------------------------------\n",
      "No pruning results\n",
      "             precision    recall  f1-score   support\n",
      "\n",
      " Don't Play       0.00      0.00      0.00         1\n",
      "       Play       0.67      0.67      0.67         3\n",
      "\n",
      "avg / total       0.50      0.50      0.50         4\n",
      "\n",
      "---------------------------------------------------------------\n",
      "Pre-pruning results\n",
      "             precision    recall  f1-score   support\n",
      "\n",
      " Don't Play       0.00      0.00      0.00         1\n",
      "       Play       0.67      0.67      0.67         3\n",
      "\n",
      "avg / total       0.50      0.50      0.50         4\n",
      "\n"
     ]
    }
   ],
   "source": [
    "kf = KFold(X.shape[0],3)\n",
    "\n",
    "for train_index,test_index in kf:\n",
    "    X_train, X_test = X[train_index],X[test_index]\n",
    "    y_train, y_test = y[train_index],y[test_index]\n",
    "    tree = DecisionTree()\n",
    "    tree.fit(X_train, y_train, df.columns)\n",
    "    y_pred = tree.predict(X_test)\n",
    "    print '---------------------------------------------------------------'\n",
    "    print 'No pruning results' \n",
    "    print classification_report(y_test, y_pred) \n",
    "    \n",
    "    tree.fit(X_train, y_train, df.columns, pre_prune_type='leafsize', pre_prune_size=5)\n",
    "    y_pred = tree.predict(X_test)\n",
    "    print '---------------------------------------------------------------'\n",
    "    print 'Pre-pruning results' \n",
    "    print classification_report(y_test, y_pred) \n",
    "\n",
    "#     tree.prune(tree.root, X_test)\n",
    "#     y_pred = tree.predict(X_test)\n",
    "#     print 'Post-pruning results'\n",
    "#     print classification_report(y_test, y_pred) "
   ]
  },
  {
   "cell_type": "code",
   "execution_count": null,
   "metadata": {
    "collapsed": true
   },
   "outputs": [],
   "source": []
  }
 ],
 "metadata": {
  "kernelspec": {
   "display_name": "Python 2",
   "language": "python",
   "name": "python2"
  },
  "language_info": {
   "codemirror_mode": {
    "name": "ipython",
    "version": 2
   },
   "file_extension": ".py",
   "mimetype": "text/x-python",
   "name": "python",
   "nbconvert_exporter": "python",
   "pygments_lexer": "ipython2",
   "version": "2.7.10"
  }
 },
 "nbformat": 4,
 "nbformat_minor": 0
}
