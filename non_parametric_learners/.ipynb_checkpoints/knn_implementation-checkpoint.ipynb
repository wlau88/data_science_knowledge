{
 "cells": [
  {
   "cell_type": "code",
   "execution_count": 5,
   "metadata": {
    "collapsed": true
   },
   "outputs": [],
   "source": [
    "from sklearn.datasets import make_classification\n",
    "import numpy as np\n",
    "import pdb\n",
    "from sklearn import metrics\n",
    "from sklearn import cross_validation\n",
    "from collections import Counter\n",
    "from matplotlib.colors import ListedColormap\n",
    "import matplotlib.pyplot as plt\n",
    "%matplotlib inline"
   ]
  },
  {
   "cell_type": "code",
   "execution_count": 6,
   "metadata": {
    "collapsed": true
   },
   "outputs": [],
   "source": [
    "def euclidean_distance(a, b):\n",
    "    return np.sqrt(np.dot(a - b, a - b))\n",
    "\n",
    "def cosine_distance(a, b):\n",
    "    return 1 - np.dot(a, b) / np.sqrt(np.dot(a, a) * np.dot(b, b))\n",
    "\n",
    "class KNearestNeighbors(object):\n",
    "    def __init__(self, k=5, distance=euclidean_distance):\n",
    "        self.k = k\n",
    "        self.distance = distance\n",
    "\n",
    "    def fit(self, X, y):\n",
    "        self.X_train = X\n",
    "        self.y_train = y\n",
    "\n",
    "    def predict(self, X):\n",
    "        distances = np.zeros((X.shape[0], self.X_train.shape[0]))\n",
    "        for i, x in enumerate(X):\n",
    "            for j, x_train in enumerate(self.X_train):\n",
    "                distances[i, j] = self.distance(x_train, x)\n",
    "#         pdb.set_trace()\n",
    "        top_k = y[distances.argsort()[:,:self.k]]  #sort and take top k\n",
    "        result = np.zeros(X.shape[0])\n",
    "        for i, values in enumerate(top_k):\n",
    "            result[i] = Counter(values).most_common(1)[0][0]\n",
    "        return result\n",
    "    \n",
    "    def score(self, y_true, y_pred):\n",
    "        return sum(y_true == y_pred)/float(len(y_pred))"
   ]
  },
  {
   "cell_type": "code",
   "execution_count": 3,
   "metadata": {
    "collapsed": true
   },
   "outputs": [
    {
     "name": "stdout",
     "output_type": "stream",
     "text": [
      "1.0\n",
      "\tactual\tpredict\tcorrect?\n",
      "0\t1\t1\t1\n",
      "1\t1\t1\t1\n",
      "2\t0\t0\t1\n",
      "3\t0\t0\t1\n",
      "4\t1\t1\t1\n",
      "5\t1\t1\t1\n",
      "6\t0\t0\t1\n",
      "7\t1\t1\t1\n",
      "8\t0\t0\t1\n",
      "9\t0\t0\t1\n",
      "10\t0\t0\t1\n",
      "11\t1\t1\t1\n",
      "12\t0\t0\t1\n",
      "13\t1\t1\t1\n",
      "14\t1\t1\t1\n",
      "15\t1\t1\t1\n",
      "16\t0\t0\t1\n",
      "17\t1\t1\t1\n",
      "18\t0\t0\t1\n",
      "19\t0\t0\t1\n",
      "20\t0\t0\t1\n",
      "21\t0\t0\t1\n",
      "22\t0\t0\t1\n",
      "23\t0\t0\t1\n",
      "24\t1\t1\t1\n",
      "25\t0\t0\t1\n",
      "26\t0\t0\t1\n",
      "27\t0\t0\t1\n",
      "28\t1\t1\t1\n",
      "29\t1\t1\t1\n",
      "30\t1\t1\t1\n",
      "31\t1\t1\t1\n",
      "32\t1\t1\t1\n",
      "33\t1\t1\t1\n",
      "34\t0\t0\t1\n",
      "35\t0\t0\t1\n",
      "36\t1\t1\t1\n",
      "37\t0\t0\t1\n",
      "38\t1\t1\t1\n",
      "39\t0\t0\t1\n",
      "40\t1\t1\t1\n",
      "41\t0\t0\t1\n",
      "42\t0\t0\t1\n",
      "43\t1\t1\t1\n",
      "44\t0\t0\t1\n",
      "45\t1\t1\t1\n",
      "46\t0\t0\t1\n",
      "47\t0\t0\t1\n",
      "48\t0\t0\t1\n",
      "49\t0\t0\t1\n",
      "50\t0\t0\t1\n",
      "51\t0\t0\t1\n",
      "52\t0\t0\t1\n",
      "53\t0\t0\t1\n",
      "54\t1\t1\t1\n",
      "55\t0\t0\t1\n",
      "56\t1\t1\t1\n",
      "57\t1\t1\t1\n",
      "58\t1\t1\t1\n",
      "59\t0\t0\t1\n",
      "60\t1\t1\t1\n",
      "61\t1\t1\t1\n",
      "62\t1\t1\t1\n",
      "63\t1\t1\t1\n",
      "64\t1\t1\t1\n",
      "65\t1\t1\t1\n",
      "66\t1\t1\t1\n",
      "67\t1\t1\t1\n",
      "68\t1\t1\t1\n",
      "69\t1\t1\t1\n",
      "70\t0\t0\t1\n",
      "71\t1\t1\t1\n",
      "72\t0\t0\t1\n",
      "73\t1\t1\t1\n",
      "74\t0\t0\t1\n",
      "75\t1\t1\t1\n",
      "76\t0\t0\t1\n",
      "77\t1\t1\t1\n",
      "78\t0\t0\t1\n",
      "79\t1\t1\t1\n",
      "80\t1\t1\t1\n",
      "81\t0\t0\t1\n",
      "82\t0\t0\t1\n",
      "83\t1\t1\t1\n",
      "84\t1\t1\t1\n",
      "85\t1\t1\t1\n",
      "86\t0\t0\t1\n",
      "87\t1\t1\t1\n",
      "88\t0\t0\t1\n",
      "89\t1\t1\t1\n",
      "90\t0\t0\t1\n",
      "91\t0\t0\t1\n",
      "92\t0\t0\t1\n",
      "93\t0\t0\t1\n",
      "94\t1\t1\t1\n",
      "95\t0\t0\t1\n",
      "96\t1\t1\t1\n",
      "97\t1\t1\t1\n",
      "98\t0\t0\t1\n",
      "99\t0\t0\t1\n"
     ]
    }
   ],
   "source": [
    "X, y = make_classification(n_features=4, n_redundant=0, n_informative=1,\n",
    "                               n_clusters_per_class=1, class_sep=5,\n",
    "                               random_state=5)\n",
    "knn = KNearestNeighbors(3, cosine_distance)\n",
    "knn.fit(X, y)\n",
    "print knn.score(y, knn.predict(X))\n",
    "print \"\\tactual\\tpredict\\tcorrect?\"\n",
    "for i, (actual, predicted) in enumerate(zip(y, knn.predict(X))):\n",
    "    print \"%d\\t%d\\t%d\\t%d\" % (i, actual, predicted, int(actual == predicted))"
   ]
  },
  {
   "cell_type": "markdown",
   "metadata": {},
   "source": [
    "###Visualizing plot boundaries"
   ]
  },
  {
   "cell_type": "code",
   "execution_count": 8,
   "metadata": {
    "collapsed": false,
    "scrolled": false
   },
   "outputs": [
    {
     "data": {
      "image/png": "[encoded data removed]",
      "text/plain": [
       "<matplotlib.figure.Figure at 0x107ea7350>"
      ]
     },
     "metadata": {},
     "output_type": "display_data"
    }
   ],
   "source": [
    "plotX, ploty = make_classification(n_features=2, n_redundant=0, n_informative=1,\n",
    "                       n_clusters_per_class=1, class_sep=5, random_state=5)\n",
    "\n",
    "knn = KNearestNeighbors(5, euclidean_distance)\n",
    "knn.fit(plotX, ploty)\n",
    "\n",
    "cmap_light = ListedColormap(['#FFAAAA', '#AAFFAA', '#AAAAFF'])\n",
    "cmap_bold = ListedColormap(['#FF0000', '#00FF00', '#0000FF'])\n",
    "\n",
    "h = 0.2\n",
    "\n",
    "x_min, x_max = plotX[:, 0].min() - 1, plotX[:, 0].max() + 1\n",
    "y_min, y_max = plotX[:, 1].min() - 1, plotX[:, 1].max() + 1\n",
    "xx, yy = np.meshgrid(np.arange(x_min, x_max, h),\n",
    "                     np.arange(y_min, y_max, h))\n",
    "\n",
    "test = np.c_[xx.ravel(), yy.ravel()]\n",
    "\n",
    "# pdb.set_trace()\n",
    "\n",
    "Z = knn.predict(test)\n",
    "Z = Z.reshape(xx.shape)\n",
    "plt.figure()\n",
    "plt.pcolormesh(xx, yy, Z, cmap=cmap_light)\n",
    "plt.scatter(X[:, 0], X[:, 1], c=y, cmap=cmap_bold)\n",
    "plt.show()"
   ]
  },
  {
   "cell_type": "code",
   "execution_count": null,
   "metadata": {
    "collapsed": true
   },
   "outputs": [],
   "source": []
  }
 ],
 "metadata": {
  "kernelspec": {
   "display_name": "Python 2",
   "language": "python",
   "name": "python2"
  },
  "language_info": {
   "codemirror_mode": {
    "name": "ipython",
    "version": 2
   },
   "file_extension": ".py",
   "mimetype": "text/x-python",
   "name": "python",
   "nbconvert_exporter": "python",
   "pygments_lexer": "ipython2",
   "version": "2.7.10"
  }
 },
 "nbformat": 4,
 "nbformat_minor": 0
}
